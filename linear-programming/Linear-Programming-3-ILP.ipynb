{
 "cells": [
  {
   "cell_type": "markdown",
   "id": "caab28f2",
   "metadata": {},
   "source": [
    "# Linear Programming 3: Integer Linear Programming"
   ]
  },
  {
   "cell_type": "markdown",
   "id": "polar-sunday",
   "metadata": {},
   "source": [
    "## Cutting paper roles, again"
   ]
  },
  {
   "cell_type": "markdown",
   "id": "62b7bba5",
   "metadata": {},
   "source": [
    "We will take the last example from Chapter 2, but now instead use integer variables. This is very simple to achieve:\n",
    "\n",
    "- We will use a different solver in OR-tools: The standard MIP solver in OR-Tools is SCIP\n",
    "- Instead of NumVar we write IntVar"
   ]
  },
  {
   "cell_type": "code",
   "execution_count": 4,
   "id": "d24fea03",
   "metadata": {},
   "outputs": [
    {
     "name": "stdout",
     "output_type": "stream",
     "text": [
      "Number of variables = 12\n",
      "Number of constraints = 4\n",
      "Objective value = 453.0\n",
      "x[0]  =  0.0\n",
      "x[1]  =  97.0\n",
      "x[2]  =  0.0\n",
      "x[3]  =  0.0\n",
      "x[4]  =  158.0\n",
      "x[5]  =  198.0\n",
      "x[6]  =  0.0\n",
      "x[7]  =  0.0\n",
      "x[8]  =  0.0\n",
      "x[9]  =  0.0\n",
      "x[10]  =  0.0\n",
      "x[11]  =  0.0\n",
      "\n",
      "Problem solved in 15.000000 milliseconds\n",
      "Problem solved in 3 iterations\n",
      "Problem solved in 1 branch-and-bound nodes\n"
     ]
    }
   ],
   "source": [
    "# based on: https://developers.google.com/optimization/mip/mip_var_array\n",
    "\n",
    "from ortools.linear_solver import pywraplp\n",
    "\n",
    "def create_data_model():\n",
    "    \"\"\"Stores the data for the problem.\"\"\"\n",
    "    data = {}\n",
    "    data[\"constraint_coeffs\"] = [\n",
    "        [2, 1, 1, 1, 0, 0, 0, 0, 0, 0, 0, 0],\n",
    "        [0, 1, 0, 0, 2, 1, 1, 1, 0, 0, 0, 0],\n",
    "        [0, 0, 1, 0, 0, 2, 1, 0, 3, 2, 1, 0],\n",
    "        [0, 1, 1, 3, 2, 0, 2, 4, 0, 2, 4, 7],\n",
    "    ]\n",
    "    data[\"bounds\"] = [97, 610, 395, 211]\n",
    "    data[\"obj_coeffs\"] = [1] * 12\n",
    "    data[\"num_vars\"] = 12\n",
    "    data[\"num_constraints\"] = 4\n",
    "    return data\n",
    "\n",
    "data = create_data_model()\n",
    "\n",
    "solver = pywraplp.Solver.CreateSolver(\"SCIP\")\n",
    "\n",
    "infinity = solver.infinity()\n",
    "x = {}\n",
    "for j in range(data[\"num_vars\"]):\n",
    "    x[j] = solver.IntVar(0, infinity, \"x[%i]\" % j)\n",
    "print(\"Number of variables =\", solver.NumVariables())\n",
    "\n",
    "for i in range(data[\"num_constraints\"]):\n",
    "    constraint = solver.RowConstraint(data[\"bounds\"][i], infinity, \"\")\n",
    "    for j in range(data[\"num_vars\"]):\n",
    "        constraint.SetCoefficient(x[j], data[\"constraint_coeffs\"][i][j])\n",
    "print(\"Number of constraints =\", solver.NumConstraints())\n",
    "# In Python, you can also set the constraints as follows.\n",
    "# for i in range(data['num_constraints']):\n",
    "#  constraint_expr = \\\n",
    "# [data['constraint_coeffs'][i][j] * x[j] for j in range(data['num_vars'])]\n",
    "#  solver.Add(sum(constraint_expr) <= data['bounds'][i])\n",
    "\n",
    "objective = solver.Objective()\n",
    "for j in range(data[\"num_vars\"]):\n",
    "    objective.SetCoefficient(x[j], data[\"obj_coeffs\"][j])\n",
    "objective.SetMinimization()\n",
    "# In Python, you can also set the objective as follows.\n",
    "# obj_expr = [data['obj_coeffs'][j] * x[j] for j in range(data['num_vars'])]\n",
    "# solver.Maximize(solver.Sum(obj_expr))\n",
    "\n",
    "status = solver.Solve()\n",
    "\n",
    "if status == pywraplp.Solver.OPTIMAL:\n",
    "    print(\"Objective value =\", solver.Objective().Value())\n",
    "    for j in range(data[\"num_vars\"]):\n",
    "        print(x[j].name(), \" = \", x[j].solution_value())\n",
    "    print()\n",
    "    print(\"Problem solved in %f milliseconds\" % solver.wall_time())\n",
    "    print(\"Problem solved in %d iterations\" % solver.iterations())\n",
    "    print(\"Problem solved in %d branch-and-bound nodes\" % solver.nodes())\n",
    "else:\n",
    "    print(\"The problem does not have an optimal solution.\")\n"
   ]
  },
  {
   "cell_type": "code",
   "execution_count": null,
   "id": "d914b772",
   "metadata": {},
   "outputs": [],
   "source": []
  }
 ],
 "metadata": {
  "kernelspec": {
   "display_name": "Python 3 (ipykernel)",
   "language": "python",
   "name": "python3"
  },
  "language_info": {
   "codemirror_mode": {
    "name": "ipython",
    "version": 3
   },
   "file_extension": ".py",
   "mimetype": "text/x-python",
   "name": "python",
   "nbconvert_exporter": "python",
   "pygments_lexer": "ipython3",
   "version": "3.11.5"
  }
 },
 "nbformat": 4,
 "nbformat_minor": 5
}
