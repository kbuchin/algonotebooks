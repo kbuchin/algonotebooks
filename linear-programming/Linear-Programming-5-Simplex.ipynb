{
 "cells": [
  {
   "cell_type": "markdown",
   "id": "biological-anthropology",
   "metadata": {},
   "source": [
    "The following LP gives the Klee-Minty Cube in 3D. It should be noted that GILP also simply provides it: \"simplex_visual(ex.KLEE_MINTY_3D_LP, rule='dantzig').show()\""
   ]
  },
  {
   "cell_type": "code",
   "execution_count": 5,
   "id": "historical-affiliation",
   "metadata": {},
   "outputs": [
    {
     "data": {
      "application/vnd.plotly.v1+json": {
       "config": {
        "displayModeBar": false,
        "doubleClick": false,
        "editable": false,
        "plotlyServerURL": "https://plot.ly",
        "responsive": false,
        "showAxisDragHandles": false,
        "showAxisRangeEntryBoxes": false
       },
       "data": [
        {
         "type": "scatter3d",
         "visible": false,
         "x": [
          1.3
         ],
         "y": [
          11.700000000000001
         ],
         "z": [
          105.3
         ]
        },
        {
         "line": {
          "color": "#003c8f",
          "width": 5
         },
         "mode": "lines",
         "opacity": 0.2,
         "surfaceaxis": 0,
         "surfacecolor": "#1565c0",
         "type": "scatter3d",
         "x": [
          1,
          1,
          1,
          1,
          1
         ],
         "y": [
          0,
          3,
          3,
          0,
          0
         ],
         "z": [
          0,
          0,
          45,
          63,
          0
         ]
        },
        {
         "line": {
          "color": "#003c8f",
          "width": 5
         },
         "mode": "lines",
         "opacity": 0.2,
         "surfaceaxis": 1,
         "surfacecolor": "#1565c0",
         "type": "scatter3d",
         "x": [
          1,
          0,
          0,
          1,
          1
         ],
         "y": [
          3,
          9,
          9,
          3,
          3
         ],
         "z": [
          45,
          27,
          0,
          0,
          45
         ]
        },
        {
         "line": {
          "color": "#003c8f",
          "width": 5
         },
         "mode": "lines",
         "opacity": 0.2,
         "surfaceaxis": 2,
         "surfacecolor": "#1565c0",
         "type": "scatter3d",
         "x": [
          0,
          0,
          1,
          1,
          0
         ],
         "y": [
          9,
          0,
          0,
          3,
          9
         ],
         "z": [
          27,
          81,
          63,
          45,
          27
         ]
        },
        {
         "line": {
          "color": "#003c8f",
          "width": 5
         },
         "mode": "lines",
         "opacity": 0.2,
         "surfaceaxis": 0,
         "surfacecolor": "#1565c0",
         "type": "scatter3d",
         "x": [
          0,
          0,
          0,
          0,
          0
         ],
         "y": [
          9,
          0,
          0,
          9,
          9
         ],
         "z": [
          0,
          0,
          81,
          27,
          0
         ]
        },
        {
         "line": {
          "color": "#003c8f",
          "width": 5
         },
         "mode": "lines",
         "opacity": 0.2,
         "surfaceaxis": 1,
         "surfacecolor": "#1565c0",
         "type": "scatter3d",
         "x": [
          1,
          0,
          0,
          1,
          1
         ],
         "y": [
          0,
          0,
          0,
          0,
          0
         ],
         "z": [
          0,
          0,
          81,
          63,
          0
         ]
        },
        {
         "line": {
          "color": "#003c8f",
          "width": 5
         },
         "mode": "lines",
         "opacity": 0.2,
         "surfaceaxis": 2,
         "surfacecolor": "#1565c0",
         "type": "scatter3d",
         "x": [
          1,
          1,
          0,
          0,
          1
         ],
         "y": [
          0,
          3,
          9,
          0,
          0
         ],
         "z": [
          0,
          0,
          0,
          0,
          0
         ]
        },
        {
         "hoverinfo": "text",
         "hoverlabel": {
          "align": "left",
          "bgcolor": "#ffffff",
          "bordercolor": "#404040",
          "font": {
           "color": "#404040",
           "family": "Arial"
          }
         },
         "marker": {
          "color": "gray",
          "opacity": 1e-07,
          "size": 20
         },
         "text": [
          "<b>BFS</b>: (0, 0, 0, 1, 9, 81)<br><b>B</b>: (4, 5, 6)<br><b>Obj</b>: 0",
          "<b>BFS</b>: (1, 0, 0, 0, 3, 63)<br><b>B</b>: (1, 5, 6)<br><b>Obj</b>: 9",
          "<b>BFS</b>: (0, 9, 0, 1, 0, 27)<br><b>B</b>: (2, 4, 6)<br><b>Obj</b>: 27",
          "<b>BFS</b>: (1, 3, 0, 0, 0, 45)<br><b>B</b>: (1, 2, 6)<br><b>Obj</b>: 18",
          "<b>BFS</b>: (1, 0, 63, 0, 3, 0)<br><b>B</b>: (1, 3, 5)<br><b>Obj</b>: 72",
          "<b>BFS</b>: (0, 0, 81, 1, 9, 0)<br><b>B</b>: (3, 4, 5)<br><b>Obj</b>: 81",
          "<b>BFS</b>: (1, 3, 45, 0, 0, 0)<br><b>B</b>: (1, 2, 3)<br><b>Obj</b>: 63",
          "<b>BFS</b>: (0, 9, 27, 1, 0, 0)<br><b>B</b>: (2, 3, 4)<br><b>Obj</b>: 54"
         ],
         "type": "scatter3d",
         "x": [
          0,
          1,
          0,
          1,
          1,
          0,
          1,
          0
         ],
         "y": [
          0,
          0,
          9,
          3,
          0,
          0,
          3,
          9
         ],
         "z": [
          0,
          0,
          0,
          0,
          63,
          81,
          45,
          27
         ]
        },
        {
         "mode": "none",
         "name": "(4) 1x<sub>1</sub> + 0x<sub>2</sub> + 0x<sub>3</sub> ≤ 1",
         "opacity": 0.5,
         "showlegend": true,
         "surfaceaxis": 0,
         "surfacecolor": "gray",
         "type": "scatter3d",
         "visible": "legendonly",
         "x": [
          1,
          1,
          1,
          1,
          1
         ],
         "y": [
          0,
          11.700000000000001,
          11.700000000000001,
          0,
          0
         ],
         "z": [
          0,
          0,
          105.3,
          105.3,
          0
         ]
        },
        {
         "mode": "none",
         "name": "(5) 6x<sub>1</sub> + 1x<sub>2</sub> + 0x<sub>3</sub> ≤ 9",
         "opacity": 0.5,
         "showlegend": true,
         "surfaceaxis": 1,
         "surfacecolor": "gray",
         "type": "scatter3d",
         "visible": "legendonly",
         "x": [
          0,
          0,
          1.3,
          1.3,
          0
         ],
         "y": [
          9,
          9,
          1.1999999999999993,
          1.1999999999999993,
          9
         ],
         "z": [
          105.3,
          0,
          0,
          105.3,
          105.3
         ]
        },
        {
         "mode": "none",
         "name": "(6) 18x<sub>1</sub> + 6x<sub>2</sub> + 1x<sub>3</sub> ≤ 81",
         "opacity": 0.5,
         "showlegend": true,
         "surfaceaxis": 2,
         "surfacecolor": "gray",
         "type": "scatter3d",
         "visible": "legendonly",
         "x": [
          0,
          1.3,
          1.3,
          0,
          0
         ],
         "y": [
          11.700000000000001,
          11.700000000000001,
          0,
          0,
          11.700000000000001
         ],
         "z": [
          10.799999999999997,
          -12.600000000000009,
          57.599999999999994,
          81,
          10.799999999999997
         ]
        },
        {
         "mode": "none",
         "opacity": 0.3,
         "surfaceaxis": 2,
         "surfacecolor": "gray",
         "type": "scatter3d",
         "visible": false,
         "x": [
          1.3,
          1.3,
          0,
          0,
          1.3
         ],
         "y": [
          11.700000000000001,
          0,
          0,
          11.700000000000001,
          11.700000000000001
         ],
         "z": [
          -46.800000000000004,
          -11.700000000000001,
          0,
          -35.1,
          -46.800000000000004
         ]
        },
        {
         "line": {
          "color": "#d50000",
          "width": 5
         },
         "marker": {
          "color": "#d50000",
          "size": 5,
          "symbol": "circle"
         },
         "mode": "lines+markers",
         "surfaceaxis": 2,
         "surfacecolor": "#d50000",
         "type": "scatter3d",
         "visible": false,
         "x": [
          0
         ],
         "y": [
          0
         ],
         "z": [
          0
         ]
        },
        {
         "mode": "none",
         "opacity": 0.3,
         "surfaceaxis": 2,
         "surfacecolor": "gray",
         "type": "scatter3d",
         "visible": false,
         "x": [
          1.3,
          0,
          0,
          1.3,
          1.3
         ],
         "y": [
          0,
          0,
          11.700000000000001,
          11.700000000000001,
          0
         ],
         "z": [
          -5.360000000000001,
          6.34,
          -28.76,
          -40.46,
          -5.360000000000001
         ]
        },
        {
         "line": {
          "color": "#d50000",
          "width": 5
         },
         "marker": {
          "color": "#d50000",
          "size": 5,
          "symbol": "circle"
         },
         "mode": "lines+markers",
         "surfaceaxis": 2,
         "surfacecolor": "#d50000",
         "type": "scatter3d",
         "visible": false,
         "x": [
          0,
          0.704444444444,
          0,
          0
         ],
         "y": [
          0,
          0,
          2.113333333333,
          0
         ],
         "z": [
          6.34,
          0,
          0,
          6.34
         ]
        },
        {
         "mode": "none",
         "opacity": 0.3,
         "surfaceaxis": 2,
         "surfacecolor": "gray",
         "type": "scatter3d",
         "visible": false,
         "x": [
          1.3,
          1.3,
          0,
          0,
          1.3
         ],
         "y": [
          0,
          11.700000000000001,
          11.700000000000001,
          0,
          0
         ],
         "z": [
          0.9799999999999986,
          -34.120000000000005,
          -22.42,
          12.68,
          0.9799999999999986
         ]
        },
        {
         "line": {
          "color": "#d50000",
          "width": 5
         },
         "marker": {
          "color": "#d50000",
          "size": 5,
          "symbol": "circle"
         },
         "mode": "lines+markers",
         "surfaceaxis": 2,
         "surfacecolor": "#d50000",
         "type": "scatter3d",
         "visible": false,
         "x": [
          0,
          0,
          1,
          1,
          0
         ],
         "y": [
          0,
          4.226666666667,
          1.226666666667,
          0,
          0
         ],
         "z": [
          12.68,
          0,
          0,
          3.68,
          12.68
         ]
        },
        {
         "mode": "none",
         "opacity": 0.3,
         "surfaceaxis": 2,
         "surfacecolor": "gray",
         "type": "scatter3d",
         "visible": false,
         "x": [
          0,
          1.3,
          1.3,
          0,
          0
         ],
         "y": [
          11.700000000000001,
          11.700000000000001,
          0,
          0,
          11.700000000000001
         ],
         "z": [
          -16.09,
          -27.79,
          7.3100000000000005,
          19.01,
          -16.09
         ]
        },
        {
         "line": {
          "color": "#d50000",
          "width": 5
         },
         "marker": {
          "color": "#d50000",
          "size": 5,
          "symbol": "circle"
         },
         "mode": "lines+markers",
         "surfaceaxis": 2,
         "surfacecolor": "#d50000",
         "type": "scatter3d",
         "visible": false,
         "x": [
          0,
          0,
          0.887777777778,
          1,
          1,
          0
         ],
         "y": [
          0,
          6.336666666667,
          3.673333333333,
          3,
          0,
          0
         ],
         "z": [
          19.01,
          0,
          0,
          1.01,
          10.01,
          19.01
         ]
        },
        {
         "mode": "none",
         "opacity": 0.3,
         "surfaceaxis": 2,
         "surfacecolor": "gray",
         "type": "scatter3d",
         "visible": false,
         "x": [
          1.3,
          0,
          0,
          1.3,
          1.3
         ],
         "y": [
          0,
          0,
          11.700000000000001,
          11.700000000000001,
          0
         ],
         "z": [
          13.65,
          25.35,
          -9.75,
          -21.450000000000003,
          13.65
         ]
        },
        {
         "line": {
          "color": "#d50000",
          "width": 5
         },
         "marker": {
          "color": "#d50000",
          "size": 5,
          "symbol": "circle"
         },
         "mode": "lines+markers",
         "surfaceaxis": 2,
         "surfacecolor": "#d50000",
         "type": "scatter3d",
         "visible": false,
         "x": [
          1,
          0.183333333333,
          0,
          0,
          1,
          1
         ],
         "y": [
          3,
          7.9,
          8.45,
          0,
          0,
          3
         ],
         "z": [
          7.35,
          0,
          0,
          25.35,
          16.35,
          7.35
         ]
        },
        {
         "mode": "none",
         "opacity": 0.3,
         "surfaceaxis": 2,
         "surfacecolor": "gray",
         "type": "scatter3d",
         "visible": false,
         "x": [
          1.3,
          0,
          0,
          1.3,
          1.3
         ],
         "y": [
          0,
          0,
          11.700000000000001,
          11.700000000000001,
          0
         ],
         "z": [
          19.990000000000002,
          31.69,
          -3.41,
          -15.11,
          19.990000000000002
         ]
        },
        {
         "line": {
          "color": "#d50000",
          "width": 5
         },
         "marker": {
          "color": "#d50000",
          "size": 5,
          "symbol": "circle"
         },
         "mode": "lines+markers",
         "surfaceaxis": 2,
         "surfacecolor": "#d50000",
         "type": "scatter3d",
         "visible": false,
         "x": [
          1,
          0,
          0,
          1,
          1
         ],
         "y": [
          3,
          9,
          0,
          0,
          3
         ],
         "z": [
          13.69,
          4.69,
          31.69,
          22.69,
          13.69
         ]
        },
        {
         "mode": "none",
         "opacity": 0.3,
         "surfaceaxis": 2,
         "surfacecolor": "gray",
         "type": "scatter3d",
         "visible": false,
         "x": [
          1.3,
          0,
          0,
          1.3,
          1.3
         ],
         "y": [
          0,
          0,
          11.700000000000001,
          11.700000000000001,
          0
         ],
         "z": [
          26.32,
          38.02,
          2.9200000000000017,
          -8.780000000000001,
          26.32
         ]
        },
        {
         "line": {
          "color": "#d50000",
          "width": 5
         },
         "marker": {
          "color": "#d50000",
          "size": 5,
          "symbol": "circle"
         },
         "mode": "lines+markers",
         "surfaceaxis": 2,
         "surfacecolor": "#d50000",
         "type": "scatter3d",
         "visible": false,
         "x": [
          0,
          0,
          1,
          1,
          0
         ],
         "y": [
          9,
          0,
          0,
          3,
          9
         ],
         "z": [
          11.02,
          38.02,
          29.02,
          20.02,
          11.02
         ]
        },
        {
         "mode": "none",
         "opacity": 0.3,
         "surfaceaxis": 2,
         "surfacecolor": "gray",
         "type": "scatter3d",
         "visible": false,
         "x": [
          1.3,
          1.3,
          0,
          0,
          1.3
         ],
         "y": [
          0,
          11.700000000000001,
          11.700000000000001,
          0,
          0
         ],
         "z": [
          32.66,
          -2.440000000000005,
          9.259999999999998,
          44.36,
          32.66
         ]
        },
        {
         "line": {
          "color": "#d50000",
          "width": 5
         },
         "marker": {
          "color": "#d50000",
          "size": 5,
          "symbol": "circle"
         },
         "mode": "lines+markers",
         "surfaceaxis": 2,
         "surfacecolor": "#d50000",
         "type": "scatter3d",
         "visible": false,
         "x": [
          0,
          0,
          1,
          1,
          0
         ],
         "y": [
          0,
          9,
          3,
          0,
          0
         ],
         "z": [
          44.36,
          17.36,
          26.36,
          35.36,
          44.36
         ]
        },
        {
         "mode": "none",
         "opacity": 0.3,
         "surfaceaxis": 2,
         "surfacecolor": "gray",
         "type": "scatter3d",
         "visible": false,
         "x": [
          0,
          1.3,
          1.3,
          0,
          0
         ],
         "y": [
          11.700000000000001,
          11.700000000000001,
          0,
          0,
          11.700000000000001
         ],
         "z": [
          15.600000000000001,
          3.8999999999999986,
          39,
          50.7,
          15.600000000000001
         ]
        },
        {
         "line": {
          "color": "#d50000",
          "width": 5
         },
         "marker": {
          "color": "#d50000",
          "size": 5,
          "symbol": "circle"
         },
         "mode": "lines+markers",
         "surfaceaxis": 2,
         "surfacecolor": "#d50000",
         "type": "scatter3d",
         "visible": false,
         "x": [
          1,
          1,
          0,
          0,
          1
         ],
         "y": [
          3,
          0,
          0,
          9,
          3
         ],
         "z": [
          32.7,
          41.7,
          50.7,
          23.7,
          32.7
         ]
        },
        {
         "mode": "none",
         "opacity": 0.3,
         "surfaceaxis": 2,
         "surfacecolor": "gray",
         "type": "scatter3d",
         "visible": false,
         "x": [
          1.3,
          1.3,
          0,
          0,
          1.3
         ],
         "y": [
          0,
          11.700000000000001,
          11.700000000000001,
          0,
          0
         ],
         "z": [
          45.339999999999996,
          10.239999999999995,
          21.939999999999998,
          57.04,
          45.339999999999996
         ]
        },
        {
         "line": {
          "color": "#d50000",
          "width": 5
         },
         "marker": {
          "color": "#d50000",
          "size": 5,
          "symbol": "circle"
         },
         "mode": "lines+markers",
         "surfaceaxis": 2,
         "surfacecolor": "#d50000",
         "type": "scatter3d",
         "visible": false,
         "x": [
          1,
          0.337777777778,
          0,
          0,
          1,
          1
         ],
         "y": [
          3,
          6.973333333333,
          7.986666666667,
          0,
          0,
          3
         ],
         "z": [
          39.04,
          33.08,
          33.08,
          57.04,
          48.04,
          39.04
         ]
        },
        {
         "mode": "none",
         "opacity": 0.3,
         "surfaceaxis": 2,
         "surfacecolor": "gray",
         "type": "scatter3d",
         "visible": false,
         "x": [
          1.3,
          0,
          0,
          1.3,
          1.3
         ],
         "y": [
          0,
          0,
          11.700000000000001,
          11.700000000000001,
          0
         ],
         "z": [
          51.669999999999995,
          63.37,
          28.269999999999996,
          16.569999999999993,
          51.669999999999995
         ]
        },
        {
         "line": {
          "color": "#d50000",
          "width": 5
         },
         "marker": {
          "color": "#d50000",
          "size": 5,
          "symbol": "circle"
         },
         "mode": "lines+markers",
         "surfaceaxis": 2,
         "surfacecolor": "#d50000",
         "type": "scatter3d",
         "visible": false,
         "x": [
          0,
          0,
          1,
          1,
          0
         ],
         "y": [
          5.876666666667,
          0,
          0,
          2.876666666667,
          5.876666666667
         ],
         "z": [
          45.74,
          63.37,
          54.37,
          45.74,
          45.74
         ]
        },
        {
         "mode": "none",
         "opacity": 0.3,
         "surfaceaxis": 2,
         "surfacecolor": "gray",
         "type": "scatter3d",
         "visible": false,
         "x": [
          1.3,
          1.3,
          0,
          0,
          1.3
         ],
         "y": [
          0,
          11.700000000000001,
          11.700000000000001,
          0,
          0
         ],
         "z": [
          58.00999999999999,
          22.90999999999999,
          34.60999999999999,
          69.71,
          58.00999999999999
         ]
        },
        {
         "line": {
          "color": "#d50000",
          "width": 5
         },
         "marker": {
          "color": "#d50000",
          "size": 5,
          "symbol": "circle"
         },
         "mode": "lines+markers",
         "surfaceaxis": 2,
         "surfacecolor": "#d50000",
         "type": "scatter3d",
         "visible": false,
         "x": [
          0,
          0,
          1,
          1,
          0
         ],
         "y": [
          0,
          3.763333333333,
          0.763333333333,
          0,
          0
         ],
         "z": [
          69.71,
          58.42,
          58.42,
          60.71,
          69.71
         ]
        },
        {
         "mode": "none",
         "opacity": 0.3,
         "surfaceaxis": 2,
         "surfacecolor": "gray",
         "type": "scatter3d",
         "visible": false,
         "x": [
          0,
          1.3,
          1.3,
          0,
          0
         ],
         "y": [
          0,
          0,
          11.700000000000001,
          11.700000000000001,
          0
         ],
         "z": [
          76.05,
          64.35,
          29.249999999999993,
          40.949999999999996,
          76.05
         ]
        },
        {
         "line": {
          "color": "#d50000",
          "width": 5
         },
         "marker": {
          "color": "#d50000",
          "size": 5,
          "symbol": "circle"
         },
         "mode": "lines+markers",
         "surfaceaxis": 2,
         "surfacecolor": "#d50000",
         "type": "scatter3d",
         "visible": false,
         "x": [
          0.55,
          0,
          0,
          0.55
         ],
         "y": [
          0,
          1.65,
          0,
          0
         ],
         "z": [
          71.1,
          71.1,
          76.05,
          71.1
         ]
        },
        {
         "mode": "none",
         "opacity": 0.3,
         "surfaceaxis": 2,
         "surfacecolor": "gray",
         "type": "scatter3d",
         "visible": false,
         "x": [
          0,
          0,
          1.3,
          1.3,
          0
         ],
         "y": [
          11.700000000000001,
          0,
          0,
          11.700000000000001,
          11.700000000000001
         ],
         "z": [
          45.9,
          81,
          69.3,
          34.199999999999996,
          45.9
         ]
        },
        {
         "line": {
          "color": "#d50000",
          "width": 5
         },
         "marker": {
          "color": "#d50000",
          "size": 5,
          "symbol": "circle"
         },
         "mode": "lines+markers",
         "surfaceaxis": 2,
         "surfacecolor": "#d50000",
         "type": "scatter3d",
         "visible": false,
         "x": [
          0
         ],
         "y": [
          0
         ],
         "z": [
          81
         ]
        },
        {
         "mode": "none",
         "opacity": 0.3,
         "surfaceaxis": 2,
         "surfacecolor": "gray",
         "type": "scatter3d",
         "visible": false,
         "x": [
          0,
          0,
          1.3,
          1.3,
          0
         ],
         "y": [
          11.700000000000001,
          0,
          0,
          11.700000000000001,
          11.700000000000001
         ],
         "z": [
          47.29,
          82.39,
          70.69,
          35.589999999999996,
          47.29
         ]
        },
        {
         "mode": "none",
         "opacity": 0.3,
         "surfaceaxis": 2,
         "surfacecolor": "gray",
         "type": "scatter3d",
         "visible": false,
         "x": [
          0,
          0,
          1.3,
          1.3,
          0
         ],
         "y": [
          11.700000000000001,
          0,
          0,
          11.700000000000001,
          11.700000000000001
         ],
         "z": [
          53.62,
          88.72,
          77.02,
          41.919999999999995,
          53.62
         ]
        },
        {
         "mode": "none",
         "opacity": 0.3,
         "surfaceaxis": 2,
         "surfacecolor": "gray",
         "type": "scatter3d",
         "visible": false,
         "x": [
          0,
          0,
          1.3,
          1.3,
          0
         ],
         "y": [
          11.700000000000001,
          0,
          0,
          11.700000000000001,
          11.700000000000001
         ],
         "z": [
          59.96,
          95.06,
          83.36,
          48.26,
          59.96
         ]
        },
        {
         "mode": "none",
         "opacity": 0.3,
         "surfaceaxis": 2,
         "surfacecolor": "gray",
         "type": "scatter3d",
         "visible": false,
         "x": [
          0,
          1.3,
          1.3,
          0,
          0
         ],
         "y": [
          0,
          0,
          11.700000000000001,
          11.700000000000001,
          0
         ],
         "z": [
          101.4,
          89.7,
          54.6,
          66.30000000000001,
          101.4
         ]
        },
        {
         "mode": "none",
         "opacity": 0.3,
         "surfaceaxis": 2,
         "surfacecolor": "gray",
         "type": "scatter3d",
         "visible": false,
         "x": [
          1.3,
          1.3,
          0,
          0,
          1.3
         ],
         "y": [
          11.700000000000001,
          0,
          0,
          11.700000000000001,
          11.700000000000001
         ],
         "z": [
          60.93999999999999,
          96.03999999999999,
          107.74,
          72.63999999999999,
          60.93999999999999
         ]
        },
        {
         "mode": "none",
         "opacity": 0.3,
         "surfaceaxis": 2,
         "surfacecolor": "gray",
         "type": "scatter3d",
         "visible": false,
         "x": [
          1.3,
          0,
          0,
          1.3,
          1.3
         ],
         "y": [
          0,
          0,
          11.700000000000001,
          11.700000000000001,
          0
         ],
         "z": [
          102.36999999999999,
          114.07,
          78.97,
          67.26999999999998,
          102.36999999999999
         ]
        },
        {
         "mode": "none",
         "opacity": 0.3,
         "surfaceaxis": 2,
         "surfacecolor": "gray",
         "type": "scatter3d",
         "visible": false,
         "x": [
          0,
          0,
          1.3,
          1.3,
          0
         ],
         "y": [
          11.700000000000001,
          0,
          0,
          11.700000000000001,
          11.700000000000001
         ],
         "z": [
          85.31,
          120.41,
          108.71,
          73.60999999999999,
          85.31
         ]
        },
        {
         "mode": "none",
         "opacity": 0.3,
         "surfaceaxis": 2,
         "surfacecolor": "gray",
         "type": "scatter3d",
         "visible": false,
         "x": [
          1.3,
          1.3,
          0,
          0,
          1.3
         ],
         "y": [
          0,
          11.700000000000001,
          11.700000000000001,
          0,
          0
         ],
         "z": [
          115.05,
          79.94999999999999,
          91.65,
          126.75,
          115.05
         ]
        },
        {
         "mode": "none",
         "opacity": 0.3,
         "surfaceaxis": 2,
         "surfacecolor": "gray",
         "type": "scatter3d",
         "visible": false,
         "x": [
          0,
          1.3,
          1.3,
          0,
          0
         ],
         "y": [
          11.700000000000001,
          11.700000000000001,
          0,
          0,
          11.700000000000001
         ],
         "z": [
          97.99000000000001,
          86.28999999999999,
          121.39,
          133.09,
          97.99000000000001
         ]
        },
        {
         "mode": "none",
         "opacity": 0.3,
         "surfaceaxis": 2,
         "surfacecolor": "gray",
         "type": "scatter3d",
         "visible": false,
         "x": [
          1.3,
          1.3,
          0,
          0,
          1.3
         ],
         "y": [
          11.700000000000001,
          0,
          0,
          11.700000000000001,
          11.700000000000001
         ],
         "z": [
          92.61999999999998,
          127.71999999999998,
          139.42,
          104.32,
          92.61999999999998
         ]
        },
        {
         "mode": "none",
         "opacity": 0.3,
         "surfaceaxis": 2,
         "surfacecolor": "gray",
         "type": "scatter3d",
         "visible": false,
         "x": [
          1.3,
          1.3,
          0,
          0,
          1.3
         ],
         "y": [
          0,
          11.700000000000001,
          11.700000000000001,
          0,
          0
         ],
         "z": [
          134.06,
          98.96000000000001,
          110.66,
          145.76,
          134.06
         ]
        },
        {
         "mode": "none",
         "opacity": 0.3,
         "surfaceaxis": 2,
         "surfacecolor": "gray",
         "type": "scatter3d",
         "visible": false,
         "x": [
          0,
          0,
          1.3,
          1.3,
          0
         ],
         "y": [
          11.700000000000001,
          0,
          0,
          11.700000000000001,
          11.700000000000001
         ],
         "z": [
          117,
          152.1,
          140.4,
          105.30000000000001,
          117
         ]
        },
        {
         "cells": {
          "align": [
           "left",
           "right",
           "left"
          ],
          "font": {
           "size": 14
          },
          "height": 25,
          "line": {
           "color": "#ffffff",
           "width": 1
          },
          "values": [
           [
            "max<br>s.t.<br> <br> "
           ],
           [
            "z<br>x<sub>4</sub><br>x<sub>5</sub><br>x<sub>6</sub>"
           ],
           [
            "= 0 + 9x<sub>1</sub> + 3x<sub>2</sub> + 1x<sub>3</sub><br>= 1 - 1x<sub>1</sub> + 0x<sub>2</sub> + 0x<sub>3</sub><br>= 9 - 6x<sub>1</sub> - 1x<sub>2</sub> + 0x<sub>3</sub><br>= 81 - 18x<sub>1</sub> - 6x<sub>2</sub> - 1x<sub>3</sub>"
           ]
          ]
         },
         "columnwidth": [
          0.13333333333333333,
          0.06666666666666667,
          0.8
         ],
         "domain": {
          "x": [
           0.6052631578947368,
           1
          ],
          "y": [
           0,
           1
          ]
         },
         "header": {
          "align": [
           "left",
           "right",
           "left"
          ],
          "font": {
           "size": 14
          },
          "height": 25,
          "line": {
           "color": "#ffffff",
           "width": 1
          },
          "values": [
           "<b>(0)</b>",
           " ",
           " "
          ]
         },
         "type": "table",
         "visible": true
        },
        {
         "line": {
          "color": "#d50000",
          "width": 5
         },
         "mode": "lines",
         "type": "scatter3d",
         "visible": false,
         "x": [
          0,
          0.5
         ],
         "y": [
          0,
          0
         ],
         "z": [
          0,
          0
         ]
        },
        {
         "line": {
          "color": "#d50000",
          "width": 5
         },
         "mode": "lines",
         "type": "scatter3d",
         "visible": false,
         "x": [
          0,
          1
         ],
         "y": [
          0,
          0
         ],
         "z": [
          0,
          0
         ]
        },
        {
         "cells": {
          "align": [
           "left",
           "right",
           "left"
          ],
          "font": {
           "size": 14
          },
          "height": 25,
          "line": {
           "color": "#ffffff",
           "width": 1
          },
          "values": [
           [
            "max<br>s.t.<br> <br> ",
            "<b>(0)</b>",
            "max<br>s.t.<br> <br> "
           ],
           [
            "z<br>x<sub>1</sub><br>x<sub>5</sub><br>x<sub>6</sub>",
            " ",
            "z<br>x<sub>4</sub><br>x<sub>5</sub><br>x<sub>6</sub>"
           ],
           [
            "= 9 + 3x<sub>2</sub> + 1x<sub>3</sub> - 9x<sub>4</sub><br>= 1 + 0x<sub>2</sub> + 0x<sub>3</sub> - 1x<sub>4</sub><br>= 3 - 1x<sub>2</sub> + 0x<sub>3</sub> + 6x<sub>4</sub><br>= 63 - 6x<sub>2</sub> - 1x<sub>3</sub> + 18x<sub>4</sub>",
            " ",
            "= 0 + 9x<sub>1</sub> + 3x<sub>2</sub> + 1x<sub>3</sub><br>= 1 - 1x<sub>1</sub> + 0x<sub>2</sub> + 0x<sub>3</sub><br>= 9 - 6x<sub>1</sub> - 1x<sub>2</sub> + 0x<sub>3</sub><br>= 81 - 18x<sub>1</sub> - 6x<sub>2</sub> - 1x<sub>3</sub>"
           ]
          ]
         },
         "columnwidth": [
          0.13333333333333333,
          0.06666666666666667,
          0.8
         ],
         "domain": {
          "x": [
           0.6052631578947368,
           1
          ],
          "y": [
           0,
           1
          ]
         },
         "header": {
          "align": [
           "left",
           "right",
           "left"
          ],
          "font": {
           "size": 14
          },
          "height": 25,
          "line": {
           "color": "#ffffff",
           "width": 1
          },
          "values": [
           "<b>(1)</b>",
           " ",
           " "
          ]
         },
         "type": "table"
        },
        {
         "cells": {
          "align": [
           "left",
           "right",
           "left"
          ],
          "font": {
           "size": 14
          },
          "height": 25,
          "line": {
           "color": "#ffffff",
           "width": 1
          },
          "values": [
           [
            "max<br>s.t.<br> <br> "
           ],
           [
            "z<br>x<sub>1</sub><br>x<sub>5</sub><br>x<sub>6</sub>"
           ],
           [
            "= 9 + 3x<sub>2</sub> + 1x<sub>3</sub> - 9x<sub>4</sub><br>= 1 + 0x<sub>2</sub> + 0x<sub>3</sub> - 1x<sub>4</sub><br>= 3 - 1x<sub>2</sub> + 0x<sub>3</sub> + 6x<sub>4</sub><br>= 63 - 6x<sub>2</sub> - 1x<sub>3</sub> + 18x<sub>4</sub>"
           ]
          ]
         },
         "columnwidth": [
          0.13333333333333333,
          0.06666666666666667,
          0.8
         ],
         "domain": {
          "x": [
           0.6052631578947368,
           1
          ],
          "y": [
           0,
           1
          ]
         },
         "header": {
          "align": [
           "left",
           "right",
           "left"
          ],
          "font": {
           "size": 14
          },
          "height": 25,
          "line": {
           "color": "#ffffff",
           "width": 1
          },
          "values": [
           "<b>(1)</b>",
           " ",
           " "
          ]
         },
         "type": "table"
        },
        {
         "line": {
          "color": "#d50000",
          "width": 5
         },
         "mode": "lines",
         "type": "scatter3d",
         "visible": false,
         "x": [
          1,
          1
         ],
         "y": [
          0,
          1.5
         ],
         "z": [
          0,
          0
         ]
        },
        {
         "line": {
          "color": "#d50000",
          "width": 5
         },
         "mode": "lines",
         "type": "scatter3d",
         "visible": false,
         "x": [
          1,
          1
         ],
         "y": [
          0,
          3
         ],
         "z": [
          0,
          0
         ]
        },
        {
         "cells": {
          "align": [
           "left",
           "right",
           "left"
          ],
          "font": {
           "size": 14
          },
          "height": 25,
          "line": {
           "color": "#ffffff",
           "width": 1
          },
          "values": [
           [
            "max<br>s.t.<br> <br> ",
            "<b>(1)</b>",
            "max<br>s.t.<br> <br> "
           ],
           [
            "z<br>x<sub>1</sub><br>x<sub>2</sub><br>x<sub>6</sub>",
            " ",
            "z<br>x<sub>1</sub><br>x<sub>5</sub><br>x<sub>6</sub>"
           ],
           [
            "= 18 + 1x<sub>3</sub> + 9x<sub>4</sub> - 3x<sub>5</sub><br>= 1 + 0x<sub>3</sub> - 1x<sub>4</sub> + 0x<sub>5</sub><br>= 3 + 0x<sub>3</sub> + 6x<sub>4</sub> - 1x<sub>5</sub><br>= 45 - 1x<sub>3</sub> - 18x<sub>4</sub> + 6x<sub>5</sub>",
            " ",
            "= 9 + 3x<sub>2</sub> + 1x<sub>3</sub> - 9x<sub>4</sub><br>= 1 + 0x<sub>2</sub> + 0x<sub>3</sub> - 1x<sub>4</sub><br>= 3 - 1x<sub>2</sub> + 0x<sub>3</sub> + 6x<sub>4</sub><br>= 63 - 6x<sub>2</sub> - 1x<sub>3</sub> + 18x<sub>4</sub>"
           ]
          ]
         },
         "columnwidth": [
          0.13333333333333333,
          0.06666666666666667,
          0.8
         ],
         "domain": {
          "x": [
           0.6052631578947368,
           1
          ],
          "y": [
           0,
           1
          ]
         },
         "header": {
          "align": [
           "left",
           "right",
           "left"
          ],
          "font": {
           "size": 14
          },
          "height": 25,
          "line": {
           "color": "#ffffff",
           "width": 1
          },
          "values": [
           "<b>(2)</b>",
           " ",
           " "
          ]
         },
         "type": "table"
        },
        {
         "cells": {
          "align": [
           "left",
           "right",
           "left"
          ],
          "font": {
           "size": 14
          },
          "height": 25,
          "line": {
           "color": "#ffffff",
           "width": 1
          },
          "values": [
           [
            "max<br>s.t.<br> <br> "
           ],
           [
            "z<br>x<sub>1</sub><br>x<sub>2</sub><br>x<sub>6</sub>"
           ],
           [
            "= 18 + 1x<sub>3</sub> + 9x<sub>4</sub> - 3x<sub>5</sub><br>= 1 + 0x<sub>3</sub> - 1x<sub>4</sub> + 0x<sub>5</sub><br>= 3 + 0x<sub>3</sub> + 6x<sub>4</sub> - 1x<sub>5</sub><br>= 45 - 1x<sub>3</sub> - 18x<sub>4</sub> + 6x<sub>5</sub>"
           ]
          ]
         },
         "columnwidth": [
          0.13333333333333333,
          0.06666666666666667,
          0.8
         ],
         "domain": {
          "x": [
           0.6052631578947368,
           1
          ],
          "y": [
           0,
           1
          ]
         },
         "header": {
          "align": [
           "left",
           "right",
           "left"
          ],
          "font": {
           "size": 14
          },
          "height": 25,
          "line": {
           "color": "#ffffff",
           "width": 1
          },
          "values": [
           "<b>(2)</b>",
           " ",
           " "
          ]
         },
         "type": "table"
        },
        {
         "line": {
          "color": "#d50000",
          "width": 5
         },
         "mode": "lines",
         "type": "scatter3d",
         "visible": false,
         "x": [
          1,
          0.5
         ],
         "y": [
          3,
          6
         ],
         "z": [
          0,
          0
         ]
        },
        {
         "line": {
          "color": "#d50000",
          "width": 5
         },
         "mode": "lines",
         "type": "scatter3d",
         "visible": false,
         "x": [
          1,
          0
         ],
         "y": [
          3,
          9
         ],
         "z": [
          0,
          0
         ]
        },
        {
         "cells": {
          "align": [
           "left",
           "right",
           "left"
          ],
          "font": {
           "size": 14
          },
          "height": 25,
          "line": {
           "color": "#ffffff",
           "width": 1
          },
          "values": [
           [
            "max<br>s.t.<br> <br> ",
            "<b>(2)</b>",
            "max<br>s.t.<br> <br> "
           ],
           [
            "z<br>x<sub>2</sub><br>x<sub>4</sub><br>x<sub>6</sub>",
            " ",
            "z<br>x<sub>1</sub><br>x<sub>2</sub><br>x<sub>6</sub>"
           ],
           [
            "= 27 - 9x<sub>1</sub> + 1x<sub>3</sub> - 3x<sub>5</sub><br>= 9 - 6x<sub>1</sub> + 0x<sub>3</sub> - 1x<sub>5</sub><br>= 1 - 1x<sub>1</sub> + 0x<sub>3</sub> + 0x<sub>5</sub><br>= 27 + 18x<sub>1</sub> - 1x<sub>3</sub> + 6x<sub>5</sub>",
            " ",
            "= 18 + 1x<sub>3</sub> + 9x<sub>4</sub> - 3x<sub>5</sub><br>= 1 + 0x<sub>3</sub> - 1x<sub>4</sub> + 0x<sub>5</sub><br>= 3 + 0x<sub>3</sub> + 6x<sub>4</sub> - 1x<sub>5</sub><br>= 45 - 1x<sub>3</sub> - 18x<sub>4</sub> + 6x<sub>5</sub>"
           ]
          ]
         },
         "columnwidth": [
          0.13333333333333333,
          0.06666666666666667,
          0.8
         ],
         "domain": {
          "x": [
           0.6052631578947368,
           1
          ],
          "y": [
           0,
           1
          ]
         },
         "header": {
          "align": [
           "left",
           "right",
           "left"
          ],
          "font": {
           "size": 14
          },
          "height": 25,
          "line": {
           "color": "#ffffff",
           "width": 1
          },
          "values": [
           "<b>(3)</b>",
           " ",
           " "
          ]
         },
         "type": "table"
        },
        {
         "cells": {
          "align": [
           "left",
           "right",
           "left"
          ],
          "font": {
           "size": 14
          },
          "height": 25,
          "line": {
           "color": "#ffffff",
           "width": 1
          },
          "values": [
           [
            "max<br>s.t.<br> <br> "
           ],
           [
            "z<br>x<sub>2</sub><br>x<sub>4</sub><br>x<sub>6</sub>"
           ],
           [
            "= 27 - 9x<sub>1</sub> + 1x<sub>3</sub> - 3x<sub>5</sub><br>= 9 - 6x<sub>1</sub> + 0x<sub>3</sub> - 1x<sub>5</sub><br>= 1 - 1x<sub>1</sub> + 0x<sub>3</sub> + 0x<sub>5</sub><br>= 27 + 18x<sub>1</sub> - 1x<sub>3</sub> + 6x<sub>5</sub>"
           ]
          ]
         },
         "columnwidth": [
          0.13333333333333333,
          0.06666666666666667,
          0.8
         ],
         "domain": {
          "x": [
           0.6052631578947368,
           1
          ],
          "y": [
           0,
           1
          ]
         },
         "header": {
          "align": [
           "left",
           "right",
           "left"
          ],
          "font": {
           "size": 14
          },
          "height": 25,
          "line": {
           "color": "#ffffff",
           "width": 1
          },
          "values": [
           "<b>(3)</b>",
           " ",
           " "
          ]
         },
         "type": "table"
        },
        {
         "line": {
          "color": "#d50000",
          "width": 5
         },
         "mode": "lines",
         "type": "scatter3d",
         "visible": false,
         "x": [
          0,
          0
         ],
         "y": [
          9,
          9
         ],
         "z": [
          0,
          13.5
         ]
        },
        {
         "line": {
          "color": "#d50000",
          "width": 5
         },
         "mode": "lines",
         "type": "scatter3d",
         "visible": false,
         "x": [
          0,
          0
         ],
         "y": [
          9,
          9
         ],
         "z": [
          0,
          27
         ]
        },
        {
         "cells": {
          "align": [
           "left",
           "right",
           "left"
          ],
          "font": {
           "size": 14
          },
          "height": 25,
          "line": {
           "color": "#ffffff",
           "width": 1
          },
          "values": [
           [
            "max<br>s.t.<br> <br> ",
            "<b>(3)</b>",
            "max<br>s.t.<br> <br> "
           ],
           [
            "z<br>x<sub>2</sub><br>x<sub>3</sub><br>x<sub>4</sub>",
            " ",
            "z<br>x<sub>2</sub><br>x<sub>4</sub><br>x<sub>6</sub>"
           ],
           [
            "= 54 + 9x<sub>1</sub> + 3x<sub>5</sub> - 1x<sub>6</sub><br>= 9 - 6x<sub>1</sub> - 1x<sub>5</sub> + 0x<sub>6</sub><br>= 27 + 18x<sub>1</sub> + 6x<sub>5</sub> - 1x<sub>6</sub><br>= 1 - 1x<sub>1</sub> + 0x<sub>5</sub> + 0x<sub>6</sub>",
            " ",
            "= 27 - 9x<sub>1</sub> + 1x<sub>3</sub> - 3x<sub>5</sub><br>= 9 - 6x<sub>1</sub> + 0x<sub>3</sub> - 1x<sub>5</sub><br>= 1 - 1x<sub>1</sub> + 0x<sub>3</sub> + 0x<sub>5</sub><br>= 27 + 18x<sub>1</sub> - 1x<sub>3</sub> + 6x<sub>5</sub>"
           ]
          ]
         },
         "columnwidth": [
          0.13333333333333333,
          0.06666666666666667,
          0.8
         ],
         "domain": {
          "x": [
           0.6052631578947368,
           1
          ],
          "y": [
           0,
           1
          ]
         },
         "header": {
          "align": [
           "left",
           "right",
           "left"
          ],
          "font": {
           "size": 14
          },
          "height": 25,
          "line": {
           "color": "#ffffff",
           "width": 1
          },
          "values": [
           "<b>(4)</b>",
           " ",
           " "
          ]
         },
         "type": "table"
        },
        {
         "cells": {
          "align": [
           "left",
           "right",
           "left"
          ],
          "font": {
           "size": 14
          },
          "height": 25,
          "line": {
           "color": "#ffffff",
           "width": 1
          },
          "values": [
           [
            "max<br>s.t.<br> <br> "
           ],
           [
            "z<br>x<sub>2</sub><br>x<sub>3</sub><br>x<sub>4</sub>"
           ],
           [
            "= 54 + 9x<sub>1</sub> + 3x<sub>5</sub> - 1x<sub>6</sub><br>= 9 - 6x<sub>1</sub> - 1x<sub>5</sub> + 0x<sub>6</sub><br>= 27 + 18x<sub>1</sub> + 6x<sub>5</sub> - 1x<sub>6</sub><br>= 1 - 1x<sub>1</sub> + 0x<sub>5</sub> + 0x<sub>6</sub>"
           ]
          ]
         },
         "columnwidth": [
          0.13333333333333333,
          0.06666666666666667,
          0.8
         ],
         "domain": {
          "x": [
           0.6052631578947368,
           1
          ],
          "y": [
           0,
           1
          ]
         },
         "header": {
          "align": [
           "left",
           "right",
           "left"
          ],
          "font": {
           "size": 14
          },
          "height": 25,
          "line": {
           "color": "#ffffff",
           "width": 1
          },
          "values": [
           "<b>(4)</b>",
           " ",
           " "
          ]
         },
         "type": "table"
        },
        {
         "line": {
          "color": "#d50000",
          "width": 5
         },
         "mode": "lines",
         "type": "scatter3d",
         "visible": false,
         "x": [
          0,
          0.5
         ],
         "y": [
          9,
          6
         ],
         "z": [
          27,
          36
         ]
        },
        {
         "line": {
          "color": "#d50000",
          "width": 5
         },
         "mode": "lines",
         "type": "scatter3d",
         "visible": false,
         "x": [
          0,
          1
         ],
         "y": [
          9,
          3
         ],
         "z": [
          27,
          45
         ]
        },
        {
         "cells": {
          "align": [
           "left",
           "right",
           "left"
          ],
          "font": {
           "size": 14
          },
          "height": 25,
          "line": {
           "color": "#ffffff",
           "width": 1
          },
          "values": [
           [
            "max<br>s.t.<br> <br> ",
            "<b>(4)</b>",
            "max<br>s.t.<br> <br> "
           ],
           [
            "z<br>x<sub>1</sub><br>x<sub>2</sub><br>x<sub>3</sub>",
            " ",
            "z<br>x<sub>2</sub><br>x<sub>3</sub><br>x<sub>4</sub>"
           ],
           [
            "= 63 - 9x<sub>4</sub> + 3x<sub>5</sub> - 1x<sub>6</sub><br>= 1 - 1x<sub>4</sub> + 0x<sub>5</sub> + 0x<sub>6</sub><br>= 3 + 6x<sub>4</sub> - 1x<sub>5</sub> + 0x<sub>6</sub><br>= 45 - 18x<sub>4</sub> + 6x<sub>5</sub> - 1x<sub>6</sub>",
            " ",
            "= 54 + 9x<sub>1</sub> + 3x<sub>5</sub> - 1x<sub>6</sub><br>= 9 - 6x<sub>1</sub> - 1x<sub>5</sub> + 0x<sub>6</sub><br>= 27 + 18x<sub>1</sub> + 6x<sub>5</sub> - 1x<sub>6</sub><br>= 1 - 1x<sub>1</sub> + 0x<sub>5</sub> + 0x<sub>6</sub>"
           ]
          ]
         },
         "columnwidth": [
          0.13333333333333333,
          0.06666666666666667,
          0.8
         ],
         "domain": {
          "x": [
           0.6052631578947368,
           1
          ],
          "y": [
           0,
           1
          ]
         },
         "header": {
          "align": [
           "left",
           "right",
           "left"
          ],
          "font": {
           "size": 14
          },
          "height": 25,
          "line": {
           "color": "#ffffff",
           "width": 1
          },
          "values": [
           "<b>(5)</b>",
           " ",
           " "
          ]
         },
         "type": "table"
        },
        {
         "cells": {
          "align": [
           "left",
           "right",
           "left"
          ],
          "font": {
           "size": 14
          },
          "height": 25,
          "line": {
           "color": "#ffffff",
           "width": 1
          },
          "values": [
           [
            "max<br>s.t.<br> <br> "
           ],
           [
            "z<br>x<sub>1</sub><br>x<sub>2</sub><br>x<sub>3</sub>"
           ],
           [
            "= 63 - 9x<sub>4</sub> + 3x<sub>5</sub> - 1x<sub>6</sub><br>= 1 - 1x<sub>4</sub> + 0x<sub>5</sub> + 0x<sub>6</sub><br>= 3 + 6x<sub>4</sub> - 1x<sub>5</sub> + 0x<sub>6</sub><br>= 45 - 18x<sub>4</sub> + 6x<sub>5</sub> - 1x<sub>6</sub>"
           ]
          ]
         },
         "columnwidth": [
          0.13333333333333333,
          0.06666666666666667,
          0.8
         ],
         "domain": {
          "x": [
           0.6052631578947368,
           1
          ],
          "y": [
           0,
           1
          ]
         },
         "header": {
          "align": [
           "left",
           "right",
           "left"
          ],
          "font": {
           "size": 14
          },
          "height": 25,
          "line": {
           "color": "#ffffff",
           "width": 1
          },
          "values": [
           "<b>(5)</b>",
           " ",
           " "
          ]
         },
         "type": "table"
        },
        {
         "line": {
          "color": "#d50000",
          "width": 5
         },
         "mode": "lines",
         "type": "scatter3d",
         "visible": false,
         "x": [
          1,
          1
         ],
         "y": [
          3,
          1.5
         ],
         "z": [
          45,
          54
         ]
        },
        {
         "line": {
          "color": "#d50000",
          "width": 5
         },
         "mode": "lines",
         "type": "scatter3d",
         "visible": false,
         "x": [
          1,
          1
         ],
         "y": [
          3,
          0
         ],
         "z": [
          45,
          63
         ]
        },
        {
         "cells": {
          "align": [
           "left",
           "right",
           "left"
          ],
          "font": {
           "size": 14
          },
          "height": 25,
          "line": {
           "color": "#ffffff",
           "width": 1
          },
          "values": [
           [
            "max<br>s.t.<br> <br> ",
            "<b>(5)</b>",
            "max<br>s.t.<br> <br> "
           ],
           [
            "z<br>x<sub>1</sub><br>x<sub>3</sub><br>x<sub>5</sub>",
            " ",
            "z<br>x<sub>1</sub><br>x<sub>2</sub><br>x<sub>3</sub>"
           ],
           [
            "= 72 - 3x<sub>2</sub> + 9x<sub>4</sub> - 1x<sub>6</sub><br>= 1 + 0x<sub>2</sub> - 1x<sub>4</sub> + 0x<sub>6</sub><br>= 63 - 6x<sub>2</sub> + 18x<sub>4</sub> - 1x<sub>6</sub><br>= 3 - 1x<sub>2</sub> + 6x<sub>4</sub> + 0x<sub>6</sub>",
            " ",
            "= 63 - 9x<sub>4</sub> + 3x<sub>5</sub> - 1x<sub>6</sub><br>= 1 - 1x<sub>4</sub> + 0x<sub>5</sub> + 0x<sub>6</sub><br>= 3 + 6x<sub>4</sub> - 1x<sub>5</sub> + 0x<sub>6</sub><br>= 45 - 18x<sub>4</sub> + 6x<sub>5</sub> - 1x<sub>6</sub>"
           ]
          ]
         },
         "columnwidth": [
          0.13333333333333333,
          0.06666666666666667,
          0.8
         ],
         "domain": {
          "x": [
           0.6052631578947368,
           1
          ],
          "y": [
           0,
           1
          ]
         },
         "header": {
          "align": [
           "left",
           "right",
           "left"
          ],
          "font": {
           "size": 14
          },
          "height": 25,
          "line": {
           "color": "#ffffff",
           "width": 1
          },
          "values": [
           "<b>(6)</b>",
           " ",
           " "
          ]
         },
         "type": "table"
        },
        {
         "cells": {
          "align": [
           "left",
           "right",
           "left"
          ],
          "font": {
           "size": 14
          },
          "height": 25,
          "line": {
           "color": "#ffffff",
           "width": 1
          },
          "values": [
           [
            "max<br>s.t.<br> <br> "
           ],
           [
            "z<br>x<sub>1</sub><br>x<sub>3</sub><br>x<sub>5</sub>"
           ],
           [
            "= 72 - 3x<sub>2</sub> + 9x<sub>4</sub> - 1x<sub>6</sub><br>= 1 + 0x<sub>2</sub> - 1x<sub>4</sub> + 0x<sub>6</sub><br>= 63 - 6x<sub>2</sub> + 18x<sub>4</sub> - 1x<sub>6</sub><br>= 3 - 1x<sub>2</sub> + 6x<sub>4</sub> + 0x<sub>6</sub>"
           ]
          ]
         },
         "columnwidth": [
          0.13333333333333333,
          0.06666666666666667,
          0.8
         ],
         "domain": {
          "x": [
           0.6052631578947368,
           1
          ],
          "y": [
           0,
           1
          ]
         },
         "header": {
          "align": [
           "left",
           "right",
           "left"
          ],
          "font": {
           "size": 14
          },
          "height": 25,
          "line": {
           "color": "#ffffff",
           "width": 1
          },
          "values": [
           "<b>(6)</b>",
           " ",
           " "
          ]
         },
         "type": "table"
        },
        {
         "line": {
          "color": "#d50000",
          "width": 5
         },
         "mode": "lines",
         "type": "scatter3d",
         "visible": false,
         "x": [
          1,
          0.5
         ],
         "y": [
          0,
          0
         ],
         "z": [
          63,
          72
         ]
        },
        {
         "line": {
          "color": "#d50000",
          "width": 5
         },
         "mode": "lines",
         "type": "scatter3d",
         "visible": false,
         "x": [
          1,
          0
         ],
         "y": [
          0,
          0
         ],
         "z": [
          63,
          81
         ]
        },
        {
         "cells": {
          "align": [
           "left",
           "right",
           "left"
          ],
          "font": {
           "size": 14
          },
          "height": 25,
          "line": {
           "color": "#ffffff",
           "width": 1
          },
          "values": [
           [
            "max<br>s.t.<br> <br> ",
            "<b>(6)</b>",
            "max<br>s.t.<br> <br> "
           ],
           [
            "z<br>x<sub>3</sub><br>x<sub>4</sub><br>x<sub>5</sub>",
            " ",
            "z<br>x<sub>1</sub><br>x<sub>3</sub><br>x<sub>5</sub>"
           ],
           [
            "= 81 - 9x<sub>1</sub> - 3x<sub>2</sub> - 1x<sub>6</sub><br>= 81 - 18x<sub>1</sub> - 6x<sub>2</sub> - 1x<sub>6</sub><br>= 1 - 1x<sub>1</sub> + 0x<sub>2</sub> + 0x<sub>6</sub><br>= 9 - 6x<sub>1</sub> - 1x<sub>2</sub> + 0x<sub>6</sub>",
            " ",
            "= 72 - 3x<sub>2</sub> + 9x<sub>4</sub> - 1x<sub>6</sub><br>= 1 + 0x<sub>2</sub> - 1x<sub>4</sub> + 0x<sub>6</sub><br>= 63 - 6x<sub>2</sub> + 18x<sub>4</sub> - 1x<sub>6</sub><br>= 3 - 1x<sub>2</sub> + 6x<sub>4</sub> + 0x<sub>6</sub>"
           ]
          ]
         },
         "columnwidth": [
          0.13333333333333333,
          0.06666666666666667,
          0.8
         ],
         "domain": {
          "x": [
           0.6052631578947368,
           1
          ],
          "y": [
           0,
           1
          ]
         },
         "header": {
          "align": [
           "left",
           "right",
           "left"
          ],
          "font": {
           "size": 14
          },
          "height": 25,
          "line": {
           "color": "#ffffff",
           "width": 1
          },
          "values": [
           "<b>(7)</b>",
           " ",
           " "
          ]
         },
         "type": "table"
        },
        {
         "cells": {
          "align": [
           "left",
           "right",
           "left"
          ],
          "font": {
           "size": 14
          },
          "height": 25,
          "line": {
           "color": "#ffffff",
           "width": 1
          },
          "values": [
           [
            "max<br>s.t.<br> <br> "
           ],
           [
            "z<br>x<sub>3</sub><br>x<sub>4</sub><br>x<sub>5</sub>"
           ],
           [
            "= 81 - 9x<sub>1</sub> - 3x<sub>2</sub> - 1x<sub>6</sub><br>= 81 - 18x<sub>1</sub> - 6x<sub>2</sub> - 1x<sub>6</sub><br>= 1 - 1x<sub>1</sub> + 0x<sub>2</sub> + 0x<sub>6</sub><br>= 9 - 6x<sub>1</sub> - 1x<sub>2</sub> + 0x<sub>6</sub>"
           ]
          ]
         },
         "columnwidth": [
          0.13333333333333333,
          0.06666666666666667,
          0.8
         ],
         "domain": {
          "x": [
           0.6052631578947368,
           1
          ],
          "y": [
           0,
           1
          ]
         },
         "header": {
          "align": [
           "left",
           "right",
           "left"
          ],
          "font": {
           "size": 14
          },
          "height": 25,
          "line": {
           "color": "#ffffff",
           "width": 1
          },
          "values": [
           "<b>(7)</b>",
           " ",
           " "
          ]
         },
         "type": "table"
        },
        {
         "type": "scatter3d",
         "x": [
          0
         ],
         "y": [
          0
         ],
         "z": [
          0
         ]
        },
        {
         "marker": {
          "color": "#d50000",
          "symbol": "circle"
         },
         "type": "scatter3d",
         "x": [
          0
         ],
         "y": [
          0
         ],
         "z": [
          81
         ]
        }
       ],
       "layout": {
        "scene": {
         "domain": {
          "x": [
           0,
           0.39473684210526316
          ],
          "y": [
           0,
           1
          ]
         },
         "xaxis": {
          "range": [
           0,
           1.3
          ]
         },
         "yaxis": {
          "range": [
           0,
           11.700000000000001
          ]
         },
         "zaxis": {
          "range": [
           0,
           105.3
          ]
         }
        },
        "sliders": [
         {
          "active": 0,
          "currentvalue": {
           "prefix": "Objective Value: "
          },
          "len": 0.39473684210526316,
          "lenmode": "fraction",
          "steps": [
           {
            "args": [
             {
              "visible": [
               false,
               null,
               null,
               null,
               null,
               null,
               null,
               null,
               "legendonly",
               "legendonly",
               "legendonly",
               true,
               true,
               false,
               false,
               false,
               false,
               false,
               false,
               false,
               false,
               false,
               false,
               false,
               false,
               false,
               false,
               false,
               false,
               false,
               false,
               false,
               false,
               false,
               false,
               false,
               false,
               false,
               false,
               false,
               false,
               false,
               false,
               false,
               false,
               false,
               false,
               false,
               false,
               false,
               false,
               false,
               false,
               false,
               false,
               false,
               false,
               false,
               false,
               false,
               false,
               false,
               false,
               false,
               false,
               false,
               false,
               false,
               false,
               false,
               false,
               false,
               false,
               false,
               false,
               false,
               false,
               false,
               false,
               false,
               false,
               false
              ]
             }
            ],
            "label": "0.0",
            "method": "update"
           },
           {
            "args": [
             {
              "visible": [
               false,
               null,
               null,
               null,
               null,
               null,
               null,
               null,
               "legendonly",
               "legendonly",
               "legendonly",
               false,
               false,
               true,
               true,
               false,
               false,
               false,
               false,
               false,
               false,
               false,
               false,
               false,
               false,
               false,
               false,
               false,
               false,
               false,
               false,
               false,
               false,
               false,
               false,
               false,
               false,
               false,
               false,
               false,
               false,
               false,
               false,
               false,
               false,
               false,
               false,
               false,
               false,
               false,
               false,
               false,
               false,
               false,
               false,
               false,
               false,
               false,
               false,
               false,
               false,
               false,
               false,
               false,
               false,
               false,
               false,
               false,
               false,
               false,
               false,
               false,
               false,
               false,
               false,
               false,
               false,
               false,
               false,
               false,
               false,
               false
              ]
             }
            ],
            "label": "6.34",
            "method": "update"
           },
           {
            "args": [
             {
              "visible": [
               false,
               null,
               null,
               null,
               null,
               null,
               null,
               null,
               "legendonly",
               "legendonly",
               "legendonly",
               false,
               false,
               false,
               false,
               true,
               true,
               false,
               false,
               false,
               false,
               false,
               false,
               false,
               false,
               false,
               false,
               false,
               false,
               false,
               false,
               false,
               false,
               false,
               false,
               false,
               false,
               false,
               false,
               false,
               false,
               false,
               false,
               false,
               false,
               false,
               false,
               false,
               false,
               false,
               false,
               false,
               false,
               false,
               false,
               false,
               false,
               false,
               false,
               false,
               false,
               false,
               false,
               false,
               false,
               false,
               false,
               false,
               false,
               false,
               false,
               false,
               false,
               false,
               false,
               false,
               false,
               false,
               false,
               false,
               false,
               false
              ]
             }
            ],
            "label": "12.68",
            "method": "update"
           },
           {
            "args": [
             {
              "visible": [
               false,
               null,
               null,
               null,
               null,
               null,
               null,
               null,
               "legendonly",
               "legendonly",
               "legendonly",
               false,
               false,
               false,
               false,
               false,
               false,
               true,
               true,
               false,
               false,
               false,
               false,
               false,
               false,
               false,
               false,
               false,
               false,
               false,
               false,
               false,
               false,
               false,
               false,
               false,
               false,
               false,
               false,
               false,
               false,
               false,
               false,
               false,
               false,
               false,
               false,
               false,
               false,
               false,
               false,
               false,
               false,
               false,
               false,
               false,
               false,
               false,
               false,
               false,
               false,
               false,
               false,
               false,
               false,
               false,
               false,
               false,
               false,
               false,
               false,
               false,
               false,
               false,
               false,
               false,
               false,
               false,
               false,
               false,
               false,
               false
              ]
             }
            ],
            "label": "19.01",
            "method": "update"
           },
           {
            "args": [
             {
              "visible": [
               false,
               null,
               null,
               null,
               null,
               null,
               null,
               null,
               "legendonly",
               "legendonly",
               "legendonly",
               false,
               false,
               false,
               false,
               false,
               false,
               false,
               false,
               true,
               true,
               false,
               false,
               false,
               false,
               false,
               false,
               false,
               false,
               false,
               false,
               false,
               false,
               false,
               false,
               false,
               false,
               false,
               false,
               false,
               false,
               false,
               false,
               false,
               false,
               false,
               false,
               false,
               false,
               false,
               false,
               false,
               false,
               false,
               false,
               false,
               false,
               false,
               false,
               false,
               false,
               false,
               false,
               false,
               false,
               false,
               false,
               false,
               false,
               false,
               false,
               false,
               false,
               false,
               false,
               false,
               false,
               false,
               false,
               false,
               false,
               false
              ]
             }
            ],
            "label": "25.35",
            "method": "update"
           },
           {
            "args": [
             {
              "visible": [
               false,
               null,
               null,
               null,
               null,
               null,
               null,
               null,
               "legendonly",
               "legendonly",
               "legendonly",
               false,
               false,
               false,
               false,
               false,
               false,
               false,
               false,
               false,
               false,
               true,
               true,
               false,
               false,
               false,
               false,
               false,
               false,
               false,
               false,
               false,
               false,
               false,
               false,
               false,
               false,
               false,
               false,
               false,
               false,
               false,
               false,
               false,
               false,
               false,
               false,
               false,
               false,
               false,
               false,
               false,
               false,
               false,
               false,
               false,
               false,
               false,
               false,
               false,
               false,
               false,
               false,
               false,
               false,
               false,
               false,
               false,
               false,
               false,
               false,
               false,
               false,
               false,
               false,
               false,
               false,
               false,
               false,
               false,
               false,
               false
              ]
             }
            ],
            "label": "31.69",
            "method": "update"
           },
           {
            "args": [
             {
              "visible": [
               false,
               null,
               null,
               null,
               null,
               null,
               null,
               null,
               "legendonly",
               "legendonly",
               "legendonly",
               false,
               false,
               false,
               false,
               false,
               false,
               false,
               false,
               false,
               false,
               false,
               false,
               true,
               true,
               false,
               false,
               false,
               false,
               false,
               false,
               false,
               false,
               false,
               false,
               false,
               false,
               false,
               false,
               false,
               false,
               false,
               false,
               false,
               false,
               false,
               false,
               false,
               false,
               false,
               false,
               false,
               false,
               false,
               false,
               false,
               false,
               false,
               false,
               false,
               false,
               false,
               false,
               false,
               false,
               false,
               false,
               false,
               false,
               false,
               false,
               false,
               false,
               false,
               false,
               false,
               false,
               false,
               false,
               false,
               false,
               false
              ]
             }
            ],
            "label": "38.02",
            "method": "update"
           },
           {
            "args": [
             {
              "visible": [
               false,
               null,
               null,
               null,
               null,
               null,
               null,
               null,
               "legendonly",
               "legendonly",
               "legendonly",
               false,
               false,
               false,
               false,
               false,
               false,
               false,
               false,
               false,
               false,
               false,
               false,
               false,
               false,
               true,
               true,
               false,
               false,
               false,
               false,
               false,
               false,
               false,
               false,
               false,
               false,
               false,
               false,
               false,
               false,
               false,
               false,
               false,
               false,
               false,
               false,
               false,
               false,
               false,
               false,
               false,
               false,
               false,
               false,
               false,
               false,
               false,
               false,
               false,
               false,
               false,
               false,
               false,
               false,
               false,
               false,
               false,
               false,
               false,
               false,
               false,
               false,
               false,
               false,
               false,
               false,
               false,
               false,
               false,
               false,
               false
              ]
             }
            ],
            "label": "44.36",
            "method": "update"
           },
           {
            "args": [
             {
              "visible": [
               false,
               null,
               null,
               null,
               null,
               null,
               null,
               null,
               "legendonly",
               "legendonly",
               "legendonly",
               false,
               false,
               false,
               false,
               false,
               false,
               false,
               false,
               false,
               false,
               false,
               false,
               false,
               false,
               false,
               false,
               true,
               true,
               false,
               false,
               false,
               false,
               false,
               false,
               false,
               false,
               false,
               false,
               false,
               false,
               false,
               false,
               false,
               false,
               false,
               false,
               false,
               false,
               false,
               false,
               false,
               false,
               false,
               false,
               false,
               false,
               false,
               false,
               false,
               false,
               false,
               false,
               false,
               false,
               false,
               false,
               false,
               false,
               false,
               false,
               false,
               false,
               false,
               false,
               false,
               false,
               false,
               false,
               false,
               false,
               false
              ]
             }
            ],
            "label": "50.7",
            "method": "update"
           },
           {
            "args": [
             {
              "visible": [
               false,
               null,
               null,
               null,
               null,
               null,
               null,
               null,
               "legendonly",
               "legendonly",
               "legendonly",
               false,
               false,
               false,
               false,
               false,
               false,
               false,
               false,
               false,
               false,
               false,
               false,
               false,
               false,
               false,
               false,
               false,
               false,
               true,
               true,
               false,
               false,
               false,
               false,
               false,
               false,
               false,
               false,
               false,
               false,
               false,
               false,
               false,
               false,
               false,
               false,
               false,
               false,
               false,
               false,
               false,
               false,
               false,
               false,
               false,
               false,
               false,
               false,
               false,
               false,
               false,
               false,
               false,
               false,
               false,
               false,
               false,
               false,
               false,
               false,
               false,
               false,
               false,
               false,
               false,
               false,
               false,
               false,
               false,
               false,
               false
              ]
             }
            ],
            "label": "57.04",
            "method": "update"
           },
           {
            "args": [
             {
              "visible": [
               false,
               null,
               null,
               null,
               null,
               null,
               null,
               null,
               "legendonly",
               "legendonly",
               "legendonly",
               false,
               false,
               false,
               false,
               false,
               false,
               false,
               false,
               false,
               false,
               false,
               false,
               false,
               false,
               false,
               false,
               false,
               false,
               false,
               false,
               true,
               true,
               false,
               false,
               false,
               false,
               false,
               false,
               false,
               false,
               false,
               false,
               false,
               false,
               false,
               false,
               false,
               false,
               false,
               false,
               false,
               false,
               false,
               false,
               false,
               false,
               false,
               false,
               false,
               false,
               false,
               false,
               false,
               false,
               false,
               false,
               false,
               false,
               false,
               false,
               false,
               false,
               false,
               false,
               false,
               false,
               false,
               false,
               false,
               false,
               false
              ]
             }
            ],
            "label": "63.37",
            "method": "update"
           },
           {
            "args": [
             {
              "visible": [
               false,
               null,
               null,
               null,
               null,
               null,
               null,
               null,
               "legendonly",
               "legendonly",
               "legendonly",
               false,
               false,
               false,
               false,
               false,
               false,
               false,
               false,
               false,
               false,
               false,
               false,
               false,
               false,
               false,
               false,
               false,
               false,
               false,
               false,
               false,
               false,
               true,
               true,
               false,
               false,
               false,
               false,
               false,
               false,
               false,
               false,
               false,
               false,
               false,
               false,
               false,
               false,
               false,
               false,
               false,
               false,
               false,
               false,
               false,
               false,
               false,
               false,
               false,
               false,
               false,
               false,
               false,
               false,
               false,
               false,
               false,
               false,
               false,
               false,
               false,
               false,
               false,
               false,
               false,
               false,
               false,
               false,
               false,
               false,
               false
              ]
             }
            ],
            "label": "69.71",
            "method": "update"
           },
           {
            "args": [
             {
              "visible": [
               false,
               null,
               null,
               null,
               null,
               null,
               null,
               null,
               "legendonly",
               "legendonly",
               "legendonly",
               false,
               false,
               false,
               false,
               false,
               false,
               false,
               false,
               false,
               false,
               false,
               false,
               false,
               false,
               false,
               false,
               false,
               false,
               false,
               false,
               false,
               false,
               false,
               false,
               true,
               true,
               false,
               false,
               false,
               false,
               false,
               false,
               false,
               false,
               false,
               false,
               false,
               false,
               false,
               false,
               false,
               false,
               false,
               false,
               false,
               false,
               false,
               false,
               false,
               false,
               false,
               false,
               false,
               false,
               false,
               false,
               false,
               false,
               false,
               false,
               false,
               false,
               false,
               false,
               false,
               false,
               false,
               false,
               false,
               false,
               false
              ]
             }
            ],
            "label": "76.05",
            "method": "update"
           },
           {
            "args": [
             {
              "visible": [
               false,
               null,
               null,
               null,
               null,
               null,
               null,
               null,
               "legendonly",
               "legendonly",
               "legendonly",
               false,
               false,
               false,
               false,
               false,
               false,
               false,
               false,
               false,
               false,
               false,
               false,
               false,
               false,
               false,
               false,
               false,
               false,
               false,
               false,
               false,
               false,
               false,
               false,
               false,
               false,
               true,
               true,
               false,
               false,
               false,
               false,
               false,
               false,
               false,
               false,
               false,
               false,
               false,
               false,
               false,
               false,
               false,
               false,
               false,
               false,
               false,
               false,
               false,
               false,
               false,
               false,
               false,
               false,
               false,
               false,
               false,
               false,
               false,
               false,
               false,
               false,
               false,
               false,
               false,
               false,
               false,
               false,
               false,
               false,
               false
              ]
             }
            ],
            "label": "81.0",
            "method": "update"
           },
           {
            "args": [
             {
              "visible": [
               false,
               null,
               null,
               null,
               null,
               null,
               null,
               null,
               "legendonly",
               "legendonly",
               "legendonly",
               false,
               false,
               false,
               false,
               false,
               false,
               false,
               false,
               false,
               false,
               false,
               false,
               false,
               false,
               false,
               false,
               false,
               false,
               false,
               false,
               false,
               false,
               false,
               false,
               false,
               false,
               false,
               false,
               true,
               false,
               false,
               false,
               false,
               false,
               false,
               false,
               false,
               false,
               false,
               false,
               false,
               false,
               false,
               false,
               false,
               false,
               false,
               false,
               false,
               false,
               false,
               false,
               false,
               false,
               false,
               false,
               false,
               false,
               false,
               false,
               false,
               false,
               false,
               false,
               false,
               false,
               false,
               false,
               false,
               false,
               false
              ]
             }
            ],
            "label": "82.39",
            "method": "update"
           },
           {
            "args": [
             {
              "visible": [
               false,
               null,
               null,
               null,
               null,
               null,
               null,
               null,
               "legendonly",
               "legendonly",
               "legendonly",
               false,
               false,
               false,
               false,
               false,
               false,
               false,
               false,
               false,
               false,
               false,
               false,
               false,
               false,
               false,
               false,
               false,
               false,
               false,
               false,
               false,
               false,
               false,
               false,
               false,
               false,
               false,
               false,
               false,
               true,
               false,
               false,
               false,
               false,
               false,
               false,
               false,
               false,
               false,
               false,
               false,
               false,
               false,
               false,
               false,
               false,
               false,
               false,
               false,
               false,
               false,
               false,
               false,
               false,
               false,
               false,
               false,
               false,
               false,
               false,
               false,
               false,
               false,
               false,
               false,
               false,
               false,
               false,
               false,
               false,
               false
              ]
             }
            ],
            "label": "88.72",
            "method": "update"
           },
           {
            "args": [
             {
              "visible": [
               false,
               null,
               null,
               null,
               null,
               null,
               null,
               null,
               "legendonly",
               "legendonly",
               "legendonly",
               false,
               false,
               false,
               false,
               false,
               false,
               false,
               false,
               false,
               false,
               false,
               false,
               false,
               false,
               false,
               false,
               false,
               false,
               false,
               false,
               false,
               false,
               false,
               false,
               false,
               false,
               false,
               false,
               false,
               false,
               true,
               false,
               false,
               false,
               false,
               false,
               false,
               false,
               false,
               false,
               false,
               false,
               false,
               false,
               false,
               false,
               false,
               false,
               false,
               false,
               false,
               false,
               false,
               false,
               false,
               false,
               false,
               false,
               false,
               false,
               false,
               false,
               false,
               false,
               false,
               false,
               false,
               false,
               false,
               false,
               false
              ]
             }
            ],
            "label": "95.06",
            "method": "update"
           },
           {
            "args": [
             {
              "visible": [
               false,
               null,
               null,
               null,
               null,
               null,
               null,
               null,
               "legendonly",
               "legendonly",
               "legendonly",
               false,
               false,
               false,
               false,
               false,
               false,
               false,
               false,
               false,
               false,
               false,
               false,
               false,
               false,
               false,
               false,
               false,
               false,
               false,
               false,
               false,
               false,
               false,
               false,
               false,
               false,
               false,
               false,
               false,
               false,
               false,
               true,
               false,
               false,
               false,
               false,
               false,
               false,
               false,
               false,
               false,
               false,
               false,
               false,
               false,
               false,
               false,
               false,
               false,
               false,
               false,
               false,
               false,
               false,
               false,
               false,
               false,
               false,
               false,
               false,
               false,
               false,
               false,
               false,
               false,
               false,
               false,
               false,
               false,
               false,
               false
              ]
             }
            ],
            "label": "101.4",
            "method": "update"
           },
           {
            "args": [
             {
              "visible": [
               false,
               null,
               null,
               null,
               null,
               null,
               null,
               null,
               "legendonly",
               "legendonly",
               "legendonly",
               false,
               false,
               false,
               false,
               false,
               false,
               false,
               false,
               false,
               false,
               false,
               false,
               false,
               false,
               false,
               false,
               false,
               false,
               false,
               false,
               false,
               false,
               false,
               false,
               false,
               false,
               false,
               false,
               false,
               false,
               false,
               false,
               true,
               false,
               false,
               false,
               false,
               false,
               false,
               false,
               false,
               false,
               false,
               false,
               false,
               false,
               false,
               false,
               false,
               false,
               false,
               false,
               false,
               false,
               false,
               false,
               false,
               false,
               false,
               false,
               false,
               false,
               false,
               false,
               false,
               false,
               false,
               false,
               false,
               false,
               false
              ]
             }
            ],
            "label": "107.74",
            "method": "update"
           },
           {
            "args": [
             {
              "visible": [
               false,
               null,
               null,
               null,
               null,
               null,
               null,
               null,
               "legendonly",
               "legendonly",
               "legendonly",
               false,
               false,
               false,
               false,
               false,
               false,
               false,
               false,
               false,
               false,
               false,
               false,
               false,
               false,
               false,
               false,
               false,
               false,
               false,
               false,
               false,
               false,
               false,
               false,
               false,
               false,
               false,
               false,
               false,
               false,
               false,
               false,
               false,
               true,
               false,
               false,
               false,
               false,
               false,
               false,
               false,
               false,
               false,
               false,
               false,
               false,
               false,
               false,
               false,
               false,
               false,
               false,
               false,
               false,
               false,
               false,
               false,
               false,
               false,
               false,
               false,
               false,
               false,
               false,
               false,
               false,
               false,
               false,
               false,
               false,
               false
              ]
             }
            ],
            "label": "114.07",
            "method": "update"
           },
           {
            "args": [
             {
              "visible": [
               false,
               null,
               null,
               null,
               null,
               null,
               null,
               null,
               "legendonly",
               "legendonly",
               "legendonly",
               false,
               false,
               false,
               false,
               false,
               false,
               false,
               false,
               false,
               false,
               false,
               false,
               false,
               false,
               false,
               false,
               false,
               false,
               false,
               false,
               false,
               false,
               false,
               false,
               false,
               false,
               false,
               false,
               false,
               false,
               false,
               false,
               false,
               false,
               true,
               false,
               false,
               false,
               false,
               false,
               false,
               false,
               false,
               false,
               false,
               false,
               false,
               false,
               false,
               false,
               false,
               false,
               false,
               false,
               false,
               false,
               false,
               false,
               false,
               false,
               false,
               false,
               false,
               false,
               false,
               false,
               false,
               false,
               false,
               false,
               false
              ]
             }
            ],
            "label": "120.41",
            "method": "update"
           },
           {
            "args": [
             {
              "visible": [
               false,
               null,
               null,
               null,
               null,
               null,
               null,
               null,
               "legendonly",
               "legendonly",
               "legendonly",
               false,
               false,
               false,
               false,
               false,
               false,
               false,
               false,
               false,
               false,
               false,
               false,
               false,
               false,
               false,
               false,
               false,
               false,
               false,
               false,
               false,
               false,
               false,
               false,
               false,
               false,
               false,
               false,
               false,
               false,
               false,
               false,
               false,
               false,
               false,
               true,
               false,
               false,
               false,
               false,
               false,
               false,
               false,
               false,
               false,
               false,
               false,
               false,
               false,
               false,
               false,
               false,
               false,
               false,
               false,
               false,
               false,
               false,
               false,
               false,
               false,
               false,
               false,
               false,
               false,
               false,
               false,
               false,
               false,
               false,
               false
              ]
             }
            ],
            "label": "126.75",
            "method": "update"
           },
           {
            "args": [
             {
              "visible": [
               false,
               null,
               null,
               null,
               null,
               null,
               null,
               null,
               "legendonly",
               "legendonly",
               "legendonly",
               false,
               false,
               false,
               false,
               false,
               false,
               false,
               false,
               false,
               false,
               false,
               false,
               false,
               false,
               false,
               false,
               false,
               false,
               false,
               false,
               false,
               false,
               false,
               false,
               false,
               false,
               false,
               false,
               false,
               false,
               false,
               false,
               false,
               false,
               false,
               false,
               true,
               false,
               false,
               false,
               false,
               false,
               false,
               false,
               false,
               false,
               false,
               false,
               false,
               false,
               false,
               false,
               false,
               false,
               false,
               false,
               false,
               false,
               false,
               false,
               false,
               false,
               false,
               false,
               false,
               false,
               false,
               false,
               false,
               false,
               false
              ]
             }
            ],
            "label": "133.09",
            "method": "update"
           },
           {
            "args": [
             {
              "visible": [
               false,
               null,
               null,
               null,
               null,
               null,
               null,
               null,
               "legendonly",
               "legendonly",
               "legendonly",
               false,
               false,
               false,
               false,
               false,
               false,
               false,
               false,
               false,
               false,
               false,
               false,
               false,
               false,
               false,
               false,
               false,
               false,
               false,
               false,
               false,
               false,
               false,
               false,
               false,
               false,
               false,
               false,
               false,
               false,
               false,
               false,
               false,
               false,
               false,
               false,
               false,
               true,
               false,
               false,
               false,
               false,
               false,
               false,
               false,
               false,
               false,
               false,
               false,
               false,
               false,
               false,
               false,
               false,
               false,
               false,
               false,
               false,
               false,
               false,
               false,
               false,
               false,
               false,
               false,
               false,
               false,
               false,
               false,
               false,
               false
              ]
             }
            ],
            "label": "139.42",
            "method": "update"
           },
           {
            "args": [
             {
              "visible": [
               false,
               null,
               null,
               null,
               null,
               null,
               null,
               null,
               "legendonly",
               "legendonly",
               "legendonly",
               false,
               false,
               false,
               false,
               false,
               false,
               false,
               false,
               false,
               false,
               false,
               false,
               false,
               false,
               false,
               false,
               false,
               false,
               false,
               false,
               false,
               false,
               false,
               false,
               false,
               false,
               false,
               false,
               false,
               false,
               false,
               false,
               false,
               false,
               false,
               false,
               false,
               false,
               true,
               false,
               false,
               false,
               false,
               false,
               false,
               false,
               false,
               false,
               false,
               false,
               false,
               false,
               false,
               false,
               false,
               false,
               false,
               false,
               false,
               false,
               false,
               false,
               false,
               false,
               false,
               false,
               false,
               false,
               false,
               false,
               false
              ]
             }
            ],
            "label": "145.76",
            "method": "update"
           }
          ],
          "tickcolor": "white",
          "ticklen": 0,
          "x": 0.6052631578947368,
          "xanchor": "left",
          "y": 0.01,
          "yanchor": "bottom"
         },
         {
          "active": 0,
          "currentvalue": {
           "prefix": "Iteration: "
          },
          "len": 0.39473684210526316,
          "lenmode": "fraction",
          "steps": [
           {
            "args": [
             {
              "visible": [
               false,
               null,
               null,
               null,
               null,
               null,
               null,
               null,
               "legendonly",
               "legendonly",
               "legendonly",
               false,
               false,
               false,
               false,
               false,
               false,
               false,
               false,
               false,
               false,
               false,
               false,
               false,
               false,
               false,
               false,
               false,
               false,
               false,
               false,
               false,
               false,
               false,
               false,
               false,
               false,
               false,
               false,
               false,
               false,
               false,
               false,
               false,
               false,
               false,
               false,
               false,
               false,
               false,
               false,
               true,
               false,
               false,
               false,
               false,
               false,
               false,
               false,
               false,
               false,
               false,
               false,
               false,
               false,
               false,
               false,
               false,
               false,
               false,
               false,
               false,
               false,
               false,
               false,
               false,
               false,
               false,
               false,
               false,
               true,
               true
              ]
             }
            ],
            "label": "0",
            "method": "update"
           },
           {
            "args": [
             {
              "visible": [
               false,
               null,
               null,
               null,
               null,
               null,
               null,
               null,
               "legendonly",
               "legendonly",
               "legendonly",
               false,
               false,
               false,
               false,
               false,
               false,
               false,
               false,
               false,
               false,
               false,
               false,
               false,
               false,
               false,
               false,
               false,
               false,
               false,
               false,
               false,
               false,
               false,
               false,
               false,
               false,
               false,
               false,
               false,
               false,
               false,
               false,
               false,
               false,
               false,
               false,
               false,
               false,
               false,
               false,
               false,
               true,
               false,
               true,
               false,
               false,
               false,
               false,
               false,
               false,
               false,
               false,
               false,
               false,
               false,
               false,
               false,
               false,
               false,
               false,
               false,
               false,
               false,
               false,
               false,
               false,
               false,
               false,
               false,
               true,
               true
              ]
             }
            ],
            "label": "",
            "method": "update"
           },
           {
            "args": [
             {
              "visible": [
               false,
               null,
               null,
               null,
               null,
               null,
               null,
               null,
               "legendonly",
               "legendonly",
               "legendonly",
               false,
               false,
               false,
               false,
               false,
               false,
               false,
               false,
               false,
               false,
               false,
               false,
               false,
               false,
               false,
               false,
               false,
               false,
               false,
               false,
               false,
               false,
               false,
               false,
               false,
               false,
               false,
               false,
               false,
               false,
               false,
               false,
               false,
               false,
               false,
               false,
               false,
               false,
               false,
               false,
               false,
               true,
               true,
               false,
               true,
               false,
               false,
               false,
               false,
               false,
               false,
               false,
               false,
               false,
               false,
               false,
               false,
               false,
               false,
               false,
               false,
               false,
               false,
               false,
               false,
               false,
               false,
               false,
               false,
               true,
               true
              ]
             }
            ],
            "label": "1",
            "method": "update"
           },
           {
            "args": [
             {
              "visible": [
               false,
               null,
               null,
               null,
               null,
               null,
               null,
               null,
               "legendonly",
               "legendonly",
               "legendonly",
               false,
               false,
               false,
               false,
               false,
               false,
               false,
               false,
               false,
               false,
               false,
               false,
               false,
               false,
               false,
               false,
               false,
               false,
               false,
               false,
               false,
               false,
               false,
               false,
               false,
               false,
               false,
               false,
               false,
               false,
               false,
               false,
               false,
               false,
               false,
               false,
               false,
               false,
               false,
               false,
               false,
               true,
               true,
               false,
               false,
               true,
               false,
               true,
               false,
               false,
               false,
               false,
               false,
               false,
               false,
               false,
               false,
               false,
               false,
               false,
               false,
               false,
               false,
               false,
               false,
               false,
               false,
               false,
               false,
               true,
               true
              ]
             }
            ],
            "label": "",
            "method": "update"
           },
           {
            "args": [
             {
              "visible": [
               false,
               null,
               null,
               null,
               null,
               null,
               null,
               null,
               "legendonly",
               "legendonly",
               "legendonly",
               false,
               false,
               false,
               false,
               false,
               false,
               false,
               false,
               false,
               false,
               false,
               false,
               false,
               false,
               false,
               false,
               false,
               false,
               false,
               false,
               false,
               false,
               false,
               false,
               false,
               false,
               false,
               false,
               false,
               false,
               false,
               false,
               false,
               false,
               false,
               false,
               false,
               false,
               false,
               false,
               false,
               true,
               true,
               false,
               false,
               true,
               true,
               false,
               true,
               false,
               false,
               false,
               false,
               false,
               false,
               false,
               false,
               false,
               false,
               false,
               false,
               false,
               false,
               false,
               false,
               false,
               false,
               false,
               false,
               true,
               true
              ]
             }
            ],
            "label": "2",
            "method": "update"
           },
           {
            "args": [
             {
              "visible": [
               false,
               null,
               null,
               null,
               null,
               null,
               null,
               null,
               "legendonly",
               "legendonly",
               "legendonly",
               false,
               false,
               false,
               false,
               false,
               false,
               false,
               false,
               false,
               false,
               false,
               false,
               false,
               false,
               false,
               false,
               false,
               false,
               false,
               false,
               false,
               false,
               false,
               false,
               false,
               false,
               false,
               false,
               false,
               false,
               false,
               false,
               false,
               false,
               false,
               false,
               false,
               false,
               false,
               false,
               false,
               true,
               true,
               false,
               false,
               true,
               true,
               false,
               false,
               true,
               false,
               true,
               false,
               false,
               false,
               false,
               false,
               false,
               false,
               false,
               false,
               false,
               false,
               false,
               false,
               false,
               false,
               false,
               false,
               true,
               true
              ]
             }
            ],
            "label": "",
            "method": "update"
           },
           {
            "args": [
             {
              "visible": [
               false,
               null,
               null,
               null,
               null,
               null,
               null,
               null,
               "legendonly",
               "legendonly",
               "legendonly",
               false,
               false,
               false,
               false,
               false,
               false,
               false,
               false,
               false,
               false,
               false,
               false,
               false,
               false,
               false,
               false,
               false,
               false,
               false,
               false,
               false,
               false,
               false,
               false,
               false,
               false,
               false,
               false,
               false,
               false,
               false,
               false,
               false,
               false,
               false,
               false,
               false,
               false,
               false,
               false,
               false,
               true,
               true,
               false,
               false,
               true,
               true,
               false,
               false,
               true,
               true,
               false,
               true,
               false,
               false,
               false,
               false,
               false,
               false,
               false,
               false,
               false,
               false,
               false,
               false,
               false,
               false,
               false,
               false,
               true,
               true
              ]
             }
            ],
            "label": "3",
            "method": "update"
           },
           {
            "args": [
             {
              "visible": [
               false,
               null,
               null,
               null,
               null,
               null,
               null,
               null,
               "legendonly",
               "legendonly",
               "legendonly",
               false,
               false,
               false,
               false,
               false,
               false,
               false,
               false,
               false,
               false,
               false,
               false,
               false,
               false,
               false,
               false,
               false,
               false,
               false,
               false,
               false,
               false,
               false,
               false,
               false,
               false,
               false,
               false,
               false,
               false,
               false,
               false,
               false,
               false,
               false,
               false,
               false,
               false,
               false,
               false,
               false,
               true,
               true,
               false,
               false,
               true,
               true,
               false,
               false,
               true,
               true,
               false,
               false,
               true,
               false,
               true,
               false,
               false,
               false,
               false,
               false,
               false,
               false,
               false,
               false,
               false,
               false,
               false,
               false,
               true,
               true
              ]
             }
            ],
            "label": "",
            "method": "update"
           },
           {
            "args": [
             {
              "visible": [
               false,
               null,
               null,
               null,
               null,
               null,
               null,
               null,
               "legendonly",
               "legendonly",
               "legendonly",
               false,
               false,
               false,
               false,
               false,
               false,
               false,
               false,
               false,
               false,
               false,
               false,
               false,
               false,
               false,
               false,
               false,
               false,
               false,
               false,
               false,
               false,
               false,
               false,
               false,
               false,
               false,
               false,
               false,
               false,
               false,
               false,
               false,
               false,
               false,
               false,
               false,
               false,
               false,
               false,
               false,
               true,
               true,
               false,
               false,
               true,
               true,
               false,
               false,
               true,
               true,
               false,
               false,
               true,
               true,
               false,
               true,
               false,
               false,
               false,
               false,
               false,
               false,
               false,
               false,
               false,
               false,
               false,
               false,
               true,
               true
              ]
             }
            ],
            "label": "4",
            "method": "update"
           },
           {
            "args": [
             {
              "visible": [
               false,
               null,
               null,
               null,
               null,
               null,
               null,
               null,
               "legendonly",
               "legendonly",
               "legendonly",
               false,
               false,
               false,
               false,
               false,
               false,
               false,
               false,
               false,
               false,
               false,
               false,
               false,
               false,
               false,
               false,
               false,
               false,
               false,
               false,
               false,
               false,
               false,
               false,
               false,
               false,
               false,
               false,
               false,
               false,
               false,
               false,
               false,
               false,
               false,
               false,
               false,
               false,
               false,
               false,
               false,
               true,
               true,
               false,
               false,
               true,
               true,
               false,
               false,
               true,
               true,
               false,
               false,
               true,
               true,
               false,
               false,
               true,
               false,
               true,
               false,
               false,
               false,
               false,
               false,
               false,
               false,
               false,
               false,
               true,
               true
              ]
             }
            ],
            "label": "",
            "method": "update"
           },
           {
            "args": [
             {
              "visible": [
               false,
               null,
               null,
               null,
               null,
               null,
               null,
               null,
               "legendonly",
               "legendonly",
               "legendonly",
               false,
               false,
               false,
               false,
               false,
               false,
               false,
               false,
               false,
               false,
               false,
               false,
               false,
               false,
               false,
               false,
               false,
               false,
               false,
               false,
               false,
               false,
               false,
               false,
               false,
               false,
               false,
               false,
               false,
               false,
               false,
               false,
               false,
               false,
               false,
               false,
               false,
               false,
               false,
               false,
               false,
               true,
               true,
               false,
               false,
               true,
               true,
               false,
               false,
               true,
               true,
               false,
               false,
               true,
               true,
               false,
               false,
               true,
               true,
               false,
               true,
               false,
               false,
               false,
               false,
               false,
               false,
               false,
               false,
               true,
               true
              ]
             }
            ],
            "label": "5",
            "method": "update"
           },
           {
            "args": [
             {
              "visible": [
               false,
               null,
               null,
               null,
               null,
               null,
               null,
               null,
               "legendonly",
               "legendonly",
               "legendonly",
               false,
               false,
               false,
               false,
               false,
               false,
               false,
               false,
               false,
               false,
               false,
               false,
               false,
               false,
               false,
               false,
               false,
               false,
               false,
               false,
               false,
               false,
               false,
               false,
               false,
               false,
               false,
               false,
               false,
               false,
               false,
               false,
               false,
               false,
               false,
               false,
               false,
               false,
               false,
               false,
               false,
               true,
               true,
               false,
               false,
               true,
               true,
               false,
               false,
               true,
               true,
               false,
               false,
               true,
               true,
               false,
               false,
               true,
               true,
               false,
               false,
               true,
               false,
               true,
               false,
               false,
               false,
               false,
               false,
               true,
               true
              ]
             }
            ],
            "label": "",
            "method": "update"
           },
           {
            "args": [
             {
              "visible": [
               false,
               null,
               null,
               null,
               null,
               null,
               null,
               null,
               "legendonly",
               "legendonly",
               "legendonly",
               false,
               false,
               false,
               false,
               false,
               false,
               false,
               false,
               false,
               false,
               false,
               false,
               false,
               false,
               false,
               false,
               false,
               false,
               false,
               false,
               false,
               false,
               false,
               false,
               false,
               false,
               false,
               false,
               false,
               false,
               false,
               false,
               false,
               false,
               false,
               false,
               false,
               false,
               false,
               false,
               false,
               true,
               true,
               false,
               false,
               true,
               true,
               false,
               false,
               true,
               true,
               false,
               false,
               true,
               true,
               false,
               false,
               true,
               true,
               false,
               false,
               true,
               true,
               false,
               true,
               false,
               false,
               false,
               false,
               true,
               true
              ]
             }
            ],
            "label": "6",
            "method": "update"
           },
           {
            "args": [
             {
              "visible": [
               false,
               null,
               null,
               null,
               null,
               null,
               null,
               null,
               "legendonly",
               "legendonly",
               "legendonly",
               false,
               false,
               false,
               false,
               false,
               false,
               false,
               false,
               false,
               false,
               false,
               false,
               false,
               false,
               false,
               false,
               false,
               false,
               false,
               false,
               false,
               false,
               false,
               false,
               false,
               false,
               false,
               false,
               false,
               false,
               false,
               false,
               false,
               false,
               false,
               false,
               false,
               false,
               false,
               false,
               false,
               true,
               true,
               false,
               false,
               true,
               true,
               false,
               false,
               true,
               true,
               false,
               false,
               true,
               true,
               false,
               false,
               true,
               true,
               false,
               false,
               true,
               true,
               false,
               false,
               true,
               false,
               true,
               false,
               true,
               true
              ]
             }
            ],
            "label": "",
            "method": "update"
           },
           {
            "args": [
             {
              "visible": [
               false,
               null,
               null,
               null,
               null,
               null,
               null,
               null,
               "legendonly",
               "legendonly",
               "legendonly",
               false,
               false,
               false,
               false,
               false,
               false,
               false,
               false,
               false,
               false,
               false,
               false,
               false,
               false,
               false,
               false,
               false,
               false,
               false,
               false,
               false,
               false,
               false,
               false,
               false,
               false,
               false,
               false,
               false,
               false,
               false,
               false,
               false,
               false,
               false,
               false,
               false,
               false,
               false,
               false,
               false,
               true,
               true,
               false,
               false,
               true,
               true,
               false,
               false,
               true,
               true,
               false,
               false,
               true,
               true,
               false,
               false,
               true,
               true,
               false,
               false,
               true,
               true,
               false,
               false,
               true,
               true,
               false,
               true,
               true,
               true
              ]
             }
            ],
            "label": "7",
            "method": "update"
           }
          ],
          "tickcolor": "white",
          "ticklen": 0,
          "x": 0.6052631578947368,
          "xanchor": "left",
          "y": 0.17,
          "yanchor": "bottom"
         }
        ],
        "template": {
         "data": {
          "scatter": [
           {
            "cliponaxis": false,
            "fillcolor": "#1565c0",
            "hoverinfo": "none",
            "line": {
             "color": "#1469FE",
             "width": 4
            },
            "marker": {
             "color": "#ffffff",
             "line": {
              "color": "#d50000",
              "width": 2
             },
             "opacity": 0.99,
             "size": 9
            },
            "mode": "markers",
            "showlegend": false,
            "type": "scatter",
            "visible": true
           },
           {
            "cliponaxis": false,
            "fillcolor": "#1565c0",
            "hoverinfo": "none",
            "line": {
             "color": "#9495A6",
             "width": 4
            },
            "marker": {
             "color": "#ffffff",
             "line": {
              "color": "#d50000",
              "width": 2
             },
             "opacity": 0.99,
             "size": 9
            },
            "mode": "markers",
            "showlegend": false,
            "type": "scatter",
            "visible": true
           },
           {
            "cliponaxis": false,
            "fillcolor": "#1565c0",
            "hoverinfo": "none",
            "line": {
             "color": "#DC0000",
             "width": 4
            },
            "marker": {
             "color": "#ffffff",
             "line": {
              "color": "#d50000",
              "width": 2
             },
             "opacity": 0.99,
             "size": 9
            },
            "mode": "markers",
            "showlegend": false,
            "type": "scatter",
            "visible": true
           },
           {
            "cliponaxis": false,
            "fillcolor": "#1565c0",
            "hoverinfo": "none",
            "line": {
             "color": "#173D90",
             "width": 4
            },
            "marker": {
             "color": "#ffffff",
             "line": {
              "color": "#d50000",
              "width": 2
             },
             "opacity": 0.99,
             "size": 9
            },
            "mode": "markers",
            "showlegend": false,
            "type": "scatter",
            "visible": true
           },
           {
            "cliponaxis": false,
            "fillcolor": "#1565c0",
            "hoverinfo": "none",
            "line": {
             "color": "#65ADFF",
             "width": 4
            },
            "marker": {
             "color": "#ffffff",
             "line": {
              "color": "#d50000",
              "width": 2
             },
             "opacity": 0.99,
             "size": 9
            },
            "mode": "markers",
            "showlegend": false,
            "type": "scatter",
            "visible": true
           }
          ],
          "scatter3d": [
           {
            "hoverinfo": "none",
            "line": {
             "color": "#1565c0",
             "width": 6
            },
            "marker": {
             "color": "#ff5131",
             "line": {
              "color": "#d50000",
              "width": 1
             },
             "opacity": 0.99,
             "size": 5,
             "symbol": "circle-open"
            },
            "mode": "markers",
            "showlegend": false,
            "surfacecolor": "#5e92f3",
            "type": "scatter3d",
            "visible": true
           }
          ],
          "table": [
           {
            "cells": {
             "fill": {
              "color": "#ffffff"
             },
             "font": {
              "color": [
               [
                "black",
                "#d50000",
                "black"
               ],
               [
                "black",
                "black",
                "black"
               ]
              ]
             }
            },
            "header": {
             "fill": {
              "color": "#ffffff"
             },
             "font": {
              "color": [
               "#d50000",
               "black"
              ]
             }
            },
            "type": "table",
            "visible": false
           }
          ]
         },
         "layout": {
          "annotations": [
           {
            "align": "center",
            "ax": 0,
            "ay": 0,
            "bgcolor": "#45568B",
            "bordercolor": "#404040",
            "borderpad": 3,
            "borderwidth": 2,
            "font": {
             "color": "#ffffff",
             "size": 12
            },
            "name": "current",
            "visible": false
           },
           {
            "align": "center",
            "ax": 0,
            "ay": 0,
            "bgcolor": "#d8e4f9",
            "bordercolor": "#404040",
            "borderpad": 3,
            "borderwidth": 2,
            "font": {
             "color": "#404040",
             "size": 12
            },
            "name": "explored",
            "visible": false
           },
           {
            "align": "center",
            "ax": 0,
            "ay": 0,
            "bgcolor": "#ffffff",
            "bordercolor": "#404040",
            "borderpad": 3,
            "borderwidth": 2,
            "font": {
             "color": "#404040",
             "size": 12
            },
            "name": "unexplored",
            "visible": false
           }
          ],
          "clickmode": "none",
          "dragmode": "turntable",
          "font": {
           "color": "#404040",
           "family": "Arial"
          },
          "height": 500,
          "hovermode": "closest",
          "legend": {
           "font": {
            "size": 13
           },
           "title": {
            "font": {
             "size": 14
            },
            "text": "<b>Constraint(s)</b>"
           },
           "x": 0.39473684210526316,
           "xanchor": "left",
           "y": 1,
           "yanchor": "top"
          },
          "margin": {
           "b": 0,
           "l": 0,
           "r": 0,
           "t": 33
          },
          "paper_bgcolor": "#ffffff",
          "plot_bgcolor": "#ffffff",
          "scene": {
           "aspectmode": "cube",
           "domain": {
            "x": [
             0,
             0.39473684210526316
            ],
            "y": [
             0,
             1
            ]
           },
           "xaxis": {
            "backgroundcolor": "#ffffff",
            "gridcolor": "#DFDFDF",
            "gridwidth": 2,
            "linecolor": "#404040",
            "rangemode": "tozero",
            "showbackground": true,
            "showspikes": false,
            "ticks": "",
            "title": {
             "text": "x<sub>1</sub>"
            },
            "zerolinecolor": "white"
           },
           "yaxis": {
            "backgroundcolor": "#ffffff",
            "gridcolor": "#DFDFDF",
            "gridwidth": 2,
            "linecolor": "#404040",
            "rangemode": "tozero",
            "showbackground": true,
            "showspikes": false,
            "ticks": "",
            "title": {
             "text": "x<sub>2</sub>"
            },
            "zerolinecolor": "white"
           },
           "zaxis": {
            "backgroundcolor": "#ffffff",
            "gridcolor": "#DFDFDF",
            "gridwidth": 2,
            "linecolor": "#404040",
            "rangemode": "tozero",
            "showbackground": true,
            "showspikes": false,
            "ticks": "",
            "title": {
             "text": "x<sub>3</sub>"
            },
            "zerolinecolor": "white"
           }
          },
          "width": 950
         }
        },
        "xaxis": {
         "domain": [
          0.5,
          1
         ],
         "range": [
          0,
          1
         ],
         "visible": false
        },
        "yaxis": {
         "domain": [
          0.15,
          1
         ],
         "range": [
          0,
          1
         ],
         "visible": false
        }
       }
      },
      "text/html": [
       "<div>                            <div id=\"812ce4e3-22d8-485d-ada9-9cd37afa112d\" class=\"plotly-graph-div\" style=\"height:500px; width:950px;\"></div>            <script type=\"text/javascript\">                require([\"plotly\"], function(Plotly) {                    window.PLOTLYENV=window.PLOTLYENV || {};                                    if (document.getElementById(\"812ce4e3-22d8-485d-ada9-9cd37afa112d\")) {                    Plotly.newPlot(                        \"812ce4e3-22d8-485d-ada9-9cd37afa112d\",                        [{\"visible\":false,\"x\":[1.3],\"y\":[11.700000000000001],\"z\":[105.3],\"type\":\"scatter3d\"},{\"line\":{\"color\":\"#003c8f\",\"width\":5},\"mode\":\"lines\",\"opacity\":0.2,\"surfaceaxis\":0,\"surfacecolor\":\"#1565c0\",\"x\":[1.0,1.0,1.0,1.0,1.0],\"y\":[0.0,3.0,3.0,0.0,0.0],\"z\":[0.0,0.0,45.0,63.0,0.0],\"type\":\"scatter3d\"},{\"line\":{\"color\":\"#003c8f\",\"width\":5},\"mode\":\"lines\",\"opacity\":0.2,\"surfaceaxis\":1,\"surfacecolor\":\"#1565c0\",\"x\":[1.0,0.0,0.0,1.0,1.0],\"y\":[3.0,9.0,9.0,3.0,3.0],\"z\":[45.0,27.0,0.0,0.0,45.0],\"type\":\"scatter3d\"},{\"line\":{\"color\":\"#003c8f\",\"width\":5},\"mode\":\"lines\",\"opacity\":0.2,\"surfaceaxis\":2,\"surfacecolor\":\"#1565c0\",\"x\":[0.0,0.0,1.0,1.0,0.0],\"y\":[9.0,0.0,0.0,3.0,9.0],\"z\":[27.0,81.0,63.0,45.0,27.0],\"type\":\"scatter3d\"},{\"line\":{\"color\":\"#003c8f\",\"width\":5},\"mode\":\"lines\",\"opacity\":0.2,\"surfaceaxis\":0,\"surfacecolor\":\"#1565c0\",\"x\":[0.0,0.0,0.0,0.0,0.0],\"y\":[9.0,0.0,0.0,9.0,9.0],\"z\":[0.0,0.0,81.0,27.0,0.0],\"type\":\"scatter3d\"},{\"line\":{\"color\":\"#003c8f\",\"width\":5},\"mode\":\"lines\",\"opacity\":0.2,\"surfaceaxis\":1,\"surfacecolor\":\"#1565c0\",\"x\":[1.0,0.0,0.0,1.0,1.0],\"y\":[0.0,0.0,0.0,0.0,0.0],\"z\":[0.0,0.0,81.0,63.0,0.0],\"type\":\"scatter3d\"},{\"line\":{\"color\":\"#003c8f\",\"width\":5},\"mode\":\"lines\",\"opacity\":0.2,\"surfaceaxis\":2,\"surfacecolor\":\"#1565c0\",\"x\":[1.0,1.0,0.0,0.0,1.0],\"y\":[0.0,3.0,9.0,0.0,0.0],\"z\":[0.0,0.0,0.0,0.0,0.0],\"type\":\"scatter3d\"},{\"hoverinfo\":\"text\",\"hoverlabel\":{\"align\":\"left\",\"bgcolor\":\"#ffffff\",\"bordercolor\":\"#404040\",\"font\":{\"color\":\"#404040\",\"family\":\"Arial\"}},\"marker\":{\"color\":\"gray\",\"opacity\":1e-7,\"size\":20},\"text\":[\"\\u003cb\\u003eBFS\\u003c\\u002fb\\u003e: (0, 0, 0, 1, 9, 81)\\u003cbr\\u003e\\u003cb\\u003eB\\u003c\\u002fb\\u003e: (4, 5, 6)\\u003cbr\\u003e\\u003cb\\u003eObj\\u003c\\u002fb\\u003e: 0\",\"\\u003cb\\u003eBFS\\u003c\\u002fb\\u003e: (1, 0, 0, 0, 3, 63)\\u003cbr\\u003e\\u003cb\\u003eB\\u003c\\u002fb\\u003e: (1, 5, 6)\\u003cbr\\u003e\\u003cb\\u003eObj\\u003c\\u002fb\\u003e: 9\",\"\\u003cb\\u003eBFS\\u003c\\u002fb\\u003e: (0, 9, 0, 1, 0, 27)\\u003cbr\\u003e\\u003cb\\u003eB\\u003c\\u002fb\\u003e: (2, 4, 6)\\u003cbr\\u003e\\u003cb\\u003eObj\\u003c\\u002fb\\u003e: 27\",\"\\u003cb\\u003eBFS\\u003c\\u002fb\\u003e: (1, 3, 0, 0, 0, 45)\\u003cbr\\u003e\\u003cb\\u003eB\\u003c\\u002fb\\u003e: (1, 2, 6)\\u003cbr\\u003e\\u003cb\\u003eObj\\u003c\\u002fb\\u003e: 18\",\"\\u003cb\\u003eBFS\\u003c\\u002fb\\u003e: (1, 0, 63, 0, 3, 0)\\u003cbr\\u003e\\u003cb\\u003eB\\u003c\\u002fb\\u003e: (1, 3, 5)\\u003cbr\\u003e\\u003cb\\u003eObj\\u003c\\u002fb\\u003e: 72\",\"\\u003cb\\u003eBFS\\u003c\\u002fb\\u003e: (0, 0, 81, 1, 9, 0)\\u003cbr\\u003e\\u003cb\\u003eB\\u003c\\u002fb\\u003e: (3, 4, 5)\\u003cbr\\u003e\\u003cb\\u003eObj\\u003c\\u002fb\\u003e: 81\",\"\\u003cb\\u003eBFS\\u003c\\u002fb\\u003e: (1, 3, 45, 0, 0, 0)\\u003cbr\\u003e\\u003cb\\u003eB\\u003c\\u002fb\\u003e: (1, 2, 3)\\u003cbr\\u003e\\u003cb\\u003eObj\\u003c\\u002fb\\u003e: 63\",\"\\u003cb\\u003eBFS\\u003c\\u002fb\\u003e: (0, 9, 27, 1, 0, 0)\\u003cbr\\u003e\\u003cb\\u003eB\\u003c\\u002fb\\u003e: (2, 3, 4)\\u003cbr\\u003e\\u003cb\\u003eObj\\u003c\\u002fb\\u003e: 54\"],\"x\":[0.0,1.0,0.0,1.0,1.0,0.0,1.0,0.0],\"y\":[0.0,0.0,9.0,3.0,0.0,0.0,3.0,9.0],\"z\":[0.0,0.0,0.0,0.0,63.0,81.0,45.0,27.0],\"type\":\"scatter3d\"},{\"mode\":\"none\",\"name\":\"(4) 1x\\u003csub\\u003e1\\u003c\\u002fsub\\u003e + 0x\\u003csub\\u003e2\\u003c\\u002fsub\\u003e + 0x\\u003csub\\u003e3\\u003c\\u002fsub\\u003e ≤ 1\",\"opacity\":0.5,\"showlegend\":true,\"surfaceaxis\":0,\"surfacecolor\":\"gray\",\"visible\":\"legendonly\",\"x\":[1.0,1.0,1.0,1.0,1.0],\"y\":[0.0,11.700000000000001,11.700000000000001,0.0,0.0],\"z\":[0.0,0.0,105.3,105.3,0.0],\"type\":\"scatter3d\"},{\"mode\":\"none\",\"name\":\"(5) 6x\\u003csub\\u003e1\\u003c\\u002fsub\\u003e + 1x\\u003csub\\u003e2\\u003c\\u002fsub\\u003e + 0x\\u003csub\\u003e3\\u003c\\u002fsub\\u003e ≤ 9\",\"opacity\":0.5,\"showlegend\":true,\"surfaceaxis\":1,\"surfacecolor\":\"gray\",\"visible\":\"legendonly\",\"x\":[0.0,0.0,1.3,1.3,0.0],\"y\":[9.0,9.0,1.1999999999999993,1.1999999999999993,9.0],\"z\":[105.3,0.0,0.0,105.3,105.3],\"type\":\"scatter3d\"},{\"mode\":\"none\",\"name\":\"(6) 18x\\u003csub\\u003e1\\u003c\\u002fsub\\u003e + 6x\\u003csub\\u003e2\\u003c\\u002fsub\\u003e + 1x\\u003csub\\u003e3\\u003c\\u002fsub\\u003e ≤ 81\",\"opacity\":0.5,\"showlegend\":true,\"surfaceaxis\":2,\"surfacecolor\":\"gray\",\"visible\":\"legendonly\",\"x\":[0.0,1.3,1.3,0.0,0.0],\"y\":[11.700000000000001,11.700000000000001,0.0,0.0,11.700000000000001],\"z\":[10.799999999999997,-12.600000000000009,57.599999999999994,81.0,10.799999999999997],\"type\":\"scatter3d\"},{\"mode\":\"none\",\"opacity\":0.3,\"surfaceaxis\":2,\"surfacecolor\":\"gray\",\"visible\":false,\"x\":[1.3,1.3,0.0,0.0,1.3],\"y\":[11.700000000000001,0.0,0.0,11.700000000000001,11.700000000000001],\"z\":[-46.800000000000004,-11.700000000000001,0.0,-35.1,-46.800000000000004],\"type\":\"scatter3d\"},{\"line\":{\"color\":\"#d50000\",\"width\":5},\"marker\":{\"color\":\"#d50000\",\"size\":5,\"symbol\":\"circle\"},\"mode\":\"lines+markers\",\"surfaceaxis\":2,\"surfacecolor\":\"#d50000\",\"visible\":false,\"x\":[0.0],\"y\":[0.0],\"z\":[0.0],\"type\":\"scatter3d\"},{\"mode\":\"none\",\"opacity\":0.3,\"surfaceaxis\":2,\"surfacecolor\":\"gray\",\"visible\":false,\"x\":[1.3,0.0,0.0,1.3,1.3],\"y\":[0.0,0.0,11.700000000000001,11.700000000000001,0.0],\"z\":[-5.360000000000001,6.34,-28.76,-40.46,-5.360000000000001],\"type\":\"scatter3d\"},{\"line\":{\"color\":\"#d50000\",\"width\":5},\"marker\":{\"color\":\"#d50000\",\"size\":5,\"symbol\":\"circle\"},\"mode\":\"lines+markers\",\"surfaceaxis\":2,\"surfacecolor\":\"#d50000\",\"visible\":false,\"x\":[0.0,0.704444444444,0.0,0.0],\"y\":[0.0,0.0,2.113333333333,0.0],\"z\":[6.34,0.0,0.0,6.34],\"type\":\"scatter3d\"},{\"mode\":\"none\",\"opacity\":0.3,\"surfaceaxis\":2,\"surfacecolor\":\"gray\",\"visible\":false,\"x\":[1.3,1.3,0.0,0.0,1.3],\"y\":[0.0,11.700000000000001,11.700000000000001,0.0,0.0],\"z\":[0.9799999999999986,-34.120000000000005,-22.42,12.68,0.9799999999999986],\"type\":\"scatter3d\"},{\"line\":{\"color\":\"#d50000\",\"width\":5},\"marker\":{\"color\":\"#d50000\",\"size\":5,\"symbol\":\"circle\"},\"mode\":\"lines+markers\",\"surfaceaxis\":2,\"surfacecolor\":\"#d50000\",\"visible\":false,\"x\":[-0.0,-0.0,1.0,1.0,-0.0],\"y\":[-0.0,4.226666666667,1.226666666667,0.0,-0.0],\"z\":[12.68,-0.0,0.0,3.68,12.68],\"type\":\"scatter3d\"},{\"mode\":\"none\",\"opacity\":0.3,\"surfaceaxis\":2,\"surfacecolor\":\"gray\",\"visible\":false,\"x\":[0.0,1.3,1.3,0.0,0.0],\"y\":[11.700000000000001,11.700000000000001,0.0,0.0,11.700000000000001],\"z\":[-16.09,-27.79,7.3100000000000005,19.01,-16.09],\"type\":\"scatter3d\"},{\"line\":{\"color\":\"#d50000\",\"width\":5},\"marker\":{\"color\":\"#d50000\",\"size\":5,\"symbol\":\"circle\"},\"mode\":\"lines+markers\",\"surfaceaxis\":2,\"surfacecolor\":\"#d50000\",\"visible\":false,\"x\":[-0.0,0.0,0.887777777778,1.0,1.0,-0.0],\"y\":[0.0,6.336666666667,3.673333333333,3.0,0.0,0.0],\"z\":[19.01,0.0,-0.0,1.01,10.01,19.01],\"type\":\"scatter3d\"},{\"mode\":\"none\",\"opacity\":0.3,\"surfaceaxis\":2,\"surfacecolor\":\"gray\",\"visible\":false,\"x\":[1.3,0.0,0.0,1.3,1.3],\"y\":[0.0,0.0,11.700000000000001,11.700000000000001,0.0],\"z\":[13.65,25.35,-9.75,-21.450000000000003,13.65],\"type\":\"scatter3d\"},{\"line\":{\"color\":\"#d50000\",\"width\":5},\"marker\":{\"color\":\"#d50000\",\"size\":5,\"symbol\":\"circle\"},\"mode\":\"lines+markers\",\"surfaceaxis\":2,\"surfacecolor\":\"#d50000\",\"visible\":false,\"x\":[1.0,0.183333333333,0.0,0.0,1.0,1.0],\"y\":[3.0,7.9,8.45,0.0,0.0,3.0],\"z\":[7.35,0.0,0.0,25.35,16.35,7.35],\"type\":\"scatter3d\"},{\"mode\":\"none\",\"opacity\":0.3,\"surfaceaxis\":2,\"surfacecolor\":\"gray\",\"visible\":false,\"x\":[1.3,0.0,0.0,1.3,1.3],\"y\":[0.0,0.0,11.700000000000001,11.700000000000001,0.0],\"z\":[19.990000000000002,31.69,-3.41,-15.11,19.990000000000002],\"type\":\"scatter3d\"},{\"line\":{\"color\":\"#d50000\",\"width\":5},\"marker\":{\"color\":\"#d50000\",\"size\":5,\"symbol\":\"circle\"},\"mode\":\"lines+markers\",\"surfaceaxis\":2,\"surfacecolor\":\"#d50000\",\"visible\":false,\"x\":[1.0,0.0,0.0,1.0,1.0],\"y\":[3.0,9.0,0.0,0.0,3.0],\"z\":[13.69,4.69,31.69,22.69,13.69],\"type\":\"scatter3d\"},{\"mode\":\"none\",\"opacity\":0.3,\"surfaceaxis\":2,\"surfacecolor\":\"gray\",\"visible\":false,\"x\":[1.3,0.0,0.0,1.3,1.3],\"y\":[0.0,0.0,11.700000000000001,11.700000000000001,0.0],\"z\":[26.32,38.02,2.9200000000000017,-8.780000000000001,26.32],\"type\":\"scatter3d\"},{\"line\":{\"color\":\"#d50000\",\"width\":5},\"marker\":{\"color\":\"#d50000\",\"size\":5,\"symbol\":\"circle\"},\"mode\":\"lines+markers\",\"surfaceaxis\":2,\"surfacecolor\":\"#d50000\",\"visible\":false,\"x\":[-0.0,0.0,1.0,1.0,-0.0],\"y\":[9.0,0.0,0.0,3.0,9.0],\"z\":[11.02,38.02,29.02,20.02,11.02],\"type\":\"scatter3d\"},{\"mode\":\"none\",\"opacity\":0.3,\"surfaceaxis\":2,\"surfacecolor\":\"gray\",\"visible\":false,\"x\":[1.3,1.3,0.0,0.0,1.3],\"y\":[0.0,11.700000000000001,11.700000000000001,0.0,0.0],\"z\":[32.66,-2.440000000000005,9.259999999999998,44.36,32.66],\"type\":\"scatter3d\"},{\"line\":{\"color\":\"#d50000\",\"width\":5},\"marker\":{\"color\":\"#d50000\",\"size\":5,\"symbol\":\"circle\"},\"mode\":\"lines+markers\",\"surfaceaxis\":2,\"surfacecolor\":\"#d50000\",\"visible\":false,\"x\":[0.0,0.0,1.0,1.0,0.0],\"y\":[0.0,9.0,3.0,0.0,0.0],\"z\":[44.36,17.36,26.36,35.36,44.36],\"type\":\"scatter3d\"},{\"mode\":\"none\",\"opacity\":0.3,\"surfaceaxis\":2,\"surfacecolor\":\"gray\",\"visible\":false,\"x\":[0.0,1.3,1.3,0.0,0.0],\"y\":[11.700000000000001,11.700000000000001,0.0,0.0,11.700000000000001],\"z\":[15.600000000000001,3.8999999999999986,39.0,50.7,15.600000000000001],\"type\":\"scatter3d\"},{\"line\":{\"color\":\"#d50000\",\"width\":5},\"marker\":{\"color\":\"#d50000\",\"size\":5,\"symbol\":\"circle\"},\"mode\":\"lines+markers\",\"surfaceaxis\":2,\"surfacecolor\":\"#d50000\",\"visible\":false,\"x\":[1.0,1.0,0.0,-0.0,1.0],\"y\":[3.0,0.0,0.0,9.0,3.0],\"z\":[32.7,41.7,50.7,23.7,32.7],\"type\":\"scatter3d\"},{\"mode\":\"none\",\"opacity\":0.3,\"surfaceaxis\":2,\"surfacecolor\":\"gray\",\"visible\":false,\"x\":[1.3,1.3,0.0,0.0,1.3],\"y\":[0.0,11.700000000000001,11.700000000000001,0.0,0.0],\"z\":[45.339999999999996,10.239999999999995,21.939999999999998,57.04,45.339999999999996],\"type\":\"scatter3d\"},{\"line\":{\"color\":\"#d50000\",\"width\":5},\"marker\":{\"color\":\"#d50000\",\"size\":5,\"symbol\":\"circle\"},\"mode\":\"lines+markers\",\"surfaceaxis\":2,\"surfacecolor\":\"#d50000\",\"visible\":false,\"x\":[1.0,0.337777777778,0.0,-0.0,1.0,1.0],\"y\":[3.0,6.973333333333,7.986666666667,-0.0,0.0,3.0],\"z\":[39.04,33.08,33.08,57.04,48.04,39.04],\"type\":\"scatter3d\"},{\"mode\":\"none\",\"opacity\":0.3,\"surfaceaxis\":2,\"surfacecolor\":\"gray\",\"visible\":false,\"x\":[1.3,0.0,0.0,1.3,1.3],\"y\":[0.0,0.0,11.700000000000001,11.700000000000001,0.0],\"z\":[51.669999999999995,63.37,28.269999999999996,16.569999999999993,51.669999999999995],\"type\":\"scatter3d\"},{\"line\":{\"color\":\"#d50000\",\"width\":5},\"marker\":{\"color\":\"#d50000\",\"size\":5,\"symbol\":\"circle\"},\"mode\":\"lines+markers\",\"surfaceaxis\":2,\"surfacecolor\":\"#d50000\",\"visible\":false,\"x\":[0.0,0.0,1.0,1.0,0.0],\"y\":[5.876666666667,0.0,0.0,2.876666666667,5.876666666667],\"z\":[45.74,63.37,54.37,45.74,45.74],\"type\":\"scatter3d\"},{\"mode\":\"none\",\"opacity\":0.3,\"surfaceaxis\":2,\"surfacecolor\":\"gray\",\"visible\":false,\"x\":[1.3,1.3,0.0,0.0,1.3],\"y\":[0.0,11.700000000000001,11.700000000000001,0.0,0.0],\"z\":[58.00999999999999,22.90999999999999,34.60999999999999,69.71,58.00999999999999],\"type\":\"scatter3d\"},{\"line\":{\"color\":\"#d50000\",\"width\":5},\"marker\":{\"color\":\"#d50000\",\"size\":5,\"symbol\":\"circle\"},\"mode\":\"lines+markers\",\"surfaceaxis\":2,\"surfacecolor\":\"#d50000\",\"visible\":false,\"x\":[0.0,0.0,1.0,1.0,0.0],\"y\":[0.0,3.763333333333,0.763333333333,-0.0,0.0],\"z\":[69.71,58.42,58.42,60.71,69.71],\"type\":\"scatter3d\"},{\"mode\":\"none\",\"opacity\":0.3,\"surfaceaxis\":2,\"surfacecolor\":\"gray\",\"visible\":false,\"x\":[0.0,1.3,1.3,0.0,0.0],\"y\":[0.0,0.0,11.700000000000001,11.700000000000001,0.0],\"z\":[76.05,64.35,29.249999999999993,40.949999999999996,76.05],\"type\":\"scatter3d\"},{\"line\":{\"color\":\"#d50000\",\"width\":5},\"marker\":{\"color\":\"#d50000\",\"size\":5,\"symbol\":\"circle\"},\"mode\":\"lines+markers\",\"surfaceaxis\":2,\"surfacecolor\":\"#d50000\",\"visible\":false,\"x\":[0.55,0.0,-0.0,0.55],\"y\":[-0.0,1.65,-0.0,-0.0],\"z\":[71.1,71.1,76.05,71.1],\"type\":\"scatter3d\"},{\"mode\":\"none\",\"opacity\":0.3,\"surfaceaxis\":2,\"surfacecolor\":\"gray\",\"visible\":false,\"x\":[0.0,0.0,1.3,1.3,0.0],\"y\":[11.700000000000001,0.0,0.0,11.700000000000001,11.700000000000001],\"z\":[45.9,81.0,69.3,34.199999999999996,45.9],\"type\":\"scatter3d\"},{\"line\":{\"color\":\"#d50000\",\"width\":5},\"marker\":{\"color\":\"#d50000\",\"size\":5,\"symbol\":\"circle\"},\"mode\":\"lines+markers\",\"surfaceaxis\":2,\"surfacecolor\":\"#d50000\",\"visible\":false,\"x\":[0.0],\"y\":[0.0],\"z\":[81.0],\"type\":\"scatter3d\"},{\"mode\":\"none\",\"opacity\":0.3,\"surfaceaxis\":2,\"surfacecolor\":\"gray\",\"visible\":false,\"x\":[0.0,0.0,1.3,1.3,0.0],\"y\":[11.700000000000001,0.0,0.0,11.700000000000001,11.700000000000001],\"z\":[47.29,82.39,70.69,35.589999999999996,47.29],\"type\":\"scatter3d\"},{\"mode\":\"none\",\"opacity\":0.3,\"surfaceaxis\":2,\"surfacecolor\":\"gray\",\"visible\":false,\"x\":[0.0,0.0,1.3,1.3,0.0],\"y\":[11.700000000000001,0.0,0.0,11.700000000000001,11.700000000000001],\"z\":[53.62,88.72,77.02,41.919999999999995,53.62],\"type\":\"scatter3d\"},{\"mode\":\"none\",\"opacity\":0.3,\"surfaceaxis\":2,\"surfacecolor\":\"gray\",\"visible\":false,\"x\":[0.0,0.0,1.3,1.3,0.0],\"y\":[11.700000000000001,0.0,0.0,11.700000000000001,11.700000000000001],\"z\":[59.96,95.06,83.36,48.26,59.96],\"type\":\"scatter3d\"},{\"mode\":\"none\",\"opacity\":0.3,\"surfaceaxis\":2,\"surfacecolor\":\"gray\",\"visible\":false,\"x\":[0.0,1.3,1.3,0.0,0.0],\"y\":[0.0,0.0,11.700000000000001,11.700000000000001,0.0],\"z\":[101.4,89.7,54.6,66.30000000000001,101.4],\"type\":\"scatter3d\"},{\"mode\":\"none\",\"opacity\":0.3,\"surfaceaxis\":2,\"surfacecolor\":\"gray\",\"visible\":false,\"x\":[1.3,1.3,0.0,0.0,1.3],\"y\":[11.700000000000001,0.0,0.0,11.700000000000001,11.700000000000001],\"z\":[60.93999999999999,96.03999999999999,107.74,72.63999999999999,60.93999999999999],\"type\":\"scatter3d\"},{\"mode\":\"none\",\"opacity\":0.3,\"surfaceaxis\":2,\"surfacecolor\":\"gray\",\"visible\":false,\"x\":[1.3,0.0,0.0,1.3,1.3],\"y\":[0.0,0.0,11.700000000000001,11.700000000000001,0.0],\"z\":[102.36999999999999,114.07,78.97,67.26999999999998,102.36999999999999],\"type\":\"scatter3d\"},{\"mode\":\"none\",\"opacity\":0.3,\"surfaceaxis\":2,\"surfacecolor\":\"gray\",\"visible\":false,\"x\":[0.0,0.0,1.3,1.3,0.0],\"y\":[11.700000000000001,0.0,0.0,11.700000000000001,11.700000000000001],\"z\":[85.31,120.41,108.71,73.60999999999999,85.31],\"type\":\"scatter3d\"},{\"mode\":\"none\",\"opacity\":0.3,\"surfaceaxis\":2,\"surfacecolor\":\"gray\",\"visible\":false,\"x\":[1.3,1.3,0.0,0.0,1.3],\"y\":[0.0,11.700000000000001,11.700000000000001,0.0,0.0],\"z\":[115.05,79.94999999999999,91.65,126.75,115.05],\"type\":\"scatter3d\"},{\"mode\":\"none\",\"opacity\":0.3,\"surfaceaxis\":2,\"surfacecolor\":\"gray\",\"visible\":false,\"x\":[0.0,1.3,1.3,0.0,0.0],\"y\":[11.700000000000001,11.700000000000001,0.0,0.0,11.700000000000001],\"z\":[97.99000000000001,86.28999999999999,121.39,133.09,97.99000000000001],\"type\":\"scatter3d\"},{\"mode\":\"none\",\"opacity\":0.3,\"surfaceaxis\":2,\"surfacecolor\":\"gray\",\"visible\":false,\"x\":[1.3,1.3,0.0,0.0,1.3],\"y\":[11.700000000000001,0.0,0.0,11.700000000000001,11.700000000000001],\"z\":[92.61999999999998,127.71999999999998,139.42,104.32,92.61999999999998],\"type\":\"scatter3d\"},{\"mode\":\"none\",\"opacity\":0.3,\"surfaceaxis\":2,\"surfacecolor\":\"gray\",\"visible\":false,\"x\":[1.3,1.3,0.0,0.0,1.3],\"y\":[0.0,11.700000000000001,11.700000000000001,0.0,0.0],\"z\":[134.06,98.96000000000001,110.66,145.76,134.06],\"type\":\"scatter3d\"},{\"mode\":\"none\",\"opacity\":0.3,\"surfaceaxis\":2,\"surfacecolor\":\"gray\",\"visible\":false,\"x\":[0.0,0.0,1.3,1.3,0.0],\"y\":[11.700000000000001,0.0,0.0,11.700000000000001,11.700000000000001],\"z\":[117.0,152.1,140.4,105.30000000000001,117.0],\"type\":\"scatter3d\"},{\"cells\":{\"align\":[\"left\",\"right\",\"left\"],\"font\":{\"size\":14},\"height\":25,\"line\":{\"color\":\"#ffffff\",\"width\":1},\"values\":[[\"max\\u003cbr\\u003es.t.\\u003cbr\\u003e \\u003cbr\\u003e \"],[\"z\\u003cbr\\u003ex\\u003csub\\u003e4\\u003c\\u002fsub\\u003e\\u003cbr\\u003ex\\u003csub\\u003e5\\u003c\\u002fsub\\u003e\\u003cbr\\u003ex\\u003csub\\u003e6\\u003c\\u002fsub\\u003e\"],[\"= 0 + 9x\\u003csub\\u003e1\\u003c\\u002fsub\\u003e + 3x\\u003csub\\u003e2\\u003c\\u002fsub\\u003e + 1x\\u003csub\\u003e3\\u003c\\u002fsub\\u003e\\u003cbr\\u003e= 1 - 1x\\u003csub\\u003e1\\u003c\\u002fsub\\u003e + 0x\\u003csub\\u003e2\\u003c\\u002fsub\\u003e + 0x\\u003csub\\u003e3\\u003c\\u002fsub\\u003e\\u003cbr\\u003e= 9 - 6x\\u003csub\\u003e1\\u003c\\u002fsub\\u003e - 1x\\u003csub\\u003e2\\u003c\\u002fsub\\u003e + 0x\\u003csub\\u003e3\\u003c\\u002fsub\\u003e\\u003cbr\\u003e= 81 - 18x\\u003csub\\u003e1\\u003c\\u002fsub\\u003e - 6x\\u003csub\\u003e2\\u003c\\u002fsub\\u003e - 1x\\u003csub\\u003e3\\u003c\\u002fsub\\u003e\"]]},\"columnwidth\":[0.13333333333333333,0.06666666666666667,0.8],\"header\":{\"align\":[\"left\",\"right\",\"left\"],\"font\":{\"size\":14},\"height\":25,\"line\":{\"color\":\"#ffffff\",\"width\":1},\"values\":[\"\\u003cb\\u003e(0)\\u003c\\u002fb\\u003e\",\" \",\" \"]},\"visible\":true,\"type\":\"table\",\"domain\":{\"x\":[0.6052631578947368,1.0],\"y\":[0.0,1.0]}},{\"line\":{\"color\":\"#d50000\",\"width\":5},\"mode\":\"lines\",\"visible\":false,\"x\":[0.0,0.5],\"y\":[0.0,0.0],\"z\":[0.0,0.0],\"type\":\"scatter3d\"},{\"line\":{\"color\":\"#d50000\",\"width\":5},\"mode\":\"lines\",\"visible\":false,\"x\":[0.0,1.0],\"y\":[0.0,0.0],\"z\":[0.0,0.0],\"type\":\"scatter3d\"},{\"cells\":{\"align\":[\"left\",\"right\",\"left\"],\"font\":{\"size\":14},\"height\":25,\"line\":{\"color\":\"#ffffff\",\"width\":1},\"values\":[[\"max\\u003cbr\\u003es.t.\\u003cbr\\u003e \\u003cbr\\u003e \",\"\\u003cb\\u003e(0)\\u003c\\u002fb\\u003e\",\"max\\u003cbr\\u003es.t.\\u003cbr\\u003e \\u003cbr\\u003e \"],[\"z\\u003cbr\\u003ex\\u003csub\\u003e1\\u003c\\u002fsub\\u003e\\u003cbr\\u003ex\\u003csub\\u003e5\\u003c\\u002fsub\\u003e\\u003cbr\\u003ex\\u003csub\\u003e6\\u003c\\u002fsub\\u003e\",\" \",\"z\\u003cbr\\u003ex\\u003csub\\u003e4\\u003c\\u002fsub\\u003e\\u003cbr\\u003ex\\u003csub\\u003e5\\u003c\\u002fsub\\u003e\\u003cbr\\u003ex\\u003csub\\u003e6\\u003c\\u002fsub\\u003e\"],[\"= 9 + 3x\\u003csub\\u003e2\\u003c\\u002fsub\\u003e + 1x\\u003csub\\u003e3\\u003c\\u002fsub\\u003e - 9x\\u003csub\\u003e4\\u003c\\u002fsub\\u003e\\u003cbr\\u003e= 1 + 0x\\u003csub\\u003e2\\u003c\\u002fsub\\u003e + 0x\\u003csub\\u003e3\\u003c\\u002fsub\\u003e - 1x\\u003csub\\u003e4\\u003c\\u002fsub\\u003e\\u003cbr\\u003e= 3 - 1x\\u003csub\\u003e2\\u003c\\u002fsub\\u003e + 0x\\u003csub\\u003e3\\u003c\\u002fsub\\u003e + 6x\\u003csub\\u003e4\\u003c\\u002fsub\\u003e\\u003cbr\\u003e= 63 - 6x\\u003csub\\u003e2\\u003c\\u002fsub\\u003e - 1x\\u003csub\\u003e3\\u003c\\u002fsub\\u003e + 18x\\u003csub\\u003e4\\u003c\\u002fsub\\u003e\",\" \",\"= 0 + 9x\\u003csub\\u003e1\\u003c\\u002fsub\\u003e + 3x\\u003csub\\u003e2\\u003c\\u002fsub\\u003e + 1x\\u003csub\\u003e3\\u003c\\u002fsub\\u003e\\u003cbr\\u003e= 1 - 1x\\u003csub\\u003e1\\u003c\\u002fsub\\u003e + 0x\\u003csub\\u003e2\\u003c\\u002fsub\\u003e + 0x\\u003csub\\u003e3\\u003c\\u002fsub\\u003e\\u003cbr\\u003e= 9 - 6x\\u003csub\\u003e1\\u003c\\u002fsub\\u003e - 1x\\u003csub\\u003e2\\u003c\\u002fsub\\u003e + 0x\\u003csub\\u003e3\\u003c\\u002fsub\\u003e\\u003cbr\\u003e= 81 - 18x\\u003csub\\u003e1\\u003c\\u002fsub\\u003e - 6x\\u003csub\\u003e2\\u003c\\u002fsub\\u003e - 1x\\u003csub\\u003e3\\u003c\\u002fsub\\u003e\"]]},\"columnwidth\":[0.13333333333333333,0.06666666666666667,0.8],\"header\":{\"align\":[\"left\",\"right\",\"left\"],\"font\":{\"size\":14},\"height\":25,\"line\":{\"color\":\"#ffffff\",\"width\":1},\"values\":[\"\\u003cb\\u003e(1)\\u003c\\u002fb\\u003e\",\" \",\" \"]},\"type\":\"table\",\"domain\":{\"x\":[0.6052631578947368,1.0],\"y\":[0.0,1.0]}},{\"cells\":{\"align\":[\"left\",\"right\",\"left\"],\"font\":{\"size\":14},\"height\":25,\"line\":{\"color\":\"#ffffff\",\"width\":1},\"values\":[[\"max\\u003cbr\\u003es.t.\\u003cbr\\u003e \\u003cbr\\u003e \"],[\"z\\u003cbr\\u003ex\\u003csub\\u003e1\\u003c\\u002fsub\\u003e\\u003cbr\\u003ex\\u003csub\\u003e5\\u003c\\u002fsub\\u003e\\u003cbr\\u003ex\\u003csub\\u003e6\\u003c\\u002fsub\\u003e\"],[\"= 9 + 3x\\u003csub\\u003e2\\u003c\\u002fsub\\u003e + 1x\\u003csub\\u003e3\\u003c\\u002fsub\\u003e - 9x\\u003csub\\u003e4\\u003c\\u002fsub\\u003e\\u003cbr\\u003e= 1 + 0x\\u003csub\\u003e2\\u003c\\u002fsub\\u003e + 0x\\u003csub\\u003e3\\u003c\\u002fsub\\u003e - 1x\\u003csub\\u003e4\\u003c\\u002fsub\\u003e\\u003cbr\\u003e= 3 - 1x\\u003csub\\u003e2\\u003c\\u002fsub\\u003e + 0x\\u003csub\\u003e3\\u003c\\u002fsub\\u003e + 6x\\u003csub\\u003e4\\u003c\\u002fsub\\u003e\\u003cbr\\u003e= 63 - 6x\\u003csub\\u003e2\\u003c\\u002fsub\\u003e - 1x\\u003csub\\u003e3\\u003c\\u002fsub\\u003e + 18x\\u003csub\\u003e4\\u003c\\u002fsub\\u003e\"]]},\"columnwidth\":[0.13333333333333333,0.06666666666666667,0.8],\"header\":{\"align\":[\"left\",\"right\",\"left\"],\"font\":{\"size\":14},\"height\":25,\"line\":{\"color\":\"#ffffff\",\"width\":1},\"values\":[\"\\u003cb\\u003e(1)\\u003c\\u002fb\\u003e\",\" \",\" \"]},\"type\":\"table\",\"domain\":{\"x\":[0.6052631578947368,1.0],\"y\":[0.0,1.0]}},{\"line\":{\"color\":\"#d50000\",\"width\":5},\"mode\":\"lines\",\"visible\":false,\"x\":[1.0,1.0],\"y\":[0.0,1.5],\"z\":[0.0,0.0],\"type\":\"scatter3d\"},{\"line\":{\"color\":\"#d50000\",\"width\":5},\"mode\":\"lines\",\"visible\":false,\"x\":[1.0,1.0],\"y\":[0.0,3.0],\"z\":[0.0,0.0],\"type\":\"scatter3d\"},{\"cells\":{\"align\":[\"left\",\"right\",\"left\"],\"font\":{\"size\":14},\"height\":25,\"line\":{\"color\":\"#ffffff\",\"width\":1},\"values\":[[\"max\\u003cbr\\u003es.t.\\u003cbr\\u003e \\u003cbr\\u003e \",\"\\u003cb\\u003e(1)\\u003c\\u002fb\\u003e\",\"max\\u003cbr\\u003es.t.\\u003cbr\\u003e \\u003cbr\\u003e \"],[\"z\\u003cbr\\u003ex\\u003csub\\u003e1\\u003c\\u002fsub\\u003e\\u003cbr\\u003ex\\u003csub\\u003e2\\u003c\\u002fsub\\u003e\\u003cbr\\u003ex\\u003csub\\u003e6\\u003c\\u002fsub\\u003e\",\" \",\"z\\u003cbr\\u003ex\\u003csub\\u003e1\\u003c\\u002fsub\\u003e\\u003cbr\\u003ex\\u003csub\\u003e5\\u003c\\u002fsub\\u003e\\u003cbr\\u003ex\\u003csub\\u003e6\\u003c\\u002fsub\\u003e\"],[\"= 18 + 1x\\u003csub\\u003e3\\u003c\\u002fsub\\u003e + 9x\\u003csub\\u003e4\\u003c\\u002fsub\\u003e - 3x\\u003csub\\u003e5\\u003c\\u002fsub\\u003e\\u003cbr\\u003e= 1 + 0x\\u003csub\\u003e3\\u003c\\u002fsub\\u003e - 1x\\u003csub\\u003e4\\u003c\\u002fsub\\u003e + 0x\\u003csub\\u003e5\\u003c\\u002fsub\\u003e\\u003cbr\\u003e= 3 + 0x\\u003csub\\u003e3\\u003c\\u002fsub\\u003e + 6x\\u003csub\\u003e4\\u003c\\u002fsub\\u003e - 1x\\u003csub\\u003e5\\u003c\\u002fsub\\u003e\\u003cbr\\u003e= 45 - 1x\\u003csub\\u003e3\\u003c\\u002fsub\\u003e - 18x\\u003csub\\u003e4\\u003c\\u002fsub\\u003e + 6x\\u003csub\\u003e5\\u003c\\u002fsub\\u003e\",\" \",\"= 9 + 3x\\u003csub\\u003e2\\u003c\\u002fsub\\u003e + 1x\\u003csub\\u003e3\\u003c\\u002fsub\\u003e - 9x\\u003csub\\u003e4\\u003c\\u002fsub\\u003e\\u003cbr\\u003e= 1 + 0x\\u003csub\\u003e2\\u003c\\u002fsub\\u003e + 0x\\u003csub\\u003e3\\u003c\\u002fsub\\u003e - 1x\\u003csub\\u003e4\\u003c\\u002fsub\\u003e\\u003cbr\\u003e= 3 - 1x\\u003csub\\u003e2\\u003c\\u002fsub\\u003e + 0x\\u003csub\\u003e3\\u003c\\u002fsub\\u003e + 6x\\u003csub\\u003e4\\u003c\\u002fsub\\u003e\\u003cbr\\u003e= 63 - 6x\\u003csub\\u003e2\\u003c\\u002fsub\\u003e - 1x\\u003csub\\u003e3\\u003c\\u002fsub\\u003e + 18x\\u003csub\\u003e4\\u003c\\u002fsub\\u003e\"]]},\"columnwidth\":[0.13333333333333333,0.06666666666666667,0.8],\"header\":{\"align\":[\"left\",\"right\",\"left\"],\"font\":{\"size\":14},\"height\":25,\"line\":{\"color\":\"#ffffff\",\"width\":1},\"values\":[\"\\u003cb\\u003e(2)\\u003c\\u002fb\\u003e\",\" \",\" \"]},\"type\":\"table\",\"domain\":{\"x\":[0.6052631578947368,1.0],\"y\":[0.0,1.0]}},{\"cells\":{\"align\":[\"left\",\"right\",\"left\"],\"font\":{\"size\":14},\"height\":25,\"line\":{\"color\":\"#ffffff\",\"width\":1},\"values\":[[\"max\\u003cbr\\u003es.t.\\u003cbr\\u003e \\u003cbr\\u003e \"],[\"z\\u003cbr\\u003ex\\u003csub\\u003e1\\u003c\\u002fsub\\u003e\\u003cbr\\u003ex\\u003csub\\u003e2\\u003c\\u002fsub\\u003e\\u003cbr\\u003ex\\u003csub\\u003e6\\u003c\\u002fsub\\u003e\"],[\"= 18 + 1x\\u003csub\\u003e3\\u003c\\u002fsub\\u003e + 9x\\u003csub\\u003e4\\u003c\\u002fsub\\u003e - 3x\\u003csub\\u003e5\\u003c\\u002fsub\\u003e\\u003cbr\\u003e= 1 + 0x\\u003csub\\u003e3\\u003c\\u002fsub\\u003e - 1x\\u003csub\\u003e4\\u003c\\u002fsub\\u003e + 0x\\u003csub\\u003e5\\u003c\\u002fsub\\u003e\\u003cbr\\u003e= 3 + 0x\\u003csub\\u003e3\\u003c\\u002fsub\\u003e + 6x\\u003csub\\u003e4\\u003c\\u002fsub\\u003e - 1x\\u003csub\\u003e5\\u003c\\u002fsub\\u003e\\u003cbr\\u003e= 45 - 1x\\u003csub\\u003e3\\u003c\\u002fsub\\u003e - 18x\\u003csub\\u003e4\\u003c\\u002fsub\\u003e + 6x\\u003csub\\u003e5\\u003c\\u002fsub\\u003e\"]]},\"columnwidth\":[0.13333333333333333,0.06666666666666667,0.8],\"header\":{\"align\":[\"left\",\"right\",\"left\"],\"font\":{\"size\":14},\"height\":25,\"line\":{\"color\":\"#ffffff\",\"width\":1},\"values\":[\"\\u003cb\\u003e(2)\\u003c\\u002fb\\u003e\",\" \",\" \"]},\"type\":\"table\",\"domain\":{\"x\":[0.6052631578947368,1.0],\"y\":[0.0,1.0]}},{\"line\":{\"color\":\"#d50000\",\"width\":5},\"mode\":\"lines\",\"visible\":false,\"x\":[1.0,0.5],\"y\":[3.0,6.0],\"z\":[0.0,0.0],\"type\":\"scatter3d\"},{\"line\":{\"color\":\"#d50000\",\"width\":5},\"mode\":\"lines\",\"visible\":false,\"x\":[1.0,0.0],\"y\":[3.0,9.0],\"z\":[0.0,0.0],\"type\":\"scatter3d\"},{\"cells\":{\"align\":[\"left\",\"right\",\"left\"],\"font\":{\"size\":14},\"height\":25,\"line\":{\"color\":\"#ffffff\",\"width\":1},\"values\":[[\"max\\u003cbr\\u003es.t.\\u003cbr\\u003e \\u003cbr\\u003e \",\"\\u003cb\\u003e(2)\\u003c\\u002fb\\u003e\",\"max\\u003cbr\\u003es.t.\\u003cbr\\u003e \\u003cbr\\u003e \"],[\"z\\u003cbr\\u003ex\\u003csub\\u003e2\\u003c\\u002fsub\\u003e\\u003cbr\\u003ex\\u003csub\\u003e4\\u003c\\u002fsub\\u003e\\u003cbr\\u003ex\\u003csub\\u003e6\\u003c\\u002fsub\\u003e\",\" \",\"z\\u003cbr\\u003ex\\u003csub\\u003e1\\u003c\\u002fsub\\u003e\\u003cbr\\u003ex\\u003csub\\u003e2\\u003c\\u002fsub\\u003e\\u003cbr\\u003ex\\u003csub\\u003e6\\u003c\\u002fsub\\u003e\"],[\"= 27 - 9x\\u003csub\\u003e1\\u003c\\u002fsub\\u003e + 1x\\u003csub\\u003e3\\u003c\\u002fsub\\u003e - 3x\\u003csub\\u003e5\\u003c\\u002fsub\\u003e\\u003cbr\\u003e= 9 - 6x\\u003csub\\u003e1\\u003c\\u002fsub\\u003e + 0x\\u003csub\\u003e3\\u003c\\u002fsub\\u003e - 1x\\u003csub\\u003e5\\u003c\\u002fsub\\u003e\\u003cbr\\u003e= 1 - 1x\\u003csub\\u003e1\\u003c\\u002fsub\\u003e + 0x\\u003csub\\u003e3\\u003c\\u002fsub\\u003e + 0x\\u003csub\\u003e5\\u003c\\u002fsub\\u003e\\u003cbr\\u003e= 27 + 18x\\u003csub\\u003e1\\u003c\\u002fsub\\u003e - 1x\\u003csub\\u003e3\\u003c\\u002fsub\\u003e + 6x\\u003csub\\u003e5\\u003c\\u002fsub\\u003e\",\" \",\"= 18 + 1x\\u003csub\\u003e3\\u003c\\u002fsub\\u003e + 9x\\u003csub\\u003e4\\u003c\\u002fsub\\u003e - 3x\\u003csub\\u003e5\\u003c\\u002fsub\\u003e\\u003cbr\\u003e= 1 + 0x\\u003csub\\u003e3\\u003c\\u002fsub\\u003e - 1x\\u003csub\\u003e4\\u003c\\u002fsub\\u003e + 0x\\u003csub\\u003e5\\u003c\\u002fsub\\u003e\\u003cbr\\u003e= 3 + 0x\\u003csub\\u003e3\\u003c\\u002fsub\\u003e + 6x\\u003csub\\u003e4\\u003c\\u002fsub\\u003e - 1x\\u003csub\\u003e5\\u003c\\u002fsub\\u003e\\u003cbr\\u003e= 45 - 1x\\u003csub\\u003e3\\u003c\\u002fsub\\u003e - 18x\\u003csub\\u003e4\\u003c\\u002fsub\\u003e + 6x\\u003csub\\u003e5\\u003c\\u002fsub\\u003e\"]]},\"columnwidth\":[0.13333333333333333,0.06666666666666667,0.8],\"header\":{\"align\":[\"left\",\"right\",\"left\"],\"font\":{\"size\":14},\"height\":25,\"line\":{\"color\":\"#ffffff\",\"width\":1},\"values\":[\"\\u003cb\\u003e(3)\\u003c\\u002fb\\u003e\",\" \",\" \"]},\"type\":\"table\",\"domain\":{\"x\":[0.6052631578947368,1.0],\"y\":[0.0,1.0]}},{\"cells\":{\"align\":[\"left\",\"right\",\"left\"],\"font\":{\"size\":14},\"height\":25,\"line\":{\"color\":\"#ffffff\",\"width\":1},\"values\":[[\"max\\u003cbr\\u003es.t.\\u003cbr\\u003e \\u003cbr\\u003e \"],[\"z\\u003cbr\\u003ex\\u003csub\\u003e2\\u003c\\u002fsub\\u003e\\u003cbr\\u003ex\\u003csub\\u003e4\\u003c\\u002fsub\\u003e\\u003cbr\\u003ex\\u003csub\\u003e6\\u003c\\u002fsub\\u003e\"],[\"= 27 - 9x\\u003csub\\u003e1\\u003c\\u002fsub\\u003e + 1x\\u003csub\\u003e3\\u003c\\u002fsub\\u003e - 3x\\u003csub\\u003e5\\u003c\\u002fsub\\u003e\\u003cbr\\u003e= 9 - 6x\\u003csub\\u003e1\\u003c\\u002fsub\\u003e + 0x\\u003csub\\u003e3\\u003c\\u002fsub\\u003e - 1x\\u003csub\\u003e5\\u003c\\u002fsub\\u003e\\u003cbr\\u003e= 1 - 1x\\u003csub\\u003e1\\u003c\\u002fsub\\u003e + 0x\\u003csub\\u003e3\\u003c\\u002fsub\\u003e + 0x\\u003csub\\u003e5\\u003c\\u002fsub\\u003e\\u003cbr\\u003e= 27 + 18x\\u003csub\\u003e1\\u003c\\u002fsub\\u003e - 1x\\u003csub\\u003e3\\u003c\\u002fsub\\u003e + 6x\\u003csub\\u003e5\\u003c\\u002fsub\\u003e\"]]},\"columnwidth\":[0.13333333333333333,0.06666666666666667,0.8],\"header\":{\"align\":[\"left\",\"right\",\"left\"],\"font\":{\"size\":14},\"height\":25,\"line\":{\"color\":\"#ffffff\",\"width\":1},\"values\":[\"\\u003cb\\u003e(3)\\u003c\\u002fb\\u003e\",\" \",\" \"]},\"type\":\"table\",\"domain\":{\"x\":[0.6052631578947368,1.0],\"y\":[0.0,1.0]}},{\"line\":{\"color\":\"#d50000\",\"width\":5},\"mode\":\"lines\",\"visible\":false,\"x\":[0.0,0.0],\"y\":[9.0,9.0],\"z\":[0.0,13.5],\"type\":\"scatter3d\"},{\"line\":{\"color\":\"#d50000\",\"width\":5},\"mode\":\"lines\",\"visible\":false,\"x\":[0.0,0.0],\"y\":[9.0,9.0],\"z\":[0.0,27.0],\"type\":\"scatter3d\"},{\"cells\":{\"align\":[\"left\",\"right\",\"left\"],\"font\":{\"size\":14},\"height\":25,\"line\":{\"color\":\"#ffffff\",\"width\":1},\"values\":[[\"max\\u003cbr\\u003es.t.\\u003cbr\\u003e \\u003cbr\\u003e \",\"\\u003cb\\u003e(3)\\u003c\\u002fb\\u003e\",\"max\\u003cbr\\u003es.t.\\u003cbr\\u003e \\u003cbr\\u003e \"],[\"z\\u003cbr\\u003ex\\u003csub\\u003e2\\u003c\\u002fsub\\u003e\\u003cbr\\u003ex\\u003csub\\u003e3\\u003c\\u002fsub\\u003e\\u003cbr\\u003ex\\u003csub\\u003e4\\u003c\\u002fsub\\u003e\",\" \",\"z\\u003cbr\\u003ex\\u003csub\\u003e2\\u003c\\u002fsub\\u003e\\u003cbr\\u003ex\\u003csub\\u003e4\\u003c\\u002fsub\\u003e\\u003cbr\\u003ex\\u003csub\\u003e6\\u003c\\u002fsub\\u003e\"],[\"= 54 + 9x\\u003csub\\u003e1\\u003c\\u002fsub\\u003e + 3x\\u003csub\\u003e5\\u003c\\u002fsub\\u003e - 1x\\u003csub\\u003e6\\u003c\\u002fsub\\u003e\\u003cbr\\u003e= 9 - 6x\\u003csub\\u003e1\\u003c\\u002fsub\\u003e - 1x\\u003csub\\u003e5\\u003c\\u002fsub\\u003e + 0x\\u003csub\\u003e6\\u003c\\u002fsub\\u003e\\u003cbr\\u003e= 27 + 18x\\u003csub\\u003e1\\u003c\\u002fsub\\u003e + 6x\\u003csub\\u003e5\\u003c\\u002fsub\\u003e - 1x\\u003csub\\u003e6\\u003c\\u002fsub\\u003e\\u003cbr\\u003e= 1 - 1x\\u003csub\\u003e1\\u003c\\u002fsub\\u003e + 0x\\u003csub\\u003e5\\u003c\\u002fsub\\u003e + 0x\\u003csub\\u003e6\\u003c\\u002fsub\\u003e\",\" \",\"= 27 - 9x\\u003csub\\u003e1\\u003c\\u002fsub\\u003e + 1x\\u003csub\\u003e3\\u003c\\u002fsub\\u003e - 3x\\u003csub\\u003e5\\u003c\\u002fsub\\u003e\\u003cbr\\u003e= 9 - 6x\\u003csub\\u003e1\\u003c\\u002fsub\\u003e + 0x\\u003csub\\u003e3\\u003c\\u002fsub\\u003e - 1x\\u003csub\\u003e5\\u003c\\u002fsub\\u003e\\u003cbr\\u003e= 1 - 1x\\u003csub\\u003e1\\u003c\\u002fsub\\u003e + 0x\\u003csub\\u003e3\\u003c\\u002fsub\\u003e + 0x\\u003csub\\u003e5\\u003c\\u002fsub\\u003e\\u003cbr\\u003e= 27 + 18x\\u003csub\\u003e1\\u003c\\u002fsub\\u003e - 1x\\u003csub\\u003e3\\u003c\\u002fsub\\u003e + 6x\\u003csub\\u003e5\\u003c\\u002fsub\\u003e\"]]},\"columnwidth\":[0.13333333333333333,0.06666666666666667,0.8],\"header\":{\"align\":[\"left\",\"right\",\"left\"],\"font\":{\"size\":14},\"height\":25,\"line\":{\"color\":\"#ffffff\",\"width\":1},\"values\":[\"\\u003cb\\u003e(4)\\u003c\\u002fb\\u003e\",\" \",\" \"]},\"type\":\"table\",\"domain\":{\"x\":[0.6052631578947368,1.0],\"y\":[0.0,1.0]}},{\"cells\":{\"align\":[\"left\",\"right\",\"left\"],\"font\":{\"size\":14},\"height\":25,\"line\":{\"color\":\"#ffffff\",\"width\":1},\"values\":[[\"max\\u003cbr\\u003es.t.\\u003cbr\\u003e \\u003cbr\\u003e \"],[\"z\\u003cbr\\u003ex\\u003csub\\u003e2\\u003c\\u002fsub\\u003e\\u003cbr\\u003ex\\u003csub\\u003e3\\u003c\\u002fsub\\u003e\\u003cbr\\u003ex\\u003csub\\u003e4\\u003c\\u002fsub\\u003e\"],[\"= 54 + 9x\\u003csub\\u003e1\\u003c\\u002fsub\\u003e + 3x\\u003csub\\u003e5\\u003c\\u002fsub\\u003e - 1x\\u003csub\\u003e6\\u003c\\u002fsub\\u003e\\u003cbr\\u003e= 9 - 6x\\u003csub\\u003e1\\u003c\\u002fsub\\u003e - 1x\\u003csub\\u003e5\\u003c\\u002fsub\\u003e + 0x\\u003csub\\u003e6\\u003c\\u002fsub\\u003e\\u003cbr\\u003e= 27 + 18x\\u003csub\\u003e1\\u003c\\u002fsub\\u003e + 6x\\u003csub\\u003e5\\u003c\\u002fsub\\u003e - 1x\\u003csub\\u003e6\\u003c\\u002fsub\\u003e\\u003cbr\\u003e= 1 - 1x\\u003csub\\u003e1\\u003c\\u002fsub\\u003e + 0x\\u003csub\\u003e5\\u003c\\u002fsub\\u003e + 0x\\u003csub\\u003e6\\u003c\\u002fsub\\u003e\"]]},\"columnwidth\":[0.13333333333333333,0.06666666666666667,0.8],\"header\":{\"align\":[\"left\",\"right\",\"left\"],\"font\":{\"size\":14},\"height\":25,\"line\":{\"color\":\"#ffffff\",\"width\":1},\"values\":[\"\\u003cb\\u003e(4)\\u003c\\u002fb\\u003e\",\" \",\" \"]},\"type\":\"table\",\"domain\":{\"x\":[0.6052631578947368,1.0],\"y\":[0.0,1.0]}},{\"line\":{\"color\":\"#d50000\",\"width\":5},\"mode\":\"lines\",\"visible\":false,\"x\":[0.0,0.5],\"y\":[9.0,6.0],\"z\":[27.0,36.0],\"type\":\"scatter3d\"},{\"line\":{\"color\":\"#d50000\",\"width\":5},\"mode\":\"lines\",\"visible\":false,\"x\":[0.0,1.0],\"y\":[9.0,3.0],\"z\":[27.0,45.0],\"type\":\"scatter3d\"},{\"cells\":{\"align\":[\"left\",\"right\",\"left\"],\"font\":{\"size\":14},\"height\":25,\"line\":{\"color\":\"#ffffff\",\"width\":1},\"values\":[[\"max\\u003cbr\\u003es.t.\\u003cbr\\u003e \\u003cbr\\u003e \",\"\\u003cb\\u003e(4)\\u003c\\u002fb\\u003e\",\"max\\u003cbr\\u003es.t.\\u003cbr\\u003e \\u003cbr\\u003e \"],[\"z\\u003cbr\\u003ex\\u003csub\\u003e1\\u003c\\u002fsub\\u003e\\u003cbr\\u003ex\\u003csub\\u003e2\\u003c\\u002fsub\\u003e\\u003cbr\\u003ex\\u003csub\\u003e3\\u003c\\u002fsub\\u003e\",\" \",\"z\\u003cbr\\u003ex\\u003csub\\u003e2\\u003c\\u002fsub\\u003e\\u003cbr\\u003ex\\u003csub\\u003e3\\u003c\\u002fsub\\u003e\\u003cbr\\u003ex\\u003csub\\u003e4\\u003c\\u002fsub\\u003e\"],[\"= 63 - 9x\\u003csub\\u003e4\\u003c\\u002fsub\\u003e + 3x\\u003csub\\u003e5\\u003c\\u002fsub\\u003e - 1x\\u003csub\\u003e6\\u003c\\u002fsub\\u003e\\u003cbr\\u003e= 1 - 1x\\u003csub\\u003e4\\u003c\\u002fsub\\u003e + 0x\\u003csub\\u003e5\\u003c\\u002fsub\\u003e + 0x\\u003csub\\u003e6\\u003c\\u002fsub\\u003e\\u003cbr\\u003e= 3 + 6x\\u003csub\\u003e4\\u003c\\u002fsub\\u003e - 1x\\u003csub\\u003e5\\u003c\\u002fsub\\u003e + 0x\\u003csub\\u003e6\\u003c\\u002fsub\\u003e\\u003cbr\\u003e= 45 - 18x\\u003csub\\u003e4\\u003c\\u002fsub\\u003e + 6x\\u003csub\\u003e5\\u003c\\u002fsub\\u003e - 1x\\u003csub\\u003e6\\u003c\\u002fsub\\u003e\",\" \",\"= 54 + 9x\\u003csub\\u003e1\\u003c\\u002fsub\\u003e + 3x\\u003csub\\u003e5\\u003c\\u002fsub\\u003e - 1x\\u003csub\\u003e6\\u003c\\u002fsub\\u003e\\u003cbr\\u003e= 9 - 6x\\u003csub\\u003e1\\u003c\\u002fsub\\u003e - 1x\\u003csub\\u003e5\\u003c\\u002fsub\\u003e + 0x\\u003csub\\u003e6\\u003c\\u002fsub\\u003e\\u003cbr\\u003e= 27 + 18x\\u003csub\\u003e1\\u003c\\u002fsub\\u003e + 6x\\u003csub\\u003e5\\u003c\\u002fsub\\u003e - 1x\\u003csub\\u003e6\\u003c\\u002fsub\\u003e\\u003cbr\\u003e= 1 - 1x\\u003csub\\u003e1\\u003c\\u002fsub\\u003e + 0x\\u003csub\\u003e5\\u003c\\u002fsub\\u003e + 0x\\u003csub\\u003e6\\u003c\\u002fsub\\u003e\"]]},\"columnwidth\":[0.13333333333333333,0.06666666666666667,0.8],\"header\":{\"align\":[\"left\",\"right\",\"left\"],\"font\":{\"size\":14},\"height\":25,\"line\":{\"color\":\"#ffffff\",\"width\":1},\"values\":[\"\\u003cb\\u003e(5)\\u003c\\u002fb\\u003e\",\" \",\" \"]},\"type\":\"table\",\"domain\":{\"x\":[0.6052631578947368,1.0],\"y\":[0.0,1.0]}},{\"cells\":{\"align\":[\"left\",\"right\",\"left\"],\"font\":{\"size\":14},\"height\":25,\"line\":{\"color\":\"#ffffff\",\"width\":1},\"values\":[[\"max\\u003cbr\\u003es.t.\\u003cbr\\u003e \\u003cbr\\u003e \"],[\"z\\u003cbr\\u003ex\\u003csub\\u003e1\\u003c\\u002fsub\\u003e\\u003cbr\\u003ex\\u003csub\\u003e2\\u003c\\u002fsub\\u003e\\u003cbr\\u003ex\\u003csub\\u003e3\\u003c\\u002fsub\\u003e\"],[\"= 63 - 9x\\u003csub\\u003e4\\u003c\\u002fsub\\u003e + 3x\\u003csub\\u003e5\\u003c\\u002fsub\\u003e - 1x\\u003csub\\u003e6\\u003c\\u002fsub\\u003e\\u003cbr\\u003e= 1 - 1x\\u003csub\\u003e4\\u003c\\u002fsub\\u003e + 0x\\u003csub\\u003e5\\u003c\\u002fsub\\u003e + 0x\\u003csub\\u003e6\\u003c\\u002fsub\\u003e\\u003cbr\\u003e= 3 + 6x\\u003csub\\u003e4\\u003c\\u002fsub\\u003e - 1x\\u003csub\\u003e5\\u003c\\u002fsub\\u003e + 0x\\u003csub\\u003e6\\u003c\\u002fsub\\u003e\\u003cbr\\u003e= 45 - 18x\\u003csub\\u003e4\\u003c\\u002fsub\\u003e + 6x\\u003csub\\u003e5\\u003c\\u002fsub\\u003e - 1x\\u003csub\\u003e6\\u003c\\u002fsub\\u003e\"]]},\"columnwidth\":[0.13333333333333333,0.06666666666666667,0.8],\"header\":{\"align\":[\"left\",\"right\",\"left\"],\"font\":{\"size\":14},\"height\":25,\"line\":{\"color\":\"#ffffff\",\"width\":1},\"values\":[\"\\u003cb\\u003e(5)\\u003c\\u002fb\\u003e\",\" \",\" \"]},\"type\":\"table\",\"domain\":{\"x\":[0.6052631578947368,1.0],\"y\":[0.0,1.0]}},{\"line\":{\"color\":\"#d50000\",\"width\":5},\"mode\":\"lines\",\"visible\":false,\"x\":[1.0,1.0],\"y\":[3.0,1.5],\"z\":[45.0,54.0],\"type\":\"scatter3d\"},{\"line\":{\"color\":\"#d50000\",\"width\":5},\"mode\":\"lines\",\"visible\":false,\"x\":[1.0,1.0],\"y\":[3.0,0.0],\"z\":[45.0,63.0],\"type\":\"scatter3d\"},{\"cells\":{\"align\":[\"left\",\"right\",\"left\"],\"font\":{\"size\":14},\"height\":25,\"line\":{\"color\":\"#ffffff\",\"width\":1},\"values\":[[\"max\\u003cbr\\u003es.t.\\u003cbr\\u003e \\u003cbr\\u003e \",\"\\u003cb\\u003e(5)\\u003c\\u002fb\\u003e\",\"max\\u003cbr\\u003es.t.\\u003cbr\\u003e \\u003cbr\\u003e \"],[\"z\\u003cbr\\u003ex\\u003csub\\u003e1\\u003c\\u002fsub\\u003e\\u003cbr\\u003ex\\u003csub\\u003e3\\u003c\\u002fsub\\u003e\\u003cbr\\u003ex\\u003csub\\u003e5\\u003c\\u002fsub\\u003e\",\" \",\"z\\u003cbr\\u003ex\\u003csub\\u003e1\\u003c\\u002fsub\\u003e\\u003cbr\\u003ex\\u003csub\\u003e2\\u003c\\u002fsub\\u003e\\u003cbr\\u003ex\\u003csub\\u003e3\\u003c\\u002fsub\\u003e\"],[\"= 72 - 3x\\u003csub\\u003e2\\u003c\\u002fsub\\u003e + 9x\\u003csub\\u003e4\\u003c\\u002fsub\\u003e - 1x\\u003csub\\u003e6\\u003c\\u002fsub\\u003e\\u003cbr\\u003e= 1 + 0x\\u003csub\\u003e2\\u003c\\u002fsub\\u003e - 1x\\u003csub\\u003e4\\u003c\\u002fsub\\u003e + 0x\\u003csub\\u003e6\\u003c\\u002fsub\\u003e\\u003cbr\\u003e= 63 - 6x\\u003csub\\u003e2\\u003c\\u002fsub\\u003e + 18x\\u003csub\\u003e4\\u003c\\u002fsub\\u003e - 1x\\u003csub\\u003e6\\u003c\\u002fsub\\u003e\\u003cbr\\u003e= 3 - 1x\\u003csub\\u003e2\\u003c\\u002fsub\\u003e + 6x\\u003csub\\u003e4\\u003c\\u002fsub\\u003e + 0x\\u003csub\\u003e6\\u003c\\u002fsub\\u003e\",\" \",\"= 63 - 9x\\u003csub\\u003e4\\u003c\\u002fsub\\u003e + 3x\\u003csub\\u003e5\\u003c\\u002fsub\\u003e - 1x\\u003csub\\u003e6\\u003c\\u002fsub\\u003e\\u003cbr\\u003e= 1 - 1x\\u003csub\\u003e4\\u003c\\u002fsub\\u003e + 0x\\u003csub\\u003e5\\u003c\\u002fsub\\u003e + 0x\\u003csub\\u003e6\\u003c\\u002fsub\\u003e\\u003cbr\\u003e= 3 + 6x\\u003csub\\u003e4\\u003c\\u002fsub\\u003e - 1x\\u003csub\\u003e5\\u003c\\u002fsub\\u003e + 0x\\u003csub\\u003e6\\u003c\\u002fsub\\u003e\\u003cbr\\u003e= 45 - 18x\\u003csub\\u003e4\\u003c\\u002fsub\\u003e + 6x\\u003csub\\u003e5\\u003c\\u002fsub\\u003e - 1x\\u003csub\\u003e6\\u003c\\u002fsub\\u003e\"]]},\"columnwidth\":[0.13333333333333333,0.06666666666666667,0.8],\"header\":{\"align\":[\"left\",\"right\",\"left\"],\"font\":{\"size\":14},\"height\":25,\"line\":{\"color\":\"#ffffff\",\"width\":1},\"values\":[\"\\u003cb\\u003e(6)\\u003c\\u002fb\\u003e\",\" \",\" \"]},\"type\":\"table\",\"domain\":{\"x\":[0.6052631578947368,1.0],\"y\":[0.0,1.0]}},{\"cells\":{\"align\":[\"left\",\"right\",\"left\"],\"font\":{\"size\":14},\"height\":25,\"line\":{\"color\":\"#ffffff\",\"width\":1},\"values\":[[\"max\\u003cbr\\u003es.t.\\u003cbr\\u003e \\u003cbr\\u003e \"],[\"z\\u003cbr\\u003ex\\u003csub\\u003e1\\u003c\\u002fsub\\u003e\\u003cbr\\u003ex\\u003csub\\u003e3\\u003c\\u002fsub\\u003e\\u003cbr\\u003ex\\u003csub\\u003e5\\u003c\\u002fsub\\u003e\"],[\"= 72 - 3x\\u003csub\\u003e2\\u003c\\u002fsub\\u003e + 9x\\u003csub\\u003e4\\u003c\\u002fsub\\u003e - 1x\\u003csub\\u003e6\\u003c\\u002fsub\\u003e\\u003cbr\\u003e= 1 + 0x\\u003csub\\u003e2\\u003c\\u002fsub\\u003e - 1x\\u003csub\\u003e4\\u003c\\u002fsub\\u003e + 0x\\u003csub\\u003e6\\u003c\\u002fsub\\u003e\\u003cbr\\u003e= 63 - 6x\\u003csub\\u003e2\\u003c\\u002fsub\\u003e + 18x\\u003csub\\u003e4\\u003c\\u002fsub\\u003e - 1x\\u003csub\\u003e6\\u003c\\u002fsub\\u003e\\u003cbr\\u003e= 3 - 1x\\u003csub\\u003e2\\u003c\\u002fsub\\u003e + 6x\\u003csub\\u003e4\\u003c\\u002fsub\\u003e + 0x\\u003csub\\u003e6\\u003c\\u002fsub\\u003e\"]]},\"columnwidth\":[0.13333333333333333,0.06666666666666667,0.8],\"header\":{\"align\":[\"left\",\"right\",\"left\"],\"font\":{\"size\":14},\"height\":25,\"line\":{\"color\":\"#ffffff\",\"width\":1},\"values\":[\"\\u003cb\\u003e(6)\\u003c\\u002fb\\u003e\",\" \",\" \"]},\"type\":\"table\",\"domain\":{\"x\":[0.6052631578947368,1.0],\"y\":[0.0,1.0]}},{\"line\":{\"color\":\"#d50000\",\"width\":5},\"mode\":\"lines\",\"visible\":false,\"x\":[1.0,0.5],\"y\":[0.0,0.0],\"z\":[63.0,72.0],\"type\":\"scatter3d\"},{\"line\":{\"color\":\"#d50000\",\"width\":5},\"mode\":\"lines\",\"visible\":false,\"x\":[1.0,0.0],\"y\":[0.0,0.0],\"z\":[63.0,81.0],\"type\":\"scatter3d\"},{\"cells\":{\"align\":[\"left\",\"right\",\"left\"],\"font\":{\"size\":14},\"height\":25,\"line\":{\"color\":\"#ffffff\",\"width\":1},\"values\":[[\"max\\u003cbr\\u003es.t.\\u003cbr\\u003e \\u003cbr\\u003e \",\"\\u003cb\\u003e(6)\\u003c\\u002fb\\u003e\",\"max\\u003cbr\\u003es.t.\\u003cbr\\u003e \\u003cbr\\u003e \"],[\"z\\u003cbr\\u003ex\\u003csub\\u003e3\\u003c\\u002fsub\\u003e\\u003cbr\\u003ex\\u003csub\\u003e4\\u003c\\u002fsub\\u003e\\u003cbr\\u003ex\\u003csub\\u003e5\\u003c\\u002fsub\\u003e\",\" \",\"z\\u003cbr\\u003ex\\u003csub\\u003e1\\u003c\\u002fsub\\u003e\\u003cbr\\u003ex\\u003csub\\u003e3\\u003c\\u002fsub\\u003e\\u003cbr\\u003ex\\u003csub\\u003e5\\u003c\\u002fsub\\u003e\"],[\"= 81 - 9x\\u003csub\\u003e1\\u003c\\u002fsub\\u003e - 3x\\u003csub\\u003e2\\u003c\\u002fsub\\u003e - 1x\\u003csub\\u003e6\\u003c\\u002fsub\\u003e\\u003cbr\\u003e= 81 - 18x\\u003csub\\u003e1\\u003c\\u002fsub\\u003e - 6x\\u003csub\\u003e2\\u003c\\u002fsub\\u003e - 1x\\u003csub\\u003e6\\u003c\\u002fsub\\u003e\\u003cbr\\u003e= 1 - 1x\\u003csub\\u003e1\\u003c\\u002fsub\\u003e + 0x\\u003csub\\u003e2\\u003c\\u002fsub\\u003e + 0x\\u003csub\\u003e6\\u003c\\u002fsub\\u003e\\u003cbr\\u003e= 9 - 6x\\u003csub\\u003e1\\u003c\\u002fsub\\u003e - 1x\\u003csub\\u003e2\\u003c\\u002fsub\\u003e + 0x\\u003csub\\u003e6\\u003c\\u002fsub\\u003e\",\" \",\"= 72 - 3x\\u003csub\\u003e2\\u003c\\u002fsub\\u003e + 9x\\u003csub\\u003e4\\u003c\\u002fsub\\u003e - 1x\\u003csub\\u003e6\\u003c\\u002fsub\\u003e\\u003cbr\\u003e= 1 + 0x\\u003csub\\u003e2\\u003c\\u002fsub\\u003e - 1x\\u003csub\\u003e4\\u003c\\u002fsub\\u003e + 0x\\u003csub\\u003e6\\u003c\\u002fsub\\u003e\\u003cbr\\u003e= 63 - 6x\\u003csub\\u003e2\\u003c\\u002fsub\\u003e + 18x\\u003csub\\u003e4\\u003c\\u002fsub\\u003e - 1x\\u003csub\\u003e6\\u003c\\u002fsub\\u003e\\u003cbr\\u003e= 3 - 1x\\u003csub\\u003e2\\u003c\\u002fsub\\u003e + 6x\\u003csub\\u003e4\\u003c\\u002fsub\\u003e + 0x\\u003csub\\u003e6\\u003c\\u002fsub\\u003e\"]]},\"columnwidth\":[0.13333333333333333,0.06666666666666667,0.8],\"header\":{\"align\":[\"left\",\"right\",\"left\"],\"font\":{\"size\":14},\"height\":25,\"line\":{\"color\":\"#ffffff\",\"width\":1},\"values\":[\"\\u003cb\\u003e(7)\\u003c\\u002fb\\u003e\",\" \",\" \"]},\"type\":\"table\",\"domain\":{\"x\":[0.6052631578947368,1.0],\"y\":[0.0,1.0]}},{\"cells\":{\"align\":[\"left\",\"right\",\"left\"],\"font\":{\"size\":14},\"height\":25,\"line\":{\"color\":\"#ffffff\",\"width\":1},\"values\":[[\"max\\u003cbr\\u003es.t.\\u003cbr\\u003e \\u003cbr\\u003e \"],[\"z\\u003cbr\\u003ex\\u003csub\\u003e3\\u003c\\u002fsub\\u003e\\u003cbr\\u003ex\\u003csub\\u003e4\\u003c\\u002fsub\\u003e\\u003cbr\\u003ex\\u003csub\\u003e5\\u003c\\u002fsub\\u003e\"],[\"= 81 - 9x\\u003csub\\u003e1\\u003c\\u002fsub\\u003e - 3x\\u003csub\\u003e2\\u003c\\u002fsub\\u003e - 1x\\u003csub\\u003e6\\u003c\\u002fsub\\u003e\\u003cbr\\u003e= 81 - 18x\\u003csub\\u003e1\\u003c\\u002fsub\\u003e - 6x\\u003csub\\u003e2\\u003c\\u002fsub\\u003e - 1x\\u003csub\\u003e6\\u003c\\u002fsub\\u003e\\u003cbr\\u003e= 1 - 1x\\u003csub\\u003e1\\u003c\\u002fsub\\u003e + 0x\\u003csub\\u003e2\\u003c\\u002fsub\\u003e + 0x\\u003csub\\u003e6\\u003c\\u002fsub\\u003e\\u003cbr\\u003e= 9 - 6x\\u003csub\\u003e1\\u003c\\u002fsub\\u003e - 1x\\u003csub\\u003e2\\u003c\\u002fsub\\u003e + 0x\\u003csub\\u003e6\\u003c\\u002fsub\\u003e\"]]},\"columnwidth\":[0.13333333333333333,0.06666666666666667,0.8],\"header\":{\"align\":[\"left\",\"right\",\"left\"],\"font\":{\"size\":14},\"height\":25,\"line\":{\"color\":\"#ffffff\",\"width\":1},\"values\":[\"\\u003cb\\u003e(7)\\u003c\\u002fb\\u003e\",\" \",\" \"]},\"type\":\"table\",\"domain\":{\"x\":[0.6052631578947368,1.0],\"y\":[0.0,1.0]}},{\"x\":[0.0],\"y\":[0.0],\"z\":[0.0],\"type\":\"scatter3d\"},{\"marker\":{\"color\":\"#d50000\",\"symbol\":\"circle\"},\"x\":[0.0],\"y\":[0.0],\"z\":[81.0],\"type\":\"scatter3d\"}],                        {\"template\":{\"data\":{\"scatter3d\":[{\"hoverinfo\":\"none\",\"line\":{\"color\":\"#1565c0\",\"width\":6},\"marker\":{\"color\":\"#ff5131\",\"line\":{\"color\":\"#d50000\",\"width\":1},\"opacity\":0.99,\"size\":5,\"symbol\":\"circle-open\"},\"mode\":\"markers\",\"showlegend\":false,\"surfacecolor\":\"#5e92f3\",\"visible\":true,\"type\":\"scatter3d\"}],\"scatter\":[{\"cliponaxis\":false,\"fillcolor\":\"#1565c0\",\"hoverinfo\":\"none\",\"line\":{\"color\":\"#1469FE\",\"width\":4},\"marker\":{\"color\":\"#ffffff\",\"line\":{\"color\":\"#d50000\",\"width\":2},\"opacity\":0.99,\"size\":9},\"mode\":\"markers\",\"showlegend\":false,\"visible\":true,\"type\":\"scatter\"},{\"cliponaxis\":false,\"fillcolor\":\"#1565c0\",\"hoverinfo\":\"none\",\"line\":{\"color\":\"#9495A6\",\"width\":4},\"marker\":{\"color\":\"#ffffff\",\"line\":{\"color\":\"#d50000\",\"width\":2},\"opacity\":0.99,\"size\":9},\"mode\":\"markers\",\"showlegend\":false,\"visible\":true,\"type\":\"scatter\"},{\"cliponaxis\":false,\"fillcolor\":\"#1565c0\",\"hoverinfo\":\"none\",\"line\":{\"color\":\"#DC0000\",\"width\":4},\"marker\":{\"color\":\"#ffffff\",\"line\":{\"color\":\"#d50000\",\"width\":2},\"opacity\":0.99,\"size\":9},\"mode\":\"markers\",\"showlegend\":false,\"visible\":true,\"type\":\"scatter\"},{\"cliponaxis\":false,\"fillcolor\":\"#1565c0\",\"hoverinfo\":\"none\",\"line\":{\"color\":\"#173D90\",\"width\":4},\"marker\":{\"color\":\"#ffffff\",\"line\":{\"color\":\"#d50000\",\"width\":2},\"opacity\":0.99,\"size\":9},\"mode\":\"markers\",\"showlegend\":false,\"visible\":true,\"type\":\"scatter\"},{\"cliponaxis\":false,\"fillcolor\":\"#1565c0\",\"hoverinfo\":\"none\",\"line\":{\"color\":\"#65ADFF\",\"width\":4},\"marker\":{\"color\":\"#ffffff\",\"line\":{\"color\":\"#d50000\",\"width\":2},\"opacity\":0.99,\"size\":9},\"mode\":\"markers\",\"showlegend\":false,\"visible\":true,\"type\":\"scatter\"}],\"table\":[{\"cells\":{\"fill\":{\"color\":\"#ffffff\"},\"font\":{\"color\":[[\"black\",\"#d50000\",\"black\"],[\"black\",\"black\",\"black\"]]}},\"header\":{\"fill\":{\"color\":\"#ffffff\"},\"font\":{\"color\":[\"#d50000\",\"black\"]}},\"visible\":false,\"type\":\"table\"}]},\"layout\":{\"annotations\":[{\"align\":\"center\",\"ax\":0,\"ay\":0,\"bgcolor\":\"#45568B\",\"bordercolor\":\"#404040\",\"borderpad\":3,\"borderwidth\":2,\"font\":{\"color\":\"#ffffff\",\"size\":12},\"name\":\"current\",\"visible\":false},{\"align\":\"center\",\"ax\":0,\"ay\":0,\"bgcolor\":\"#d8e4f9\",\"bordercolor\":\"#404040\",\"borderpad\":3,\"borderwidth\":2,\"font\":{\"color\":\"#404040\",\"size\":12},\"name\":\"explored\",\"visible\":false},{\"align\":\"center\",\"ax\":0,\"ay\":0,\"bgcolor\":\"#ffffff\",\"bordercolor\":\"#404040\",\"borderpad\":3,\"borderwidth\":2,\"font\":{\"color\":\"#404040\",\"size\":12},\"name\":\"unexplored\",\"visible\":false}],\"clickmode\":\"none\",\"dragmode\":\"turntable\",\"font\":{\"color\":\"#404040\",\"family\":\"Arial\"},\"height\":500,\"hovermode\":\"closest\",\"legend\":{\"font\":{\"size\":13},\"title\":{\"font\":{\"size\":14},\"text\":\"\\u003cb\\u003eConstraint(s)\\u003c\\u002fb\\u003e\"},\"x\":0.39473684210526316,\"xanchor\":\"left\",\"y\":1,\"yanchor\":\"top\"},\"margin\":{\"b\":0,\"l\":0,\"r\":0,\"t\":33},\"paper_bgcolor\":\"#ffffff\",\"plot_bgcolor\":\"#ffffff\",\"scene\":{\"aspectmode\":\"cube\",\"domain\":{\"x\":[0,0.39473684210526316],\"y\":[0,1]},\"xaxis\":{\"backgroundcolor\":\"#ffffff\",\"gridcolor\":\"#DFDFDF\",\"gridwidth\":2,\"linecolor\":\"#404040\",\"rangemode\":\"tozero\",\"showbackground\":true,\"showspikes\":false,\"ticks\":\"\",\"title\":{\"text\":\"x\\u003csub\\u003e1\\u003c\\u002fsub\\u003e\"},\"zerolinecolor\":\"white\"},\"yaxis\":{\"backgroundcolor\":\"#ffffff\",\"gridcolor\":\"#DFDFDF\",\"gridwidth\":2,\"linecolor\":\"#404040\",\"rangemode\":\"tozero\",\"showbackground\":true,\"showspikes\":false,\"ticks\":\"\",\"title\":{\"text\":\"x\\u003csub\\u003e2\\u003c\\u002fsub\\u003e\"},\"zerolinecolor\":\"white\"},\"zaxis\":{\"backgroundcolor\":\"#ffffff\",\"gridcolor\":\"#DFDFDF\",\"gridwidth\":2,\"linecolor\":\"#404040\",\"rangemode\":\"tozero\",\"showbackground\":true,\"showspikes\":false,\"ticks\":\"\",\"title\":{\"text\":\"x\\u003csub\\u003e3\\u003c\\u002fsub\\u003e\"},\"zerolinecolor\":\"white\"}},\"width\":950}},\"scene\":{\"domain\":{\"x\":[0.0,0.39473684210526316],\"y\":[0.0,1.0]},\"xaxis\":{\"range\":[0,1.3]},\"yaxis\":{\"range\":[0,11.700000000000001]},\"zaxis\":{\"range\":[0,105.3]}},\"xaxis\":{\"domain\":[0.5,1],\"range\":[0,1],\"visible\":false},\"yaxis\":{\"domain\":[0.15,1],\"range\":[0,1],\"visible\":false},\"sliders\":[{\"active\":0,\"currentvalue\":{\"prefix\":\"Objective Value: \"},\"len\":0.39473684210526316,\"lenmode\":\"fraction\",\"steps\":[{\"args\":[{\"visible\":[false,null,null,null,null,null,null,null,\"legendonly\",\"legendonly\",\"legendonly\",true,true,false,false,false,false,false,false,false,false,false,false,false,false,false,false,false,false,false,false,false,false,false,false,false,false,false,false,false,false,false,false,false,false,false,false,false,false,false,false,false,false,false,false,false,false,false,false,false,false,false,false,false,false,false,false,false,false,false,false,false,false,false,false,false,false,false,false,false,false,false]}],\"label\":\"0.0\",\"method\":\"update\"},{\"args\":[{\"visible\":[false,null,null,null,null,null,null,null,\"legendonly\",\"legendonly\",\"legendonly\",false,false,true,true,false,false,false,false,false,false,false,false,false,false,false,false,false,false,false,false,false,false,false,false,false,false,false,false,false,false,false,false,false,false,false,false,false,false,false,false,false,false,false,false,false,false,false,false,false,false,false,false,false,false,false,false,false,false,false,false,false,false,false,false,false,false,false,false,false,false,false]}],\"label\":\"6.34\",\"method\":\"update\"},{\"args\":[{\"visible\":[false,null,null,null,null,null,null,null,\"legendonly\",\"legendonly\",\"legendonly\",false,false,false,false,true,true,false,false,false,false,false,false,false,false,false,false,false,false,false,false,false,false,false,false,false,false,false,false,false,false,false,false,false,false,false,false,false,false,false,false,false,false,false,false,false,false,false,false,false,false,false,false,false,false,false,false,false,false,false,false,false,false,false,false,false,false,false,false,false,false,false]}],\"label\":\"12.68\",\"method\":\"update\"},{\"args\":[{\"visible\":[false,null,null,null,null,null,null,null,\"legendonly\",\"legendonly\",\"legendonly\",false,false,false,false,false,false,true,true,false,false,false,false,false,false,false,false,false,false,false,false,false,false,false,false,false,false,false,false,false,false,false,false,false,false,false,false,false,false,false,false,false,false,false,false,false,false,false,false,false,false,false,false,false,false,false,false,false,false,false,false,false,false,false,false,false,false,false,false,false,false,false]}],\"label\":\"19.01\",\"method\":\"update\"},{\"args\":[{\"visible\":[false,null,null,null,null,null,null,null,\"legendonly\",\"legendonly\",\"legendonly\",false,false,false,false,false,false,false,false,true,true,false,false,false,false,false,false,false,false,false,false,false,false,false,false,false,false,false,false,false,false,false,false,false,false,false,false,false,false,false,false,false,false,false,false,false,false,false,false,false,false,false,false,false,false,false,false,false,false,false,false,false,false,false,false,false,false,false,false,false,false,false]}],\"label\":\"25.35\",\"method\":\"update\"},{\"args\":[{\"visible\":[false,null,null,null,null,null,null,null,\"legendonly\",\"legendonly\",\"legendonly\",false,false,false,false,false,false,false,false,false,false,true,true,false,false,false,false,false,false,false,false,false,false,false,false,false,false,false,false,false,false,false,false,false,false,false,false,false,false,false,false,false,false,false,false,false,false,false,false,false,false,false,false,false,false,false,false,false,false,false,false,false,false,false,false,false,false,false,false,false,false,false]}],\"label\":\"31.69\",\"method\":\"update\"},{\"args\":[{\"visible\":[false,null,null,null,null,null,null,null,\"legendonly\",\"legendonly\",\"legendonly\",false,false,false,false,false,false,false,false,false,false,false,false,true,true,false,false,false,false,false,false,false,false,false,false,false,false,false,false,false,false,false,false,false,false,false,false,false,false,false,false,false,false,false,false,false,false,false,false,false,false,false,false,false,false,false,false,false,false,false,false,false,false,false,false,false,false,false,false,false,false,false]}],\"label\":\"38.02\",\"method\":\"update\"},{\"args\":[{\"visible\":[false,null,null,null,null,null,null,null,\"legendonly\",\"legendonly\",\"legendonly\",false,false,false,false,false,false,false,false,false,false,false,false,false,false,true,true,false,false,false,false,false,false,false,false,false,false,false,false,false,false,false,false,false,false,false,false,false,false,false,false,false,false,false,false,false,false,false,false,false,false,false,false,false,false,false,false,false,false,false,false,false,false,false,false,false,false,false,false,false,false,false]}],\"label\":\"44.36\",\"method\":\"update\"},{\"args\":[{\"visible\":[false,null,null,null,null,null,null,null,\"legendonly\",\"legendonly\",\"legendonly\",false,false,false,false,false,false,false,false,false,false,false,false,false,false,false,false,true,true,false,false,false,false,false,false,false,false,false,false,false,false,false,false,false,false,false,false,false,false,false,false,false,false,false,false,false,false,false,false,false,false,false,false,false,false,false,false,false,false,false,false,false,false,false,false,false,false,false,false,false,false,false]}],\"label\":\"50.7\",\"method\":\"update\"},{\"args\":[{\"visible\":[false,null,null,null,null,null,null,null,\"legendonly\",\"legendonly\",\"legendonly\",false,false,false,false,false,false,false,false,false,false,false,false,false,false,false,false,false,false,true,true,false,false,false,false,false,false,false,false,false,false,false,false,false,false,false,false,false,false,false,false,false,false,false,false,false,false,false,false,false,false,false,false,false,false,false,false,false,false,false,false,false,false,false,false,false,false,false,false,false,false,false]}],\"label\":\"57.04\",\"method\":\"update\"},{\"args\":[{\"visible\":[false,null,null,null,null,null,null,null,\"legendonly\",\"legendonly\",\"legendonly\",false,false,false,false,false,false,false,false,false,false,false,false,false,false,false,false,false,false,false,false,true,true,false,false,false,false,false,false,false,false,false,false,false,false,false,false,false,false,false,false,false,false,false,false,false,false,false,false,false,false,false,false,false,false,false,false,false,false,false,false,false,false,false,false,false,false,false,false,false,false,false]}],\"label\":\"63.37\",\"method\":\"update\"},{\"args\":[{\"visible\":[false,null,null,null,null,null,null,null,\"legendonly\",\"legendonly\",\"legendonly\",false,false,false,false,false,false,false,false,false,false,false,false,false,false,false,false,false,false,false,false,false,false,true,true,false,false,false,false,false,false,false,false,false,false,false,false,false,false,false,false,false,false,false,false,false,false,false,false,false,false,false,false,false,false,false,false,false,false,false,false,false,false,false,false,false,false,false,false,false,false,false]}],\"label\":\"69.71\",\"method\":\"update\"},{\"args\":[{\"visible\":[false,null,null,null,null,null,null,null,\"legendonly\",\"legendonly\",\"legendonly\",false,false,false,false,false,false,false,false,false,false,false,false,false,false,false,false,false,false,false,false,false,false,false,false,true,true,false,false,false,false,false,false,false,false,false,false,false,false,false,false,false,false,false,false,false,false,false,false,false,false,false,false,false,false,false,false,false,false,false,false,false,false,false,false,false,false,false,false,false,false,false]}],\"label\":\"76.05\",\"method\":\"update\"},{\"args\":[{\"visible\":[false,null,null,null,null,null,null,null,\"legendonly\",\"legendonly\",\"legendonly\",false,false,false,false,false,false,false,false,false,false,false,false,false,false,false,false,false,false,false,false,false,false,false,false,false,false,true,true,false,false,false,false,false,false,false,false,false,false,false,false,false,false,false,false,false,false,false,false,false,false,false,false,false,false,false,false,false,false,false,false,false,false,false,false,false,false,false,false,false,false,false]}],\"label\":\"81.0\",\"method\":\"update\"},{\"args\":[{\"visible\":[false,null,null,null,null,null,null,null,\"legendonly\",\"legendonly\",\"legendonly\",false,false,false,false,false,false,false,false,false,false,false,false,false,false,false,false,false,false,false,false,false,false,false,false,false,false,false,false,true,false,false,false,false,false,false,false,false,false,false,false,false,false,false,false,false,false,false,false,false,false,false,false,false,false,false,false,false,false,false,false,false,false,false,false,false,false,false,false,false,false,false]}],\"label\":\"82.39\",\"method\":\"update\"},{\"args\":[{\"visible\":[false,null,null,null,null,null,null,null,\"legendonly\",\"legendonly\",\"legendonly\",false,false,false,false,false,false,false,false,false,false,false,false,false,false,false,false,false,false,false,false,false,false,false,false,false,false,false,false,false,true,false,false,false,false,false,false,false,false,false,false,false,false,false,false,false,false,false,false,false,false,false,false,false,false,false,false,false,false,false,false,false,false,false,false,false,false,false,false,false,false,false]}],\"label\":\"88.72\",\"method\":\"update\"},{\"args\":[{\"visible\":[false,null,null,null,null,null,null,null,\"legendonly\",\"legendonly\",\"legendonly\",false,false,false,false,false,false,false,false,false,false,false,false,false,false,false,false,false,false,false,false,false,false,false,false,false,false,false,false,false,false,true,false,false,false,false,false,false,false,false,false,false,false,false,false,false,false,false,false,false,false,false,false,false,false,false,false,false,false,false,false,false,false,false,false,false,false,false,false,false,false,false]}],\"label\":\"95.06\",\"method\":\"update\"},{\"args\":[{\"visible\":[false,null,null,null,null,null,null,null,\"legendonly\",\"legendonly\",\"legendonly\",false,false,false,false,false,false,false,false,false,false,false,false,false,false,false,false,false,false,false,false,false,false,false,false,false,false,false,false,false,false,false,true,false,false,false,false,false,false,false,false,false,false,false,false,false,false,false,false,false,false,false,false,false,false,false,false,false,false,false,false,false,false,false,false,false,false,false,false,false,false,false]}],\"label\":\"101.4\",\"method\":\"update\"},{\"args\":[{\"visible\":[false,null,null,null,null,null,null,null,\"legendonly\",\"legendonly\",\"legendonly\",false,false,false,false,false,false,false,false,false,false,false,false,false,false,false,false,false,false,false,false,false,false,false,false,false,false,false,false,false,false,false,false,true,false,false,false,false,false,false,false,false,false,false,false,false,false,false,false,false,false,false,false,false,false,false,false,false,false,false,false,false,false,false,false,false,false,false,false,false,false,false]}],\"label\":\"107.74\",\"method\":\"update\"},{\"args\":[{\"visible\":[false,null,null,null,null,null,null,null,\"legendonly\",\"legendonly\",\"legendonly\",false,false,false,false,false,false,false,false,false,false,false,false,false,false,false,false,false,false,false,false,false,false,false,false,false,false,false,false,false,false,false,false,false,true,false,false,false,false,false,false,false,false,false,false,false,false,false,false,false,false,false,false,false,false,false,false,false,false,false,false,false,false,false,false,false,false,false,false,false,false,false]}],\"label\":\"114.07\",\"method\":\"update\"},{\"args\":[{\"visible\":[false,null,null,null,null,null,null,null,\"legendonly\",\"legendonly\",\"legendonly\",false,false,false,false,false,false,false,false,false,false,false,false,false,false,false,false,false,false,false,false,false,false,false,false,false,false,false,false,false,false,false,false,false,false,true,false,false,false,false,false,false,false,false,false,false,false,false,false,false,false,false,false,false,false,false,false,false,false,false,false,false,false,false,false,false,false,false,false,false,false,false]}],\"label\":\"120.41\",\"method\":\"update\"},{\"args\":[{\"visible\":[false,null,null,null,null,null,null,null,\"legendonly\",\"legendonly\",\"legendonly\",false,false,false,false,false,false,false,false,false,false,false,false,false,false,false,false,false,false,false,false,false,false,false,false,false,false,false,false,false,false,false,false,false,false,false,true,false,false,false,false,false,false,false,false,false,false,false,false,false,false,false,false,false,false,false,false,false,false,false,false,false,false,false,false,false,false,false,false,false,false,false]}],\"label\":\"126.75\",\"method\":\"update\"},{\"args\":[{\"visible\":[false,null,null,null,null,null,null,null,\"legendonly\",\"legendonly\",\"legendonly\",false,false,false,false,false,false,false,false,false,false,false,false,false,false,false,false,false,false,false,false,false,false,false,false,false,false,false,false,false,false,false,false,false,false,false,false,true,false,false,false,false,false,false,false,false,false,false,false,false,false,false,false,false,false,false,false,false,false,false,false,false,false,false,false,false,false,false,false,false,false,false]}],\"label\":\"133.09\",\"method\":\"update\"},{\"args\":[{\"visible\":[false,null,null,null,null,null,null,null,\"legendonly\",\"legendonly\",\"legendonly\",false,false,false,false,false,false,false,false,false,false,false,false,false,false,false,false,false,false,false,false,false,false,false,false,false,false,false,false,false,false,false,false,false,false,false,false,false,true,false,false,false,false,false,false,false,false,false,false,false,false,false,false,false,false,false,false,false,false,false,false,false,false,false,false,false,false,false,false,false,false,false]}],\"label\":\"139.42\",\"method\":\"update\"},{\"args\":[{\"visible\":[false,null,null,null,null,null,null,null,\"legendonly\",\"legendonly\",\"legendonly\",false,false,false,false,false,false,false,false,false,false,false,false,false,false,false,false,false,false,false,false,false,false,false,false,false,false,false,false,false,false,false,false,false,false,false,false,false,false,true,false,false,false,false,false,false,false,false,false,false,false,false,false,false,false,false,false,false,false,false,false,false,false,false,false,false,false,false,false,false,false,false]}],\"label\":\"145.76\",\"method\":\"update\"}],\"tickcolor\":\"white\",\"ticklen\":0,\"x\":0.6052631578947368,\"xanchor\":\"left\",\"y\":0.01,\"yanchor\":\"bottom\"},{\"active\":0,\"currentvalue\":{\"prefix\":\"Iteration: \"},\"len\":0.39473684210526316,\"lenmode\":\"fraction\",\"steps\":[{\"args\":[{\"visible\":[false,null,null,null,null,null,null,null,\"legendonly\",\"legendonly\",\"legendonly\",false,false,false,false,false,false,false,false,false,false,false,false,false,false,false,false,false,false,false,false,false,false,false,false,false,false,false,false,false,false,false,false,false,false,false,false,false,false,false,false,true,false,false,false,false,false,false,false,false,false,false,false,false,false,false,false,false,false,false,false,false,false,false,false,false,false,false,false,false,true,true]}],\"label\":\"0\",\"method\":\"update\"},{\"args\":[{\"visible\":[false,null,null,null,null,null,null,null,\"legendonly\",\"legendonly\",\"legendonly\",false,false,false,false,false,false,false,false,false,false,false,false,false,false,false,false,false,false,false,false,false,false,false,false,false,false,false,false,false,false,false,false,false,false,false,false,false,false,false,false,false,true,false,true,false,false,false,false,false,false,false,false,false,false,false,false,false,false,false,false,false,false,false,false,false,false,false,false,false,true,true]}],\"label\":\"\",\"method\":\"update\"},{\"args\":[{\"visible\":[false,null,null,null,null,null,null,null,\"legendonly\",\"legendonly\",\"legendonly\",false,false,false,false,false,false,false,false,false,false,false,false,false,false,false,false,false,false,false,false,false,false,false,false,false,false,false,false,false,false,false,false,false,false,false,false,false,false,false,false,false,true,true,false,true,false,false,false,false,false,false,false,false,false,false,false,false,false,false,false,false,false,false,false,false,false,false,false,false,true,true]}],\"label\":\"1\",\"method\":\"update\"},{\"args\":[{\"visible\":[false,null,null,null,null,null,null,null,\"legendonly\",\"legendonly\",\"legendonly\",false,false,false,false,false,false,false,false,false,false,false,false,false,false,false,false,false,false,false,false,false,false,false,false,false,false,false,false,false,false,false,false,false,false,false,false,false,false,false,false,false,true,true,false,false,true,false,true,false,false,false,false,false,false,false,false,false,false,false,false,false,false,false,false,false,false,false,false,false,true,true]}],\"label\":\"\",\"method\":\"update\"},{\"args\":[{\"visible\":[false,null,null,null,null,null,null,null,\"legendonly\",\"legendonly\",\"legendonly\",false,false,false,false,false,false,false,false,false,false,false,false,false,false,false,false,false,false,false,false,false,false,false,false,false,false,false,false,false,false,false,false,false,false,false,false,false,false,false,false,false,true,true,false,false,true,true,false,true,false,false,false,false,false,false,false,false,false,false,false,false,false,false,false,false,false,false,false,false,true,true]}],\"label\":\"2\",\"method\":\"update\"},{\"args\":[{\"visible\":[false,null,null,null,null,null,null,null,\"legendonly\",\"legendonly\",\"legendonly\",false,false,false,false,false,false,false,false,false,false,false,false,false,false,false,false,false,false,false,false,false,false,false,false,false,false,false,false,false,false,false,false,false,false,false,false,false,false,false,false,false,true,true,false,false,true,true,false,false,true,false,true,false,false,false,false,false,false,false,false,false,false,false,false,false,false,false,false,false,true,true]}],\"label\":\"\",\"method\":\"update\"},{\"args\":[{\"visible\":[false,null,null,null,null,null,null,null,\"legendonly\",\"legendonly\",\"legendonly\",false,false,false,false,false,false,false,false,false,false,false,false,false,false,false,false,false,false,false,false,false,false,false,false,false,false,false,false,false,false,false,false,false,false,false,false,false,false,false,false,false,true,true,false,false,true,true,false,false,true,true,false,true,false,false,false,false,false,false,false,false,false,false,false,false,false,false,false,false,true,true]}],\"label\":\"3\",\"method\":\"update\"},{\"args\":[{\"visible\":[false,null,null,null,null,null,null,null,\"legendonly\",\"legendonly\",\"legendonly\",false,false,false,false,false,false,false,false,false,false,false,false,false,false,false,false,false,false,false,false,false,false,false,false,false,false,false,false,false,false,false,false,false,false,false,false,false,false,false,false,false,true,true,false,false,true,true,false,false,true,true,false,false,true,false,true,false,false,false,false,false,false,false,false,false,false,false,false,false,true,true]}],\"label\":\"\",\"method\":\"update\"},{\"args\":[{\"visible\":[false,null,null,null,null,null,null,null,\"legendonly\",\"legendonly\",\"legendonly\",false,false,false,false,false,false,false,false,false,false,false,false,false,false,false,false,false,false,false,false,false,false,false,false,false,false,false,false,false,false,false,false,false,false,false,false,false,false,false,false,false,true,true,false,false,true,true,false,false,true,true,false,false,true,true,false,true,false,false,false,false,false,false,false,false,false,false,false,false,true,true]}],\"label\":\"4\",\"method\":\"update\"},{\"args\":[{\"visible\":[false,null,null,null,null,null,null,null,\"legendonly\",\"legendonly\",\"legendonly\",false,false,false,false,false,false,false,false,false,false,false,false,false,false,false,false,false,false,false,false,false,false,false,false,false,false,false,false,false,false,false,false,false,false,false,false,false,false,false,false,false,true,true,false,false,true,true,false,false,true,true,false,false,true,true,false,false,true,false,true,false,false,false,false,false,false,false,false,false,true,true]}],\"label\":\"\",\"method\":\"update\"},{\"args\":[{\"visible\":[false,null,null,null,null,null,null,null,\"legendonly\",\"legendonly\",\"legendonly\",false,false,false,false,false,false,false,false,false,false,false,false,false,false,false,false,false,false,false,false,false,false,false,false,false,false,false,false,false,false,false,false,false,false,false,false,false,false,false,false,false,true,true,false,false,true,true,false,false,true,true,false,false,true,true,false,false,true,true,false,true,false,false,false,false,false,false,false,false,true,true]}],\"label\":\"5\",\"method\":\"update\"},{\"args\":[{\"visible\":[false,null,null,null,null,null,null,null,\"legendonly\",\"legendonly\",\"legendonly\",false,false,false,false,false,false,false,false,false,false,false,false,false,false,false,false,false,false,false,false,false,false,false,false,false,false,false,false,false,false,false,false,false,false,false,false,false,false,false,false,false,true,true,false,false,true,true,false,false,true,true,false,false,true,true,false,false,true,true,false,false,true,false,true,false,false,false,false,false,true,true]}],\"label\":\"\",\"method\":\"update\"},{\"args\":[{\"visible\":[false,null,null,null,null,null,null,null,\"legendonly\",\"legendonly\",\"legendonly\",false,false,false,false,false,false,false,false,false,false,false,false,false,false,false,false,false,false,false,false,false,false,false,false,false,false,false,false,false,false,false,false,false,false,false,false,false,false,false,false,false,true,true,false,false,true,true,false,false,true,true,false,false,true,true,false,false,true,true,false,false,true,true,false,true,false,false,false,false,true,true]}],\"label\":\"6\",\"method\":\"update\"},{\"args\":[{\"visible\":[false,null,null,null,null,null,null,null,\"legendonly\",\"legendonly\",\"legendonly\",false,false,false,false,false,false,false,false,false,false,false,false,false,false,false,false,false,false,false,false,false,false,false,false,false,false,false,false,false,false,false,false,false,false,false,false,false,false,false,false,false,true,true,false,false,true,true,false,false,true,true,false,false,true,true,false,false,true,true,false,false,true,true,false,false,true,false,true,false,true,true]}],\"label\":\"\",\"method\":\"update\"},{\"args\":[{\"visible\":[false,null,null,null,null,null,null,null,\"legendonly\",\"legendonly\",\"legendonly\",false,false,false,false,false,false,false,false,false,false,false,false,false,false,false,false,false,false,false,false,false,false,false,false,false,false,false,false,false,false,false,false,false,false,false,false,false,false,false,false,false,true,true,false,false,true,true,false,false,true,true,false,false,true,true,false,false,true,true,false,false,true,true,false,false,true,true,false,true,true,true]}],\"label\":\"7\",\"method\":\"update\"}],\"tickcolor\":\"white\",\"ticklen\":0,\"x\":0.6052631578947368,\"xanchor\":\"left\",\"y\":0.17,\"yanchor\":\"bottom\"}]},                        {\"doubleClick\": false, \"displayModeBar\": false, \"editable\": false, \"responsive\": false, \"showAxisDragHandles\": false, \"showAxisRangeEntryBoxes\": false}                    ).then(function(){\n",
       "                            \n",
       "var gd = document.getElementById('812ce4e3-22d8-485d-ada9-9cd37afa112d');\n",
       "var x = new MutationObserver(function (mutations, observer) {{\n",
       "        var display = window.getComputedStyle(gd).display;\n",
       "        if (!display || display === 'none') {{\n",
       "            console.log([gd, 'removed!']);\n",
       "            Plotly.purge(gd);\n",
       "            observer.disconnect();\n",
       "        }}\n",
       "}});\n",
       "\n",
       "// Listen for the removal of the full notebook cells\n",
       "var notebookContainer = gd.closest('#notebook-container');\n",
       "if (notebookContainer) {{\n",
       "    x.observe(notebookContainer, {childList: true});\n",
       "}}\n",
       "\n",
       "// Listen for the clearing of the current output cell\n",
       "var outputEl = gd.closest('.output');\n",
       "if (outputEl) {{\n",
       "    x.observe(outputEl, {childList: true});\n",
       "}}\n",
       "\n",
       "                        })                };                });            </script>        </div>"
      ]
     },
     "metadata": {},
     "output_type": "display_data"
    }
   ],
   "source": [
    "from gilp.simplex import LP\n",
    "import numpy as np\n",
    "\n",
    "from gilp.simplex import LP\n",
    "from gilp.visualize import simplex_visual\n",
    "\n",
    "A = np.array([[ 1, 0, 0],\n",
    "              [ 6, 1, 0],\n",
    "              [18, 6, 1]])\n",
    "b = np.array([[1],\n",
    "              [9],\n",
    "              [81]])\n",
    "c = np.array([[9],\n",
    "              [3],\n",
    "              [1]])\n",
    "\n",
    "lp = LP(A,b,c)\n",
    "\n",
    "simplex_visual(lp, rule='dantzig').show()\n"
   ]
  },
  {
   "cell_type": "code",
   "execution_count": null,
   "id": "julian-judges",
   "metadata": {},
   "outputs": [],
   "source": []
  }
 ],
 "metadata": {
  "kernelspec": {
   "display_name": "Python 3",
   "language": "python",
   "name": "python3"
  },
  "language_info": {
   "codemirror_mode": {
    "name": "ipython",
    "version": 3
   },
   "file_extension": ".py",
   "mimetype": "text/x-python",
   "name": "python",
   "nbconvert_exporter": "python",
   "pygments_lexer": "ipython3",
   "version": "3.7.9"
  }
 },
 "nbformat": 4,
 "nbformat_minor": 5
}
