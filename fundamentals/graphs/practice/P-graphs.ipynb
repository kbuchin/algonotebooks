{
 "cells": [
  {
   "cell_type": "markdown",
   "metadata": {},
   "source": [
    "# Practice Exercises, lecture on graphs"
   ]
  },
  {
   "cell_type": "markdown",
   "metadata": {},
   "source": [
    "### Exercise 1"
   ]
  },
  {
   "cell_type": "markdown",
   "metadata": {},
   "source": [
    "Draw a graph that has 12 edges and at least 6 vertices. 6 of the vertices have to have degree exactly 3, all other vertices have to have degree $\\leq 2$. Use as few vertices as possible."
   ]
  },
  {
   "cell_type": "markdown",
   "metadata": {},
   "source": [
    "### Exercise 2"
   ]
  },
  {
   "cell_type": "markdown",
   "metadata": {},
   "source": [
    " How many edges can a graph $G$ with $n$ vertices at most have, if $G$ is\n",
    "\n",
    "  (a) undirected\n",
    "  \n",
    "  (b) directed\n",
    "  \n",
    "  (c) undirected and contains $k$ vertices of degree 1\n",
    "  \n",
    "  (d) undirected and $d$-regular (a graph is *$d$-regular* if every vertex has degree exactly $d$)\n",
    "  \n",
    "  (e) undirected and consists of $k$ disjoint trees"
   ]
  },
  {
   "cell_type": "markdown",
   "metadata": {},
   "source": [
    "### Exercise 3"
   ]
  },
  {
   "cell_type": "markdown",
   "metadata": {},
   "source": [
    "(a) Explain why BFS and DFS use adjacency lists and not an adjacency matrix.\n",
    "\n",
    "(b) Why is the number of nodes with uneven degree in an undirected graph always even?\n",
    "\n",
    "(c) Argue why an undirected graph $G = (V,E)$ with $|E| \\geq |V|$ contains a cycle."
   ]
  },
  {
   "cell_type": "markdown",
   "metadata": {},
   "source": [
    "### Exercise 4"
   ]
  },
  {
   "cell_type": "markdown",
   "metadata": {},
   "source": [
    "A simple undirected graph is called *complete* if it contains an edge between every pair of distinct vertices.\n",
    "\n",
    "  (a) What does a DFS tree of a complete graph look like?\n",
    "  \n",
    "  (b) What does a BFS tree of a complete graph look like?"
   ]
  }
 ],
 "metadata": {
  "anaconda-cloud": {},
  "kernelspec": {
   "display_name": "Python [conda root]",
   "language": "python",
   "name": "conda-root-py"
  },
  "language_info": {
   "codemirror_mode": {
    "name": "ipython",
    "version": 3
   },
   "file_extension": ".py",
   "mimetype": "text/x-python",
   "name": "python",
   "nbconvert_exporter": "python",
   "pygments_lexer": "ipython3",
   "version": "3.5.2"
  }
 },
 "nbformat": 4,
 "nbformat_minor": 0
}
