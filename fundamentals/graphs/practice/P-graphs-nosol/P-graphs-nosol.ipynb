{
 "cells": [
  {
   "cell_type": "markdown",
   "metadata": {},
   "source": [
    "# Practice: Graphs"
   ]
  },
  {
   "cell_type": "markdown",
   "metadata": {},
   "source": [
    "Difficulty assessment:\n",
    "\n",
    "(\\*) Basic. You should be able to easily do this.\n",
    "\n",
    "(\\*\\*) Standard. Core material to test your understanding.\n",
    "\n",
    "(\\*\\*\\*) Advanced. Possibly slightly above the level of the assignments."
   ]
  },
  {
   "cell_type": "markdown",
   "metadata": {},
   "source": [
    "**Exercise 1 ( \\* ):**\n",
    "\n",
    "Consider the following two adjacency matrices:"
   ]
  },
  {
   "cell_type": "markdown",
   "metadata": {},
   "source": [
    "<img src=\"graphs1.png\" width=\"400\">"
   ]
  },
  {
   "cell_type": "markdown",
   "metadata": {},
   "source": [
    "For each, answer the following questions:\n",
    "\n",
    "(a) Can this matrix be the adjacency matrix of an undirected graph? Could it represent a directed graph? Why or why not?"
   ]
  },
  {
   "cell_type": "markdown",
   "metadata": {},
   "source": [
    "(b) For both adjacency matrices draw the corresponding undirected graph if possible, otherwise draw the corresponding directed graph."
   ]
  },
  {
   "cell_type": "markdown",
   "metadata": {},
   "source": [
    "(c) Give the adjacency list representation for both graphs."
   ]
  },
  {
   "cell_type": "markdown",
   "metadata": {},
   "source": [
    "**Exercise 2 ( \\*\\* ):**\n",
    "    \n",
    "Draw an undirected graph that has 12 edges and at least 6 vertices. Six\n",
    "of the vertices must have degree exactly 3, all other vertices must have degree at most 2. Use as few vertices as possible."
   ]
  },
  {
   "cell_type": "markdown",
   "metadata": {},
   "source": [
    "**Exercise 3 ( \\* ):**\n",
    "\n",
    "Let $G$ be a graph on vertices $\\{a, b, c, d, e, f, g, h\\}$. The Breadth First Search (BFS) algorithm visits the following edges of the graph in the given order: $(a, b)$, $(a, c)$, $(b, h)$, $(c, f)$, $(c, g)$, $(c, e)$, $(c, d)$. Can the following edges be in the graph $G$?\n",
    "\n",
    "(a) $(b, d)$, (b) $(d, e)$, (c) $(d, h)$, (d) $(a, f)$"
   ]
  },
  {
   "cell_type": "markdown",
   "metadata": {},
   "source": [
    "**Exercise 4 ( \\*\\* ):**\n",
    "\n",
    "Consider the following directed graph:"
   ]
  },
  {
   "cell_type": "markdown",
   "metadata": {},
   "source": [
    "<img src=\"graphs6.png\" width=\"350\">"
   ]
  },
  {
   "cell_type": "markdown",
   "metadata": {},
   "source": [
    "Perform a Depth First Search (DFS) from node $a$. Whenever there are multiple candidate nodes that could be visited next, choose the one with the smallest label in lexicographic order (i.e., first in alphabet). Determine all tree edges, back edges, forward edges, and cross edges."
   ]
  },
  {
   "cell_type": "markdown",
   "metadata": {},
   "source": [
    "**Exercise 5 ( \\*\\*\\* ):**\n",
    "\n",
    "Consider the following algorithm on an unrooted tree $T$ with vertex set $V$. (An unrooted\n",
    "tree has no designated root node.) Iteratively remove all the nodes with degree at most $1$ until the tree is empty.\n",
    "\n",
    "(a) How many nodes could have been removed in the last step? Justify your answer."
   ]
  },
  {
   "cell_type": "markdown",
   "metadata": {
    "collapsed": true
   },
   "source": [
    "(b) The nodes that are removed in the last step are called the *center nodes* of the tree. Assume there is an unique center point $c \\in V$. Prove that for this node the longest distance to any other node in the tree is minimized. That is, for any non-center node $a \\in V$, it holds $\\max \\{d(a,x): x \\in V\\} > \\max \\{d(c,x): x \\in V\\}$, where $d(x, y)$ is the distance between the nodes $x$ and $y$."
   ]
  },
  {
   "cell_type": "code",
   "execution_count": null,
   "metadata": {},
   "outputs": [],
   "source": []
  }
 ],
 "metadata": {
  "kernelspec": {
   "display_name": "Python 3",
   "language": "python",
   "name": "python3"
  },
  "language_info": {
   "codemirror_mode": {
    "name": "ipython",
    "version": 3
   },
   "file_extension": ".py",
   "mimetype": "text/x-python",
   "name": "python",
   "nbconvert_exporter": "python",
   "pygments_lexer": "ipython3",
   "version": "3.7.0"
  }
 },
 "nbformat": 4,
 "nbformat_minor": 2
}
