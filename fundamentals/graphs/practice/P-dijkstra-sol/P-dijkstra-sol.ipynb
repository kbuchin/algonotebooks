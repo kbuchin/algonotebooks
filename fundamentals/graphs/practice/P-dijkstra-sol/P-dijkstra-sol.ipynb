{
 "cells": [
  {
   "cell_type": "markdown",
   "metadata": {},
   "source": [
    "# Practice: Dijkstra's algorithm"
   ]
  },
  {
   "cell_type": "markdown",
   "metadata": {},
   "source": [
    "Difficulty assessment:\n",
    "\n",
    "(\\*) Basic. You should be able to easily do this.\n",
    "\n",
    "(\\*\\*) Standard. Core material to test your understanding.\n",
    "\n",
    "(\\*\\*\\*) Advanced. Possibly slightly above the level of the assignments."
   ]
  },
  {
   "cell_type": "markdown",
   "metadata": {},
   "source": [
    "### Exercise 1 (\\*)"
   ]
  },
  {
   "cell_type": "markdown",
   "metadata": {},
   "source": [
    "Give an example of a graph with negative edge weights for which Dijkstra's algorithm would fail. Why does the invariant from the slides fail in this case?"
   ]
  },
  {
   "cell_type": "markdown",
   "metadata": {},
   "source": [
    "**Solution:**\n",
    "\n",
    "An example is given in the following figure:\n",
    "\n",
    "<img src=\"dijkstra-neg.png\" width=\"200\">\n",
    "\n",
    "Observe that Dijkstra's algorithm starting at $s$ will relax the edges $(s,t)$ and $(s,u)$, and will then extract $u$ from the queue, since it has the smaller *shortest* value (1 vs. 5). It then relaxes $(u,v)$ and set *shortest* for $v$ to 2. Since the algorithm relaxes any edge only once, *shortest* for $v$ will not change again, thus, the algorithm reports $2$ as distane between $s$ and $v$. However, going via $t$ there is a path of length $-4$.\n",
    "\n",
    "The loop invariant fails in the maintenance step in the following way: The loop invariant claims that for all vertices removed from the queue the distance has already been computed correctly. Then the distance to the vertex with the smallest remaining *shortest* value has to be already correct, because adding additional edges (with vertices not yet removed) would make the path only longer. But with negative edge weights, the shortest path might go through a vertex that actually has a larger shortest path."
   ]
  },
  {
   "cell_type": "markdown",
   "metadata": {},
   "source": [
    "### Exercise 2 (\\*\\*)"
   ]
  },
  {
   "cell_type": "markdown",
   "metadata": {},
   "source": [
    "Suppose we define a different kind of graph where we have weights on the vertices and not the edges. \n",
    "Does the shortest-paths problem make sense for this kind of graph?  If so, give a precise and formal description of the problem, and show how to transform the input to solve the problem via a standard shortest-paths algorithm. If not, explain why not. "
   ]
  },
  {
   "cell_type": "markdown",
   "metadata": {},
   "source": [
    "**Solution:**\n",
    "    \n",
    "Yes, it makes sense. To stay with the example of travel networks, costs might be associated with certain locations (waiting at traffic lights, transit time etc.) rather than edges. In an indoor environment with vertices corresponding to rooms and edges to doorways, the cost of navigation more naturally is associated to the rooms (vertices) than the doorways (edges).\n",
    "\n",
    "Given a graph $G = (V,E)$ with weights $w(v) \\in R$ associated to the vertices $v \\in V$, and given a dedicated source $s \\in V$ and destination $t \\in V$ compute the path $\\langle v_0, v_1, \\ldots, v_k \\rangle$ with $v_0 = s$ and $v_k = t$ that minimizes $\\sum_{i=0}^k w(v_i)$. \n",
    "\n",
    "Note that since any such path by defintion starts as $s$ and ends at $t$, we may equivalently minizime the sum without the first and last summand, i.e, minimize $\\sum_{i=1}^{k-1} w(v_i)$. Further note that in the special case $s = t$ we would need to decide which cost to assign to the path without edges ($k=0$).\n",
    "\n",
    "To transform the problem to a shortest path problem with edge weights, we will assume that the graph is directed (If the original graph is undirected, we can simply take for edge in both directions. Further we will take as a starting point the problem of minimizing $\\sum_{i=0}^k w(v_i)$. Replace every vertex $v$ by two vertices $v_{in}$ and $v_{out}$ with an edge $e_v$ between $v_{in}$ and $v_{out}$. Assign $w(v)$ as weight to $e_v$. Next replace every edge $(u,v)$ in the original graph by the edge $(u_{out}, v_{in})$ and assign a weight of $0$ to this edge.\n",
    "\n",
    "Now there is a bijection between the path from $s$ to $t$ in the original graph and from $s_{out}$ to $t_{in}$ in the new graph, which preserves weights. Note that if we want to include the weight of $s$ and $t$ we could start at $s_{in}$ and end at $t_{out}$. Further note that we increase the complexity of the graph by at most a constant factor: We double the number of vertices, and we increase the number of edges by the number of vertices. "
   ]
  },
  {
   "cell_type": "markdown",
   "metadata": {},
   "source": [
    "### Exercise 3 (\\*)"
   ]
  },
  {
   "cell_type": "markdown",
   "metadata": {},
   "source": [
    "(a) Suppose we want to find the shortest distance from $s$ to some particular vertex (rather than to all vertices reachable from $s$). What would we do? "
   ]
  },
  {
   "cell_type": "markdown",
   "metadata": {},
   "source": [
    "**Solution:**\n",
    "\n",
    "We can run the same algorithm, but interrupt it when removed the destination from $Q$. At this point we know that the distance to this vertex has been computed correctly.\n",
    "\n",
    "*(Note: The above is a sufficient answer. But if you are overly motivated, you could extend it as below)*.\n",
    "\n",
    "In this context we may want to avoid adding all vertices to the priority queue. We could start with a queue only containing $s$ and add a vertex to $Q$ the first time we relax an edge to that vertex. However some care is need to not add the same vertex several times.\n",
    "\n",
    "Another natural extension is to start Dijkstra's algorithm at $s$ and simultaniously backwards at $t$."
   ]
  },
  {
   "cell_type": "markdown",
   "metadata": {},
   "source": [
    "(b) What if we want to find the shortest path between every pair of vertices in the graph ?"
   ]
  },
  {
   "cell_type": "markdown",
   "metadata": {},
   "source": [
    "**Solution:**"
   ]
  },
  {
   "cell_type": "markdown",
   "metadata": {},
   "source": [
    "We can envoke Dijkstra's algorithm once for every vertex as starting vertex. The running time would be $|V| O(|V|\\log(|V|) + |E|)$. *(Note: There are also dedicated algorithms for this problem, but that was not the question here.)*"
   ]
  }
 ],
 "metadata": {
  "anaconda-cloud": {},
  "kernelspec": {
   "display_name": "Python 3",
   "language": "python",
   "name": "python3"
  },
  "language_info": {
   "codemirror_mode": {
    "name": "ipython",
    "version": 3
   },
   "file_extension": ".py",
   "mimetype": "text/x-python",
   "name": "python",
   "nbconvert_exporter": "python",
   "pygments_lexer": "ipython3",
   "version": "3.7.0"
  }
 },
 "nbformat": 4,
 "nbformat_minor": 1
}
