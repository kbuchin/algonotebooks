{
 "cells": [
  {
   "cell_type": "markdown",
   "metadata": {},
   "source": [
    "# Practice: Graphs"
   ]
  },
  {
   "cell_type": "markdown",
   "metadata": {},
   "source": [
    "Difficulty assessment:\n",
    "\n",
    "(\\*) Basic. You should be able to easily do this.\n",
    "\n",
    "(\\*\\*) Standard. Core material to test your understanding.\n",
    "\n",
    "(\\*\\*\\*) Advanced. Possibly slightly above the level of the assignments."
   ]
  },
  {
   "cell_type": "markdown",
   "metadata": {},
   "source": [
    "**Exercise 1 ( \\* ):**\n",
    "\n",
    "Consider the following two adjacency matrices:"
   ]
  },
  {
   "cell_type": "markdown",
   "metadata": {},
   "source": [
    "<img src=\"graphs1.png\" width=\"400\">"
   ]
  },
  {
   "cell_type": "markdown",
   "metadata": {},
   "source": [
    "For each, answer the following questions:\n",
    "\n",
    "(a) Can this matrix be the adjacency matrix of an undirected graph? Could it represent a directed graph? Why or why not?"
   ]
  },
  {
   "cell_type": "markdown",
   "metadata": {},
   "source": [
    "**Solution:**\n",
    "    \n",
    "For a matrix to be an adjacency matrix of an undirected graph, it has to be:\n",
    "\n",
    "- symmetric, i.e., $a_{ij} = a_{ji}$ for any $i$ and $j$ (if there is an edge from $i$ to $j$ then this is also an edge from $j$ to $i$).\n",
    "\n",
    "- its diagonal elements have to be $0$ (there are no self-loops).\n",
    "\n",
    "Any square matrix with $0$s and $1$s can be an adjacency matrix of a directed graph.\n",
    "\n",
    "So, matrix (1) can be an adjacency matrix of both, an undirected (since it fulfils the conditions above) and a directed graph,\n",
    "\n",
    "and matrix (2) is an adjacency matrix of a directed graph, but not of an undirected graph (since, e.g., $a_{14} \\neq a_{41}$)."
   ]
  },
  {
   "cell_type": "markdown",
   "metadata": {},
   "source": [
    "(b) For both adjacency matrices draw the corresponding undirected graph if possible, otherwise draw the corresponding directed graph."
   ]
  },
  {
   "cell_type": "markdown",
   "metadata": {},
   "source": [
    "**Solution:**\n",
    "    \n",
    "<img src=\"graphs2.png\" width=\"450\">"
   ]
  },
  {
   "cell_type": "markdown",
   "metadata": {},
   "source": [
    "(c) Give the adjacency list representation for both graphs."
   ]
  },
  {
   "cell_type": "markdown",
   "metadata": {},
   "source": [
    "**Solution:**\n",
    "    \n",
    "<img src=\"graphs3.png\" width=\"200\">"
   ]
  },
  {
   "cell_type": "markdown",
   "metadata": {},
   "source": [
    "**Exercise 2 ( \\*\\* ):**\n",
    "    \n",
    "Draw an undirected graph that has 12 edges and at least 6 vertices. Six\n",
    "of the vertices must have degree exactly 3, all other vertices must have degree at most 2. Use as few vertices as possible."
   ]
  },
  {
   "cell_type": "markdown",
   "metadata": {},
   "source": [
    "**Solution:**\n",
    "\n",
    "<img src=\"graphs4.png\" width=\"200\">\n",
    "\n",
    "We obtain a graph with $9$ vertices in total.\n",
    "\n",
    "We will show next that $9$ is the minimum number of vertices needed to construct a graph satisfying the requirements. \n",
    "\n",
    "We know that the sum of degrees is exactly two times the number of edges, since when counting all degrees we count every edge twice, once from each of its vertices. The number of edges should be 12, so the sum of degrees should be 24. We have to use 6 vertices of degree 3, which contribute 18 to the sum. We still need to add 6 to the sum of degrees, and since the remaining vertices should have degree at most 2 (and therefore adds at most 2 to the sum), the smallest additional number of vertices needed is 3."
   ]
  },
  {
   "cell_type": "markdown",
   "metadata": {},
   "source": [
    "**Exercise 3 ( \\* ):**\n",
    "\n",
    "Let $G$ be a graph on vertices $\\{a, b, c, d, e, f, g, h\\}$. The Breadth First Search (BFS) algorithm visits the following edges of the graph in the given order: $(a, b)$, $(a, c)$, $(b, h)$, $(c, f)$, $(c, g)$, $(c, e)$, $(c, d)$. Can the following edges be in the graph $G$?\n",
    "\n",
    "(a) $(b, d)$, (b) $(d, e)$, (c) $(d, h)$, (d) $(a, f)$"
   ]
  },
  {
   "cell_type": "markdown",
   "metadata": {},
   "source": [
    "**Solution:** The tree we get:\n",
    "\n",
    "<img src=\"graphs5.png\" width=\"300\">\n",
    "    \n",
    "1. Edge $(b, d)$ cannot be in $G$. If it were, it would be explored from the vertex $b$, and not from $c$, as vertex $b$ gets explored before $c$.\n",
    "\n",
    "2. Edge $(d, e)$ can be in $G$, as $d$ is visited after $e$ is visited.\n",
    "\n",
    "3. Edge $(d, h)$ can be in $G$, as $d$ is visited after $h$ is visited.\n",
    "\n",
    "4. Edge $(a, f)$ cannot be in $G$. If it were, it would be explored from the vertex $a$, and not from $c$, as vertex $a$ gets explored before $c$."
   ]
  },
  {
   "cell_type": "markdown",
   "metadata": {},
   "source": [
    "**Exercise 4 ( \\*\\* ):**\n",
    "\n",
    "Consider the following directed graph:"
   ]
  },
  {
   "cell_type": "markdown",
   "metadata": {},
   "source": [
    "<img src=\"graphs6.png\" width=\"350\">"
   ]
  },
  {
   "cell_type": "markdown",
   "metadata": {},
   "source": [
    "Perform a Depth First Search (DFS) from node $a$. Whenever there are multiple candidate nodes that could be visited next, choose the one with the smallest label in lexicographic order (i.e., first in alphabet). Determine all tree edges, back edges, forward edges, and cross edges."
   ]
  },
  {
   "cell_type": "markdown",
   "metadata": {},
   "source": [
    "**Solution:**\n",
    "\n",
    "<img src=\"graphs7.png\" width=\"300\">\n",
    "    \n",
    "Green edges are the tree edges, back edges are blue, forward edges are purple, and cross edges are orange."
   ]
  },
  {
   "cell_type": "markdown",
   "metadata": {},
   "source": [
    "**Exercise 5 ( \\*\\*\\* ):**\n",
    "\n",
    "Consider the following algorithm on an unrooted tree $T$ with vertex set $V$. (An unrooted\n",
    "tree has no designated root node.) Iteratively remove all the nodes with degree at most $1$ until the tree is empty.\n",
    "\n",
    "(a) How many nodes could have been removed in the last step? Justify your answer."
   ]
  },
  {
   "cell_type": "markdown",
   "metadata": {},
   "source": [
    "**Solution:**\n",
    "    \n",
    "First, observe that during the execution of the algorithm we always have  one connected component, i.e., the nodes that are left form a single tree. If the number of nodes in the tree is greater than $0$, then all the nodes that are removed are leaves. Removing a leaf does not make the tree disconnected as the node can only be an end-node for any path in the tree. Then, in the last step, at most two nodes are removed, as a tree with only leaves and with no interior nodes can consist of a single vertex, or two vertices connected by an edge."
   ]
  },
  {
   "cell_type": "markdown",
   "metadata": {
    "collapsed": true
   },
   "source": [
    "(b) The nodes that are removed in the last step are called the *center nodes* of the tree. Assume there is an unique center point $c \\in V$. Prove that for this node the longest distance to any other node in the tree is minimized. That is, for any non-center node $a \\in V$, it holds $\\max \\{d(a,x): x \\in V\\} > \\max \\{d(c,x): x \\in V\\}$, where $d(x, y)$ is the distance between the nodes $x$ and $y$."
   ]
  },
  {
   "cell_type": "markdown",
   "metadata": {},
   "source": [
    "**Solution:**\n",
    "    \n",
    "Consider the tree $T$ rooted at node $c$, and consider the height $height(v)$ of any node $v$ in $T$. The algorithm removes a node $v$ from the tree at step $height(v) + 1$: all leaves are of height $0$, and they get removed at step 1; all the nodes of height $1$ get removed at step 2, etc. If the height of the root $c$ is $h$, then $c$ must have at least two\n",
    "children with height $h-1$. Otherwise $c$ would be removed from $T$ at an earlier step. Let these children be $c_1$ and $c_2$.\n",
    "\n",
    "For an arbitrary node $a \\neq c$, w.l.o.g, assume that $a$ is in the subtree rooted at $c_1$. Then, consider a leaf $\\ell$ from the tree rooted at $c_2$ such that the distance from $c$ to $\\ell$ is $h$. Then, the distance from $a$ to $\\ell$ is strictly larger than $h$. As this works for any arbitrary node $a$, we get $\\max \\{d(a,x): x \\in V\\} > \\max \\{d(c,x): x \\in V\\}$ for all $a \\neq c$."
   ]
  }
 ],
 "metadata": {
  "kernelspec": {
   "display_name": "Python 3",
   "language": "python",
   "name": "python3"
  },
  "language_info": {
   "codemirror_mode": {
    "name": "ipython",
    "version": 3
   },
   "file_extension": ".py",
   "mimetype": "text/x-python",
   "name": "python",
   "nbconvert_exporter": "python",
   "pygments_lexer": "ipython3",
   "version": "3.7.0"
  }
 },
 "nbformat": 4,
 "nbformat_minor": 2
}
