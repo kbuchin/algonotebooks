{
 "cells": [
  {
   "cell_type": "markdown",
   "metadata": {},
   "source": [
    "# Practice: Heaps (with solutions)"
   ]
  },
  {
   "cell_type": "markdown",
   "metadata": {},
   "source": [
    "Difficulty assessment:\n",
    "\n",
    "(\\*) Basic. You should be able to easily do this.\n",
    "\n",
    "(\\*\\*) Standard. Core material to test your understanding.\n",
    "\n",
    "(\\*\\*\\*) Advanced. Possibly slightly above the level of the assignments."
   ]
  },
  {
   "cell_type": "markdown",
   "metadata": {},
   "source": [
    "**Exercise 1 ( \\* ):**\n",
    "\n",
    "(a) Give the definition of a max-heap."
   ]
  },
  {
   "cell_type": "markdown",
   "metadata": {},
   "source": [
    "**Solution:**\n",
    "\n",
    "A max-heap is a nearly complete binary tree, filled on all levels except possibly\n",
    "the lowest, with the lowest level filled from left to right, that satisfies the max-heap\n",
    "property: for every node $i$ other than the root $key[Parent(i)] \\ge key[i]$."
   ]
  },
  {
   "cell_type": "markdown",
   "metadata": {},
   "source": [
    "(b) Is the sequence $\\langle 24, 16, 21, 6, 8, 19, 20, 5, 7, 4\\rangle$ a max-heap?"
   ]
  },
  {
   "cell_type": "markdown",
   "metadata": {},
   "source": [
    "**Solution:**\n",
    "    \n",
    "No, it is not. $key[8] = 7 > 6 = key[(8-1)//2] = key[Parent(i)]$ violates the max-heap property. \n",
    "\n",
    "*Note: The above is sufficient as answer, but you could also illustrate this by a figure as given below.*\n",
    "\n",
    "<img src=\"no-maxheap.png\" width=\"350\">"
   ]
  },
  {
   "cell_type": "markdown",
   "metadata": {},
   "source": [
    "(c) We can store a max-heap in an array. Argue that the $k$-th node on level $j$ of a max-heap is stored at position $2^j + k - 2$. (E.g., the $1$st node on level $0$ is the root, which is stored at position $2^0 + 1 - 2 = 0$.)"
   ]
  },
  {
   "cell_type": "markdown",
   "metadata": {},
   "source": [
    "**Solution:**\n",
    "    \n",
    "A heap, when stored in an array, is stored level by level, from left to right. The root occupies the first cell of the array A[0]. The left child of the root occupies A[1], and the right child of the root occupies A[2]. \n",
    "\n",
    "Level 0 contains 1 node (the root), level 1 contains 2 nodes, level 3 contains 4 nodes, and so on. So, level $i$ contains $2^i$ nodes. Level 0 to level $j-1$ together contain $\\sum_{i=0}^{j-1} 2^i = 2^j - 1$ nodes. (*Note: a geometric sum.*)\n",
    "\n",
    "Thus, the first node of the $j$th level will occupy $A[2^j - 1]$ (since it is the $2^j$-th node, and we start with index 0), the $k$-th node on level $j$ will occupy $A[2^j - 1 + (k-1)]=A[2^j + k - 2]$ (since it comes $k-1$ positions after the $1$st node of level $j$)."
   ]
  },
  {
   "cell_type": "markdown",
   "metadata": {},
   "source": [
    "**Exercise 2 ( \\*\\* ):**\n",
    "    \n",
    "Demonstrate the execution of HeapSort on the following input: $\\langle 7, 14, 9, 12, 25, 41, 2 \\rangle$. Show\n",
    "every step that changes the array. (One call of Max-Heapify counts as one step.) It is sufficient to note the operation and write the array after each step, i.e., you do not need to draw the heap as tree."
   ]
  },
  {
   "cell_type": "markdown",
   "metadata": {},
   "source": [
    "**Solution:**\n",
    "\n",
    "(*Note: It might be helpful, when solving the exercise, to actually draw the heaps.*)\n",
    "\n",
    "Input: $[7, 14, 9, 12, 25, 41, 2]$\n",
    "\n",
    "We start with the Build-Heap phase.\n",
    "\n",
    "Max-Heapify(A, 2): [7, 14, 41, 12, 25, 9, 2]\n",
    "\n",
    "Max-Heapify(A, 1): [7, 25, 41, 12, 14, 9, 2]\n",
    "\n",
    "Max-Heapify(A, 0): [41, 25, 9, 12, 14, 7, 2]\n",
    "\n",
    "Now we do the actual sorting.\n",
    "\n",
    "Swap 2 and 41 and Max-Heapify(A, 0): [25, 14, 9, 12, 2, 7, **41**] (*Note: The sorted part is shown in bold.*)\n",
    "\n",
    "Swap 7 and 25 and Max-Heapify(A, 0): [14, 12, 9, 7, 2, **25, 41**]\n",
    "\n",
    "Swap 2 and 14 and Max-Heapify(A, 0): [12, 7, 9, 2, **14, 25, 41**]\n",
    "\n",
    "Swap 2 and 12 and Max-Heapify(A, 0): [9, 7, 2, **12, 14, 25, 41**]\n",
    "\n",
    "Swap 2 and 9 and Max-Heapify(A, 0): [7, 2, **9, 12, 14, 25, 41**]\n",
    "\n",
    "Swap 2 and 7 (and Max-Heapify(A, 0)): **[2, 7, 9, 12, 14, 25, 41]**\n",
    "\n"
   ]
  },
  {
   "cell_type": "markdown",
   "metadata": {},
   "source": [
    "**Exercise 3 ( \\*\\* )::**\n",
    "\n",
    "Describe a linear-time algorithm MaxHeapVerify($A$) that checks whether a given array $A$\n",
    "is a max-heap. Prove its correctness using the loop invariant, and analyze the running time. (*Note: You can also give a recursive algorithm. Then prove correctness using strong induction.*)   "
   ]
  },
  {
   "cell_type": "markdown",
   "metadata": {},
   "source": [
    "**Solution:**\n",
    "    \n",
    "To verify if a given array is a max-heap, we need to check whether each node satisfies the max-heap property, that is, that $key[Parent(i)] \\ge key[i]$ for all nodes $i$ except for the root. In a max-heap, the parent of node $i$ is stored at the position $(i-1)//2$. Thus, we can linearly scan the array from right to left and test for each node whether the max-heap property is satisfied.\n",
    "\n",
    "In the following code, we assume that $A$ stores the keys directly\n",
    "```python\n",
    "1 def MaxHeapVerify(A):\n",
    "2     for i in range(len(A)-1, 0, -1):\n",
    "3         if A[(i-1)//2] < A[i]: return False\n",
    "4     return True\n",
    "```\n",
    "\n",
    "We will prove the correctness of the algorithm using the following loop invariant:\n",
    "\n",
    "*Loop Invariant:* at the start of iteration $i$ for each element in $A[i + 1: len(A)]$ the key of the parent of the element is larger or equal than the key of the element itself.\n",
    "\n",
    "*Initialization:*\n",
    "At the start we have $i = len(A)-1$ and the subarray $A[len(A)-1:len(A)-1]$ is empty. Thus the loop invariant holds.\n",
    "\n",
    "*Maintenance:*\n",
    "Assume the loop invariant holds at the start of iteration $i$. Then for each element in $A[i + 1: len(A)]$ the key of the parent of the element is larger or equal than the key of the element itself. We need to prove that the loop invariant also holds at the start of the next iteration.\n",
    "\n",
    "Within an iteration we check if the key of the parent of the element $A[i]$ is greater or equal to the key of $A[i]$. If it does not hold then the algorithm terminates and reports false. Trivially this is correct as at least for one element the max-heap property does not hold. If the algorithm does not terminate, then the key of the parent of $A[i]$ is larger or equal than the key of $A[i]$ itself. Combining this with the our initial observation by the LI we\n",
    "get that for each element in $A[i : len(A)]$ the key of the parent of the element is larger or equal than the key of the element itself. Thus, at the start of the next iteration (with $i-1$) indeed the LI holds.\n",
    "\n",
    "*Termination:*\n",
    "The loop terminates when $i > 0$ no longer holds, so $i = 0$. Combining this with the loop invariant we get that for each element in $A[1:len(A)]$ the key of the parent of the element is larger or equal than the key of the element itself. Thus, the max-heap property holds for all the non-root nodes of the heap. Thus the algorithm correctly returns true in this case.\n",
    "\n",
    "*Running time:*\n",
    "Each line of the algorithm takes $O(1)$ time, and the loop makes $n-1$ iterations. Thus, the total running time of the algorithm is $O(n)$."
   ]
  }
 ],
 "metadata": {
  "kernelspec": {
   "display_name": "Python 3",
   "language": "python",
   "name": "python3"
  },
  "language_info": {
   "codemirror_mode": {
    "name": "ipython",
    "version": 3
   },
   "file_extension": ".py",
   "mimetype": "text/x-python",
   "name": "python",
   "nbconvert_exporter": "python",
   "pygments_lexer": "ipython3",
   "version": "3.6.0"
  }
 },
 "nbformat": 4,
 "nbformat_minor": 2
}
