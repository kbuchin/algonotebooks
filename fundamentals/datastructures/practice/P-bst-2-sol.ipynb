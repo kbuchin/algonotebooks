{
 "cells": [
  {
   "cell_type": "markdown",
   "metadata": {},
   "source": [
    "# Practice exercises BST (in class)"
   ]
  },
  {
   "cell_type": "markdown",
   "metadata": {},
   "source": [
    "**Exercise 1:** Insert the following keys (in the given order) into a binary search tree: 19, 25, 30, 23, 12, 21."
   ]
  },
  {
   "cell_type": "markdown",
   "metadata": {},
   "source": [
    "**Solution:**\n",
    "\n",
    "The resulting tree is:\n",
    "\n",
    "``` \n",
    "   19\n",
    "  /  \\\n",
    "12    25\n",
    "     /  \\\n",
    "   23    30\n",
    "   /\n",
    " 21\n",
    "```"
   ]
  },
  {
   "cell_type": "markdown",
   "metadata": {},
   "source": [
    "**Exercise 2:** Delete the following nodes from the tree from Ex. 1: 12, 23, 25."
   ]
  },
  {
   "cell_type": "markdown",
   "metadata": {},
   "source": [
    "**Solution:**\n",
    "\n",
    "deleting 12 is simple, since it does not have children.\n",
    "\n",
    "``` \n",
    "   19\n",
    "     \\\n",
    "      25\n",
    "     /  \\\n",
    "   23    30\n",
    "   /\n",
    " 21\n",
    "```\n",
    "\n",
    "deleting 23 is nearly as simple, because it only has one child, which will now become the child of its parent.\n",
    "\n",
    "``` \n",
    "   19\n",
    "     \\\n",
    "      25\n",
    "     /  \\\n",
    "   21    30\n",
    "```\n",
    "\n",
    "deleting 25 is slightly trickier, because it has 2 children. We insert its successor and place it at the position of the node:\n",
    "``` \n",
    "   19\n",
    "     \\\n",
    "      30\n",
    "     /  \n",
    "   21    \n",
    "```"
   ]
  },
  {
   "cell_type": "markdown",
   "metadata": {},
   "source": [
    "**Exercise 3:** \n",
    "\n",
    "(a) Design an algorithm that, given a binary search tree with $n$ nodes, prints all odd keys that are larger than 100 in decreasing order. Your algorithm should be in-place.\n",
    "\n",
    "(b) Assume the binary search tree is balanced. Let $m$ be the number of keys in the binary search tree that are larger than 100. Design an algorithm that performs the task from (a) in $O(m + \\log n)$ time. *Note: You can use the same algorithm in both parts of the exercise.*"
   ]
  },
  {
   "cell_type": "markdown",
   "metadata": {},
   "source": [
    "**Solution:**\n",
    "\n",
    "(a) (and this is mostly already the solution for (b))"
   ]
  },
  {
   "cell_type": "code",
   "execution_count": 11,
   "metadata": {},
   "outputs": [
    {
     "name": "stdout",
     "output_type": "stream",
     "text": [
      "121\n"
     ]
    }
   ],
   "source": [
    "def TreeGreaterThan(x, y):\n",
    "    if x:\n",
    "        TreeGreaterThan(x.right, y)\n",
    "        if x.key > y:\n",
    "            if x.key % 2 == 1:\n",
    "                print(x.key)\n",
    "            TreeGreaterThan(x.left, y)\n",
    "                \n",
    "\n",
    "class Node(object):\n",
    "    def __init__(self, x, left=None, right=None):\n",
    "        self.key = x\n",
    "        self.left = left\n",
    "        self.right = right\n",
    "\n",
    "rightleft = Node(121)\n",
    "right = Node(140, rightleft)\n",
    "left = Node(80)\n",
    "root = Node(99, left, right)\n",
    "                \n",
    "TreeGreaterThan(root, 100)"
   ]
  },
  {
   "cell_type": "markdown",
   "metadata": {},
   "source": [
    "*Analysis:*\n",
    "\n",
    "*in-place:* The algorithm TreeGreaterThan is in-place, since we don't actually copy data.\n",
    "\n",
    "*correctness:* The algorithm is an adapted version on a tree walk. For correctness we need to check that the nodes that are skipped indeed all contain keys less or equal 100. The nodes that we skip are in the subtrees of left children of nodes with a key $\\leq 100$. By the binary-search-tree property all of these nodes have keys $\\leq 100$ and can therefore savely be skipped.\n",
    "\n",
    "*running time:* Assume that $m$ is the number of numbers $\\geq 100$, and let $h$ be the height of the tree. We want to argue that the running time of this algorithm is $O(m+h)$. For this, it is sufficient to argue that on every level there is at most 1 node visited that has a key $\\leq 100$.\n",
    "\n",
    "We prove this by contradiction: assume there is a level in which we visit at least 2 nodes with keys $ y < y' \\leq 100$. Consider the lowest common ancestor $v$ of these nodes. The node with key $y$ is in the left subtree of $v$ and the node with key $y'$ in the right subtree; otherwise the lowest common ancestor would have been in one of the subtrees. But because $v$ has a node with key $\\leq 100$ in its right subtree, its key has to be $\\leq 100$. However, in this case we do not visit the left subtree of $v$, thus the node with key $y$ would have not been visited. \n",
    "\n",
    "We can conclude that per level we have at most 1 node visted with key $\\leq 100$. Therefore the running time is $O(m+h)$. \n",
    "\n",
    "(b) If the tree is balanced, then $h = O(\\log n)$. Thus the running time of the algorithm in (a) is $O(m + \\log n)$. Note: In (a) it would have been sufficient to argue that the running time is $O(n)$. Then the argument above would have been given for (b)."
   ]
  }
 ],
 "metadata": {
  "kernelspec": {
   "display_name": "Python 3",
   "language": "python",
   "name": "python3"
  },
  "language_info": {
   "codemirror_mode": {
    "name": "ipython",
    "version": 3
   },
   "file_extension": ".py",
   "mimetype": "text/x-python",
   "name": "python",
   "nbconvert_exporter": "python",
   "pygments_lexer": "ipython3",
   "version": "3.8.3"
  }
 },
 "nbformat": 4,
 "nbformat_minor": 2
}
