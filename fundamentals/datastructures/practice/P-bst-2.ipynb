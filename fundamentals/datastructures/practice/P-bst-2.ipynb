{
 "cells": [
  {
   "cell_type": "markdown",
   "metadata": {},
   "source": [
    "# Practice exercises BST (in class)"
   ]
  },
  {
   "cell_type": "markdown",
   "metadata": {},
   "source": [
    "**Exercise 1:** Insert the following keys (in the given order) into a binary search tree: 19, 25, 30, 23, 12, 21."
   ]
  },
  {
   "cell_type": "markdown",
   "metadata": {},
   "source": [
    "**Exercise 2:** Delete the following nodes from the tree from Ex. 1: 12, 23, 25."
   ]
  },
  {
   "cell_type": "markdown",
   "metadata": {},
   "source": [
    "**Exercise 3:** \n",
    "\n",
    "(a) Design an algorithm that, given a binary search tree with $n$ nodes, prints all odd keys that are larger than 100 in decreasing order. Your algorithm should be in-place.\n",
    "\n",
    "(b) Assume the binary search tree is balanced. Let $m$ be the number of keys in the binary search tree that are larger than 100. Design an algorithm that performs the task from (a) in $O(m + \\log n)$ time. *Note: You can use the same algorithm in both parts of the exercise.*"
   ]
  }
 ],
 "metadata": {
  "kernelspec": {
   "display_name": "Python 3",
   "language": "python",
   "name": "python3"
  },
  "language_info": {
   "codemirror_mode": {
    "name": "ipython",
    "version": 3
   },
   "file_extension": ".py",
   "mimetype": "text/x-python",
   "name": "python",
   "nbconvert_exporter": "python",
   "pygments_lexer": "ipython3",
   "version": "3.7.0"
  }
 },
 "nbformat": 4,
 "nbformat_minor": 2
}
