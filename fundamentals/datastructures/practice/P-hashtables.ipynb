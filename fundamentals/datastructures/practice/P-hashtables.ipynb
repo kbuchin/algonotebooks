{
 "cells": [
  {
   "cell_type": "markdown",
   "metadata": {},
   "source": [
    "# Practice Exercises: Hash tables"
   ]
  },
  {
   "cell_type": "markdown",
   "metadata": {},
   "source": [
    "### Exercise 1"
   ]
  },
  {
   "cell_type": "markdown",
   "metadata": {},
   "source": [
    "Demonstrate what happens when we insert the keys 5, 28, 19, 15, 20, 33, 12, 17, 10\n",
    "into a hash table with collisions resolved by chaining. Let the table have 9 slots,\n",
    "and let the hash function be $h(k) = k \\mod 9$."
   ]
  },
  {
   "cell_type": "markdown",
   "metadata": {},
   "source": [
    "### Exercise 2"
   ]
  },
  {
   "cell_type": "markdown",
   "metadata": {},
   "source": [
    "Professor Marley hypothesizes that he can obtain substantial performance gains by\n",
    "modifying the chaining scheme to keep each list in sorted order. How does the professor’s\n",
    "modification affect the running time for successful searches, unsuccessful\n",
    "searches, insertions, and deletions?"
   ]
  },
  {
   "cell_type": "markdown",
   "metadata": {},
   "source": [
    "### Exercise 3"
   ]
  },
  {
   "cell_type": "markdown",
   "metadata": {},
   "source": [
    "Consider inserting keys into a hash table of length $m =  13$  using open addressing with the auxiliary hash function $h'(k) = k\\mod m$. Does quadratic probing with $c_1 = c_2 = 1$ result in a probe sequence that is a permutation of $0, 1, \\dots, 12$? Justify your answer."
   ]
  },
  {
   "cell_type": "markdown",
   "metadata": {},
   "source": [
    "### Exercise 4"
   ]
  },
  {
   "cell_type": "markdown",
   "metadata": {},
   "source": [
    "(a) Assume that we are using a hash table of size $m$. Show that if the universe $U$  has size $|U| > nm$, there is a subset of $U$ of size $n$ with the property that they all hash to the same position, so that the worst-case searching time for hashing with chaining is $\\Theta(n)$.\n",
    "\n",
    "(b) We are storing a set $S$ of $n$ numbers in a hash table\n",
    " $T[0..m-1]$ of size $m$ and we are choosing $m=n$. Should we resolve collisions with chaining or open addressing? Explain your answer."
   ]
  },
  {
   "cell_type": "code",
   "execution_count": null,
   "metadata": {
    "collapsed": true
   },
   "outputs": [],
   "source": []
  }
 ],
 "metadata": {
  "anaconda-cloud": {},
  "kernelspec": {
   "display_name": "Python 3",
   "language": "python",
   "name": "python3"
  },
  "language_info": {
   "codemirror_mode": {
    "name": "ipython",
    "version": 3
   },
   "file_extension": ".py",
   "mimetype": "text/x-python",
   "name": "python",
   "nbconvert_exporter": "python",
   "pygments_lexer": "ipython3",
   "version": "3.6.0"
  }
 },
 "nbformat": 4,
 "nbformat_minor": 0
}
