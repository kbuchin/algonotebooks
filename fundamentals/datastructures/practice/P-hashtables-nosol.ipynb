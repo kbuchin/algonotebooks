{
 "cells": [
  {
   "cell_type": "markdown",
   "metadata": {},
   "source": [
    "# Practice: Hash Tables"
   ]
  },
  {
   "cell_type": "markdown",
   "metadata": {},
   "source": [
    "Difficulty assessment:\n",
    "\n",
    "(\\*) Basic. You should be able to easily do this.\n",
    "\n",
    "(\\*\\*) Standard. Core material to test your understanding.\n",
    "\n",
    "(\\*\\*\\*) Advanced. Possibly slightly above the level of the assignments."
   ]
  },
  {
   "cell_type": "markdown",
   "metadata": {},
   "source": [
    "## Hash tables"
   ]
  },
  {
   "cell_type": "markdown",
   "metadata": {},
   "source": [
    "**Exercise 1 ( \\*\\* ):**\n",
    "    \n",
    "(a) You have a universe of 30 numbers $\\{0, 1, \\ldots, 29\\}$ and a hash-table of size $10$. Which hash-function is better, $h_1(k) = k \\mod 10$, or $h_2(k) = \\lfloor k/10\\rfloor$?"
   ]
  },
  {
   "cell_type": "markdown",
   "metadata": {},
   "source": [
    "(b) How many different hash functions exist that map from a universe of size $n$ to the\n",
    "integers $1$ to $m$?"
   ]
  },
  {
   "cell_type": "markdown",
   "metadata": {},
   "source": [
    "**Exercise 2 ( \\*\\* ):**\n",
    "    \n",
    "(a) Draw the hash table of length $m = 16$ resulting from hashing the keys $8, 12, 40, 13, 88,\n",
    "45, 29, 20, 23$, and $77$, using the hash function $h(k) = (3k + 1) \\mod 16$ and assuming\n",
    "collisions are handled by chaining. Is $m = 16$ a good choice for the size of a table? Why\n",
    "or why not?"
   ]
  },
  {
   "cell_type": "markdown",
   "metadata": {},
   "source": [
    "(b) Repeat the previous exercise for a table of size $m = 13$ using the hash function $h(k) =\n",
    "(3k + 1) \\mod 13$. Why is $m = 13$ a better choice for the size of a hash table than\n",
    "$m = 16$?"
   ]
  },
  {
   "cell_type": "markdown",
   "metadata": {},
   "source": [
    "(c) What is the result of the previous exercise, assuming collisions are handled by linear\n",
    "probing? Report for every key how often you had to probe unsuccessfully before you could insert the key, and report the total number of unsuccessful probes."
   ]
  },
  {
   "cell_type": "markdown",
   "metadata": {
    "collapsed": true
   },
   "source": [
    "(d) What is the result of (c) assuming collisions are handled by double hashing with a\n",
    "primary hash function $h'(k) = h(k)$ and a secondary hash function $h''(k) = k \\mod 15$?"
   ]
  },
  {
   "cell_type": "markdown",
   "metadata": {},
   "source": [
    "**Exercise 3:**\n",
    "Describe algorithms for Hash-Chain-Insert, Hash-Chain-Delete, and Hash-Chain-Search for a hash table with chaining, where the (doubly-linked) lists are stored in a sorted order. Analyze the running time of the algorithms."
   ]
  },
  {
   "cell_type": "markdown",
   "metadata": {},
   "source": [
    "**Exercise 4:** Consider two sets of integers, $S = \\{s_1, s_2, \\ldots, s_m\\}$ and $T = \\{t_1, t_2, \\ldots, t_n\\}$, $m \\leq n$. Describe an algorithm that uses a hash table of size $m$ to test whether $S$ is a subset of $T$, that runs in $O(n)$ time. You may assume the existence of a suitable hash function that satisifies the assumption of simple uniform hashing."
   ]
  },
  {
   "cell_type": "code",
   "execution_count": null,
   "metadata": {
    "collapsed": true
   },
   "outputs": [],
   "source": []
  }
 ],
 "metadata": {
  "kernelspec": {
   "display_name": "Python 3",
   "language": "python",
   "name": "python3"
  },
  "language_info": {
   "codemirror_mode": {
    "name": "ipython",
    "version": 3
   },
   "file_extension": ".py",
   "mimetype": "text/x-python",
   "name": "python",
   "nbconvert_exporter": "python",
   "pygments_lexer": "ipython3",
   "version": "3.6.0"
  }
 },
 "nbformat": 4,
 "nbformat_minor": 2
}
