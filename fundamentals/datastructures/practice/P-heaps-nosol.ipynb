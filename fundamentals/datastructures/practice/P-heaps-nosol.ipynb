{
 "cells": [
  {
   "cell_type": "markdown",
   "metadata": {},
   "source": [
    "# Practice: Heaps"
   ]
  },
  {
   "cell_type": "markdown",
   "metadata": {},
   "source": [
    "Difficulty assessment:\n",
    "\n",
    "(\\*) Basic. You should be able to easily do this.\n",
    "\n",
    "(\\*\\*) Standard. Core material to test your understanding.\n",
    "\n",
    "(\\*\\*\\*) Advanced. Possibly slightly above the level of the assignments."
   ]
  },
  {
   "cell_type": "markdown",
   "metadata": {},
   "source": [
    "**Exercise 1 ( \\* ):**\n",
    "\n",
    "(a) Give the definition of a max-heap."
   ]
  },
  {
   "cell_type": "markdown",
   "metadata": {},
   "source": [
    "(b) Is the sequence $\\langle 24, 16, 21, 6, 8, 19, 20, 5, 7, 4\\rangle$ a max-heap?"
   ]
  },
  {
   "cell_type": "markdown",
   "metadata": {},
   "source": [
    "(c) We can store a max-heap in an array. Argue that the $k$-th node on level $j$ of a max-heap is stored at position $2^j + k - 2$. (E.g., the $1$st node on level $0$ is the root, which is stored at position $2^0 + 1 - 2 = 0$.)"
   ]
  },
  {
   "cell_type": "markdown",
   "metadata": {},
   "source": [
    "**Exercise 2 ( \\*\\* ):**\n",
    "    \n",
    "Demonstrate the execution of HeapSort on the following input: $\\langle 7, 14, 9, 12, 25, 41, 2 \\rangle$. Show\n",
    "every step that changes the array. (One call of Max-Heapify counts as one step.) It is sufficient to note the operation and write the array after each step, i.e., you do not need to draw the heap as tree."
   ]
  },
  {
   "cell_type": "markdown",
   "metadata": {},
   "source": [
    "**Exercise 3 ( \\*\\* )::**\n",
    "\n",
    "Describe a linear-time algorithm MaxHeapVerify($A$) that checks whether a given array $A$\n",
    "is a max-heap. Prove its correctness using the loop invariant, and analyze the running time. (*Note: You can also give a recursive algorithm. Then prove correctness using strong induction.*)   "
   ]
  }
 ],
 "metadata": {
  "kernelspec": {
   "display_name": "Python 3",
   "language": "python",
   "name": "python3"
  },
  "language_info": {
   "codemirror_mode": {
    "name": "ipython",
    "version": 3
   },
   "file_extension": ".py",
   "mimetype": "text/x-python",
   "name": "python",
   "nbconvert_exporter": "python",
   "pygments_lexer": "ipython3",
   "version": "3.7.0"
  }
 },
 "nbformat": 4,
 "nbformat_minor": 2
}
