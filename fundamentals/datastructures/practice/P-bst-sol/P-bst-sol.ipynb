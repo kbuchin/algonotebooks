{
 "cells": [
  {
   "cell_type": "markdown",
   "metadata": {},
   "source": [
    "# Practice: Binary Search Trees"
   ]
  },
  {
   "cell_type": "markdown",
   "metadata": {},
   "source": [
    "Difficulty assessment:\n",
    "\n",
    "(\\*) Basic. You should be able to easily do this.\n",
    "\n",
    "(\\*\\*) Standard. Core material to test your understanding.\n",
    "\n",
    "(\\*\\*\\*) Advanced. Possibly slightly above the level of the assignments."
   ]
  },
  {
   "cell_type": "markdown",
   "metadata": {},
   "source": [
    "**Exercise 1 ( \\* ):**\n",
    "\n",
    "(a) Insert items with the following keys (in the given order) into an initially empty binary\n",
    "search tree: $30$, $40$, $24$, $58$, $48$, $26$, $11$, $13$. Draw the tree after any two insertions."
   ]
  },
  {
   "cell_type": "markdown",
   "metadata": {},
   "source": [
    "**Solution:**\n",
    "    \n",
    "<img src=\"bst-insert.png\" width=\"550\">"
   ]
  },
  {
   "cell_type": "markdown",
   "metadata": {},
   "source": [
    "(b) Choose a set of $7$ distinct, positive, integer keys. Draw binary search trees for your set\n",
    "of height $2$, $5$, and $6$."
   ]
  },
  {
   "cell_type": "markdown",
   "metadata": {},
   "source": [
    "**Solution:**\n",
    "\n",
    "Any set of seven distinct integers will work. Let's choose $\\{1, 2, 3, 4, 5, 6, 7\\}$. We will tackle this problem by considering what a final solution would look like. So, we will first construct three trees of heights $2$, $5$, and $6$, and then will fill in the values in the nodes of the trees in the order of inorder walk, thus ensuring that the binary-search-tree property is satisfied.\n",
    "\n",
    "First, for height $2$, the only option is the complete binary tree:\n",
    "\n",
    "<img src=\"bst-height2.png\" width=\"450\">\n",
    "\n",
    "For height $5$, we start with a chain of six nodes (which will give us a tree of height $5$), and add the last node such that we don't increase the height. For example, we can add the last node as the second child of the root:\n",
    "\n",
    "<img src=\"bst-height5.png\" width=\"450\">\n",
    "\n",
    "For height $6$, the only option is the chain of seven nodes:\n",
    "\n",
    "<img src=\"bst-height6.png\" width=\"450\">"
   ]
  },
  {
   "cell_type": "markdown",
   "metadata": {},
   "source": [
    "**Exercise 2 ( \\* ):**\n",
    "    \n",
    "For each of the algorithms PreorderTreeWalk, InorderTreeWalk, and PostorderTreeWalk answer the following questions:\n",
    "\n",
    "(a) Does the algorithm print the keys of elements stored in a binary search tree in a sorted\n",
    "order? Why or why not?"
   ]
  },
  {
   "cell_type": "markdown",
   "metadata": {},
   "source": [
    "**Solution:**\n",
    "\n",
    "InorderTreeWalk does (as discussed in the lecture), PreorderTree-\n",
    "Walk and PostorderTreeWalk do not. For example, for the tree from Exercise 1, we get the following orders:\n",
    "\n",
    "PreorderTreeWalk will print the sequence $30, 24, 11, 13, 26, 40, 58, 48$, and PostorderTreeWalk will print the sequence $13, 11, 26, 24, 48, 58, 40, 30$."
   ]
  },
  {
   "cell_type": "markdown",
   "metadata": {},
   "source": [
    "(b) Does the algorithm print the keys of elements stored in a min-heap in a sorted order?\n",
    "Why or why not?"
   ]
  },
  {
   "cell_type": "markdown",
   "metadata": {},
   "source": [
    "**Solution:**\n",
    "\n",
    "No for all three. For example, for the following min-heap:\n",
    "\n",
    "<img src=\"minheap-order.png\" width=\"150\">\n",
    "\n",
    "- InorderTreeWalk will print $42, 40, 46, 24, 26, 11, 48, 30, 58$, \n",
    "\n",
    "- PreorderTreeWalk will print the sequence $11, 24, 40, 42, 46, 26, 30, 48, 58$, and\n",
    "\n",
    "- PostorderTreeWalk will print the sequence $42, 46, 40, 26, 24, 48, 58, 30, 11$.\n",
    "\n",
    "*Note: Recall the $\\Omega(n \\log n)$ lower bound on comparison-based sorting. What would the answer yes to this problem imply for the lower bound on sorting?*"
   ]
  },
  {
   "cell_type": "markdown",
   "metadata": {},
   "source": [
    "**Exercise 3 ( \\*\\* )::**\n",
    "\n",
    "(a) The height of a node $v$ in a rooted tree $T$ is defined as the number of edges on the\n",
    "longest simple downwards path from the node $v$ to a leaf. Write an algorithm that calculates the height of all nodes in a binary tree and has running time $O(n)$. Do not forget to prove the correctness of your algorithm and to argue that it indeed runs in $O(n)$ time."
   ]
  },
  {
   "cell_type": "markdown",
   "metadata": {},
   "source": [
    "**Solution:**\n",
    "\n",
    "When considering binary search trees, we have a choice: to ignore the existence of None-leafs or not. In this problem we will take the None leafs of a binary search tree into account, and count the number of edges from a node to a None-leaf to compute the node's height. Then, the height of a None-leaf is 0. If we know the heights $h_\\ell$ and $h_r$ of a node's left and right child, we can compute the height of the node itself by taking the maximum of $h_\\ell$ and $h_r$, and adding 1. So, we can modify the PostorderTreeWalk to compute the heights of all nodes in the following way:"
   ]
  },
  {
   "cell_type": "code",
   "execution_count": 15,
   "metadata": {
    "collapsed": false
   },
   "outputs": [
    {
     "name": "stdout",
     "output_type": "stream",
     "text": [
      "3\n"
     ]
    }
   ],
   "source": [
    "#Input: node x\n",
    "#Output: height of node x, additionally we store the height as variable h of a node (if the node is not None) \n",
    "\n",
    "def ComputeHeight(x): \n",
    "    if not x: return 0\n",
    "    hl = ComputeHeight(x.left)\n",
    "    hr = ComputeHeight(x.right)\n",
    "    if hl > hr: x.h = hl + 1\n",
    "    else: x.h = hr + 1\n",
    "    return x.h\n",
    "\n",
    "class Node:\n",
    "    def __init__(self, key, parent=None, left=None, right=None, data=None):\n",
    "        self.key = key\n",
    "        self.p = parent\n",
    "        self.left = left\n",
    "        self.right = right\n",
    "        self.h = None\n",
    "        \n",
    "root = Node(10)\n",
    "leftchild = Node(5, root)\n",
    "rightchild = Node(15, root)\n",
    "root.left = leftchild\n",
    "root.right = rightchild\n",
    "grandchild = Node(7, leftchild)\n",
    "leftchild.right = grandchild\n",
    "\n",
    "# Initially we call ComputeHeight on the root.\n",
    "ComputeHeight(root)\n",
    "print(root.h)"
   ]
  },
  {
   "cell_type": "markdown",
   "metadata": {},
   "source": [
    "**Proof of correctness:** We prove the correctness of the algorithm using strong induction on the height $h$ of the tree. *(Note: There are other options here, like induction on the number of nodes, or structural induction.)*\n",
    "\n",
    "Namely, we claim that for any value of $h \\le 0$, calling ComputeHeight on the root $x$ of a subtree of height $h$ correctly determines the height values $y.h$ for all nodes $y$ in the\n",
    "subtree rooted at $x$, and moreover, it correctly returns the height of the subtree rooted at $x$.\n",
    "\n",
    "*Base case:* $h = 0$. In this case $x$ is a None-leaf, and the algorithm correctly returns $0$.\n",
    "\n",
    "*Inductive step:*\n",
    "\n",
    "*Induction hypothesis:* Assume that ComputeHeight works correctly for all subtrees of height $0 \\le k < h$ for some fixed $h > 0$.\n",
    "\n",
    "Let $x$ denote the root of the subtree $T_x$ and assume that $T_x$ has height $h$. Let $T_\\ell$\n",
    "and $T_r$ denote the subtrees rooted at x.left and x.right, respectively. By definition, $height(T_x) = \\max(height(T_ell); height(T_r)) + 1$. Since $T_x$ has height greater than 0,\n",
    "the algorithm does not return in the first line of the algorithm but proceeds to line 2. The heights of the subtrees $T_\\ell$ and $T_r$ are strictly smaller than $h$, and therefore, by induction hypothesis, ComputeHeight correctly determines the values $h_\\ell$ and $h_r$ in lines $2$ and $3$. \n",
    "\n",
    "Therefore, the algorithm also computes x.h correctly, and thus also returns the correct value in line $5$.\n",
    "\n",
    "**Running time:** The algorithm calls ComputeHeight exactly once on every node. Each call takes constant time (excluding the recursive calls which we charge to the roots of the corresponding subtrees). Thus the overall running time is $O(1)\\cdot n = O(n)$. \n",
    "\n",
    "*Note: The exercise asks to argue the running time. In this case I don't expect a formal proof; an argument as given above is sufficient. Below I include some notes on a formal proof:*\n",
    "\n",
    "Let $T(n)$ denote the running time of the algorithm on a tree with $n$ nodes. When the ComputeHeight is called on a leaf, it returns in the first line. Therefore, it takes a constant time to run. So, let $T(1) = c$ for some positive constant $c$. Suppose now ComputeHeight is called on a node $x$ with $n$ nodes in its subtree. Then, ComputeHeight performs some constant amount of work, and then recursively is called on the two children of $x$. Let $k$ be the size of the subtree rooted at $x$'s left child. Then we get the following recursion:\n",
    "\n",
    "$T(n) = T(k) + T(n - k - 1) + d$,\n",
    "\n",
    "for some positive constant $d$. We can show that $T(n) = O(n)$ by substitution method. *Note:* In a formal proof you would then here additionally prove this statement using an induction."
   ]
  },
  {
   "cell_type": "markdown",
   "metadata": {},
   "source": [
    "(b) The depth of a node $v$ in a rooted tree $T$ is defined as the number of edges on the simple path from the root of $T$ to the node $v$. Write an algorithm that calculates the depths\n",
    "of all nodes in a binary tree and has running time $O(n)$. Do not forget to argue the\n",
    "correctness of your algorithm and to argue that it indeed runs in $O(n)$ time."
   ]
  },
  {
   "cell_type": "markdown",
   "metadata": {},
   "source": [
    "**Solution:**\n",
    "\n",
    "Unlike the height of a node, the depth of a node $x$ does not depend on the subtree rooted at $x$, but on the path from $x$ to the root of the tree. Thus, we need to know the depth of a parent of $x$ to compute the depth of $x$. We will modify the PreorderTreeWalk in the following way:"
   ]
  },
  {
   "cell_type": "code",
   "execution_count": 16,
   "metadata": {
    "collapsed": false
   },
   "outputs": [
    {
     "name": "stdout",
     "output_type": "stream",
     "text": [
      "2\n"
     ]
    }
   ],
   "source": [
    "#Input: node x\n",
    "#Output: depth of node x, additionally we store the depth as variable depth of a node (if the node is not None) \n",
    "\n",
    "def ComputeDepth(x): \n",
    "    if x: \n",
    "        if not x.p: \n",
    "            x.depth = 0\n",
    "        else:\n",
    "            x.depth = x.p.depth + 1\n",
    "        ComputeDepth(x.left)\n",
    "        ComputeDepth(x.right)\n",
    "        \n",
    "        return x.depth\n",
    "\n",
    "class Node:\n",
    "    def __init__(self, key, parent=None, left=None, right=None, data=None):\n",
    "        self.key = key\n",
    "        self.p = parent\n",
    "        self.left = left\n",
    "        self.right = right\n",
    "        self.depth = None\n",
    "        \n",
    "root = Node(10)\n",
    "leftchild = Node(5, root)\n",
    "rightchild = Node(15, root)\n",
    "root.left = leftchild\n",
    "root.right = rightchild\n",
    "grandchild = Node(7, leftchild)\n",
    "leftchild.right = grandchild\n",
    "\n",
    "# Initially we call ComputeHeight on the root.\n",
    "ComputeDepth(root)\n",
    "print(grandchild.depth)"
   ]
  },
  {
   "cell_type": "markdown",
   "metadata": {},
   "source": [
    "**Proof of correctness:** The correctness follows from the definition of the depth. The length of a simple path from a node $x$ to the root of the tree is one larger than the length of the\n",
    "path from the parent of $x$ to the root of the tree.\n",
    "When computing the depth of a node $x$, the depth of a parent of $x$ has already been\n",
    "computed, as the depth of a node is computed, before the recursive call to ComputeDepth on its left and right children.\n",
    "\n",
    "**Running time:** The algorithm calls ComputeDepth exactly once on every node. Each call takes constant time (excluding the recursive calls which we charge to the roots of the corresponding subtrees). Thus the overall running time is $O(1)\\cdot n = O(n)$. "
   ]
  },
  {
   "cell_type": "markdown",
   "metadata": {},
   "source": [
    "**Exercise 4 ( \\*\\* ):**\n",
    "\n",
    "Given a set of elements with unique integer keys stored in a binary\n",
    "search tree $T$, propose an algorithm that takes an integer $k$ as an input and returns the element from $T$ with the minimum key among all the elements whose keys are not smaller than $k$ (or None if no such key exists). (Hint: Modify the Tree-Search or Iterative-Tree-Search\n",
    "algorithm.)"
   ]
  },
  {
   "cell_type": "markdown",
   "metadata": {},
   "source": [
    "**Solution:**\n",
    "\n",
    "Recall that TreeSearch returns the node with key $k$ if it exists, and None otherwise. If it returns None, it does so when reaching a None-leaf. If there is a node with key $k$, we still want to return the corresponding node. \n",
    "\n",
    "Thus we only need to change the return-value for the case that the search reaches a leaf. Imagine inserting a node $x_k$ with the key $k$, we would do so at the None-leaf that the search ends in. Now, the node we want to return is the successor of $x_k$. Since $x_k$, does not have a right child, the successor is the lowest ancestor such that $x_k$ is in the subtree of the left child. All ancestors of $x_k$ are on the search path. Thus, in other words, the successor is the last node on the search path for which the search continued in the left subtree.\n",
    "\n",
    "We do not actually insert $x_k$, but during the search we store an additional variable $succ$, which we initially set to Null, and always update to the current node, if we continue into the left subtree. This gives the following algorithm:"
   ]
  },
  {
   "cell_type": "code",
   "execution_count": 19,
   "metadata": {
    "collapsed": false
   },
   "outputs": [
    {
     "data": {
      "text/plain": [
       "7"
      ]
     },
     "execution_count": 19,
     "metadata": {},
     "output_type": "execute_result"
    }
   ],
   "source": [
    "def TreeSearchLE(x, k, succ = None):\n",
    "    if not x: return succ\n",
    "    elif k == x.key: return x\n",
    "    elif k < x.key: return TreeSearchLE(x.left, k, x)\n",
    "    else: return TreeSearchLE(x.right, k, succ)\n",
    "    \n",
    "class Node:\n",
    "    def __init__(self, key, parent=None, left=None, right=None, data=None):\n",
    "        self.key = key\n",
    "        self.p = parent\n",
    "        self.left = left\n",
    "        self.right = right\n",
    "        self.h = None\n",
    "        \n",
    "root = Node(10)\n",
    "leftchild = Node(5, root)\n",
    "rightchild = Node(15, root)\n",
    "root.left = leftchild\n",
    "root.right = rightchild\n",
    "grandchild = Node(7, leftchild)\n",
    "leftchild.right = grandchild\n",
    "\n",
    "TreeSearchLE(root, 6).key"
   ]
  },
  {
   "cell_type": "markdown",
   "metadata": {},
   "source": [
    "**Correctness:**\n",
    "\n",
    "There are three cases:\n",
    "\n",
    "1.) There is a node with key $k$. Then the search returns the same value as the regular TreeSearch, namely a node with key $k$. Thus, in this case the algorithm is correct.\n",
    "\n",
    "2.) $k$ is larger than all keys in the tree. In this case the search eventually hits a leaf, and returns $succ$. The variable $succ$ is intially set to None and never updated, since the search always goes to the right subtree. Thus, the algorithm returns None, which is correct for this case\n",
    "\n",
    "3.) $k$ is not an existing key, and there are keys larger than $k$. By the argument given with the explanation of the algorithm, we want to return the successor of $k$ (if we would insert a node with key $k$). As argued, it is the last node $x$, at which the algorithm goes into the left subtree. This is also the last time that the algorithm updates the variable $succ$, namely to $succ = x$. Thus, $x$ is returned, which is correct for this case.\n",
    "\n",
    "**Running time:** Up to a constant factor the running time is the same as for TreeSearch. Thus, the running time is $O(h)$, which is $O(\\log n)$ if the tree is a balanced binary search tree."
   ]
  },
  {
   "cell_type": "code",
   "execution_count": null,
   "metadata": {
    "collapsed": true
   },
   "outputs": [],
   "source": []
  }
 ],
 "metadata": {
  "kernelspec": {
   "display_name": "Python 3",
   "language": "python",
   "name": "python3"
  },
  "language_info": {
   "codemirror_mode": {
    "name": "ipython",
    "version": 3
   },
   "file_extension": ".py",
   "mimetype": "text/x-python",
   "name": "python",
   "nbconvert_exporter": "python",
   "pygments_lexer": "ipython3",
   "version": "3.6.0"
  }
 },
 "nbformat": 4,
 "nbformat_minor": 2
}
