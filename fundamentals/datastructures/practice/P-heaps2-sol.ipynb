{
 "cells": [
  {
   "cell_type": "markdown",
   "metadata": {},
   "source": [
    "# Practice Exercises: Heaps"
   ]
  },
  {
   "cell_type": "markdown",
   "metadata": {},
   "source": [
    "### Exercise 1"
   ]
  },
  {
   "cell_type": "markdown",
   "metadata": {},
   "source": [
    "What are the minimum and maximum numbers of elements in a heap of height $h$?"
   ]
  },
  {
   "cell_type": "markdown",
   "metadata": {},
   "source": [
    "**Solution:**\n",
    "\n",
    "The maximum number is achieved by a perfect binary tree, i.e., also the last level is filled completely. In this can the number of elements is $\\sum_{i=0}^h 2^i = 2^{h+1} - 1$. For instance, a heap of height 0 consists only of $1 = 2^1 - 1$ element. A heap of height 1 can have up to $3 = 2^2 -1$ elements.\n",
    "\n",
    "The minimum number is achieved by a heap that only has one element in the last level. The number of elements is therefore the same as 1 + the maximum number of elements in a heap of height $h-1$. Thus, the minimum number of elements in a heap of height $h$ is $2^h$. For instance, for height 0 this is again simply 1. For height 1, it is 2."
   ]
  },
  {
   "cell_type": "markdown",
   "metadata": {},
   "source": [
    "### Exercise 2"
   ]
  },
  {
   "cell_type": "markdown",
   "metadata": {},
   "source": [
    "Prove by induction that a heap with $n$ nodes has exactly $\\lceil n/2 \\rceil$ leaves."
   ]
  },
  {
   "cell_type": "markdown",
   "metadata": {},
   "source": [
    "**Solution:**\n",
    "\n",
    "This statement can be proved in many ways. An intuitive inductive perspective is the following: If we add new nodes one by one, the following happens: if the new node is a left child, then it is a new leaf but its parent was a leaf and now no longer is. So the number of leaves does not increase. If hte new node is a right child, then it is a new leaf, and the parent already previously was no longer a leaf. So the number of leaves increases by one. Thus in every second step the number of leaves increases by one, resulting in $\\lceil n/2 \\rceil$ leaves. Lets write this as a proof.\n",
    "\n",
    "Proof by induction on n: \n",
    "\n",
    "*Induction hypothesis (IH):* A heap with $n$ nodes has exactly $\\lceil n/2 \\rceil$ leaves.\n",
    "\n",
    "*Base case ($n=1$):* If a heap consists of 1 node, that node also is a leaf. So, the number of leaves is $1 =  \\lceil 1/2 \\rceil$.\n",
    "\n",
    "*Induction step ($n \\rightarrow n+1$).* Assume the IH holds for $n$. Consider a heap with $n+1$ nodes. We consider 2 cases:\n",
    "\n",
    "1. case: n+1 is even. This means that the $n+1$st node is the left child of its parent (Note: You could also prove this fact by induction, but that seems a bit over the top. Every second node is a left child, so this is just a matter of parity). When adding a left child, the number of leaves stays the same: the new node is a leaf, but its parent no longer is. Thus the number of leaves is the same as for a heap with $n$ nodes. By IH this number is $\\lceil n/2 \\rceil$. Because $n+1$ is even (and $n$ odd), this is actually equal to $\\lceil (n+1)/2 \\rceil$, which is what we wanted to prove.\n",
    "\n",
    "2. case n+1 is odd. This means that the $n+1$st node is the right child of its parent. Thus by adding this node, the number of leaves increases by 1: the new node is a leaf, and its parent already previously wasn't a leaf. Thus the number of leaves is 1 more than for a heap with $n$ nodes. Thus, by IH we get that the number of leaves is $1 +  \\lceil n/2 \\rceil = \\lceil (n+1)/2 \\rceil$, where the last equality holds because $n+1$ is odd, thus $\\lceil \\cdots \\rceil$ will round up. But that the number of leaves is $\\lceil (n+1)/2 \\rceil$ is exactly what we wanted to prove.\n",
    "\n",
    "Since in both cases, we conclude that the heap has $\\lceil (n+1)/2 \\rceil$ leaves, this completes the proof."
   ]
  },
  {
   "cell_type": "markdown",
   "metadata": {},
   "source": [
    "### Exercise 3"
   ]
  },
  {
   "cell_type": "markdown",
   "metadata": {},
   "source": [
    "Use the following loop invariant to argue the correctness of HeapSort:\n",
    "\n",
    "At the start of each iteration of the **for** loop of lines 2-5, the subarray $A[0:i+1]$ is a max-heap containing the $i+1$ smallest elements of $A$, and the subarray $A[i+1:n]$ contains the $n-i-1$ largest elements of $A$, sorted."
   ]
  },
  {
   "cell_type": "markdown",
   "metadata": {},
   "source": [
    "**Solution:**\n",
    "\n",
    "*Initialization:* At the start of the first iteration $i=n-1$. Thus, the loop invariant states that $A = A[0:n]$ contains a max-heap (and the second half of the loop invariant (LI) makes a statement about an empty subarray). Since just before the loop the algorithm built a max-heap, the LI holds.\n",
    "\n",
    "*Maintenance:* Assume the LI holds at the start of the $i$th iteration. Thus, $A[i+1:n]$ contains the $n-i-1$ largest elements of $A$, sorted. Furthermore, since $A[0:i+1]$ is a max-heap, the largest of the remaining elements is at $A[0]$. Thus by swapping $A[0]$ and $A[i]$, we now have that $A[i:n]$ contains the $n-i$ largest elements of $A$, sorted.\n",
    "\n",
    "At the start of the $i$th iteration $A[0:i+1]$ was a max-heap, thus also $A[0:i]$ was a max-heap. After swapping $A[0]$ with $A[i]$, the max-heap property may be violated at $A[0]$, but after calling MaxHeapify is restored. Therefore, at the start of the next iteration $A[0:i]$ will be a max-heap.\n",
    "\n",
    "Therefore both parts of the LI hold at the start of the next iteration with index $i+1$.\n",
    "\n",
    "*Termination:* In the last iteration $i=1$ and the algorithm always decreases $i$ by 1. Therefore, when the loop terminates, we have $i=0$. The LI then gives us that $A[1:n] contains the largest $n-1$ elements sorted. From this we can conclude that the smallest element is at $A[0]$ and the array $A$ is overall sorted. Thus, HeapSort is correct.\n",
    "\n"
   ]
  },
  {
   "cell_type": "markdown",
   "metadata": {},
   "source": [
    "### Exercise 4"
   ]
  },
  {
   "cell_type": "markdown",
   "metadata": {},
   "source": [
    "Give an algorithm that -given a max-heap- outputs the second largest element in the heap. For full points your algorithm should run in $\\Theta (1)$ time."
   ]
  },
  {
   "cell_type": "markdown",
   "metadata": {},
   "source": [
    "The algorithm simply returns the maximum of $A[1]$ and $A[2]$.\n",
    "\n",
    "*running time:* Comparing $A[1]$ and $A[2]$ and returning the maximum of the two takes constant time.\n",
    "\n",
    "*correctness:* We know that the maximum is at $A[0]$. Thus the maximum of $A[1:n]$ is the second largest element in $A$. The remaining array $A[1:n]$ consists of two subheaps rooted at $A[1]$ and $A[2]$ respectively. Thus, $A[1]$ and $A[2]$ are the maxima of their respective subheaps and therefore the only candidates for being the maximum of $A[1:n]$. Therefore, by taking the maximum of $A[1]$ and $A[2]$ we find the second largest element.\n",
    "\n",
    "*Note: There are variations of this exercise: A common question is two find the third largest or the three largest elements. To give you a chance to think about this, I will give the algorithm for this variant after the solution for Exercise 5.*"
   ]
  },
  {
   "cell_type": "markdown",
   "metadata": {},
   "source": [
    "### Exercise 5"
   ]
  },
  {
   "cell_type": "markdown",
   "metadata": {},
   "source": [
    "(a) How do Left(i), Right(i), Parent(i), and all other operations change if we use an array starting at index 1?\n",
    "\n",
    "(b) Implement a heap in Python using a list. Note that you can do this without (but also with) defining a class by defining operations manipulating a list. "
   ]
  },
  {
   "cell_type": "markdown",
   "metadata": {},
   "source": [
    "**Solution:**\n",
    "\n",
    "(a) We have for heaps starting at index 0:\n",
    "\n",
    "- Left($i$) = $2i + 1$\n",
    "- Right($i$) = $2i + 2$\n",
    "- Parent($i$) = $(i-1)//2$\n",
    "\n",
    "Starting at 1, there is an index shift by 1 resulting in \n",
    "\n",
    "- Left($i$) = $2i$\n",
    "- Right($i$) = $2i + 1$\n",
    "- Parent($i$) = $i//2$\n",
    "\n",
    "Otherwise, the main change is that whenever we refer to the root, we use A[1] instead of A[0], and whenever we refer to the last element, we refer to A[heap-size - 1] rather than A[heap-size].\n",
    "\n",
    "For completeness, here is an implementation with index starting at 1:\n",
    "\n",
    "```python\n",
    "\n",
    "\n",
    "# For completeness below is a version with the index of the heap starting at index 1 (as e.g. in the Cormen et al. book)\n",
    "# To avoid issues about heap vs array size, we will simply use a Python list, and resize it as needed\n",
    "# The code is kept as close to the slides as possible. To avoid an index shift, we will place a dummy element (0) at the beginning of the list.\n",
    "A = [0]\n",
    "def heap_size(A): return len(A)-1\n",
    "\n",
    "def Left(i): return 2*i \n",
    "def Right(i): return 2*i+1\n",
    "def parent(i): return i//2\n",
    "\n",
    "def maximum(A):\n",
    "    if heap_size(A) < 1: raise Exception('Heap is empty.')\n",
    "    else: return A[1]\n",
    "\n",
    "def Heap_Extract_Max(A):\n",
    "    if heap_size(A) < 1: raise Exception('Heap is empty.')\n",
    "    max = A[1]\n",
    "    if heap_size(A) == 1: A = [0]\n",
    "    else: \n",
    "        A[1] = A.pop()\n",
    "        Max_Heapify(A,1)\n",
    "    return max\n",
    "\n",
    "def Max_Heapify(A,i,heapsize=None):\n",
    "    if heapsize==None: heapsize= heap_size(A)\n",
    "    if Left(i) <= heapsize and A[Left(i)] > A[i]: largest = Left(i)\n",
    "    else: largest = i\n",
    "    \n",
    "    if Right(i) <= heapsize and A[Right(i)] > A[largest]: largest = Right(i)\n",
    "    if largest != i: \n",
    "        A[i], A[largest] = A[largest], A[i]\n",
    "        Max_Heapify(A, largest, heapsize)\n",
    "        \n",
    "import math\n",
    "\n",
    "def Insert (A, key):\n",
    "    A.append(-math.inf)\n",
    "    Increase_Key(A, heap_size(A), key)\n",
    "\n",
    "def Increase_Key(A, i, key):\n",
    "    if key < A[i]: raise Exception('key < A[i]')\n",
    "    A[i] = key\n",
    "    while i>1  and A[parent(i)] < A[i]:\n",
    "        A[parent(i)], A[i] = A[i], A[parent(i)]\n",
    "        i = parent(i)\n",
    "        \n",
    "def Build_Max_Heap(A): # We will assume that A has a dummy element at the beginning\n",
    "    for i in reversed(range(1,heap_size(A)+1)): Max_Heapify(A,i)\n",
    "\n",
    "def HeapSort(A):\n",
    "    Build_Max_Heap(A)\n",
    "    heapsize = heap_size(A)\n",
    "    for i in reversed(range(2,heap_size(A)+1)):\n",
    "        A[1], A[i] = A[i], A[1]\n",
    "        heapsize -= 1\n",
    "        Max_Heapify(A,1, heapsize)\n",
    "\n",
    "```\n",
    "\n",
    "(b) The solution to this part can be found in the notebook about heaps.\n",
    "\n",
    "*Final note about previous exercise:* If we want to find the third largest element in a Max-Heap, it is easy to observe that it has to be in one of the first three levels and therefore has to be in $A[0:6]$. Therefore simply take the elements in this subarray, sort them, and take the 3rd largest element. All of this, because it only concerns a constant number of elements, can be done in constant time."
   ]
  },
  {
   "cell_type": "code",
   "execution_count": null,
   "metadata": {},
   "outputs": [],
   "source": []
  }
 ],
 "metadata": {
  "anaconda-cloud": {},
  "kernelspec": {
   "display_name": "Python 3",
   "language": "python",
   "name": "python3"
  },
  "language_info": {
   "codemirror_mode": {
    "name": "ipython",
    "version": 3
   },
   "file_extension": ".py",
   "mimetype": "text/x-python",
   "name": "python",
   "nbconvert_exporter": "python",
   "pygments_lexer": "ipython3",
   "version": "3.8.3"
  }
 },
 "nbformat": 4,
 "nbformat_minor": 1
}
