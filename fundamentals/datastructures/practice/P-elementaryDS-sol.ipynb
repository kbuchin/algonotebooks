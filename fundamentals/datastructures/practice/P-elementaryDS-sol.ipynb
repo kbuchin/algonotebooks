{
 "cells": [
  {
   "cell_type": "markdown",
   "metadata": {
    "collapsed": true
   },
   "source": [
    "# Practice: Elementary Data Structures"
   ]
  },
  {
   "cell_type": "markdown",
   "metadata": {},
   "source": [
    "Difficulty assessment:\n",
    "\n",
    "(\\*) Basic. You should be able to easily do this.\n",
    "\n",
    "(\\*\\*) Standard. Core material to test your understanding.\n",
    "\n",
    "(\\*\\*\\*) Advanced. Possibly slightly above the level of the assignments."
   ]
  },
  {
   "cell_type": "markdown",
   "metadata": {},
   "source": [
    "**Exercise 1 ( \\* ):**\n",
    "\n",
    "Given a doubly-linked list that stores one character with every node, design a linear-time algorithm that checks whether the characters form a palindrome. A *palindrome* is a sequence of characters, which reads the same backward as forward (e.g., 'l','e','v','e','l'). Your algorithm should be in-place (only a constant amount of extra memory). You may assume that you know the length of the list."
   ]
  },
  {
   "cell_type": "markdown",
   "metadata": {},
   "source": [
    "**Solution:**\n",
    "\n",
    "We use the doubly-linked list from the lecture notes as a base. The idea of the algorithm is to start at the header and tail and to move inwards step-by-step, always checking whether the current nodes contain the same character."
   ]
  },
  {
   "cell_type": "code",
   "execution_count": 2,
   "metadata": {
    "code_folding": []
   },
   "outputs": [
    {
     "data": {
      "text/plain": [
       "True"
      ]
     },
     "execution_count": 2,
     "metadata": {},
     "output_type": "execute_result"
    }
   ],
   "source": [
    "class DNode:\n",
    "    def __init__(self, elem=None, previous=None, next=None):\n",
    "        self.elem = elem\n",
    "        self.previous = previous\n",
    "        self.next = next  \n",
    "\n",
    "#The doubly-connected list may take a string as input\n",
    "class DList:\n",
    "    def __init__(self, word = None):\n",
    "        self.size = 0\n",
    "        self.header = DNode()\n",
    "        self.tail = DNode()\n",
    "        self.header.next = self.tail\n",
    "        self.tail.previous = self.header\n",
    "        if (word): \n",
    "            for i in range(len(word)): self.insert_between(word[i], self.tail.previous, self.tail)\n",
    "                \n",
    "    def insert_between(self, element, previous, next):\n",
    "        node = DNode(element, previous, next)\n",
    "        previous.next = node\n",
    "        next.previous = node\n",
    "        self.size += 1\n",
    "        \n",
    "    def len(self):\n",
    "        return self.size\n",
    "\n",
    "def isPalindrome(dlist):\n",
    "    n = dlist.len()\n",
    "    if n<2: return True\n",
    "    front = dlist.header.next\n",
    "    back = dlist.tail.previous\n",
    "    for i in range(n//2):\n",
    "        if not front.elem==back.elem: return False\n",
    "        else: \n",
    "            front = front.next\n",
    "            back = back.previous\n",
    "    return True\n",
    "            \n",
    "isPalindrome(DList(\"kayak\"))       "
   ]
  },
  {
   "cell_type": "markdown",
   "metadata": {},
   "source": [
    "*running time:* The for-loop is executed $O(n)$ times taking $O(1)$ time per iteration. All other operations take constant time. Overall the running time is $O(n)$.\n",
    "\n",
    "*in-place condition*: We use only a constant number of variables ($i$, $n$, back, front)\n",
    "\n",
    "*correctness:* A string $S$ of length $n$ is a palindrome if for $0 \\leq i < \\lfloor n/2 \\rfloor$: $S[i]==S[n-i-1]$. This is exactly what the algorithm checks. (*Note: Formally, we could prove this by a loop invariant proof.*)"
   ]
  },
  {
   "cell_type": "markdown",
   "metadata": {},
   "source": [
    "**Exercise 2 ( \\* ):**\n",
    "\n",
    "Given a stack that stores one character with every node, design a linear-time algorithm (assuming constant-time: pop(), push() and size()) that checks whether the characters form a palindrome. You may use a second stack, but no other data structures. You do not need to preserve the input."
   ]
  },
  {
   "cell_type": "markdown",
   "metadata": {},
   "source": [
    "**Solution:**\n",
    "\n",
    "We first pop the last $n$//2 elements, pushing them to the second stack. If n is odd, we additionally pop the next element (the middle element) without using it further. Then we pop simultaneously from both stacks, checking whether these elements are the same."
   ]
  },
  {
   "cell_type": "code",
   "execution_count": 3,
   "metadata": {},
   "outputs": [
    {
     "data": {
      "text/plain": [
       "True"
      ]
     },
     "execution_count": 3,
     "metadata": {},
     "output_type": "execute_result"
    }
   ],
   "source": [
    "def buildStack(word):\n",
    "    stack = []\n",
    "    for i in range(len(word)): stack.append(word[i])\n",
    "    return stack\n",
    "\n",
    "def isPalindrome(stack):\n",
    "    stack2 = []\n",
    "    n = len(stack)\n",
    "    for i in range(n//2):\n",
    "        stack2.append(stack.pop())\n",
    "        if n%2==1: stack.pop()\n",
    "    for i in range(n//2):\n",
    "        front = stack.pop()\n",
    "        back = stack2.pop()\n",
    "        if not front == back: return False\n",
    "    return True\n",
    "\n",
    "isPalindrome(buildStack(\"ABBA\"))"
   ]
  },
  {
   "cell_type": "markdown",
   "metadata": {},
   "source": [
    "*running time:* Both for-loops have $O(n)$ iterations, and a constant number of constant-time operations per iteration. All other operations take $O(1)$ time. Overall the algorithm runs in $O(n)$ time.\n",
    "\n",
    "*correctness:* Assume initially the stack contains: word[0], $\\ldots$, word[n-1].The algorithm first pops the last $n$//2 elements and pushes them to stack2 (and then pushes the next element if $n$ is odd).\n",
    "\n",
    "Now stack contains word[0], $\\ldots$, word[n//2-1], and stack2 contains word[n-1], $\\ldots$, word[n- n//2]. Thus, in the second for-loop word[i] is compared with word[n-i-1] for all $0 \\leq i < n//2$."
   ]
  }
 ],
 "metadata": {
  "anaconda-cloud": {},
  "kernelspec": {
   "display_name": "Python 3",
   "language": "python",
   "name": "python3"
  },
  "language_info": {
   "codemirror_mode": {
    "name": "ipython",
    "version": 3
   },
   "file_extension": ".py",
   "mimetype": "text/x-python",
   "name": "python",
   "nbconvert_exporter": "python",
   "pygments_lexer": "ipython3",
   "version": "3.7.9"
  }
 },
 "nbformat": 4,
 "nbformat_minor": 1
}
