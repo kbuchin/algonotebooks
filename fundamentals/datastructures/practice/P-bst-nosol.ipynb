{
 "cells": [
  {
   "cell_type": "markdown",
   "metadata": {},
   "source": [
    "# Practice: Binary Search Trees"
   ]
  },
  {
   "cell_type": "markdown",
   "metadata": {},
   "source": [
    "Difficulty assessment:\n",
    "\n",
    "(\\*) Basic. You should be able to easily do this.\n",
    "\n",
    "(\\*\\*) Standard. Core material to test your understanding.\n",
    "\n",
    "(\\*\\*\\*) Advanced. Possibly slightly above the level of the assignments."
   ]
  },
  {
   "cell_type": "markdown",
   "metadata": {},
   "source": [
    "**Exercise 1 ( \\* ):**\n",
    "\n",
    "(a) Insert items with the following keys (in the given order) into an initially empty binary\n",
    "search tree: $30$, $40$, $24$, $58$, $48$, $26$, $11$, $13$. Draw the tree after any two insertions."
   ]
  },
  {
   "cell_type": "markdown",
   "metadata": {},
   "source": [
    "(b) Choose a set of $7$ distinct, positive, integer keys. Draw binary search trees for your set\n",
    "of height $2$, $5$, and $6$."
   ]
  },
  {
   "cell_type": "markdown",
   "metadata": {},
   "source": [
    "**Exercise 2 ( \\* ):**\n",
    "    \n",
    "For each of the algorithms PreorderTreeWalk, InorderTreeWalk, and PostorderTreeWalk answer the following questions:\n",
    "\n",
    "(a) Does the algorithm print the keys of elements stored in a binary search tree in a sorted\n",
    "order? Why or why not?"
   ]
  },
  {
   "cell_type": "markdown",
   "metadata": {},
   "source": [
    "(b) Does the algorithm print the keys of elements stored in a min-heap in a sorted order?\n",
    "Why or why not?"
   ]
  },
  {
   "cell_type": "markdown",
   "metadata": {},
   "source": [
    "**Exercise 3 ( \\*\\* )::**\n",
    "\n",
    "(a) The height of a node $v$ in a rooted tree $T$ is defined as the number of edges on the\n",
    "longest simple downwards path from the node $v$ to a leaf. Write an algorithm that calculates the height of all nodes in a binary tree and has running time $O(n)$. Do not forget to prove the correctness of your algorithm and to argue that it indeed runs in $O(n)$ time."
   ]
  },
  {
   "cell_type": "markdown",
   "metadata": {},
   "source": [
    "(b) The depth of a node $v$ in a rooted tree $T$ is defined as the number of edges on the simple path from the root of $T$ to the node $v$. Write an algorithm that calculates the depths\n",
    "of all nodes in a binary tree and has running time $O(n)$. Do not forget to argue the\n",
    "correctness of your algorithm and to argue that it indeed runs in $O(n)$ time."
   ]
  },
  {
   "cell_type": "markdown",
   "metadata": {},
   "source": [
    "**Exercise 4 ( \\*\\* )::**\n",
    "\n",
    "Given a set of elements with unique integer keys stored in a binary\n",
    "search tree $T$, propose an algorithm that takes an integer $k$ as an input and returns the element from $T$ with the minimum key among all the elements whose keys are not smaller than $k$ (or None if no such key exists). (Hint: Modify the Tree-Search or Iterative-Tree-Search\n",
    "algorithm.)"
   ]
  }
 ],
 "metadata": {
  "kernelspec": {
   "display_name": "Python 3",
   "language": "python",
   "name": "python3"
  },
  "language_info": {
   "codemirror_mode": {
    "name": "ipython",
    "version": 3
   },
   "file_extension": ".py",
   "mimetype": "text/x-python",
   "name": "python",
   "nbconvert_exporter": "python",
   "pygments_lexer": "ipython3",
   "version": "3.6.0"
  }
 },
 "nbformat": 4,
 "nbformat_minor": 2
}
