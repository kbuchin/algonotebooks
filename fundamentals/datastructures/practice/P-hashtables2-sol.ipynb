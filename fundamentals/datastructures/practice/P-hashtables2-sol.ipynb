{
 "cells": [
  {
   "cell_type": "markdown",
   "metadata": {},
   "source": [
    "# Practice Exercises: Hash tables"
   ]
  },
  {
   "cell_type": "markdown",
   "metadata": {},
   "source": [
    "### Exercise 1"
   ]
  },
  {
   "cell_type": "markdown",
   "metadata": {},
   "source": [
    "Demonstrate what happens when we insert the keys 5, 28, 19, 15, 20, 33, 12, 17, 10\n",
    "into a hash table with collisions resolved by chaining. Let the table have 9 slots,\n",
    "and let the hash function be $h(k) = k \\mod 9$."
   ]
  },
  {
   "attachments": {
    "hashtable1.png": {
     "image/png": "[encoded data removed]"
    }
   },
   "cell_type": "markdown",
   "metadata": {},
   "source": [
    "**Solution:**\n",
    "\n",
    "The key 5 is inserted in a linked list in cell $5 \\mod 9 = 5$. Then 28 is hashed to $28 \\mod 9 = 1$ and inserted there. Also 19 is hashed to $19 \\mod 9 = 1$. Assuming that we insert at the head of the linked list, this results in 19 occuring in the list before 28. (Note: since we are using a doubly linked list anyway to support efficient deletion, we could just as well insert at the tail.) And so on. The resulting table is the following:\n",
    "\n",
    "![hashtable1.png](attachment:hashtable1.png)"
   ]
  },
  {
   "cell_type": "markdown",
   "metadata": {},
   "source": [
    "### Exercise 2"
   ]
  },
  {
   "cell_type": "markdown",
   "metadata": {},
   "source": [
    "Professor Marley hypothesizes that he can obtain substantial performance gains by\n",
    "modifying the chaining scheme to keep each list in sorted order. How does the professor’s\n",
    "modification affect the running time for successful searches, unsuccessful\n",
    "searches, insertions, and deletions?"
   ]
  },
  {
   "cell_type": "markdown",
   "metadata": {},
   "source": [
    "**Solution:**\n",
    "\n",
    "First lets recall the running time of the operations if unsorted lists are used. If the corresponding list has length $m$, then the running times are:\n",
    "\n",
    "- successful search: $O(m)$ (can be tightened if we know the insertion order), on average $O(1 + \\alpha)$, where alpha is the load factor\n",
    "- unsuccessful search: $\\Theta(m)$, on average $O(1 + \\alpha)$\n",
    "- insert: $\\Theta(1)$, on average $\\Theta(1)$\n",
    "- delete: $\\Theta(1)$, on average $\\Theta(1)$\n",
    "\n",
    "Now let us considered the case that we maintain a sorted list. Note that 'list' here again means a 'linked list'. \n",
    "\n",
    "- In a linked list we can't search more efficiently than by a linear scan. So this will still take $O(m)$ and $\\Theta(m)$, and $O(1 + \\alpha)$ on average. \n",
    "- insert now taked linear time in the length of the corresponding list, because we first need to search the list to find the position to insert it. Thus, the running time of insert deteriorates to $O(m)$ and $O(1 + \\alpha)$ on average.\n",
    "- delete can still be done in $O(1)$ time.\n",
    "\n",
    "In conclusion Professor Marley's idea is not that good. But as long as the load factor is constant, all operations still take constant time on average. More intersting would have been a different data structure, like a sorted array, but given that for constant load factor the expected running time of all operations is $O(1)$ anyway, none of this is really helpful."
   ]
  },
  {
   "cell_type": "markdown",
   "metadata": {},
   "source": [
    "### Exercise 3"
   ]
  },
  {
   "cell_type": "markdown",
   "metadata": {},
   "source": [
    "Consider inserting keys into a hash table of length $m =  13$  using open addressing with the auxiliary hash function $h'(k) = k\\mod m$. Does quadratic probing with $c_1 = c_2 = 1$ result in a probe sequence that is a permutation of $0, 1, \\dots, 12$? Justify your answer."
   ]
  },
  {
   "cell_type": "markdown",
   "metadata": {},
   "source": [
    "**Solution:**\n",
    "\n",
    "No. The probe sequence for $k = 0$ is:\n",
    "\n",
    "- $0$\n",
    "- $0 + 1 + 1*1 \\mod 13 = 2$\n",
    "- $0 + 2 + 2*2 \\mod 13 = 6 \\mod 13 = 6$\n",
    "- $0 + 3 + 3*3 \\mod 13 = 12 \\mod 13 = 12$\n",
    "- $0 + 4 + 4*4 \\mod 13 = 20 \\mod 13 = 7$\n",
    "- $0 + 5 + 5*5 \\mod 13 = 30 \\mod 13 = 4$\n",
    "- $0 + 6 + 6*6 \\mod 13 = 42 \\mod 13 = 3$\n",
    "- $0 + 7 + 7*7 \\mod 13 = 56 \\mod 13 = 4$\n",
    "- $\\ldots$\n",
    "\n",
    "Thus, $h(k, 5) = h(k,7)$, therefore the probe sequence is not a permutation.\n",
    "\n"
   ]
  },
  {
   "cell_type": "markdown",
   "metadata": {},
   "source": [
    "### Exercise 4"
   ]
  },
  {
   "cell_type": "markdown",
   "metadata": {},
   "source": [
    "(a) Assume that we are using a hash table of size $m$. Show that if the universe $U$  has size $|U| > nm$, there is a subset of $U$ of size $n$ with the property that they all hash to the same position, so that the worst-case searching time for hashing with chaining is $\\Theta(n)$.\n",
    "\n",
    "(b) We are storing a set $S$ of $n$ numbers in a hash table\n",
    " $T[0..m-1]$ of size $m$ and we are choosing $m=n$. Should we resolve collisions with chaining or open addressing? Explain your answer."
   ]
  },
  {
   "cell_type": "markdown",
   "metadata": {
    "collapsed": true
   },
   "source": [
    "**Solution:**"
   ]
  },
  {
   "cell_type": "markdown",
   "metadata": {},
   "source": [
    "(a) Consider the situation that would occur when we insert $nm$ elements from $U$ into the hashtable. By the pigeonhole principle there is a cell $j$ such that $n$ elements are hashed to cell $j$. (In case, this is not immediately clear: assume all cells get less than $n$ elements. then adding up all elements from all $m$ cells would result in a number $\\leq (n-1)m < nm$, which contradicts the setting that we had inserted $nm$ elements).\n",
    "\n",
    "Let $a_1, \\ldots, a_n$ be $n$ elements of the elements hashed to cell $j$. This is a subset with the required property. If we now assume that our whole input consists of $a_1, \\ldots, a_n$, then we indeed get a worst-case search time of $\\Theta(n)$, namely if we search for the last element in the list of cell $j$."
   ]
  },
  {
   "cell_type": "markdown",
   "metadata": {},
   "source": [
    "(b) Chaining. The load factor is $\\alpha = 1$. Searching when using chaining takes $O(1 + \\alpha) = O(2) = O(1)$ time. An unsuccessul search when using opend addressing will now always take $\\Theta(n)$ time, which is clearly worse. (Note: in practice, when we use open addressing, we resize the table before it is full. Thus, then the case $m=n$ would not occur. You can see this exercise as an argument why for open addressing the resizing is important.)"
   ]
  }
 ],
 "metadata": {
  "anaconda-cloud": {},
  "kernelspec": {
   "display_name": "Python 3",
   "language": "python",
   "name": "python3"
  },
  "language_info": {
   "codemirror_mode": {
    "name": "ipython",
    "version": 3
   },
   "file_extension": ".py",
   "mimetype": "text/x-python",
   "name": "python",
   "nbconvert_exporter": "python",
   "pygments_lexer": "ipython3",
   "version": "3.8.3"
  }
 },
 "nbformat": 4,
 "nbformat_minor": 1
}
