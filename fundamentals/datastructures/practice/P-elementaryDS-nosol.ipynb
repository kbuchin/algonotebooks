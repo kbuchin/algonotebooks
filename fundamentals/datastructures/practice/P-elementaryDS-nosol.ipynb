{
 "cells": [
  {
   "cell_type": "markdown",
   "metadata": {
    "collapsed": true
   },
   "source": [
    "# Practice: Elementary Data Structures"
   ]
  },
  {
   "cell_type": "markdown",
   "metadata": {},
   "source": [
    "Difficulty assessment:\n",
    "\n",
    "(\\*) Basic. You should be able to easily do this.\n",
    "\n",
    "(\\*\\*) Standard. Core material to test your understanding.\n",
    "\n",
    "(\\*\\*\\*) Advanced. Possibly slightly above the level of the assignments."
   ]
  },
  {
   "cell_type": "markdown",
   "metadata": {},
   "source": [
    "**Exercise 1 ( \\* ):**\n",
    "\n",
    "Given a doubly-linked list that stores one character with every node, design a linear-time algorithm that checks whether the characters form a palindrome. A *palindrome* is a sequence of characters, which reads the same backward as forward (e.g., 'l','e','v','e','l'). Your algorithm should be in-place (only a constant amount of extra memory). You may assume that you know the length of the list."
   ]
  },
  {
   "cell_type": "markdown",
   "metadata": {},
   "source": [
    "**Exercise 2 ( \\* ):**\n",
    "\n",
    "Given a stack that stores one character with every node, design a linear-time algorithm (assuming constant-time: pop(), push() and size()) that checks whether the characters form a palindrome. You may use a second stack, but no other data structures. You do not need to preserve the input."
   ]
  },
  {
   "cell_type": "code",
   "execution_count": null,
   "metadata": {
    "collapsed": true
   },
   "outputs": [],
   "source": []
  }
 ],
 "metadata": {
  "anaconda-cloud": {},
  "kernelspec": {
   "display_name": "Python 3",
   "language": "python",
   "name": "python3"
  },
  "language_info": {
   "codemirror_mode": {
    "name": "ipython",
    "version": 3
   },
   "file_extension": ".py",
   "mimetype": "text/x-python",
   "name": "python",
   "nbconvert_exporter": "python",
   "pygments_lexer": "ipython3",
   "version": "3.7.0"
  }
 },
 "nbformat": 4,
 "nbformat_minor": 1
}
