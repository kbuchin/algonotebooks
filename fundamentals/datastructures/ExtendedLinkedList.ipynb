{
 "cells": [
  {
   "cell_type": "code",
   "execution_count": 14,
   "metadata": {},
   "outputs": [],
   "source": [
    "class DNode:\n",
    "    def __init__(self, elem=None, previous=None, next=None):\n",
    "        self.elem = elem\n",
    "        self.previous  = previous\n",
    "        self.next  = next  \n",
    "\n",
    "class DList:\n",
    "    def __init__(self, A = None):\n",
    "        self.size = 0\n",
    "        self.header = DNode()\n",
    "        self.trailer = DNode()\n",
    "        self.header.next = self.trailer\n",
    "        self.trailer.previous = self.header\n",
    "    \n",
    "        for x in A: \n",
    "            self.insert_between(x, self.trailer.previous, self.trailer)\n",
    "            \n",
    "    def print(self):\n",
    "        current = self.header.next\n",
    "        while (current.next): \n",
    "            print(current.elem)\n",
    "            current = current.next\n",
    "        \n",
    "    def delete(self, node):\n",
    "        elem = node.elem\n",
    "        previous = node.previous\n",
    "        next = node.next\n",
    "        previous.next = next\n",
    "        next.previous = previous\n",
    "        node = DNode()\n",
    "        self.size -= 1\n",
    "        return elem\n",
    "    \n",
    "    def insert_between(self, element, previous, next):\n",
    "        node = DNode(element, previous, next)\n",
    "        previous.next = node\n",
    "        next.previous = node\n",
    "        self.size += 1\n",
    "        \n",
    "    def is_empty(self):\n",
    "        return self.size == 0\n",
    "    \n",
    "    def len(self):\n",
    "        return self.size"
   ]
  },
  {
   "cell_type": "code",
   "execution_count": 13,
   "metadata": {},
   "outputs": [
    {
     "name": "stdout",
     "output_type": "stream",
     "text": [
      "3\n",
      "6\n",
      "7\n"
     ]
    }
   ],
   "source": [
    "list = DList([3,6,7])"
   ]
  },
  {
   "cell_type": "code",
   "execution_count": 6,
   "metadata": {},
   "outputs": [
    {
     "name": "stdout",
     "output_type": "stream",
     "text": [
      "<__main__.DList object at 0x000001BBB04F67F0>\n"
     ]
    }
   ],
   "source": [
    "print(list)"
   ]
  },
  {
   "cell_type": "code",
   "execution_count": 15,
   "metadata": {},
   "outputs": [
    {
     "name": "stdout",
     "output_type": "stream",
     "text": [
      "3\n",
      "6\n",
      "7\n"
     ]
    }
   ],
   "source": [
    "list.print()"
   ]
  },
  {
   "cell_type": "code",
   "execution_count": null,
   "metadata": {},
   "outputs": [],
   "source": []
  }
 ],
 "metadata": {
  "kernelspec": {
   "display_name": "Python 3",
   "language": "python",
   "name": "python3"
  },
  "language_info": {
   "codemirror_mode": {
    "name": "ipython",
    "version": 3
   },
   "file_extension": ".py",
   "mimetype": "text/x-python",
   "name": "python",
   "nbconvert_exporter": "python",
   "pygments_lexer": "ipython3",
   "version": "3.6.5"
  }
 },
 "nbformat": 4,
 "nbformat_minor": 2
}
