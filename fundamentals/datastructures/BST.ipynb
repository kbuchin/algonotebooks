{
 "cells": [
  {
   "cell_type": "markdown",
   "metadata": {},
   "source": [
    "# Binary Search Trees"
   ]
  },
  {
   "cell_type": "code",
   "execution_count": 64,
   "metadata": {
    "collapsed": true
   },
   "outputs": [],
   "source": [
    "class Node:\n",
    "    def __init__(self, key, parent=None, left=None, right=None, data=None):\n",
    "        self.key = key\n",
    "        self.p = parent\n",
    "        self.left = left\n",
    "        self.right = right\n",
    "        self.data = data\n",
    "        \n",
    "class BST:\n",
    "    def __init__(self, root):\n",
    "        self.root = root"
   ]
  },
  {
   "cell_type": "code",
   "execution_count": 65,
   "metadata": {
    "collapsed": false
   },
   "outputs": [],
   "source": [
    "node1 = Node(3)\n",
    "node2 = Node(7)\n",
    "node3 = Node(10)\n",
    "node4 = Node(13)\n",
    "node5 = Node(20)\n",
    "\n",
    "node1.p = node2\n",
    "node3.p = node2\n",
    "node2.left = node1\n",
    "node2.right = node3\n",
    "node2.p = node4\n",
    "node5.p = node4\n",
    "node4.left = node2\n",
    "node4.right = node5\n",
    "\n",
    "bst = BST(node4)"
   ]
  },
  {
   "cell_type": "code",
   "execution_count": 49,
   "metadata": {
    "collapsed": false
   },
   "outputs": [
    {
     "name": "stdout",
     "output_type": "stream",
     "text": [
      "3\n",
      "7\n",
      "10\n",
      "13\n",
      "20\n"
     ]
    }
   ],
   "source": [
    "def InorderTreeWalk(node):\n",
    "    if node:\n",
    "        InorderTreeWalk(node.left)\n",
    "        print(node.key)\n",
    "        InorderTreeWalk(node.right)\n",
    "        \n",
    "InorderTreeWalk(bst.root)"
   ]
  },
  {
   "cell_type": "code",
   "execution_count": 35,
   "metadata": {
    "collapsed": false
   },
   "outputs": [],
   "source": [
    "def TreeSearch(x, k):\n",
    "    if (x == None) or (k == x.key): return x\n",
    "    if k < x.key: return TreeSearch(x.left, k)\n",
    "    else: return TreeSearch(x.right, k)"
   ]
  },
  {
   "cell_type": "code",
   "execution_count": 40,
   "metadata": {
    "collapsed": false
   },
   "outputs": [
    {
     "data": {
      "text/plain": [
       "True"
      ]
     },
     "execution_count": 40,
     "metadata": {},
     "output_type": "execute_result"
    }
   ],
   "source": [
    "TreeSearch(bst.root, 7) != None"
   ]
  },
  {
   "cell_type": "code",
   "execution_count": 41,
   "metadata": {
    "collapsed": false
   },
   "outputs": [
    {
     "data": {
      "text/plain": [
       "False"
      ]
     },
     "execution_count": 41,
     "metadata": {},
     "output_type": "execute_result"
    }
   ],
   "source": [
    "TreeSearch(bst.root, 8) != None"
   ]
  },
  {
   "cell_type": "code",
   "execution_count": 38,
   "metadata": {
    "collapsed": true
   },
   "outputs": [],
   "source": [
    "def IterativeTreeSearch(x, k):\n",
    "    current = x\n",
    "    while current and k != current.key:\n",
    "        if k < current.key: current = current.left\n",
    "        else: current = current.right\n",
    "    return current"
   ]
  },
  {
   "cell_type": "code",
   "execution_count": 42,
   "metadata": {
    "collapsed": false
   },
   "outputs": [
    {
     "data": {
      "text/plain": [
       "True"
      ]
     },
     "execution_count": 42,
     "metadata": {},
     "output_type": "execute_result"
    }
   ],
   "source": [
    "IterativeTreeSearch(bst.root, 7) != None"
   ]
  },
  {
   "cell_type": "code",
   "execution_count": 43,
   "metadata": {
    "collapsed": false
   },
   "outputs": [
    {
     "data": {
      "text/plain": [
       "False"
      ]
     },
     "execution_count": 43,
     "metadata": {},
     "output_type": "execute_result"
    }
   ],
   "source": [
    "TreeSearch(bst.root, 8) != None"
   ]
  },
  {
   "cell_type": "code",
   "execution_count": 45,
   "metadata": {
    "collapsed": false
   },
   "outputs": [
    {
     "data": {
      "text/plain": [
       "3"
      ]
     },
     "execution_count": 45,
     "metadata": {},
     "output_type": "execute_result"
    }
   ],
   "source": [
    "def TreeMinimum(x):\n",
    "    current = x\n",
    "    while current.left: current = current.left\n",
    "    return current\n",
    "\n",
    "TreeMinimum(bst.root).key"
   ]
  },
  {
   "cell_type": "code",
   "execution_count": 47,
   "metadata": {
    "collapsed": false
   },
   "outputs": [
    {
     "data": {
      "text/plain": [
       "20"
      ]
     },
     "execution_count": 47,
     "metadata": {},
     "output_type": "execute_result"
    }
   ],
   "source": [
    "def TreeMaximum(x):\n",
    "    current = x\n",
    "    while current.right: current = current.right\n",
    "    return current\n",
    "\n",
    "TreeMaximum(bst.root).key"
   ]
  },
  {
   "cell_type": "code",
   "execution_count": 66,
   "metadata": {
    "collapsed": true
   },
   "outputs": [],
   "source": [
    "def TreeSuccessor(x):\n",
    "    if x.right: return TreeMinimum(x.right)\n",
    "    y = x.p\n",
    "    current = x\n",
    "    while y and current == y.right:\n",
    "        current = y\n",
    "        y = current.p\n",
    "    return y"
   ]
  },
  {
   "cell_type": "code",
   "execution_count": 67,
   "metadata": {
    "collapsed": false
   },
   "outputs": [
    {
     "data": {
      "text/plain": [
       "7"
      ]
     },
     "execution_count": 67,
     "metadata": {},
     "output_type": "execute_result"
    }
   ],
   "source": [
    "TreeSuccessor(node1).key"
   ]
  },
  {
   "cell_type": "code",
   "execution_count": 68,
   "metadata": {
    "collapsed": false
   },
   "outputs": [
    {
     "data": {
      "text/plain": [
       "10"
      ]
     },
     "execution_count": 68,
     "metadata": {},
     "output_type": "execute_result"
    }
   ],
   "source": [
    "TreeSuccessor(node2).key"
   ]
  },
  {
   "cell_type": "code",
   "execution_count": 70,
   "metadata": {
    "collapsed": false
   },
   "outputs": [
    {
     "data": {
      "text/plain": [
       "True"
      ]
     },
     "execution_count": 70,
     "metadata": {},
     "output_type": "execute_result"
    }
   ],
   "source": [
    "TreeSuccessor(node5) == None"
   ]
  },
  {
   "cell_type": "code",
   "execution_count": 73,
   "metadata": {
    "collapsed": false
   },
   "outputs": [],
   "source": [
    "def TreeInsert(T, z):\n",
    "    y = None\n",
    "    x = T.root\n",
    "    while x:\n",
    "        y = x\n",
    "        if z.key < x.key: x = x.left\n",
    "        else: x = x.right\n",
    "    z.p = y\n",
    "    if not y: T.root = x     \n",
    "    else:\n",
    "        if z.key < y.key: y.left = z\n",
    "        else: y.right = z\n"
   ]
  },
  {
   "cell_type": "code",
   "execution_count": 75,
   "metadata": {
    "collapsed": false
   },
   "outputs": [
    {
     "name": "stdout",
     "output_type": "stream",
     "text": [
      "1\n",
      "3\n",
      "7\n",
      "9\n",
      "10\n",
      "13\n",
      "20\n"
     ]
    }
   ],
   "source": [
    "TreeInsert(bst, Node(1))\n",
    "TreeInsert(bst, Node(9))\n",
    "InorderTreeWalk(bst.root)"
   ]
  },
  {
   "cell_type": "code",
   "execution_count": null,
   "metadata": {
    "collapsed": true
   },
   "outputs": [],
   "source": []
  }
 ],
 "metadata": {
  "anaconda-cloud": {},
  "kernelspec": {
   "display_name": "Python 3",
   "language": "python",
   "name": "python3"
  },
  "language_info": {
   "codemirror_mode": {
    "name": "ipython",
    "version": 3
   },
   "file_extension": ".py",
   "mimetype": "text/x-python",
   "name": "python",
   "nbconvert_exporter": "python",
   "pygments_lexer": "ipython3",
   "version": "3.6.0"
  }
 },
 "nbformat": 4,
 "nbformat_minor": 1
}
