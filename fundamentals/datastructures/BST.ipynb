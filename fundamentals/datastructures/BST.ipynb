{
 "cells": [
  {
   "cell_type": "markdown",
   "metadata": {},
   "source": [
    "# Binary Search Trees"
   ]
  },
  {
   "cell_type": "code",
   "execution_count": 3,
   "metadata": {},
   "outputs": [],
   "source": [
    "class Node:\n",
    "    def __init__(self, key, parent=None, left=None, right=None, data=None):\n",
    "        self.key = key\n",
    "        self.p = parent\n",
    "        self.left = left\n",
    "        self.right = right\n",
    "        self.data = data\n",
    "        \n",
    "class BST:\n",
    "    def __init__(self, root):\n",
    "        self.root = root"
   ]
  },
  {
   "cell_type": "code",
   "execution_count": 4,
   "metadata": {},
   "outputs": [],
   "source": [
    "node1 = Node(3)\n",
    "node2 = Node(7)\n",
    "node3 = Node(10)\n",
    "node4 = Node(13)\n",
    "node5 = Node(20)\n",
    "\n",
    "node1.p = node2\n",
    "node3.p = node2\n",
    "node2.left = node1\n",
    "node2.right = node3\n",
    "node2.p = node4\n",
    "node5.p = node4\n",
    "node4.left = node2\n",
    "node4.right = node5\n",
    "\n",
    "bst = BST(node4)"
   ]
  },
  {
   "cell_type": "markdown",
   "metadata": {},
   "source": [
    "#### Inorder tree walk"
   ]
  },
  {
   "cell_type": "code",
   "execution_count": 5,
   "metadata": {},
   "outputs": [
    {
     "name": "stdout",
     "output_type": "stream",
     "text": [
      "3\n",
      "7\n",
      "10\n",
      "13\n",
      "20\n"
     ]
    }
   ],
   "source": [
    "def InorderTreeWalk(node):\n",
    "    if node:\n",
    "        InorderTreeWalk(node.left)\n",
    "        print(node.key)\n",
    "        InorderTreeWalk(node.right)\n",
    "        \n",
    "InorderTreeWalk(bst.root)"
   ]
  },
  {
   "cell_type": "markdown",
   "metadata": {},
   "source": [
    "#### Querying a binary search tree"
   ]
  },
  {
   "cell_type": "code",
   "execution_count": 6,
   "metadata": {},
   "outputs": [],
   "source": [
    "def TreeSearch(x, k):\n",
    "    if (x == None) or (k == x.key): return x\n",
    "    if k < x.key: return TreeSearch(x.left, k)\n",
    "    else: return TreeSearch(x.right, k)"
   ]
  },
  {
   "cell_type": "code",
   "execution_count": 7,
   "metadata": {},
   "outputs": [
    {
     "data": {
      "text/plain": [
       "True"
      ]
     },
     "execution_count": 7,
     "metadata": {},
     "output_type": "execute_result"
    }
   ],
   "source": [
    "TreeSearch(bst.root, 7) != None"
   ]
  },
  {
   "cell_type": "code",
   "execution_count": 8,
   "metadata": {},
   "outputs": [
    {
     "data": {
      "text/plain": [
       "False"
      ]
     },
     "execution_count": 8,
     "metadata": {},
     "output_type": "execute_result"
    }
   ],
   "source": [
    "TreeSearch(bst.root, 8) != None"
   ]
  },
  {
   "cell_type": "markdown",
   "metadata": {},
   "source": [
    "#### Querying a binary search tree - iteratively"
   ]
  },
  {
   "cell_type": "code",
   "execution_count": 9,
   "metadata": {},
   "outputs": [],
   "source": [
    "def IterativeTreeSearch(x, k):\n",
    "    current = x\n",
    "    while current and k != current.key:\n",
    "        if k < current.key: current = current.left\n",
    "        else: current = current.right\n",
    "    return current"
   ]
  },
  {
   "cell_type": "code",
   "execution_count": 10,
   "metadata": {},
   "outputs": [
    {
     "data": {
      "text/plain": [
       "True"
      ]
     },
     "execution_count": 10,
     "metadata": {},
     "output_type": "execute_result"
    }
   ],
   "source": [
    "IterativeTreeSearch(bst.root, 7) != None"
   ]
  },
  {
   "cell_type": "code",
   "execution_count": 11,
   "metadata": {},
   "outputs": [
    {
     "data": {
      "text/plain": [
       "False"
      ]
     },
     "execution_count": 11,
     "metadata": {},
     "output_type": "execute_result"
    }
   ],
   "source": [
    "TreeSearch(bst.root, 8) != None"
   ]
  },
  {
   "cell_type": "markdown",
   "metadata": {},
   "source": [
    "#### Minimum & Maximum"
   ]
  },
  {
   "cell_type": "code",
   "execution_count": 12,
   "metadata": {},
   "outputs": [
    {
     "data": {
      "text/plain": [
       "3"
      ]
     },
     "execution_count": 12,
     "metadata": {},
     "output_type": "execute_result"
    }
   ],
   "source": [
    "def TreeMinimum(x):\n",
    "    current = x\n",
    "    while current.left: current = current.left\n",
    "    return current\n",
    "\n",
    "TreeMinimum(bst.root).key"
   ]
  },
  {
   "cell_type": "code",
   "execution_count": 13,
   "metadata": {},
   "outputs": [
    {
     "data": {
      "text/plain": [
       "20"
      ]
     },
     "execution_count": 13,
     "metadata": {},
     "output_type": "execute_result"
    }
   ],
   "source": [
    "def TreeMaximum(x):\n",
    "    current = x\n",
    "    while current.right: current = current.right\n",
    "    return current\n",
    "\n",
    "TreeMaximum(bst.root).key"
   ]
  },
  {
   "cell_type": "markdown",
   "metadata": {},
   "source": [
    "#### Successor"
   ]
  },
  {
   "cell_type": "code",
   "execution_count": 14,
   "metadata": {},
   "outputs": [],
   "source": [
    "def TreeSuccessor(x):\n",
    "    if x.right: return TreeMinimum(x.right)\n",
    "    y = x.p\n",
    "    current = x\n",
    "    while y and current == y.right:\n",
    "        current = y\n",
    "        y = current.p\n",
    "    return y"
   ]
  },
  {
   "cell_type": "code",
   "execution_count": 15,
   "metadata": {},
   "outputs": [
    {
     "data": {
      "text/plain": [
       "7"
      ]
     },
     "execution_count": 15,
     "metadata": {},
     "output_type": "execute_result"
    }
   ],
   "source": [
    "TreeSuccessor(node1).key"
   ]
  },
  {
   "cell_type": "code",
   "execution_count": 16,
   "metadata": {},
   "outputs": [
    {
     "data": {
      "text/plain": [
       "10"
      ]
     },
     "execution_count": 16,
     "metadata": {},
     "output_type": "execute_result"
    }
   ],
   "source": [
    "TreeSuccessor(node2).key"
   ]
  },
  {
   "cell_type": "code",
   "execution_count": 17,
   "metadata": {},
   "outputs": [
    {
     "data": {
      "text/plain": [
       "True"
      ]
     },
     "execution_count": 17,
     "metadata": {},
     "output_type": "execute_result"
    }
   ],
   "source": [
    "TreeSuccessor(node5) == None"
   ]
  },
  {
   "cell_type": "markdown",
   "metadata": {},
   "source": [
    "#### Insertion"
   ]
  },
  {
   "cell_type": "code",
   "execution_count": 18,
   "metadata": {},
   "outputs": [],
   "source": [
    "def TreeInsert(T, z):\n",
    "    y = None\n",
    "    x = T.root\n",
    "    while x:\n",
    "        y = x\n",
    "        if z.key < x.key: x = x.left\n",
    "        else: x = x.right\n",
    "    z.p = y\n",
    "    if not y: T.root = x     \n",
    "    else:\n",
    "        if z.key < y.key: y.left = z\n",
    "        else: y.right = z\n"
   ]
  },
  {
   "cell_type": "code",
   "execution_count": 19,
   "metadata": {},
   "outputs": [
    {
     "name": "stdout",
     "output_type": "stream",
     "text": [
      "1\n",
      "3\n",
      "7\n",
      "9\n",
      "10\n",
      "13\n",
      "20\n"
     ]
    }
   ],
   "source": [
    "TreeInsert(bst, Node(1))\n",
    "TreeInsert(bst, Node(9))\n",
    "InorderTreeWalk(bst.root)"
   ]
  }
 ],
 "metadata": {
  "anaconda-cloud": {},
  "kernelspec": {
   "display_name": "Python 3",
   "language": "python",
   "name": "python3"
  },
  "language_info": {
   "codemirror_mode": {
    "name": "ipython",
    "version": 3
   },
   "file_extension": ".py",
   "mimetype": "text/x-python",
   "name": "python",
   "nbconvert_exporter": "python",
   "pygments_lexer": "ipython3",
   "version": "3.7.0"
  }
 },
 "nbformat": 4,
 "nbformat_minor": 1
}
