{
 "cells": [
  {
   "cell_type": "markdown",
   "metadata": {},
   "source": [
    "# Practice: Recurrences"
   ]
  },
  {
   "cell_type": "markdown",
   "metadata": {},
   "source": [
    "Difficulty assessment:\n",
    "\n",
    "(\\*) Basic. You should be able to easily do this.\n",
    "\n",
    "(\\*\\*) Standard. Core material to test your understanding.\n",
    "\n",
    "(\\*\\*\\*) Advanced. Possibly slightly above the level of the assignments."
   ]
  },
  {
   "cell_type": "markdown",
   "metadata": {},
   "source": [
    "### Exercise 1 (\\*)"
   ]
  },
  {
   "cell_type": "markdown",
   "metadata": {},
   "source": [
    "Using the Master theorem, prove asymptotic upper and lower bounds for $T(n)$ in each of the following recurrences. Assume that $T(n)$ is constant for $n \\leq 2$.\n",
    "\n",
    "(a) $T(n) = 16\\; T(n/4) + n^2$"
   ]
  },
  {
   "cell_type": "markdown",
   "metadata": {},
   "source": [
    "**Solution:**\n",
    "\n",
    "We use the Master theorem to solve the recurrence. We have $a = 16 \\geq 1$, $b = 4 > 1$, and $f(n) = n^2$. Then $\\log_b a = \\log_4 16 = 2$, and $n^2 = \\Theta(n^{\\log_4 16})$. So case 2 of the Master theorem applies, and $T(n) = \\Theta(n^{\\log_b a} \\log n) = \\Theta(n^{\\log_4 16} \\log n) = \\Theta(n^2 \\log n)$."
   ]
  },
  {
   "cell_type": "markdown",
   "metadata": {},
   "source": [
    "(b) $T(n) = 7\\; T(n/2) + n^2$"
   ]
  },
  {
   "cell_type": "markdown",
   "metadata": {},
   "source": [
    "**Solution:**\n",
    "\n",
    "We use the Master theorem to solve the recurrence. We have $a = 7 \\geq 1$, $b = 2 > 1$, and $f(n) = n^2$.\n",
    "Then $\\log_b a = \\log 7$. Note that $\\log 4 = 2$ and $\\log 8 = 3$, thus $2 < \\log 7 < 3$. Thus $n^2 = O(n^{\\log(7) - \\varepsilon})$ for some $\\varepsilon > 0$, for instance for $\\varepsilon = \\log 7 - 2 >0$. So case 1 of the Master theorem applies, and $T(n) = \\Theta(n^{\\log_b a}) = \\Theta(n^{\\log 7})$."
   ]
  },
  {
   "cell_type": "markdown",
   "metadata": {},
   "source": [
    "(c) $T(n) = 4\\; T(n/2) + n^2\\sqrt{n}$"
   ]
  },
  {
   "cell_type": "markdown",
   "metadata": {},
   "source": [
    "**Solution:**\n",
    "\n",
    "We use the Master theorem to solve the recurrence. We have $a = 4 \\geq 1$, $b = 2 > 1$, and $f(n) = n^2\\sqrt{n}$. Then $\\log_b a = \\log_2 4 = 2$, and $n^2\\sqrt{n} = n^{5/2} = \\Omega(n^{2+\\varepsilon})$ for some $\\varepsilon > 0$, for instance $\\varepsilon = 1/2$. So, if the regularity condition holds, then case 3 of the Master theorem will apply.\n",
    "\n",
    "Regularity condition: $af(n/b) \\leq cf(n)$ for some $c < 1$ and all sufficiently large $n$.\n",
    "\n",
    "$$af(n/b) = 4f(n/2) = 4(n/2)^{5/2} = \\frac{4}{2^{5/2}}n^{5/2} = \\frac{1}{\\sqrt{2}}n^{5/2} \\leq c f(n),$$\n",
    "\n",
    "for a $c < 1$, for instance $c = 1/\\sqrt{2}$. So, indeed, case 3 of the Master theorem applies, and hence $T(n) = \\Theta(f(n)) = \\Theta(n^2\\sqrt{n})$."
   ]
  },
  {
   "cell_type": "markdown",
   "metadata": {},
   "source": [
    "(d) (\\*\\*) For the solutions of the recurrences (a)-(c), give another recurrence that solves to an exactly the same asymptotic bound, but using a different case of the Master theorem."
   ]
  },
  {
   "cell_type": "markdown",
   "metadata": {},
   "source": [
    "**Solution:**\n",
    "\n",
    "In **(a)** $T(n) = \\Theta(n^2 \\log n)$. We want to find a recurrence that solves to this by case 1 or 3 of the\n",
    "Master theorem. Case 1 gives a solution of the form $\\Theta(n^{\\log_b a})$, thus, it cannot give the answer that we need. We will try case 3 of the Master theorem, which gives as\n",
    "a solution $\\Theta(f(n))$:\n",
    "\n",
    "$T(n) = aT(n/b) + f(n)$ with $f(n) = n^2 \\log n$ and\n",
    "\n",
    "- $a \\geq 1$, $b > 1$,\n",
    "\n",
    "- $f(n) = \\Omega(n^{\\log_b(a)+\\varepsilon})$ for some $\\varepsilon > 0$,\n",
    "\n",
    "- and the regularity condition holds, i.e., $a f(n/b) \\leq c f(n)$ for some $c < 1$ and all sufficiently large $n$.\n",
    "\n",
    "We need $\\log_b a < 2$, which is equivalent to $a < b^2$. For instance, we can choose $a = b = 2$. Then $\\log_b a = 1$, and we can choose $\\varepsilon = 1 > 0$. Also the regularity condition holds: $2 f(n/2) = 2 (n/2)^2 \\log(n/2) < 1/2 n^2 \\log n \\leq c f(n)$, where we can choose $c = 1/2 < 1$.  Thus, we get the required recurrence with case 3 of the Master theorem.\n",
    "\n",
    "For **(b)** we want to find a recurrence that solves to $T(n) = \\Theta(n^{log 7})$ by case 2 or 3 of the Master theorem. Case 2 gives a solution of the form $\\Theta(n^{\\log_b a} \\log n)$, thus, it cannot give the answer that we need. We will try again case 3 of the Master theorem, which gives as a solution $\\Theta(f(n))$, where we should have $f(n) = n^{log 7}$.\n",
    "\n",
    "We can again try $a = b = 2$. Then, $\\log_b a = 1 < \\log 7$ and we can choose $\\varepsilon = \\log 7 - 1 > 0$. Again the regularity condition holds: $2 f(n/2) = 2 (n/2)^{\\log 7} = 2^{1-\\log 7} n^{\\log 7} \\leq c f(n)$, where we can choose $c = 2^{1-\\log 7} < 1$. Thus, we get the required recurrence with case 3 of the Master theorem.\n",
    "\n",
    "For **(c)** we want to find a recurrence that solves to $T(n) = \\Theta(n^2 \\sqrt{n})$ by case 1 or 2 of the Master theorem. Case 2 gives a solution of the form $\\Theta(n^{\\log_b a} \\log n)$, thus, it cannot give the answer that we need. We will try case 1 of the Master theorem, which gives\n",
    "as a solution $\\Theta(n^{\\log_b a})$.\n",
    "\n",
    "$n^2 \\sqrt{n} = n^{5/2}$, so we want $\\log_b a = 5/2$. Note that $\\log_b a = \\frac{\\log a}{\\log b}$. So we could choose $\\log a = 5$ and $\\log b =2$, or equivalently $a = 2^5 = 32$ and $b = 2^2 = 4$. To end up in case 1, we need to have $f(n) = O(n^{5/2 - \\varepsilon})$. For instance, we can choose $f(n) = n$ and $\\varepsilon = n^{3/2}$. In this way, we get the required recurrence with case 1 of the Master theorem.\n"
   ]
  },
  {
   "cell_type": "markdown",
   "metadata": {},
   "source": [
    "### Exercise 2 (\\*\\*\\*)"
   ]
  },
  {
   "cell_type": "markdown",
   "metadata": {},
   "source": [
    "(a) Can the master method be applied to $T(n) = 4 T(n/2) + n^2 \\log n$? Why or why not?"
   ]
  },
  {
   "cell_type": "markdown",
   "metadata": {},
   "source": [
    "**Solution:**\n",
    "\n",
    "No. Suppose we could. $a = 4$, $b = 2$, $f(n) = n^2 \\log n$. We have $\\log_b a = \\log 4 = 2$.\n",
    "\n",
    "We are not in case 2 since $f(n) \\neq \\Theta (n^2)$. We are also not in case 1, since $f(n) \\neq O(n^{2-\\varepsilon})$, since we don't even have $f(n) \\neq O(n^2)$. For the remaining case 3, we would need to have $n^2 \\log n = \\Omega(n^{2+\\varepsilon})$ for some $\\varepsilon > 0$. But then we would have $\\log n = \\Omega(n^{\\varepsilon})$. But since polynomial functions grow faster than logarithmic function this cannot be the case, no matter how we choose $\\varepsilon$.\n",
    "\n",
    "Therefore, the Master theorem does not apply."
   ]
  },
  {
   "cell_type": "markdown",
   "metadata": {},
   "source": [
    "(b) Use a recursion tree to derive a tight upper asymptotic bound on $T(n) = 4 T(n/2) + n^2 \\log n$."
   ]
  },
  {
   "cell_type": "markdown",
   "metadata": {},
   "source": [
    "**Solution:**\n",
    "\n",
    "<img src=\"recursion-tree.png\" width=\"600\">\n",
    "\n",
    "The height of the tree is $\\log_b n = \\log n$ (we have $b = 2$), and each level $i$ of the tree has $a^i = 4^i$ nodes (we have $a = 4$). The work performed at each node of level $i$ is $\\Theta(f(n/b^i)) = (n/2^i)^2 \\log(n/2^i)$.\n",
    "\n",
    "Thus, the total work will be approximately:\n",
    "\n",
    "$$\\sum_{i=0}^{\\log n} 4^i (n/2^i)^2 \\log(n/2^i) = n^2 \\sum_{i=0}^{\\log n} \\log(n/2^i) = n^2 \\sum_{i=0}^{\\log n} (\\log(n) - i).$$\n",
    "\n",
    "Now, the last sum is the arithmetic sum (counting from $\\log n$ downwards to $0$) so that sum evaluates to $\\sum_{i=0}^{\\log n} (\\log(n) - i) = \\log(n)(\\log(n) + 1)/2 = \\Theta(\\log^2 n)$. Thus, overall we get $T(n) = \\Theta(n^2 \\log^2 n)$."
   ]
  },
  {
   "cell_type": "markdown",
   "metadata": {},
   "source": [
    "(c) Prove the upper asymptotic bound you derived in (b) using the substitution method."
   ]
  },
  {
   "cell_type": "markdown",
   "metadata": {},
   "source": [
    "**Solution:**\n",
    "\n",
    "We show $T(n) = \\Theta(n^2 \\log^2 n)$ using the substitution method. Without loss of generality we can assume that $T(1) = 1$. Because of the $\\log n$ (in the bound on $T(n)$) we will either need several base cases or directly make use of a lower order term, e.g., '+n^2'. That is, we will find a specific value of a positive constant $c$, for which we can prove that $T(n) \\leq c n^2 \\log^2 n + n^2$ by induction over $n$, starting at some $n_0$.\n",
    "\n",
    "*Base case (n = 1):* $T(1) = 1 \\leq 1 = c 1^2 \\log^2 1 + 1^2$, since $\\log^2 1 = 0$. \n",
    "\n",
    "*Step:*\n",
    "IH: Assume that, for all $1 \\leq k < n$ for some fixed $n$, the inequality $T(k) \\leq c \\cdot k^2 log^2 k + k^2$ holds.\n",
    "\n",
    "We will show that the inequality also holds for $n$:\n",
    "\n",
    "$T(n) = 4 T(n/2) + n^2 \\log n \\leq_{IH} 4 (c {(n/2)}^2 \\log^2 (n/2) + (n/2)^2) + n^2 \\log n = c n^2 log^2 (n/2) + n^2 + n^2 \\log n$\n",
    "\n",
    "Now $\\log(n/2) = \\log(n) - 1$, thus $\\log^2 (n/2) = (\\log(n) - 1)^2 = \\log^2(n) - 2 \\log n + 1$. Plugging this in above, we get\n",
    "$T(n) \\leq c n^2 log^2 n - 2c n^2 \\log n + c n^2 + n^2 + n^2 \\log n \\leq c n^2 log^2 n + (2-c) n^2 \\log n$. With $c = 2$ we get $T(n) \\leq c n^2 log^2 n \\leq c n^2 log^2 n + n^2$. \n",
    "\n",
    "Thus, the inequality holds also for $n$. We conclude that by induction the inequality must hold for all $n \\geq 1$. Therefore $T(n) = \\Theta(n^2 \\log^2 n)$.\n"
   ]
  }
 ],
 "metadata": {
  "anaconda-cloud": {},
  "kernelspec": {
   "display_name": "Python 3",
   "language": "python",
   "name": "python3"
  },
  "language_info": {
   "codemirror_mode": {
    "name": "ipython",
    "version": 3
   },
   "file_extension": ".py",
   "mimetype": "text/x-python",
   "name": "python",
   "nbconvert_exporter": "python",
   "pygments_lexer": "ipython3",
   "version": "3.7.9"
  }
 },
 "nbformat": 4,
 "nbformat_minor": 1
}
