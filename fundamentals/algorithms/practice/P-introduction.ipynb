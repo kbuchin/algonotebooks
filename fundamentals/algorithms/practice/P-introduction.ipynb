{
 "cells": [
  {
   "cell_type": "markdown",
   "metadata": {},
   "source": [
    "# Practice Exercises - Lecture 1"
   ]
  },
  {
   "cell_type": "markdown",
   "metadata": {},
   "source": [
    "### Exercise 1"
   ]
  },
  {
   "cell_type": "markdown",
   "metadata": {},
   "source": [
    "Rank the following functions of $n$ by order of growth (starting with the slowest growing). Functions with the same order of growth should be ranked equal.\n",
    "\n",
    "(a) $\\log n^3$,  $n$,  $n^2 \\log n$,  $4^{\\log n}$,  $\\log \\sqrt{n}$,  $n + \\log n^4$,  $2^{\\log 16}$,  $n^{-1}$, $16$,  $n^{\\log 4}$"
   ]
  },
  {
   "cell_type": "markdown",
   "metadata": {},
   "source": [
    "(b) *(Note: This part is not much different from (a) and provided for extra practice. You may want to skip it the first time you do the exercises.)* \n",
    "\n",
    "$1$, $n$, $n^{-2}$, $\\log 3$, $n + \\log n$, $\\log n^2$, $16^{\\log n}$, $\\sqrt n \\log n$, $\\log n$, $n^{\\log 16}$"
   ]
  },
  {
   "cell_type": "markdown",
   "metadata": {},
   "source": [
    "### Exercise 2"
   ]
  },
  {
   "cell_type": "markdown",
   "metadata": {},
   "source": [
    "Prove by induction: \n",
    "\n",
    "(a) For every integer $𝑛 \\ge 5$, $2^n > 𝑛^2$ \n",
    "\n",
    "(b) $\\sum_{i=1}^{n} 2i-1\\ = n^2$\n",
    "\n",
    "(c) $\\sum_{i=0}^{n} x^i\\ = (1-x^{n+1})/(1-x)$\n",
    "\n",
    "*Note: Additional induction exercises are provided on the slides*"
   ]
  },
  {
   "cell_type": "markdown",
   "metadata": {},
   "source": [
    "### Exercise 3"
   ]
  },
  {
   "cell_type": "markdown",
   "metadata": {},
   "source": [
    "We define the problem CountInInterval as follows:\n",
    "*Given an array $A$ of $n$ integers, and two integers $p$ and $q$, count the number of elements of $A$\n",
    "that are at least $p$ and at most $q$.*\n",
    "\n",
    "(a) Give an algorithm for CountInInterval.*Don't forget to prove correctness and analyze the running time.*\n",
    "\n",
    "(b) Apply your algorithm on the weather data provided on the course website."
   ]
  },
  {
   "cell_type": "markdown",
   "metadata": {},
   "source": [
    "### Exercise 4"
   ]
  },
  {
   "cell_type": "markdown",
   "metadata": {},
   "source": [
    "For each function on the left, $p(n)$, write the letter of a function on the\n",
    "right, $q(n)$, such that $p(n) \\in \\Theta(q(n))$, that is, $p(n)$ and $q(n)$ have the same growth rate. If no such function $q(n)$\n",
    "is listed, then choose (l).\n",
    "\n",
    "<img src=\"./L1-same-growth.jpg\" alt=\"\">"
   ]
  },
  {
   "cell_type": "markdown",
   "metadata": {},
   "source": [
    "### Exercise 5"
   ]
  },
  {
   "cell_type": "markdown",
   "metadata": {},
   "source": [
    "Take any of the algorithmic problems from the tutorial on loop invariant proofs, write down your version of an algorithm for the problem and prove correctness using a loop invariant."
   ]
  },
  {
   "cell_type": "code",
   "execution_count": null,
   "metadata": {
    "collapsed": true
   },
   "outputs": [],
   "source": []
  }
 ],
 "metadata": {
  "anaconda-cloud": {},
  "kernelspec": {
   "display_name": "Python 3",
   "language": "python",
   "name": "python3"
  },
  "language_info": {
   "codemirror_mode": {
    "name": "ipython",
    "version": 3
   },
   "file_extension": ".py",
   "mimetype": "text/x-python",
   "name": "python",
   "nbconvert_exporter": "python",
   "pygments_lexer": "ipython3",
   "version": "3.6.0"
  }
 },
 "nbformat": 4,
 "nbformat_minor": 0
}
