{
 "cells": [
  {
   "cell_type": "markdown",
   "metadata": {},
   "source": [
    "# Practice: Asymptotics"
   ]
  },
  {
   "cell_type": "markdown",
   "metadata": {},
   "source": [
    "Difficulty assessment:\n",
    "\n",
    "(\\*) Basic. You should be able to easily do this.\n",
    "\n",
    "(\\*\\*) Standard. Core material to test your understanding.\n",
    "\n",
    "(\\*\\*\\*) Advanced. Possibly slightly above the level of the assignments."
   ]
  },
  {
   "cell_type": "markdown",
   "metadata": {},
   "source": [
    "**Exercise 1 ( \\*\\* ):**\n",
    "\n",
    "Rank the following functions of $n$ by order of growth (starting with the slowest growing). Functions with the same order of growth should be ranked equal.\n",
    "\n",
    "$n\\sqrt[4]{n},\\quad n^{-\\log 4},\\quad n^{0.00001},\\quad \\sum_{i=0}^n 2^i,\\quad 4^{\\log 8},\\quad n!,\\quad 1,\\quad \\frac{\\log(2n)}{2},\\quad n \\log n,\\quad \\log \\sqrt{n},\\quad \\sum_{i=1}^{\\log n} i,\\quad n^n$"
   ]
  },
  {
   "cell_type": "markdown",
   "metadata": {},
   "source": [
    "**Exercise 2 ( \\*\\* ):**\n",
    "    \n",
    "For each function on the left, $p(n)$, write the letter of a function on the right, $q(n)$, such that $p(n) = \\Theta(q(n))$. If no such function $q(n)$ is listed, then choose (l)."
   ]
  },
  {
   "cell_type": "markdown",
   "metadata": {},
   "source": [
    "<img src=\"asymptotics1.png\" width=\"600\">"
   ]
  },
  {
   "cell_type": "markdown",
   "metadata": {},
   "source": [
    "**Exercise 3 (\\*):**\n",
    "\n",
    "(a) Explain informally, why $f(n) = \\Theta(n)$ implies $f(n) = \\Omega(n)$ and $f(n) = O(n)$."
   ]
  },
  {
   "cell_type": "markdown",
   "metadata": {},
   "source": [
    "(b) Give definitions of the big-$O$, big-$\\Omega$, and big-$\\Theta$ notations."
   ]
  },
  {
   "cell_type": "markdown",
   "metadata": {
    "collapsed": true
   },
   "source": [
    "(c) Explain using the definitions why $f(n) = \\Theta(n)$ when $f(n) = \\Omega(n)$ and $f(n) = O(n)$."
   ]
  },
  {
   "cell_type": "markdown",
   "metadata": {},
   "source": [
    "**Exercise 4 (\\*\\*):**\n",
    "\n",
    "Formally prove or disprove the following statements using the definitions of the respective asymptotic notations:\n",
    "\n",
    "(a) $n^2 - 3n + 4 = \\Omega(n^2)$"
   ]
  },
  {
   "cell_type": "markdown",
   "metadata": {},
   "source": [
    "(b) $n^2 \\log n = \\Omega(n^3)$"
   ]
  },
  {
   "cell_type": "markdown",
   "metadata": {
    "collapsed": true
   },
   "source": [
    "(c) $\\sqrt{n} = O(\\log n)$"
   ]
  },
  {
   "cell_type": "markdown",
   "metadata": {},
   "source": [
    "(d) $\\Omega(n \\log n) \\cap O(n^2) \\neq \\emptyset$ (*in words: $\\Omega(n \\log n)$ and $O(n^2)$ have a non-empty intersection.*)"
   ]
  },
  {
   "cell_type": "markdown",
   "metadata": {},
   "source": [
    "(e) If $f(n) = \\Omega (h(n))$ and $g(n) = \\Omega (h(n))$, then $f(n)\\cdot g(n) = \\Omega(h^2(n))$."
   ]
  }
 ],
 "metadata": {
  "kernelspec": {
   "display_name": "Python 3",
   "language": "python",
   "name": "python3"
  },
  "language_info": {
   "codemirror_mode": {
    "name": "ipython",
    "version": 3
   },
   "file_extension": ".py",
   "mimetype": "text/x-python",
   "name": "python",
   "nbconvert_exporter": "python",
   "pygments_lexer": "ipython3",
   "version": "3.6.0"
  }
 },
 "nbformat": 4,
 "nbformat_minor": 2
}
