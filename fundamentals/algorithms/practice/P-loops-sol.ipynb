{
 "cells": [
  {
   "cell_type": "markdown",
   "metadata": {},
   "source": [
    "# Practice: Loops"
   ]
  },
  {
   "cell_type": "markdown",
   "metadata": {},
   "source": [
    "Difficulty assessment:\n",
    "\n",
    "(\\*) Basic. You should be able to easily do this.\n",
    "\n",
    "(\\*\\*) Standard. Core material to test your understanding.\n",
    "\n",
    "(\\*\\*\\*) Advanced. Possibly slightly above the level of the assignments."
   ]
  },
  {
   "cell_type": "markdown",
   "metadata": {},
   "source": [
    "**Exercise 1 ( \\*\\*-\\*\\*\\* ):**\n",
    "\n",
    "For the two algorithms below, *Yukkuri* (\\*\\*) and *Hayaku* (\\*\\*\\*), answer the following questions."
   ]
  },
  {
   "cell_type": "code",
   "execution_count": 1,
   "metadata": {
    "collapsed": true
   },
   "outputs": [],
   "source": [
    "def Yukkuri(m, n):\n",
    "    r = 1\n",
    "    k = n\n",
    "    while k > 0:\n",
    "        k -= 1\n",
    "        r *= m\n",
    "    return r"
   ]
  },
  {
   "cell_type": "code",
   "execution_count": 6,
   "metadata": {
    "collapsed": false
   },
   "outputs": [],
   "source": [
    "def Hayaku(m, n):\n",
    "    r = 1\n",
    "    k = n\n",
    "    h = m\n",
    "    while k > 0:\n",
    "        if k%2 == 0:\n",
    "            k /= 2\n",
    "            h *= h\n",
    "        else:\n",
    "            k -= 1\n",
    "            r *= h\n",
    "    return r"
   ]
  },
  {
   "cell_type": "markdown",
   "metadata": {},
   "source": [
    "(a) What does the algorithm compute?"
   ]
  },
  {
   "cell_type": "markdown",
   "metadata": {},
   "source": [
    "**Solution:** Both algorithms compute $m^n$."
   ]
  },
  {
   "cell_type": "markdown",
   "metadata": {},
   "source": [
    "(b) Prove your claim using a proof by loop invariant."
   ]
  },
  {
   "cell_type": "markdown",
   "metadata": {},
   "source": [
    "**Solution:**\n",
    "\n",
    "(i) Yukkuri:\n",
    "\n",
    "*Loop Invariant:* at the start of each iteration $r = m^{n-k}$.\n",
    "\n",
    "*Initialization:*\n",
    "At the start of the first iteration of the while loop we have $k = n$ and $r = 1 = m^{n-n}$, thus the loop invariant holds at the start of the first iteration.\n",
    "\n",
    "*Maintenance:*\n",
    "Assume the loop invariant holds at the start of an arbitrary iteration. Denote the value of $k$ at the start of that iteration as $k_i$. Then, our assumption is that $k = k_i$ and $r = m^{n-k_i}$ . We need to prove that the loop invariant will also hold at the start of the next iteration.\n",
    "\n",
    "Within an iteration, $k$ is decreased by 1. The new value of $k$ is $k_i - 1$. Within an iteration, $r$ is multiplied by $m$. Thus, at the start of the next iteration $k = k_i - 1$ and $r = m^{n-k_i}m = m^{n-(k_i-1)}=m^{n-k}$. We indeed have that the loop invariant holds at the\n",
    "start of the next iteration. Therefore, the loop invariant holds throughout the whole while-loop.\n",
    "\n",
    "*Termination:*\n",
    "The loop terminates when $k = 0$. By the loop invariant, at the start of the iteration with $k = 0$, $r$ equals $m^{n-0} = m^n$.\n",
    "This is exactly what the algorithm returns.\n",
    "\n",
    "(ii) Hayaku:\n",
    "\n",
    "Consider the binary representation of $n$, and denote the number of digits in it as $d_n$.\n",
    "\n",
    "*Loop Invariant:* at the start of each iteration $r = m^n/h^k$.\n",
    "\n",
    "*Initialization:*\n",
    "At the start of the first iteration of the while loop we have $k = n$, $h = m$, and $r = 1 = m^n/h^k$, thus the loop invariant holds at the start of the first iteration.\n",
    "\n",
    "*Maintenance:*\n",
    "Assume the loop invariant holds at the start of an arbitrary iteration. Denote the value of $k$ at the start of this iteration as $k_i$, and the value of $h$ at the start of this iteration as $h_i$. Then, our assumption is that $r = m^n/h_i^{k_i}$ . We need to prove that the loop invariant will also hold at the start of the next iteration.\n",
    "\n",
    "Consider the case when $k_i$ is even. Within the iteration, $k$ is decreased by a factor of 2, $h$ is squared, and $r$ remains unchanged. Then, at the start of the next iteration, $k = k_i/2$, $h = h_i^2$, and $r = m^n/h_i^{k_i} = m^n/(h_i^2)^{k_i/2} = m^n/h^k$. Thus, at the start of the next iteration the loop invariant holds.\n",
    "\n",
    "Consider the case when $k_i$ is odd. Within an iteration, $k$ is decreased by 1, $r$ is multiplied by $h$, and $h$ remains unchanged. Thus, at the start of the next iteration, $k = k_i - 1$, $h = h_i$, $r = h\\cdot m^n/h_i^{k_i} = h \\cdot m^n/h_i^{k_i-1} = m^n/h^k$. Thus, at the start\n",
    "of the next iteration the loop invariant holds. Therefore, the loop invariant holds throughout the whole while-loop.\n",
    "\n",
    "*Termination:*\n",
    "The loop terminates when *k = 0*. By the loop invariant, at the start of the iteration with $k = 0$, $r = m^n/h^0 = m^n$.\n",
    "This is exactly what the algorithm returns."
   ]
  },
  {
   "cell_type": "markdown",
   "metadata": {},
   "source": [
    "(c) Analyze the asymptotic running time of the algorithm."
   ]
  },
  {
   "cell_type": "markdown",
   "metadata": {},
   "source": [
    "**Solution:**\n",
    "\n",
    "(i) Yukkuri: Lines 1, 2, and 6 take $O(1)$ time. Each line of the while-loop also takes $O(1)$ time each, and the loop is executed $n$ times. Therefore, the total running time of the algorithm is $O(n)$.\n",
    "\n",
    "(ii) Hayaku: Lines 1, 2, 3, and 10 take $O(1)$ time. Each line of the while-loop also takes $O(1)$ time each. The loop is executed $O(\\log n)$ times. To prove that, observe, that $k$ decreases by the factor of 2 at least every second iteration of the loop. Therefore, the total running time of the algorithm is $O(\\log n)$."
   ]
  }
 ],
 "metadata": {
  "kernelspec": {
   "display_name": "Python 3",
   "language": "python",
   "name": "python3"
  },
  "language_info": {
   "codemirror_mode": {
    "name": "ipython",
    "version": 3
   },
   "file_extension": ".py",
   "mimetype": "text/x-python",
   "name": "python",
   "nbconvert_exporter": "python",
   "pygments_lexer": "ipython3",
   "version": "3.6.0"
  }
 },
 "nbformat": 4,
 "nbformat_minor": 2
}
