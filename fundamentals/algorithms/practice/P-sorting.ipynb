{
 "cells": [
  {
   "cell_type": "markdown",
   "metadata": {},
   "source": [
    "# Practice Exercises: Solving Recurrences, Sorting"
   ]
  },
  {
   "cell_type": "markdown",
   "metadata": {},
   "source": [
    "### Exercise 1"
   ]
  },
  {
   "cell_type": "markdown",
   "metadata": {},
   "source": [
    "Give asymptotic upper and lower bounds for $T(n)$ in each of the following recurrences. Assume that $T(n)$ is constant for $n \\leq 2$. Make your bounds as tight as possible, and justify your answers.\n",
    "\n",
    "(a) $T(n) = 7T(n/2) + n^2$\n",
    "\n",
    "(b) $T(n) = 7T(n/3) + n^2$\n",
    "\n",
    "(c) $T(n) = 2T(n/4) + \\sqrt n$\n",
    "\n",
    "(d) $T(n) = T(n-1) + n$\n",
    "\n",
    "(e) $T(n) = 4T(n/2) + n^2 \\sqrt n$"
   ]
  },
  {
   "cell_type": "markdown",
   "metadata": {},
   "source": [
    "### Exercise 2"
   ]
  },
  {
   "cell_type": "markdown",
   "metadata": {},
   "source": [
    "Use substitution method to prove that the solution of\n",
    "\n",
    "$$T(n) = \\begin{cases} 1 &\\mbox{if } n = 1 \\\\\n",
    "                   T(\\lceil n/2 \\rceil) + 1 & \\mbox{if } n >1\\end{cases}$$\n",
    "                   \n",
    "is $O(\\log n)$."
   ]
  },
  {
   "cell_type": "markdown",
   "metadata": {},
   "source": [
    "### Exercise 3"
   ]
  },
  {
   "cell_type": "markdown",
   "metadata": {},
   "source": [
    "Assume that algorithm $A$ and algorithm $B$ both solve the same problem. In the worst case algorithm $A$ takes $T_A(n)$ steps and algorithm $B$ takes $T_B(n)$ steps with $T_A(n) \\in \\Theta(n)$ and $T_B(n) \\in \\Theta(\\sqrt{n})$. Does that imply that algorithm $B$ always takes fewer steps than algorithm $A$ for any input of size $n$? And does it imply $T_B(n) \\leq T_A(n)$ for all $n$? Explain your answer."
   ]
  },
  {
   "cell_type": "markdown",
   "metadata": {},
   "source": [
    "### Exercise 4"
   ]
  },
  {
   "cell_type": "markdown",
   "metadata": {},
   "source": [
    "Given a set $S$ of $n$ integers and another integer $z$, we want to find two elements $x,y \\in S$ such that $x \\cdot y = z$, or report that no two such integers (in $S$) exist. Give an algorithm for this problem that runs in $O (n \\log n)$ time. "
   ]
  },
  {
   "cell_type": "markdown",
   "metadata": {},
   "source": [
    "### Exercise 5"
   ]
  },
  {
   "cell_type": "markdown",
   "metadata": {},
   "source": [
    "Suppose you have a set $S$ of $n$ numbers, and suppose that given two elements of $S$ you cannot determine which is larger. However, you are given an oracle that will tell you the median of a set of three distinct elements from $S$.\n",
    "\n",
    "(a) Give a linear time algorithm to find the pair of the largest and the smallest number in $S$.\n",
    "\n",
    "(b) Give an algorithm to sort $S$ in $O(n \\log n)$ time. You are allowed to use one regular comparison, otherwise you need to rely solely on the oracle."
   ]
  },
  {
   "cell_type": "code",
   "execution_count": null,
   "metadata": {},
   "outputs": [],
   "source": []
  }
 ],
 "metadata": {
  "anaconda-cloud": {},
  "kernelspec": {
   "display_name": "Python 3",
   "language": "python",
   "name": "python3"
  },
  "language_info": {
   "codemirror_mode": {
    "name": "ipython",
    "version": 3
   },
   "file_extension": ".py",
   "mimetype": "text/x-python",
   "name": "python",
   "nbconvert_exporter": "python",
   "pygments_lexer": "ipython3",
   "version": "3.7.0"
  }
 },
 "nbformat": 4,
 "nbformat_minor": 1
}
