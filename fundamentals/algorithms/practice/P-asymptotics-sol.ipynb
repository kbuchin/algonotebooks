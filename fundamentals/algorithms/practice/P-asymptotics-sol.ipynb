{
 "cells": [
  {
   "cell_type": "markdown",
   "metadata": {},
   "source": [
    "# Practice: Asymptotics"
   ]
  },
  {
   "cell_type": "markdown",
   "metadata": {},
   "source": [
    "Difficulty assessment:\n",
    "\n",
    "(\\*) Basic. You should be able to easily do this.\n",
    "\n",
    "(\\*\\*) Standard. Core material to test your understanding.\n",
    "\n",
    "(\\*\\*\\*) Advanced. Possibly slightly above the level of the assignments."
   ]
  },
  {
   "cell_type": "markdown",
   "metadata": {},
   "source": [
    "**Exercise 1 ( \\*\\* ):**\n",
    "\n",
    "Rank the following functions of $n$ by order of growth (starting with the slowest growing). Functions with the same order of growth should be ranked equal.\n",
    "\n",
    "$n\\sqrt[4]{n},\\quad n^{-\\log 4},\\quad n^{0.00001},\\quad \\sum_{i=0}^n 2^i,\\quad 4^{\\log 8},\\quad n!,\\quad 1,\\quad \\frac{\\log(2n)}{2},\\quad n \\log n,\\quad \\log \\sqrt{n},\\quad \\sum_{i=1}^{\\log n} i,\\quad n^n$"
   ]
  },
  {
   "cell_type": "markdown",
   "metadata": {},
   "source": [
    "**Solution:**\n",
    "\n",
    "1.) $n^{-\\log 4} = n^{-2} = \\Theta(n^{-2})$\n",
    "\n",
    "2.) $4^{\\log 8} = 4^3 = 64 = \\Theta(1)$, $1 = \\Theta(1)$\n",
    "\n",
    "3.) $\\frac{\\log(2n)}{2} = \\frac{\\log 2 + \\log n}{2} = \\Theta (\\log n)$, $\\log \\sqrt{n} = \\frac{\\log n}{2} = \\Theta (\\log n)$\n",
    "\n",
    "4.) $\\sum_{i=1}^{\\log n} i = \\frac{\\log n \\log (n+1)}{2} = \\Theta(\\log^2 n)$\n",
    "\n",
    "5.) $n^{0.00001} = \\Theta (n^{0.00001})$, *Note: Polynomial functions grow faster than logarithmic functions.*\n",
    "\n",
    "6.) $n \\log n = \\Theta(n \\log n)$\n",
    "\n",
    "7.) $n\\sqrt[4]{n} = n^{1+ 1/4} = \\Theta (n^{5/4})$\n",
    "\n",
    "8.) $\\sum_{i=0}^n 2^i = \\frac{2^{n+1}-1}{2-1} = 2^{n+1}-1 = \\Theta (2^n)$\n",
    "\n",
    "9.) $n! = \\Theta(n!)$\n",
    "\n",
    "10.) $n^n = \\Theta(n^n)$"
   ]
  },
  {
   "cell_type": "markdown",
   "metadata": {},
   "source": [
    "**Exercise 2 ( \\*\\* ):**\n",
    "    \n",
    "For each function on the left, $p(n)$, write the letter of a function on the right, $q(n)$, such that $p(n) = \\Theta(q(n))$. If no such function $q(n)$ is listed, then choose (l)."
   ]
  },
  {
   "cell_type": "markdown",
   "metadata": {},
   "source": [
    "<img src=\"asymptotics1.png\" width=\"600\">"
   ]
  },
  {
   "cell_type": "markdown",
   "metadata": {},
   "source": [
    "**Solution:**\n",
    "\n",
    "1. (i), since $\\sum_{i=1}^n (4i - 4) = \\Theta(\\sum_{i=1}^n i) = \\Theta (n^2)$.\n",
    "\n",
    "2. (j), since $\\sum_{i=1}^n \\sum_{j=1}^i i = \\sum_{i=1}^n \\left(i \\cdot \\sum_{j=1}^i 1\\right) =\\sum_{i=1}^n i^2 = \\Theta (n^3)$  \n",
    "\n",
    "3. (h), since $\\sum_{i=1}^{\\log n} n = n \\cdot \\sum_{i=1}^{\\log n} 1 = n \\log n = \\Theta (n \\log n)$\n",
    "\n",
    "4. (a), since $\\sum_{i=1}^n \\frac{4}{2^i} = 4 \\sum_{i=1}^n (1/2)^i = 4 \\frac{1-(1/2)^{n+1}}{1 - 1/2} = \\Theta(1-(1/2)^{n+1}) = \\Theta (1)$  "
   ]
  },
  {
   "cell_type": "markdown",
   "metadata": {},
   "source": [
    "**Exercise 3 (\\*):**\n",
    "\n",
    "(a) Explain informally, why $f(n) = \\Theta(n)$ implies $f(n) = \\Omega(n)$ and $f(n) = O(n)$."
   ]
  },
  {
   "cell_type": "markdown",
   "metadata": {},
   "source": [
    "**Solution:**\n",
    "\n",
    "$f(n) = \\Theta(n)$ means that $f(n)$ has growth rate $n$. But then $f(n)$ also has growth rate at least $n$ (i.e., $f(n) = \\Omega(n)$) and at most $n$ (i.e., $f(n) = O(n)$)"
   ]
  },
  {
   "cell_type": "markdown",
   "metadata": {},
   "source": [
    "(b) Give definitions of the big-$O$, big-$\\Omega$, and big-$\\Theta$ notations."
   ]
  },
  {
   "cell_type": "markdown",
   "metadata": {},
   "source": [
    "**Solution:**\n",
    "\n",
    "For a given function $g(n) \\colon N \\rightarrow N$,\n",
    "\n",
    "- $O(g(n)) = \\{ f(n) : \\text{ there exist positive constants } c \\text{ and } n_0 \\text{ such that } 0 \\leq f(n) \\leq c g(n) \\text{ for all } n \\geq n_0 \\}$\n",
    "\n",
    "- $\\Omega(g(n)) = \\{ f(n) : \\text{ there exist positive constants } c \\text{ and } n_0 \\text{ such that } 0 \\leq c g(n) \\leq f(n) \\text{ for all } n \\geq n_0 \\}$\n",
    "\n",
    "- $\\Theta(g(n)) = \\{ f(n) : \\text{ there exist positive constants } c_1, c_2 \\text{ and } n_0 \\text{ such that } 0 \\leq c_1 g(n) \\leq f(n) \\leq c_2 g(n) \\text{ for all } n \\geq n_0 \\}$"
   ]
  },
  {
   "cell_type": "markdown",
   "metadata": {
    "collapsed": true
   },
   "source": [
    "(c) Explain using the definitions why $f(n) = \\Theta(n)$ when $f(n) = \\Omega(n)$ and $f(n) = O(n)$."
   ]
  },
  {
   "cell_type": "markdown",
   "metadata": {},
   "source": [
    "**Solution:**\n",
    "\n",
    "Let $f(n) = O(g(n))$ and $f(n) = \\Omega(g(n))$. Then, by definition of the big-$O$ notation, there exist positive constants $c_1$ and $n_1$ such that $0 \\leq f(n) \\leq c_1 g(n)$ for all $n \\geq n_1$. On the\n",
    "other hand, by definition of the big-$\\Omega$ notation, there exist positive constants $c_2$ and $n_2$ such that $0 \\leq c_2 g(n) \\leq f(n)$ for all $n \\geq n_2$.\n",
    "\n",
    "Thus, there exist positive constants $c_1$, $c_2$, and $n_0$ such that $0 \\leq c_2 g(n) \\leq f(n) \\leq c_1 g(n)$ for all $n \\geq n_0$, where we choose $n_0 = \\max(n_1, n_2)$. Then, by definition of the big-$\\Theta$\n",
    "notation, $f(n) = \\Theta(g(n))$."
   ]
  },
  {
   "cell_type": "markdown",
   "metadata": {},
   "source": [
    "**Exercise 4 (\\*\\*):**\n",
    "\n",
    "Formally prove or disprove the following statements using the definitions of the respective asymptotic notations:\n",
    "\n",
    "(a) $n^2 - 3n + 4 = \\Omega(n^2)$"
   ]
  },
  {
   "cell_type": "markdown",
   "metadata": {},
   "source": [
    "**Solution:** We will prove that this statement is true by definition of the big-$\\Theta$ notation.\n",
    "By definition, $n_2 - 3n + 4 = \\Theta(n^2)$, if there exist positive constants $c_1$, $c_2$, and $n_0$ such that $0 \\leq c_1 n^2 \\leq n^2 - 3n + 4 \\leq c_2 n^2$ for all $n \\geq n_0$:\n",
    "\n",
    "To prove that the statement holds we need to find specific values for $c_1$, $c_2$, and $n_0$ that always satisfy the inequalities for all $n \\geq n_0$.\n",
    "So, we need $0 \\leq c_1 n^2 \\leq n^2 - 3n + 4$ and $0 \\leq n^2 - 3n + 4 \\leq c_2 n^2$ for all $n \\geq n_0$.\n",
    "\n",
    "*First inequality.* Choose $c_1 = 1/2$ and $n_0 = 6$, then we need $0 \\leq 0.5 n^2 \\leq n^2 - 3n + 4$ holds for all $n \\leq 6$. For $n \\geq 6$, we have $3n = \\frac{6n}{2} \\leq \\frac{n^2}{2}$, thus $n^2 - 3n + 4 \\geq \\frac{n^2}{2} + 4 \\geq \\frac{n^2}{2}$. So the inequalities hold.  \n",
    "\n",
    "*Second inequality.* For the second inequality, choose $c_2 = 1$ (and leave $n_0 = 6$), then $0 \\leq n^2 - 3n + 4 \\leq n^2$ holds for all $n \\ge n_0$, since $-3n + 4$ is negative.\n",
    "\n",
    "Thus there exists positive constants, namely $c_1 = 1/2$, $c_2 = 1$ and $n_0 = 6$ that make the proposition true. Hence, the statement is true by definition.\n"
   ]
  },
  {
   "cell_type": "markdown",
   "metadata": {},
   "source": [
    "(b) $n^2 \\log n = \\Omega(n^3)$"
   ]
  },
  {
   "cell_type": "markdown",
   "metadata": {},
   "source": [
    "**Solution:**\n",
    "\n",
    "We will prove that this statement is false by contradiction. Assume that it is true, then by the definition of big-$\\Omega$ notation, there exist positive constants $c$ and $n_0$ such that\n",
    "\n",
    "$$0 \\leq c n^3 \\leq n^2 \\log n \\text{ for all } n \\geq n0:$$\n",
    "\n",
    "Then $0 \\leq cn \\leq \\log n$ for all $n \\geq n_0$. But we know that any polynomial function grows faster than any logarithmic function. Thus, for any positive values of $c$ and $n_0$, there will exist such $n \\geq n_0$ with $cn > \\log n$. We have reached a contradiction and the only\n",
    "conclusion can be that our assumption must be false. Hence, the original claim is false."
   ]
  },
  {
   "cell_type": "markdown",
   "metadata": {
    "collapsed": true
   },
   "source": [
    "(c) $\\sqrt{n} = O(\\log n)$"
   ]
  },
  {
   "cell_type": "markdown",
   "metadata": {},
   "source": [
    "**Solution:**\n",
    "\n",
    "We will prove that this statement is false by contradiction. Assume that it is true, then by the definition of big-$O$ notation, there exist positive constants $c$ and $n_0$ such that\n",
    "\n",
    "$$0 \\leq \\sqrt{n} \\leq c \\log n \\text{ for all } n \\geq n_0.$$\n",
    "\n",
    "But we know that any polynomial function grows faster than any logarithmic function. Thus, for any positive values of $c$ and $n_0$, there will exist such $n \\geq n0$ with $\\sqrt{n} > c \\log n$.\n",
    "\n",
    "We have reached a contradiction and the only conclusion can be that our assumption must be false. Hence, the original claim is false."
   ]
  },
  {
   "cell_type": "markdown",
   "metadata": {},
   "source": [
    "(d) $\\Omega(n \\log n) \\cap O(n^2) \\neq \\emptyset$ (*in words: $\\Omega(n \\log n)$ and $O(n^2)$ have a non-empty intersection.*)"
   ]
  },
  {
   "cell_type": "markdown",
   "metadata": {},
   "source": [
    "**Solution:**\n",
    "\n",
    "We will prove that this statement is true by showing that there exists such function $f(n)$ that $f(n) = \\Omega(n \\log n)$ and $f(n) = O(n^2)$, and therefore, the intersection of the two sets is non-empty.\n",
    "We choose $f(n) = n^2$.\n",
    "\n",
    "First, trivially, $n^2 = O(n^2)$. Indeed, there exist positive constants $c = 1$ and $n_0 = 1$ such that $0 \\leq n^2 \\leq n^2$ for all $n \\geq 1$.\n",
    "\n",
    "We are left to show that $n^2 = \\Omega (n \\log n)$. By definition, $n^2 = \n",
    "\\Omega(n \\log n)$, if there exist positive constants $c$ and $n_0$ such that $0 \\leq c n \\log n \\leq n^2$ for all $n \\geq n_0$.\n",
    "To prove that we will find values for $c$ and $n_0$ that always satisfy the inequality for all $n \\geq n_0$.\n",
    "After dividing the inequality by $n$ we get $0 \\leq c log n \\leq n$.\n",
    "Choose $c = 1$, then $0 \\leq log n \\leq n$ holds for all $n \\geq n_0$, where we will choose $n_0$ to be sufficiently large for the right hand side to dominate the left hand side of the inequality.\n",
    "\n",
    "We know that $n > log n$ for all positive $n$.(*Note: If you would want to prove this, you could argue via the derivatives of $g_1(x) = x$ and $g_2(x) = \\log x$ or you could use induction$*). So we can simply choose $n_0 = 1$.\n",
    "\n",
    "Thus there exists positive constants, namely $c = 1$ and $n_0 = 1$ that make the inequality hold. So, we have shown that $n^2 = \\Omega(n log n)$.\n",
    "\n",
    "Since we have found an $f(n)$ in the intersection of the two classes, we have shown that the intersection is not empty, thus, the statement is true."
   ]
  },
  {
   "cell_type": "markdown",
   "metadata": {},
   "source": [
    "(e) If $f(n) = \\Omega (h(n))$ and $g(n) = \\Omega (h(n))$, then $f(n)\\cdot g(n) = \\Omega(h^2(n))$."
   ]
  },
  {
   "cell_type": "markdown",
   "metadata": {},
   "source": [
    "**Solution:**\n",
    "\n",
    "We will prove that this statement is true by definition of the big-$\\Omega$ notation.\n",
    "By definition, $f(n) = \\Omega(h(n))$, if there exist positive constants $c_1$ and $n_1$ such that\n",
    "\n",
    "$$0 \\leq c_1 h(n) \\leq f(n) \\text{ for all } n \\geq n1.$$\n",
    "\n",
    "Similarly, by definition, $g(n) = \\Omega(h(n))$, if there exist positive constants $c_2$ and $n_2$ such that\n",
    "\n",
    "$$0 \\leq c_2 h(n) \\leq g(n) \\text{ for all } n \\geq n_2.$$\n",
    "\n",
    "After multiplying these inequalities, we get that the following inequalities hold\n",
    "\n",
    "$$0 \\leq c_1c_2 h^2(n) \\leq f(n)g(n) \\text{ for all } n \\text{ such that } n \\geq n_1 \\text{ and } n \\geq n_2.$$\n",
    "\n",
    "To show that $f(n)g(n) = \\Omega(h^2(n))$, we need to find positive constants $c$ and $n_0$ such that\n",
    "\n",
    "$$0 \\leq c h^2(n) \\leq f(n)g(n) \\text{ for all } n \\leq n_0.$$\n",
    "\n",
    "Then, for $c = c_1c_2$ and $n_0 = \\max(n_1, n_2)$ the proposition is true. Hence, the statement is true by definition."
   ]
  }
 ],
 "metadata": {
  "kernelspec": {
   "display_name": "Python 3",
   "language": "python",
   "name": "python3"
  },
  "language_info": {
   "codemirror_mode": {
    "name": "ipython",
    "version": 3
   },
   "file_extension": ".py",
   "mimetype": "text/x-python",
   "name": "python",
   "nbconvert_exporter": "python",
   "pygments_lexer": "ipython3",
   "version": "3.7.9"
  }
 },
 "nbformat": 4,
 "nbformat_minor": 2
}
