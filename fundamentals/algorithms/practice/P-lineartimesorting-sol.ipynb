{
 "cells": [
  {
   "cell_type": "markdown",
   "metadata": {},
   "source": [
    "# Practice: Linear-Time Sorting"
   ]
  },
  {
   "cell_type": "markdown",
   "metadata": {},
   "source": [
    "Difficulty assessment:\n",
    "\n",
    "(\\*) Basic. You should be able to easily do this.\n",
    "\n",
    "(\\*\\*) Standard. Core material to test your understanding.\n",
    "\n",
    "(\\*\\*\\*) Advanced. Possibly slightly above the level of the assignments."
   ]
  },
  {
   "cell_type": "markdown",
   "metadata": {},
   "source": [
    "### Exercise 1 (\\*)"
   ]
  },
  {
   "cell_type": "markdown",
   "metadata": {},
   "source": [
    "Sort $A = [0,2,0,1,3,1,3]$ using CountingSort. Show the status of C at line 3 and 5 of the algorithm (on the slides)."
   ]
  },
  {
   "cell_type": "markdown",
   "metadata": {},
   "source": [
    "**Solution:**\n",
    "\n",
    "For $k = 3$, the algorithm creates an array $C$ of length 4. The first loop counts how often each number occurs and writes this into $C$. So at line 3 we have $C = [2,2,1,2]$. The next loop then calculates for each $i$ how many elements $\\leq i$ there are. The result is $C = [2,4,5,7]$. In these calculations the previously computed values are used. For instance the 7 at $C[3]$ is calculated by taking the new $C[2]=5$ and adding the old $C[3]=2$.\n",
    "\n",
    "The algorithm then writes the numbers from $A$ into a new array $B$, starting with the last. For instance, $A[6] =3$, so it looks up $C[3]$, which is 7. Therefore, it writes this 3 to $B[7-1]=B[6]$. It decrements $C[3]$ to 6, and continues."
   ]
  },
  {
   "cell_type": "markdown",
   "metadata": {},
   "source": [
    "### Exercise 2 (\\*)"
   ]
  },
  {
   "cell_type": "markdown",
   "metadata": {},
   "source": [
    "Sort the following words using RadixSort. Illustrate the execution of the algorithm as on the slides: TAB, BAR, EAR, TAR, TEA"
   ]
  },
  {
   "cell_type": "markdown",
   "metadata": {},
   "source": [
    "**Solution:**\n",
    "\n",
    "Sorting by third letter:\n",
    "TEA TAB BAR EAR TAR\n",
    "\n",
    "Sorting by second letter:\n",
    "TAB BAR EAR TAR TEA\n",
    "\n",
    "Sorting by first letter:\n",
    "BAR EAR TAB TAR TEA"
   ]
  },
  {
   "cell_type": "markdown",
   "metadata": {},
   "source": [
    "### Exercise 3 (\\*)"
   ]
  },
  {
   "cell_type": "markdown",
   "metadata": {},
   "source": [
    "Given a set of $n$ integers in the range $[0:n^3]$, suggest an efficient sorting algorithm. Also argue your choice by comparing the running time to other sorting algorithms."
   ]
  },
  {
   "cell_type": "markdown",
   "metadata": {},
   "source": [
    "**Solution:**\n",
    "\n",
    "We use radix sort with $k=n-1$. Each number in the range can be written uniquely in the form $a_2 n^2 + a_1 n + a_0$ with $a_i \\in \\{0, \\ldots n-1\\}$. Therefore we can represent numbers in this range as tuples $(a_2, a_1, a_0)$. Furthermore, if we have numbers in this range, we can correctly sort them by sorting them by their tuples. Therefore, we can apply radix sort with $d =3$, and will get at running time $T(n) = \\Theta(d(n+k)) = \\Theta(3(n+n-1)) = \\Theta(n)$.\n",
    "\n",
    "Other sorting algorithms: comparison-based sorting algorithms will simply have their regular running-time, e.g. $\\Theta(n \\log n)$ for merge sort and $\\Theta(n^2)$ for insertion sort. Thus, they are both slower. Counting sort would have $k = n^3-1$, and therefore a running time of $\\Theta(n^3)$, which is even slower."
   ]
  },
  {
   "cell_type": "markdown",
   "metadata": {},
   "source": [
    "### Exercise 4 (\\*\\*)"
   ]
  },
  {
   "cell_type": "markdown",
   "metadata": {},
   "source": [
    "There are $m$ sets of integers $S_1, S_2,\\ldots ,S_m$. \n",
    "Each set contains integers in the range $[0:n]$ and $m = O(n)$.\n",
    "Let $n_i = |S_i|$ equal the number of elements in $S_i$. Overall there are $n$ integers, that is $n_1 + n_2 + \\ldots + n_m = O(n).$ \n",
    "\n",
    "How fast can we sort all sets $S_1, S_2,...,S_m$? \n",
    "\n",
    "*Note: The output is m sorted sets and not one merged sorted set.*\n"
   ]
  },
  {
   "cell_type": "markdown",
   "metadata": {},
   "source": [
    "**Solution:**\n",
    "\n",
    "A natural idea would be to apply counting sort to each of the $S_i$. But that can be very slow! For instance, if each $S_i$ only has one element, but we have $m=n$, then counting sort would take $\\Theta(n)$ time for each $S_i$, so overall $\\Theta(n^2)$ time. A better, but not optimal, running time would result from merge sort. The running time would be $\\sum_{i=1}^m \\Theta(n_i \\log n_i) = \\Theta (n \\log n)$. But we can do better. The actual answer to this exercise follows next. \n",
    "\n",
    "*Algorithm:*\n",
    "\n",
    "1.) Insert all numbers into one array $A$, while maintining the information from which list an integer came. For instance, we can use an array of tuples $(x,i)$, where $x$ is the integer and $i$ denotes that it is from $S_i$. This takes $O(n)$ time.\n",
    "\n",
    "2.) Now, apply counting sort on $A$. Since, we have $O(n)$ numbers and $k=n-1$, counting sort runs in $O(n)$ time. Assume that the output of counting sort is an array $B$. \n",
    "\n",
    "3.) Then with one for-loop over $B$, we can extract the sorted sets for the $S_i$. We keep the numbers in the same order as they were in $B$. This loop again takes $O(n)$ time.\n",
    "\n",
    "*Running time:* Each step takes $O(n)$ time as discussed above. The overall running time is $O(n)$.\n",
    "\n",
    "*Correctness:* Counting sort will sort the merged list correctly. For any $S_i$ the integers are sorted, because we kept the order as in $B$, and $B$ was sorted.\n",
    "\n",
    "\n",
    "**Note:** (*not part of the solution*): This is an example where there isn't much to be said about running time and correctness, because both follow quite immediately from the running time and correctness of counting sort. Nonetheless, always discuss both, e.g., as I did above. This is also an example, where I didn't give Python or pseudo-code. This is perfectly fine, as long as the algorithm is clear.\n",
    "\n"
   ]
  }
 ],
 "metadata": {
  "anaconda-cloud": {},
  "kernelspec": {
   "display_name": "Python 3",
   "language": "python",
   "name": "python3"
  },
  "language_info": {
   "codemirror_mode": {
    "name": "ipython",
    "version": 3
   },
   "file_extension": ".py",
   "mimetype": "text/x-python",
   "name": "python",
   "nbconvert_exporter": "python",
   "pygments_lexer": "ipython3",
   "version": "3.7.9"
  }
 },
 "nbformat": 4,
 "nbformat_minor": 1
}
