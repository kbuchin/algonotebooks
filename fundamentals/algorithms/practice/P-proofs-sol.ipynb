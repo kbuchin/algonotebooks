{
 "cells": [
  {
   "cell_type": "markdown",
   "metadata": {},
   "source": [
    "# Practice: Proofs"
   ]
  },
  {
   "cell_type": "markdown",
   "metadata": {},
   "source": [
    "Difficulty assessment:\n",
    "\n",
    "(\\*) Basic. You should be able to easily do this.\n",
    "\n",
    "(\\*\\*) Standard. Core material to test your understanding.\n",
    "\n",
    "(\\*\\*\\*) Advanced. Possibly slightly above the level of the assignments."
   ]
  },
  {
   "cell_type": "markdown",
   "metadata": {},
   "source": [
    "**Exercise 1 ( \\*\\* ):**\n",
    "\n",
    "Prove using induction on $n$ that for all $n \\ge 1$ we have: \n",
    "\n",
    "$$\\sum_{j=1}^n j^3 = \\frac{1}{4}n^2(n + 1)^2$$."
   ]
  },
  {
   "cell_type": "markdown",
   "metadata": {},
   "source": [
    "**Solution:** We prove the claim using induction on $n$.\n",
    "\n",
    "*Base case ($n = 1$)*:\n",
    "\n",
    "We get\n",
    "$\\sum_{j=1}^1 = 1^3 = 1$.\n",
    "Also $\\frac{1}{4}1^2(1 + 1)^2 = \\frac{2^2}{4} = 1.\n",
    "We conclude that the claim is true for $n = 1$.\n",
    "\n",
    "*Inductive step ($n \\rightarrow n+1$)*:\n",
    "\n",
    "*Induction Hypothesis:* Assume that for some $n \\ge 1$ the equality holds, that is, $\\sum_{j=1}^n j^3 = \\frac{1}{4}n^2(n + 1)^2$.\n",
    "\n",
    "We prove the claim for $n + 1$.\n",
    "\n",
    "$\\sum_{j=1}^{n+1} j^3 = \\sum_{j=1}^n j^3 + (n+1)^3 =^{(IH)} \n",
    "\\frac{1}{4}n^2(n + 1)^2 + (n+1)^3 = \\frac{1}{4}(n + 1)^2n^2 + \\frac{1}{4}(n + 1)^2 4(n+1) = \\frac{1}{4}(n + 1)^2 (n^2 + 4n + 4) = \\frac{1}{4}(n + 1)^2 (n + 2)^2$\n",
    "\n",
    "We conclude the claim holds for $n + 1$ if it holds for $n$.\n",
    "As the claim holds for $n = 1$ and for $n+1$ given that it holds for some $n \\ge 1$, we conclude that by induction the claim must holds for all $n \\ge 1$."
   ]
  },
  {
   "cell_type": "markdown",
   "metadata": {},
   "source": [
    "**Exercise 2 ( \\* ):**\n",
    "    \n",
    "Prove the following statement (known as the *pigeonhole principle*) using\n",
    "a proof by contradiction.\n",
    "\n",
    "*If $n$ items are put into $m$ containers and $n > m$, then there must exist a container that contains more than one item.*"
   ]
  },
  {
   "cell_type": "markdown",
   "metadata": {},
   "source": [
    "**Solution:**\n",
    "\n",
    "Assume for the sake of contradiction that $n$ elements can be put into $m$\n",
    "containers such that all containers have no more than one item. Then, some containers will have $1$ item in them, and some will have $0$ items. Let the number of containers with $0$ items be $n_0$, and the number of containers with $1$ item be $n_1$. Then, the total number of items in all the containers is $m = n_1 \\cdot 1 + n_0 \\cdot 0 = n_1$. But then $m = n_1 \\leq n < m$. \n",
    "\n",
    "We have reached a contradiction and the only conclusion can be that our assumption must be false. But then the original claim, there must exist a container that contains more than one item, must be true."
   ]
  }
 ],
 "metadata": {
  "kernelspec": {
   "display_name": "Python 3",
   "language": "python",
   "name": "python3"
  },
  "language_info": {
   "codemirror_mode": {
    "name": "ipython",
    "version": 3
   },
   "file_extension": ".py",
   "mimetype": "text/x-python",
   "name": "python",
   "nbconvert_exporter": "python",
   "pygments_lexer": "ipython3",
   "version": "3.6.0"
  }
 },
 "nbformat": 4,
 "nbformat_minor": 2
}
