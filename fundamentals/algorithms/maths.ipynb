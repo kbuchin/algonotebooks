{
 "cells": [
  {
   "cell_type": "markdown",
   "metadata": {},
   "source": [
    "# Mathematical background"
   ]
  },
  {
   "cell_type": "markdown",
   "metadata": {},
   "source": [
    "This document provides a brief overview of mathematical prerequisites. Some feature more prominently than others. I have marked the most important ones with (++). Those should simply be part of your standard toolset. The ones marked with (+) are important, and you should be able to handle them. Some are less important for this course and only occur once or twice; those I have marked with (*)."
   ]
  },
  {
   "cell_type": "markdown",
   "metadata": {},
   "source": [
    "## List of prerequisites"
   ]
  },
  {
   "cell_type": "markdown",
   "metadata": {},
   "source": [
    "1.) Basic operators (++)\n",
    "- Rounding, floor, ceil, mod, %, |, //\n",
    "\n",
    "2.) Logarithms (++)\n",
    "-\tLogarithm rules\n",
    "-\tCalculations with exponents\n",
    "\n",
    "3.) Sums and Series\n",
    "-\tworking with sums: linearity, splitting, reverse (++)\n",
    "-\tArithmetic series (++)\n",
    "-\tGeometric series (+)\n",
    "-\tHarmonic series (*)\n",
    "\n",
    "4.) Functions\n",
    "- Log vs linear vs loglinear vs quadratic vs exponential (+)\n",
    "- Factorial (*)\n",
    "- $n \\choose k$ (*)\n",
    "\n",
    "5.) Mathematical proofs\n",
    "-\tWriting proofs (+)\n",
    "-\tWorking with inequalities; transitivity (++)\n",
    "-\tInduction (+)\n",
    "-\tproof by contradiction (+)\n",
    "\n",
    "6.) Basic Probability (*)\n",
    "- expectated value\n"
   ]
  },
  {
   "cell_type": "markdown",
   "metadata": {},
   "source": [
    "## 1. Basic Operations"
   ]
  },
  {
   "cell_type": "markdown",
   "metadata": {},
   "source": [
    "$\\lfloor x \\rfloor$ is called the floor function and simply means that we round $x$ down to the next integer. Likewise $\\lceil x \\rceil$ is the ceiling function and means that we round $x$ up to the next integer. In Python:"
   ]
  },
  {
   "cell_type": "code",
   "execution_count": 13,
   "metadata": {},
   "outputs": [
    {
     "data": {
      "text/plain": [
       "4"
      ]
     },
     "execution_count": 13,
     "metadata": {},
     "output_type": "execute_result"
    }
   ],
   "source": [
    "import math\n",
    "math.floor(4.6)"
   ]
  },
  {
   "cell_type": "code",
   "execution_count": 14,
   "metadata": {},
   "outputs": [
    {
     "data": {
      "text/plain": [
       "11"
      ]
     },
     "execution_count": 14,
     "metadata": {},
     "output_type": "execute_result"
    }
   ],
   "source": [
    "math.ceil(10.6)"
   ]
  },
  {
   "cell_type": "markdown",
   "metadata": {},
   "source": [
    "It should be noted that when the pseudo-code uses the floor function, in Python code you often do not want to use it. E.g., in pseudo-code $\\lfloor n/2 \\rfloor$ is used to denote integer division. In Python integer division is denoted as '//' and there is no need for additional rounding. Thus, in the example above you would simply write 'n//2'. An example:"
   ]
  },
  {
   "cell_type": "code",
   "execution_count": 15,
   "metadata": {},
   "outputs": [
    {
     "data": {
      "text/plain": [
       "3"
      ]
     },
     "execution_count": 15,
     "metadata": {},
     "output_type": "execute_result"
    }
   ],
   "source": [
    "7 // 2"
   ]
  },
  {
   "cell_type": "markdown",
   "metadata": {},
   "source": [
    "It should be additionally noted that we may sometimes don't explicitely round to the next integer, e.g., simply writing $n/2$ for $\\lfloor n/2 \\rfloor$, or $\\log n$ for $\\lfloor \\log n \\rfloor$."
   ]
  },
  {
   "cell_type": "markdown",
   "metadata": {},
   "source": [
    "$k$ mod $i$ denotes $k$ modulo $i$, i.e., the remainder of the division of $k$ by $i$. In Python this is written as $k$ % $i$."
   ]
  },
  {
   "cell_type": "code",
   "execution_count": 16,
   "metadata": {},
   "outputs": [
    {
     "data": {
      "text/plain": [
       "2"
      ]
     },
     "execution_count": 16,
     "metadata": {},
     "output_type": "execute_result"
    }
   ],
   "source": [
    "11%3"
   ]
  },
  {
   "cell_type": "markdown",
   "metadata": {},
   "source": [
    "We denote by $i$ | $k$ that $i$ divides $k$. Stated differently, $k$ mod $i = 0$."
   ]
  },
  {
   "cell_type": "markdown",
   "metadata": {},
   "source": [
    "## 2. Logarithms"
   ]
  },
  {
   "cell_type": "markdown",
   "metadata": {},
   "source": [
    "Logarithms often show up in the running time of algorithms.  \n",
    "\n",
    "By $\\log_b a$ we denote the logarithm of $a$ to the base $b$. Thus, $k = \\log_b a$ is equivalent to $b^k = a$. For instance, $\\log_3 81 = 4$. If we omit the base ($\\log n$), we are referring to base 2, that is $\\log n = \\log_2 n$. \n",
    "\n",
    "A simple example of a logarithm showing up is the running time of binary search. In binary search the input is halved in every iteration, i.e., devided by two. Thus, the number of iterations corresponds to the number of times we can devide the input size $n$ by 2 (before ending up with an input of size 1). This number is $\\log n$ rounded up. Halving the problem size -in one way or another- often happens in algorithms, which is the main reason that logarithms (to the base 2) so frequently occur."
   ]
  },
  {
   "cell_type": "markdown",
   "metadata": {},
   "source": [
    "The most important rules when calculating with logarithms are:"
   ]
  },
  {
   "cell_type": "markdown",
   "metadata": {},
   "source": [
    "$\\log_c (a \\cdot b) = \\log_c a + \\log_c b$\n",
    "\n",
    "$\\log_c (a^b) = b \\log_c a$\n",
    "\n",
    "$\\log_b a = \\log_c a\\ / \\log_c b$"
   ]
  },
  {
   "cell_type": "markdown",
   "metadata": {},
   "source": [
    "The first two rules imply that $\\log_c (a / b) = \\log_c a - \\log_c b$. Additionally, by definition we have $\\log_c 1 = 0$ and $\\log_c c = 1$."
   ]
  },
  {
   "cell_type": "markdown",
   "metadata": {},
   "source": [
    "There are corresponding rules when dealing with exponents:"
   ]
  },
  {
   "cell_type": "markdown",
   "metadata": {},
   "source": [
    "$c^{a+b} = c^a \\cdot c^b$\n",
    "\n",
    "$(c^a)^b = c^{a\\cdot b} = (c^b)^a$"
   ]
  },
  {
   "cell_type": "markdown",
   "metadata": {},
   "source": [
    "One particular equality, which will feature in this course is $a^{\\log b} = b^{\\log a}$. "
   ]
  },
  {
   "cell_type": "markdown",
   "metadata": {},
   "source": [
    "## 3. Sums and series"
   ]
  },
  {
   "cell_type": "markdown",
   "metadata": {},
   "source": [
    "$\\sum_{i=j}^k f(i)$ denotes the sum of f(i)s for $i$ between $j$ and $k$. E.g., $\\sum_{i=1}^5 i^2 = 1^2 + 2^2 + 3^2 + 4^2 + 5^2$."
   ]
  },
  {
   "cell_type": "markdown",
   "metadata": {},
   "source": [
    "### Linearity of sums"
   ]
  },
  {
   "cell_type": "markdown",
   "metadata": {
    "collapsed": true
   },
   "source": [
    "If there is a common factor to all summands we can take it out of the sum, e.g., $\\sum_{i=1}^5 4i^2 = 4 \\sum_{i=1}^5 i^2$. A special case of this is if all summands are the same, e.g., $\\sum_{i=1}^n 42 = 42 \\sum_{i=1}^n 1 = 42n$. Note that a sum that only contains 1s (like $\\sum_{i=1}^n 1$) simply counts the number of summands, i.e., it in this case $n$."
   ]
  },
  {
   "cell_type": "markdown",
   "metadata": {},
   "source": [
    "### Splitting a sum"
   ]
  },
  {
   "cell_type": "markdown",
   "metadata": {},
   "source": [
    "A $\\sum_{i=j}^k f(i)$ can be split at an intermediate index $\\ell$ (with $j < \\ell < k$, i.e., $\\sum_{i=j}^k f(i)= \\sum_{i=j}^\\ell f(i) + \\sum_{i=\\ell + 1}^k f(i)$. E.g., $\\sum_{i=1}^5 i^2 = \\sum_{i=1}^3 i^2 +  \\sum_{i=4}^5 i^2 = (1^2 + 2^2 + 3^2) + (4^2 + 5^2)$. "
   ]
  },
  {
   "cell_type": "markdown",
   "metadata": {},
   "source": [
    "### Reversing a sum"
   ]
  },
  {
   "cell_type": "markdown",
   "metadata": {},
   "source": [
    "Sometimes it is convenient to reverse the order of the terms of a sum. E.g., $5^2 + 4^2 + \\ldots 1^2$, is more naturally written as $1^2 + 2^2 + \\ldots + 5^2$. A typical example for this is $\\sum_{i=0}^n (n-i) = \\sum _{i=0}^n i$.  "
   ]
  },
  {
   "cell_type": "markdown",
   "metadata": {},
   "source": [
    "### Arithmetic series"
   ]
  },
  {
   "cell_type": "markdown",
   "metadata": {},
   "source": [
    "The arithmetic series is the sum $S(n) = \\sum_{i=1}^n i$. \n",
    "\n",
    "For instance $S(5) = 1 + 2 + 3 + 4 +5 = 15$. It holds that \n",
    "\n",
    "$\\sum_{i=1}^n i = n (n + 1)/2$,\n",
    "\n",
    "e.g., $S(5) = 5\\cdot 6/2 = 15$. Re-writing the terms, we have $S(n) = n^2/2 + n/2$. In the scope of this course, the most important fact that we need concerning the arithmetic series is that its growth rate is quadratic ($n^2$)."
   ]
  },
  {
   "cell_type": "markdown",
   "metadata": {},
   "source": [
    "### Geometric series"
   ]
  },
  {
   "cell_type": "markdown",
   "metadata": {},
   "source": [
    "A geometric series is a sum of the form $S_q(n) = \\sum_{i=0}^n q^i$. \n",
    "\n",
    "For instance, $S_2(5) = 2^0 + 2^1 + \\ldots + 2^5 = 63.$ \n",
    "\n",
    "Note that $63 = 2^6 -1$. This is no co-incidence. For $q \\neq 1$,\n",
    "\n",
    "$\\sum_{i=0}^n q^i = \\frac{q^{n+1}-1}{q-1}$. \n",
    "\n",
    "Thus, for a constant $q>1$, the geometric sum is of order $q^n$ (One could also say of order $q^{n+1}$, but since $q$ is a constant, this is equivalent).\n",
    "\n",
    "On the other hand, if $q < 1$, then $q^{n+1}$ converges to $0$ for $n \\rightarrow \\infty$. Then $S_q (n)$ converges to $(0-1)/(q-1) = 1/(1-q)$ For instance, $S_{1/2} (n) = 1 + 1/2 + 1/4 + \\ldots$ converges to $1/(1-1/2) = 1/(1/2) = 2$. In the scope of this course, we just need that the geometric series for any $q < 1$ is a constant."
   ]
  },
  {
   "cell_type": "markdown",
   "metadata": {},
   "source": [
    "### Harmonic series"
   ]
  },
  {
   "cell_type": "markdown",
   "metadata": {},
   "source": [
    "Less important for us is the harmonic series $\\sum_{i=1}^n 1/i$. The growth rate of this series is $\\log n$. An easy way to see this is to observe that this sum is close to the integral $\\int_1^n 1/x \\ dx$."
   ]
  },
  {
   "cell_type": "markdown",
   "metadata": {},
   "source": [
    "## 4. Functions"
   ]
  },
  {
   "cell_type": "markdown",
   "metadata": {},
   "source": [
    "Growth rates of functions play an important role in this course. It is helpful to have a good intuition of relative growth rates. $log(n)$ is very slowly growing. Therefore, for instance, $n log n$ grows faster than linear, but only slightly. For instance for $n = 1000000$, which seems like a reasonable input size, $log(n)$ is still below 20."
   ]
  },
  {
   "cell_type": "code",
   "execution_count": 22,
   "metadata": {},
   "outputs": [
    {
     "data": {
      "text/plain": [
       "19.931568569324174"
      ]
     },
     "execution_count": 22,
     "metadata": {},
     "output_type": "execute_result"
    }
   ],
   "source": [
    "import math\n",
    "n = 1000000\n",
    "\n",
    "math.log(n, 2)"
   ]
  },
  {
   "cell_type": "markdown",
   "metadata": {},
   "source": [
    "For a positive integer $n$, the factorial $n!$ is defined as $1 \\cdot 2 \\cdot 3 \\cdot \\ldots \\cdot n$. For instance, $4! = 24$. By definition $0! = 1$. We will use factorials as example for recursion.  "
   ]
  },
  {
   "cell_type": "markdown",
   "metadata": {},
   "source": [
    "If we have $n$ elements, the number of subsets of size $k$ is  ${n \\choose k} = \\frac{n!}{k!(n-k)!}$ (spoken \"$n$ choose $k$\"). For instance, if we have $n=4$ elements, the number of subsets of size $2$ is $\\frac{24}{2\\cdot 2} = 6$. "
   ]
  },
  {
   "cell_type": "markdown",
   "metadata": {},
   "source": [
    "## 5. Mathematical Proofs"
   ]
  },
  {
   "cell_type": "markdown",
   "metadata": {},
   "source": [
    "Mathematical proofs are discussed in the first lecture. There is an additional notebook focussing on induction. A short primer on proofs can be found here: http://www.math.lsa.umich.edu/~jchw/PrimerOnProof.pdf"
   ]
  },
  {
   "cell_type": "markdown",
   "metadata": {},
   "source": [
    "## 6. Basic probability"
   ]
  },
  {
   "cell_type": "markdown",
   "metadata": {},
   "source": [
    "In this course you will not need to work with probabilities, but in 1-2 lectures we are going to use them. In these case we will compute expected values. For a random variable $X$ taking values in the natural numbers the expected value can be computed as $E[X] = \\sum_{i=1}^{\\infty} i \\cdot Pr[X=i]$. This can be re-written to $E[X] = \\sum_{i=1}^{\\infty} Pr[X \\ge i]$."
   ]
  },
  {
   "cell_type": "code",
   "execution_count": null,
   "metadata": {
    "collapsed": true
   },
   "outputs": [],
   "source": []
  }
 ],
 "metadata": {
  "kernelspec": {
   "display_name": "Python 3",
   "language": "python",
   "name": "python3"
  },
  "language_info": {
   "codemirror_mode": {
    "name": "ipython",
    "version": 3
   },
   "file_extension": ".py",
   "mimetype": "text/x-python",
   "name": "python",
   "nbconvert_exporter": "python",
   "pygments_lexer": "ipython3",
   "version": "3.7.4"
  }
 },
 "nbformat": 4,
 "nbformat_minor": 2
}
