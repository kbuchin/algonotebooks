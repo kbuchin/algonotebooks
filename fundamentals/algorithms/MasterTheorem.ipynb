{
 "cells": [
  {
   "cell_type": "markdown",
   "metadata": {},
   "source": [
    "# Applying the Master Theorem"
   ]
  },
  {
   "cell_type": "markdown",
   "metadata": {},
   "source": [
    "### 1. Step-by-step guide"
   ]
  },
  {
   "cell_type": "markdown",
   "metadata": {},
   "source": [
    "To apply the Master Theorem to a recurrence $T(n) = aT(n/b) + f(n)$, you can go through the following sequence of steps:\n",
    "\n",
    "1. Note down: $a = \\ldots$, $b = \\ldots$, $f(n) = \\ldots$. \n",
    "\n",
    "2. Compute/estimate $\\log_b(a)$\n",
    "\n",
    "3. Compare the asymptotic growth of $f(n)$ and $n^{\\log_b(a)}$ <br>\n",
    "    (a) if $f(n)$ grows slower than $n^{\\log_b(a)}$: go to Case 1 <br>\n",
    "    (b) if $f(n)$ and $n^{\\log_b(a)}$ have the same growth rate: go to Case 2 <br>\n",
    "    (c) if $f(n)$ grows faster than $n^{\\log_b(a)}$: go to Case 3 <br>\n",
    " \n",
    "**Case 1**: Determine $\\varepsilon > 0$ such that $f(n) = O(n^{\\log_b(a)-\\varepsilon})$. If such an  $\\varepsilon$ exists, case 1 of the Master theorem applies, and you can conclude $T(n) = \\Theta (n^{\\log_b(a)})$. If no such $\\varepsilon$ exists, you cannot apply the Master theorem.\n",
    "\n",
    "**Case 2**: Since $f(n) = \\Theta(n^{\\log_b(a)})$, case 2 of the Master theorem applies, and you can conclude $T(n) = \\Theta(n^{\\log_b(a)} \\log n)$.\n",
    "\n",
    "**Case 3**: Determine $\\varepsilon > 0$ such that $f(n) = \\Omega(n^{\\log_b(a)+\\varepsilon})$. If such an $\\varepsilon$ exists, you still have to check the *regularity condition*: Compute $a f(n/b)$:\n",
    "1. If it equals (or smaller equal to) $c f(n)$ for a $c <1$, then that is the $c$ needed. In this case Master Theorem, case 3, applies and you can conclude $T(n) = \\Theta (f(n))$. \n",
    "2. If you can't find a $\\varepsilon$ or can't find a $c$, then you can't use the Master theorem."
   ]
  },
  {
   "cell_type": "markdown",
   "metadata": {},
   "source": [
    "### 2. Notes"
   ]
  },
  {
   "cell_type": "markdown",
   "metadata": {},
   "source": [
    "**Versions of the Master theorem:** If you check other resources, you will find various versions of the Master theorem. In this course, you should use the version as given on the slides. I will discuss the most common alternatives here. There are versions with a slightly more general case 2, which allows to handle additional $\\log$-factors. \n",
    "\n",
    "There are versions, in which Case 1 and 3 are phrased differently, but which are equivalent. This perspective can help determining $\\varepsilon$. Specifically, for case 1, instead of asking for an $\\varepsilon > 0$ such that $f(n) \\in O(n^{\\log_b(a) - \\varepsilon})$, we can ask for a $c < \\log_b(a)$, such that $f(n) \\in O(n^c)$. If you find such a $c$, you can set $\\varepsilon = \\log_b(a) - c$. Likewise, for case 3, we can ask for a $c > \\log_b(a)$ such that $f(n) \\in \\Omega(n^c)$. In this case, we can set $\\varepsilon = c - \\log_b(a)$."
   ]
  },
  {
   "cell_type": "code",
   "execution_count": null,
   "metadata": {},
   "outputs": [],
   "source": []
  }
 ],
 "metadata": {
  "kernelspec": {
   "display_name": "Python 3",
   "language": "python",
   "name": "python3"
  },
  "language_info": {
   "codemirror_mode": {
    "name": "ipython",
    "version": 3
   },
   "file_extension": ".py",
   "mimetype": "text/x-python",
   "name": "python",
   "nbconvert_exporter": "python",
   "pygments_lexer": "ipython3",
   "version": "3.6.0"
  }
 },
 "nbformat": 4,
 "nbformat_minor": 2
}
