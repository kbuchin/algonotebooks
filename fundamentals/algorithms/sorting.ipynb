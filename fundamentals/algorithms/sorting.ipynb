{
 "cells": [
  {
   "cell_type": "markdown",
   "metadata": {},
   "source": [
    "# Sorting Algorithms"
   ]
  },
  {
   "cell_type": "markdown",
   "metadata": {},
   "source": [
    "The problem of sorting is an ideal problem to introduce many concepts of fundamental algorithm design. Some good reasons to study sorting are:\n",
    "\n",
    "* sorting is used by many applications,\n",
    "\n",
    "* sorting is the (first) step of many algorithms,\n",
    "\n",
    "* many techniques can be illustrated by studying sorting.\n",
    "\n",
    "For us the last reason is most important. In particular, sorting allows us to study the algorithmic techniques that we have seen for the searching problem on a more complex algorithmic problem. In the following I give an overview of the sorting algorithms discussed in the course. Before I do so, let me define the swap routine that is used by many of the sorting algorithms."
   ]
  },
  {
   "cell_type": "code",
   "execution_count": 1,
   "metadata": {
    "collapsed": true
   },
   "outputs": [],
   "source": [
    "def swap(A, i, j):\n",
    "    A[i], A[j] = A[j], A[i]"
   ]
  },
  {
   "cell_type": "markdown",
   "metadata": {},
   "source": [
    "## 1. Selection Sort"
   ]
  },
  {
   "cell_type": "markdown",
   "metadata": {},
   "source": [
    "Selection sort is possibly the conceptually simplest sorting algorithm. It finds the smallest element and places it on the first position. Then it finds the second smallest and places it at the second position, and so on."
   ]
  },
  {
   "cell_type": "code",
   "execution_count": 9,
   "metadata": {
    "collapsed": false
   },
   "outputs": [
    {
     "name": "stdout",
     "output_type": "stream",
     "text": [
      "[2, 5, 6, 8]\n"
     ]
    }
   ],
   "source": [
    "def selection_sort(A):\n",
    "    n = len(A)\n",
    "    for i in range(n):\n",
    "        smallest = i\n",
    "        for j in range(i+1 , n):\n",
    "            if A[j] < A[smallest]: smallest = j\n",
    "        swap(A, smallest, i )\n",
    "        \n",
    "A = [5,2,8,6]\n",
    "selection_sort(A)\n",
    "print(A)"
   ]
  },
  {
   "cell_type": "markdown",
   "metadata": {
    "collapsed": true
   },
   "source": [
    "The correctness of selection\\_sort can be shown by first analyzing the inner loop (lines 5-6) and then the outer loop (lines 3-7). For both steps a loop invariant proof can be used. The running time of th inner loop is $O(n-i)$. The overall running time is therefore \n",
    "$$\n",
    "O(1) + \\sum_{i=0}^{n-1} O(n-i) = O(n^2)\\;.\n",
    "$$"
   ]
  },
  {
   "cell_type": "markdown",
   "metadata": {},
   "source": [
    "## 2. Insertion Sort"
   ]
  },
  {
   "cell_type": "markdown",
   "metadata": {},
   "source": [
    "Insertion sort is an *incremental algorithm*. That means that it incrementally computes the solution for an increasing subset of the input. Specifically it sorts the subarray $A[0..i-1]$ for increasing $i$. While Insertion Sort is slow asymptotically, it is fast for small input."
   ]
  },
  {
   "cell_type": "code",
   "execution_count": 1,
   "metadata": {
    "collapsed": false
   },
   "outputs": [
    {
     "name": "stdout",
     "output_type": "stream",
     "text": [
      "[2, 5, 6, 8]\n"
     ]
    }
   ],
   "source": [
    "def insertion_sort(A):\n",
    "    n = len(A)\n",
    "    # at the beginning of the j-th iteration the subarray A[0..j-1] is sorted\n",
    "    for j in range(1,n):\n",
    "        key = A[j]\n",
    "        i = j -1\n",
    "        while i >= 0 and A[i] > key:\n",
    "            A[i+1] = A[i]\n",
    "            i = i -1\n",
    "        A[i+1] = key\n",
    "        \n",
    "A = [5,2,8,6]\n",
    "insertion_sort(A)\n",
    "print(A)"
   ]
  },
  {
   "cell_type": "markdown",
   "metadata": {
    "collapsed": true
   },
   "source": [
    "Also for insertion\\_sort the correctness can be shown by first analyzing the inner loop (lines 7-9) and then the outer loop (lines 4-10). For both steps a loop invariant proof can be used. \n",
    "The running time of th inner loop is $O(j)$. (Note that it is better in the best case.) The overall running time is therefore $$O(1) + \\sum_{j=1}^{n-1} O(j) = O(n^2)\\;.$$"
   ]
  },
  {
   "cell_type": "markdown",
   "metadata": {},
   "source": [
    "## 3. Merge Sort"
   ]
  },
  {
   "cell_type": "markdown",
   "metadata": {},
   "source": [
    "Merge Sort is an example of a recursive *divide&conquer* algorithm. A divide&conquer algorithm divides the problem into smaller subproblems, solves the subproblems recursively, and then combines the solutions to the subproblems. "
   ]
  },
  {
   "cell_type": "code",
   "execution_count": 4,
   "metadata": {
    "collapsed": false
   },
   "outputs": [
    {
     "name": "stdout",
     "output_type": "stream",
     "text": [
      "[2, 5, 6, 8]\n"
     ]
    }
   ],
   "source": [
    "def merge_sort(A):\n",
    "    n = len(A)\n",
    "    if n>1:\n",
    "        mid = n//2\n",
    "        A1 = A[:mid]\n",
    "        A2 = A[mid:]\n",
    "        # recursive calls:\n",
    "        merge_sort(A1)\n",
    "        merge_sort(A2)\n",
    "        # merge solutions\n",
    "        i=0\n",
    "        j=0\n",
    "        while i<mid and mid+j<n:\n",
    "            if A1[i]<A2[j]:\n",
    "                A[i+j]=A1[i]\n",
    "                i+=1\n",
    "            else:\n",
    "                A[i+j]=A2[j]\n",
    "                j+=1\n",
    "        \n",
    "        while i<mid:\n",
    "            A[i+j]=A1[i]\n",
    "            i+=1\n",
    "            \n",
    "        while mid+j<n:\n",
    "            A[i+j]=A2[j]\n",
    "            j+=1\n",
    "        \n",
    "A = [5,2,8,6]\n",
    "merge_sort(A)\n",
    "print(A)"
   ]
  },
  {
   "cell_type": "markdown",
   "metadata": {
    "collapsed": true
   },
   "source": [
    "Merge Sort is a recursive algorithm and we can prove its correctness by mathematical induction. The base case is $n=1$. An array of length 1 is always sorted. In the induction step, we can assume (by the induction hypothesis) that the recursive calls work correctly. Thus, we mostly need to prove that the merge (lines 11-27) works correctly. The recurrence of the running time is $T(n)= 2 T(n/2) + O(n)$. This recurrence solves to $T(n) = O(n \\log n)$ (e.g., using the Master Theorem)."
   ]
  },
  {
   "cell_type": "markdown",
   "metadata": {},
   "source": [
    "## 4. Quick Sort"
   ]
  },
  {
   "cell_type": "markdown",
   "metadata": {},
   "source": [
    "Quick Sort is another example of a recursive *divide&conquer* algorithm. In contrast to Merge Sort the main work of the algorithm happens before the recursive calls."
   ]
  },
  {
   "cell_type": "code",
   "execution_count": 3,
   "metadata": {
    "collapsed": false
   },
   "outputs": [
    {
     "name": "stdout",
     "output_type": "stream",
     "text": [
      "[2, 5, 6, 8]\n"
     ]
    }
   ],
   "source": [
    "def partition(A, p, r):\n",
    "    x = A[r]\n",
    "    i = p-1\n",
    "    for j in range(p,r):\n",
    "        if A[j] <= x: \n",
    "            i+=1\n",
    "            swap(A, i, j)\n",
    "    swap(A, i+1, r)\n",
    "    return  i+1\n",
    "\n",
    "def quick_sort(A, p=0, r=None):\n",
    "    if r==None: r=len(A)-1\n",
    "    if p<r:\n",
    "        q = partition(A, p, r)\n",
    "        quick_sort(A, p, q-1)\n",
    "        quick_sort(A, q+1, r)\n",
    "        \n",
    "A = [5,2,8,6]\n",
    "quick_sort(A)\n",
    "print(A)"
   ]
  },
  {
   "cell_type": "markdown",
   "metadata": {
    "collapsed": true
   },
   "source": [
    "Quick Sort is a recursive algorithm and as for Merge Sort we can prove its correctness by mathematical induction. The crucial part is to prove that partition works correctly. The worst-case running time of Quick Sort is quadratic, but in practice it is much faster, and if the pivot is picked at random the expected running time is $O(n \\log n)$. Quick Sort is a fast and simple in-place algorithm."
   ]
  },
  {
   "cell_type": "markdown",
   "metadata": {},
   "source": [
    "## 5. Counting Sort"
   ]
  },
  {
   "cell_type": "markdown",
   "metadata": {},
   "source": [
    "There is an $\\Omega (n \\log n)$ lower bound for comparison-based sorting. By making assumptions on the input and the model of computation, we can obtain faster algorithms. One such algorithm is Counting Sort. Counting Sort is stable, which means that if two elements have the same key $a_i = a_j$, then the sorting algorithm does not change their order.  "
   ]
  },
  {
   "cell_type": "code",
   "execution_count": 18,
   "metadata": {
    "collapsed": false
   },
   "outputs": [
    {
     "name": "stdout",
     "output_type": "stream",
     "text": [
      "[2, 5, 6, 8]\n"
     ]
    }
   ],
   "source": [
    "def counting_sort(A, k):\n",
    "    B = [0] * len(A)\n",
    "    C = [0] * (k+1)\n",
    "    for x in A:\n",
    "        C[x] += 1\n",
    "    for i in range(1,k+1):\n",
    "        C[i] += C[i-1]\n",
    "    for j in reversed(range(len(A))):\n",
    "        B[C[A[j]]-1] =  A[j]\n",
    "        C[A[j]] -= 1\n",
    "    return B\n",
    "\n",
    "        \n",
    "A = [5,2,8,6]\n",
    "print(counting_sort(A, 8))"
   ]
  },
  {
   "cell_type": "markdown",
   "metadata": {
    "collapsed": true
   },
   "source": [
    "The running time of Counting Sort is $O(n+k)$."
   ]
  },
  {
   "cell_type": "markdown",
   "metadata": {},
   "source": [
    "## 5. Radix Sort"
   ]
  },
  {
   "cell_type": "markdown",
   "metadata": {},
   "source": [
    "The running time of Counting Sort heavily depends on $k$. Radix Sort reduces this dependency by sorting the numbers in the input by "
   ]
  },
  {
   "cell_type": "code",
   "execution_count": 38,
   "metadata": {
    "collapsed": false
   },
   "outputs": [
    {
     "name": "stdout",
     "output_type": "stream",
     "text": [
      "[15, 16, 18, 26]\n"
     ]
    }
   ],
   "source": [
    "def counting_sort_digit(A, base, div):\n",
    "    k = base-1\n",
    "    B = [0] * len(A)\n",
    "    C = [0] * (k+1)\n",
    "    for x in A:\n",
    "        C[(x//div)%base] += 1\n",
    "    for i in range(1,k+1):\n",
    "        C[i] += C[i-1]\n",
    "    for j in reversed(range(len(A))):\n",
    "        index = (A[j]//div)%base\n",
    "        B[C[index]-1] =  A[j]\n",
    "        C[index] -= 1\n",
    "    return B\n",
    "\n",
    "def radix_sort(A, base, d):\n",
    "    div = 1\n",
    "    for i in range(d):\n",
    "        A = counting_sort_digit(A, base, div)\n",
    "        div *= base\n",
    "    return A\n",
    "    \n",
    "A = [15,26,18,16]\n",
    "print(radix_sort(A, 10, 2))"
   ]
  },
  {
   "cell_type": "markdown",
   "metadata": {
    "collapsed": true
   },
   "source": [
    "The running time of Radix Sort is $O(d(n+base))$."
   ]
  }
 ],
 "metadata": {
  "anaconda-cloud": {},
  "kernelspec": {
   "display_name": "Python 3",
   "language": "python",
   "name": "python3"
  },
  "language_info": {
   "codemirror_mode": {
    "name": "ipython",
    "version": 3
   },
   "file_extension": ".py",
   "mimetype": "text/x-python",
   "name": "python",
   "nbconvert_exporter": "python",
   "pygments_lexer": "ipython3",
   "version": "3.6.0"
  }
 },
 "nbformat": 4,
 "nbformat_minor": 1
}
