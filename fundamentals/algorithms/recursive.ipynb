{
 "cells": [
  {
   "cell_type": "markdown",
   "metadata": {},
   "source": [
    "# Recursive Algorithms"
   ]
  },
  {
   "cell_type": "markdown",
   "metadata": {},
   "source": [
    "## 1. Examples"
   ]
  },
  {
   "cell_type": "markdown",
   "metadata": {},
   "source": [
    "In this notes we will have a closer look at the algorithms from the lecture. We started off with *factorial*. \n",
    "\n",
    "$$n! = n \\cdot (n-1) \\cdot \\ldots \\cdot 1\\;,$$\n",
    "\n",
    "can be defined recursively by\n",
    "\n",
    "$$n! = n \\cdot (n-1)!\\;.$$\n",
    "\n",
    "It seems easy to directly translate this into code:"
   ]
  },
  {
   "cell_type": "code",
   "execution_count": 1,
   "metadata": {},
   "outputs": [],
   "source": [
    "def factorial(n):\n",
    "    return n* factorial(n-1)"
   ]
  },
  {
   "cell_type": "markdown",
   "metadata": {},
   "source": [
    "It should come at no surprise that this attempt fails miserably:"
   ]
  },
  {
   "cell_type": "code",
   "execution_count": 2,
   "metadata": {},
   "outputs": [
    {
     "ename": "RecursionError",
     "evalue": "maximum recursion depth exceeded",
     "output_type": "error",
     "traceback": [
      "\u001b[1;31m---------------------------------------------------------------------------\u001b[0m",
      "\u001b[1;31mRecursionError\u001b[0m                            Traceback (most recent call last)",
      "\u001b[1;32m<ipython-input-2-637175d621a4>\u001b[0m in \u001b[0;36m<module>\u001b[1;34m\u001b[0m\n\u001b[1;32m----> 1\u001b[1;33m \u001b[0mfactorial\u001b[0m\u001b[1;33m(\u001b[0m\u001b[1;36m5\u001b[0m\u001b[1;33m)\u001b[0m\u001b[1;33m\u001b[0m\u001b[1;33m\u001b[0m\u001b[0m\n\u001b[0m",
      "\u001b[1;32m<ipython-input-1-87f214bddc11>\u001b[0m in \u001b[0;36mfactorial\u001b[1;34m(n)\u001b[0m\n\u001b[0;32m      1\u001b[0m \u001b[1;32mdef\u001b[0m \u001b[0mfactorial\u001b[0m\u001b[1;33m(\u001b[0m\u001b[0mn\u001b[0m\u001b[1;33m)\u001b[0m\u001b[1;33m:\u001b[0m\u001b[1;33m\u001b[0m\u001b[1;33m\u001b[0m\u001b[0m\n\u001b[1;32m----> 2\u001b[1;33m     \u001b[1;32mreturn\u001b[0m \u001b[0mn\u001b[0m\u001b[1;33m*\u001b[0m \u001b[0mfactorial\u001b[0m\u001b[1;33m(\u001b[0m\u001b[0mn\u001b[0m\u001b[1;33m-\u001b[0m\u001b[1;36m1\u001b[0m\u001b[1;33m)\u001b[0m\u001b[1;33m\u001b[0m\u001b[1;33m\u001b[0m\u001b[0m\n\u001b[0m",
      "... last 1 frames repeated, from the frame below ...\n",
      "\u001b[1;32m<ipython-input-1-87f214bddc11>\u001b[0m in \u001b[0;36mfactorial\u001b[1;34m(n)\u001b[0m\n\u001b[0;32m      1\u001b[0m \u001b[1;32mdef\u001b[0m \u001b[0mfactorial\u001b[0m\u001b[1;33m(\u001b[0m\u001b[0mn\u001b[0m\u001b[1;33m)\u001b[0m\u001b[1;33m:\u001b[0m\u001b[1;33m\u001b[0m\u001b[1;33m\u001b[0m\u001b[0m\n\u001b[1;32m----> 2\u001b[1;33m     \u001b[1;32mreturn\u001b[0m \u001b[0mn\u001b[0m\u001b[1;33m*\u001b[0m \u001b[0mfactorial\u001b[0m\u001b[1;33m(\u001b[0m\u001b[0mn\u001b[0m\u001b[1;33m-\u001b[0m\u001b[1;36m1\u001b[0m\u001b[1;33m)\u001b[0m\u001b[1;33m\u001b[0m\u001b[1;33m\u001b[0m\u001b[0m\n\u001b[0m",
      "\u001b[1;31mRecursionError\u001b[0m: maximum recursion depth exceeded"
     ]
    }
   ],
   "source": [
    "factorial(5)"
   ]
  },
  {
   "cell_type": "markdown",
   "metadata": {},
   "source": [
    "We were missing a base case! To be precise we were actually already sloppy when writing the mathematical formula, which should have read"
   ]
  },
  {
   "cell_type": "markdown",
   "metadata": {},
   "source": [
    "$$n! = \\begin{cases} 1 &\\mbox{if } n = 1 \\\\\n",
    "                   n \\cdot (n-1)! & \\mbox{if } n >1\\end{cases}$$"
   ]
  },
  {
   "cell_type": "markdown",
   "metadata": {},
   "source": [
    "So the corresponding code reads"
   ]
  },
  {
   "cell_type": "code",
   "execution_count": 27,
   "metadata": {
    "collapsed": true
   },
   "outputs": [],
   "source": [
    "def factorial(n):\n",
    "    if (n==1): return 1\n",
    "    else: return n* factorial(n-1)"
   ]
  },
  {
   "cell_type": "code",
   "execution_count": 28,
   "metadata": {},
   "outputs": [
    {
     "data": {
      "text/plain": [
       "120"
      ]
     },
     "execution_count": 28,
     "metadata": {},
     "output_type": "execute_result"
    }
   ],
   "source": [
    "factorial(5)"
   ]
  },
  {
   "cell_type": "markdown",
   "metadata": {},
   "source": [
    "We see in this example that we need a base case. We also need to *reduce* the problem (of computing $n!$) to a simpler problem (namely computing $(n-1)!$), or more specifically, we need to make progress towards the base case. Now computing factorials might not yet seem impressive, since factorial is simple to compute with a loop. A non-recursive solution to the *Towers of Hanoi* is not so obvious. But the recursive solution is."
   ]
  },
  {
   "cell_type": "code",
   "execution_count": 3,
   "metadata": {},
   "outputs": [],
   "source": [
    "def Hanoi(src, tmp, dst, n): # move n disks from src (source) to dst (destination) using tmp as temporary peg\n",
    "    if (n>0):\n",
    "        Hanoi(src, dst, tmp, n-1)\n",
    "        moveDisk(src, dst)\n",
    "        Hanoi(tmp, src, dst, n-1)"
   ]
  },
  {
   "cell_type": "markdown",
   "metadata": {},
   "source": [
    "Note that we again have a base case (n = 0), but we don't do anything in the base case. And of course we also need to define the moveDisk function. We assume that we can take the top disk from a peg and returning it by calling *pop*, and place a disk on a peg by calling *append*."
   ]
  },
  {
   "cell_type": "code",
   "execution_count": 4,
   "metadata": {},
   "outputs": [],
   "source": [
    "def moveDisk(src, dst):\n",
    "    dst.append(src.pop())"
   ]
  },
  {
   "cell_type": "code",
   "execution_count": 5,
   "metadata": {},
   "outputs": [
    {
     "name": "stdout",
     "output_type": "stream",
     "text": [
      "A = []  B = [] , C = [4, 3, 2, 1]\n"
     ]
    }
   ],
   "source": [
    "A = [4,3,2,1]\n",
    "B = []\n",
    "C = []\n",
    "Hanoi(A, B, C, 4)\n",
    "print(\"A =\", A, \" B =\", B, \", C =\", C)"
   ]
  },
  {
   "cell_type": "markdown",
   "metadata": {},
   "source": [
    "Next we want to perform a binary search recursively. Let us assume that $x$ is the index of the first element and $y$ the index of the last element. (This is a bit different from the pseudocode on the slides.) Then the base case is $x == y$."
   ]
  },
  {
   "cell_type": "code",
   "execution_count": 6,
   "metadata": {},
   "outputs": [],
   "source": [
    "def binary_search(A, v, x, y):\n",
    "    if (x<y):\n",
    "        h = (x+y)//2\n",
    "        if (A[h]<v): return binary_search(A, v, h+1, y)\n",
    "        else: return binary_search(A, v, x, h)\n",
    "    else: \n",
    "        if (A[x] == v): return x\n",
    "        else: return -1"
   ]
  },
  {
   "cell_type": "code",
   "execution_count": 7,
   "metadata": {},
   "outputs": [
    {
     "data": {
      "text/plain": [
       "1"
      ]
     },
     "execution_count": 7,
     "metadata": {},
     "output_type": "execute_result"
    }
   ],
   "source": [
    "binary_search([1,4,5], 4, 0, 3)"
   ]
  },
  {
   "cell_type": "markdown",
   "metadata": {},
   "source": [
    "Now you might find it annoying that we need to pass the first and the last index, when we call binary_search. We can avoid this by setting default values. These should be 0 and len(A). We can't directly use len(A) as a default value, but we can do the following."
   ]
  },
  {
   "cell_type": "code",
   "execution_count": 8,
   "metadata": {},
   "outputs": [],
   "source": [
    "def binary_search(A, v, x=0, y=None):\n",
    "    if (y == None): y = len(A)-1\n",
    "    if (x<y):\n",
    "        h = (x+y)//2\n",
    "        if (A[h]<v): return binary_search(A, v, h+1, y)\n",
    "        else: return binary_search(A, v, x, h)\n",
    "    else: \n",
    "        if (A[x] == v): return x\n",
    "        else: return -1"
   ]
  },
  {
   "cell_type": "code",
   "execution_count": 9,
   "metadata": {},
   "outputs": [
    {
     "data": {
      "text/plain": [
       "1"
      ]
     },
     "execution_count": 9,
     "metadata": {},
     "output_type": "execute_result"
    }
   ],
   "source": [
    "binary_search([1,4,5], 4)"
   ]
  },
  {
   "cell_type": "markdown",
   "metadata": {},
   "source": [
    "You might still think that all those indices are annoying. To explain why we are working with indices here, let us look at a simpler example, namely summing numbers. We have already seen an iterative algorithm for this, in the following we will look at several versions of recursivily taking sums."
   ]
  },
  {
   "cell_type": "code",
   "execution_count": 10,
   "metadata": {},
   "outputs": [],
   "source": [
    "def sum_slice(A):\n",
    "    if (len(A)==1): return A[0]\n",
    "    else: \n",
    "        return A[0] + sum_slice(A[1:])"
   ]
  },
  {
   "cell_type": "code",
   "execution_count": 11,
   "metadata": {},
   "outputs": [],
   "source": [
    "def sum1(A, first = 0):\n",
    "    if (first==len(A)-1): return A[first]\n",
    "    else: \n",
    "        return A[first] + sum1(A, first+1)"
   ]
  },
  {
   "cell_type": "markdown",
   "metadata": {},
   "source": [
    "If you compare the two versions, then you should note that these two versions should be doing the same, just that the first version recurses on a subarray, while the second version (somewhat painfully) describes the subarray using the index *first* where it starts. Let us check that these algorithms do the same, and then time then."
   ]
  },
  {
   "cell_type": "code",
   "execution_count": 12,
   "metadata": {},
   "outputs": [
    {
     "data": {
      "text/plain": [
       "15"
      ]
     },
     "execution_count": 12,
     "metadata": {},
     "output_type": "execute_result"
    }
   ],
   "source": [
    "sum_slice(range(6)) # 1+2+3+4+5= 5*6/2 = 15"
   ]
  },
  {
   "cell_type": "code",
   "execution_count": 13,
   "metadata": {},
   "outputs": [
    {
     "data": {
      "text/plain": [
       "15"
      ]
     },
     "execution_count": 13,
     "metadata": {},
     "output_type": "execute_result"
    }
   ],
   "source": [
    "sum1(range(6))"
   ]
  },
  {
   "cell_type": "code",
   "execution_count": 14,
   "metadata": {},
   "outputs": [
    {
     "name": "stdout",
     "output_type": "stream",
     "text": [
      "2.05 ms ± 39.6 µs per loop (mean ± std. dev. of 7 runs, 100 loops each)\n"
     ]
    }
   ],
   "source": [
    "A = list(range(900))\n",
    "%timeit sum_slice(A)"
   ]
  },
  {
   "cell_type": "code",
   "execution_count": 15,
   "metadata": {},
   "outputs": [
    {
     "name": "stdout",
     "output_type": "stream",
     "text": [
      "288 µs ± 1.22 µs per loop (mean ± std. dev. of 7 runs, 1000 loops each)\n"
     ]
    }
   ],
   "source": [
    "%timeit sum1(A)"
   ]
  },
  {
   "cell_type": "markdown",
   "metadata": {},
   "source": [
    "The version with indices runs much faster. The simple reason is that the other version actually needs to create copies for the subarrays used, while the algorithm with simplices always works on the same copy of A. Here is yet another recursive implementation of sum."
   ]
  },
  {
   "cell_type": "code",
   "execution_count": 16,
   "metadata": {},
   "outputs": [],
   "source": [
    "def sum2(A, first=0, last=None):\n",
    "    if (last == None): last = len(A)-1\n",
    "    if (first == last): return A[first]\n",
    "    else: \n",
    "        mid = (first + last)//2 \n",
    "        return sum2(A, first, mid) + sum2(A, mid+1, last)"
   ]
  },
  {
   "cell_type": "code",
   "execution_count": 17,
   "metadata": {},
   "outputs": [
    {
     "data": {
      "text/plain": [
       "15"
      ]
     },
     "execution_count": 17,
     "metadata": {},
     "output_type": "execute_result"
    }
   ],
   "source": [
    "sum2(range(6))"
   ]
  },
  {
   "cell_type": "code",
   "execution_count": 18,
   "metadata": {},
   "outputs": [
    {
     "name": "stdout",
     "output_type": "stream",
     "text": [
      "405 µs ± 971 ns per loop (mean ± std. dev. of 7 runs, 1000 loops each)\n"
     ]
    }
   ],
   "source": [
    "%timeit sum2(A)"
   ]
  },
  {
   "cell_type": "markdown",
   "metadata": {},
   "source": [
    "This version has a running time similar to the other recursive sum. Its main purpose here is to show a different way to pick \"simpler versions\" of the original problem."
   ]
  },
  {
   "cell_type": "markdown",
   "metadata": {},
   "source": [
    "## 2. Correctness Proofs"
   ]
  },
  {
   "cell_type": "markdown",
   "metadata": {},
   "source": [
    "To prove the correctness of a recursive algorithm we use mathematical induction. In a mathematical induction we want to prove a statement $P(n)$ for all natural numbers $n$ (possibly starting at an $n_0$, but lets assume for simplicity we are proving the statement for all $n \\ge 1$). \n",
    "\n",
    "In an induction we will typically prove this by\n",
    "\n",
    "1.) proving $P(n)$ for a base case (sometimes several base cases), i.e., to prove that P(1) holds, and then\n",
    "\n",
    "2.) proving that if $P(n)$ holds for some $n$ (This is the induction hypothesis) that $P()$ then holds for the next natural number, i.e., that $P(n+1)$ holds.\n",
    "\n",
    "\n",
    "For a recursive algorithm the statement $P(n)$ commonly is something like: The algorithm provides correct output for all inputs of size $n$. But we might need to be more careful. Lets briefly consider the algorithm *sum_splice*. In this case indeed the size of the input decreases with every recursive call. But for *sum1* the situation is already more intricate. It is not the actual input size that decreases, but the size of the subarray *A[first..len(A)-1]*. Thus for *sum1* we can take the size of this array as induction variable $n = len(A)-first$. Now a correctness proof for *sum1* could go as follows."
   ]
  },
  {
   "cell_type": "markdown",
   "metadata": {},
   "source": [
    "### 2.1 Correctness proof for *sum1*"
   ]
  },
  {
   "cell_type": "markdown",
   "metadata": {},
   "source": [
    "The algorithm *sum1* computes the sum of numbers in the array *A[first..len(A)-1]*.\n",
    "We prove the correctness of the algorithm *sum1* by induction on $n = len(A)-first$.\n",
    "\n",
    "Base case ($n=1$): If $n=1$ then $first == len(A)-1$. Thus the array contains one element, $A[first]$, and the sum of element(s) is also simply $A[first]$. This is exactly what the algorithm returns in this case (in line 2). Therefore the algorithm works correctly for $n=1$.\n",
    "\n",
    "Induction hypothesis ($n$): The algorithm correctly computes the sum of numbers for $n = len(A)-first$.\n",
    "\n",
    "Induction step ($n \\rightarrow n+1$): Assume the induction hypothesis holds for $n$. We need to prove that it then also holds for $n+1$, that is, the algorithm works correctly if $len(A)-first = n+1$. Suppose we have an input (A, first) with $len(A)-first = n+1>1$. The algorithm returns A[first] + sum1(A, first+1). The recursive call is on a range of length $len(A)-(first+1) = (len(A)-first) -1 = (n+1) -1 =n$. So by the induction hypothesis $sum1(A, first+1)$ correctly computes the sum of the numbers in the array $A[first+1..len(A)-1]$. Thus the algorithm returns this sum plus A[first], which is the sum of the numbers in $A[first..len(A)-1]$. Thus, the induction hypothesis again holds (for $n+1$).\n",
    "\n",
    "We can conclude that the algorithm is correct, and that it computes the sum of numbers in array A when called with $first =0$."
   ]
  },
  {
   "cell_type": "markdown",
   "metadata": {},
   "source": [
    "### 2.2 Strong Induction"
   ]
  },
  {
   "cell_type": "markdown",
   "metadata": {},
   "source": [
    "Induction worked nicely in the case above, but often the size of the problem we recurse on does not reduce by exactly 1. In this case we need to set up the induction slightly different. In the previous induction we assumed that the statement $P(n)$ was true for some $n \\ge 1$ and from there proved that it is true for $n+1$, i.e., that $P(n+1)$ is true. As a side note: We could instead of course have assumed that the statement $P(n-1)$ is true for some $n > 1$ and then have proved that $P(n)$ is true. But at the point that we want to prove that $P(n)$ holds, we can actually assume that it already holds for all $m<n$, that is, we can assume $P(m)$ is true for all $m < n$. In such an induction we again have two components:\n",
    "\n",
    "1.) proving $P(n)$ for a base case (sometimes several base cases), i.e., to prove that P(1) holds, and then\n",
    "\n",
    "2.) proving that if $P(m)$ holds for $m < n$ (This is the induction hypothesis) that then also $P(n)$ holds.\n",
    "\n",
    "This type of induction proof is also called *strong induction*. With this we can proceed to prove the correctness of algorithm *sum2* and *binary_search*."
   ]
  },
  {
   "cell_type": "markdown",
   "metadata": {},
   "source": [
    "### 2.3 Correctness proof for *sum2*"
   ]
  },
  {
   "cell_type": "markdown",
   "metadata": {},
   "source": [
    "The algorithm *sum2* computes the sum of numbers in the array *A[first..last]*.\n",
    "We prove the correctness of the algorithm *sum2* by induction on $n = last-first + 1$. *(Note: I added 1 here to have $n$ correspond to the number of elements in the array)*.\n",
    "\n",
    "Base case ($n=1$): If $n=1$ then $first == last$. Thus the array contains one element, $A[first]$, and the sum of element(s) is also simply $A[first]$. This is exactly what the algorithm returns in this case (in line 3). Therefore the algorithm works correctly for $n = 1$.\n",
    "\n",
    "Induction hypothesis ($m$): The algorithm correctly computes the sum of numbers for inputs (A, first, last) with $m = last-first+1$.\n",
    "\n",
    "Induction step ($m < n \\rightarrow n$): Assume the induction hypothesis holds for all $1 \\le m < n$. We need to prove that it then also holds for $n$, that is, the algorithm works correctly if $last-first = n+1$. Suppose we have an input (A, first, last) with $last-first + 1 = n>1$. The algorithm returns $sum2(A, first, mid) + sum2(A, mid+1, last)$ with $mid=(first + last)//2$. Since $n>1$ we have $first<last$ and therefore $first \\le mid < last$. Thus, for $m_1 = mid-first + 1$ we have \n",
    "$$\n",
    "1 \\le m_1 < last-first+1 =n\\;.\n",
    "$$\n",
    "Also $first \\le mid < mid +1 < last$, thus for $m_2 = last -(mid+1) + 1$ we have\n",
    "$$\n",
    "1 \\le m_2 < last-first+1 =n\\;.\n",
    "$$\n",
    "Thus, both of the recursive calls are on ranges $m_i$ with $1 \\le m_i < n$, and by the induction hypothesis, they compute the respective sums correctly, which add up to the sum of the numbers in *A[first..last]*.\n",
    "\n",
    "Thus, the induction hypothesis again holds (for $n$).\n",
    "\n",
    "We can conclude that the algorithm is correct, and that it computes the sum of numbers in array A when called with $first =0$ and $last = len(A)-1."
   ]
  },
  {
   "cell_type": "markdown",
   "metadata": {},
   "source": [
    "### 2.4 Correctness proof for *binary_search*"
   ]
  },
  {
   "cell_type": "markdown",
   "metadata": {},
   "source": [
    "The algorithm *binary_search* returns an index $i$ with $x \\le i \\le y$ and $A[i] == v$ if such an index exists. Otherwise it returns -1.\n",
    "We prove the correctness of the algorithm *binary_search* by induction on $n = y-x + 1$. *(Note: $n= y-x$ would work just as well, then the base case would be $n=0$. But to stay consistent with the proof for sum2 I use $n = y-x + 1$, which is also the number of elements in the subarray)*.\n",
    "\n",
    "Base case ($n=1$): If $n=1$ then $x == y$. Thus the array contains one element, $A[x]$, and the algorithm returns $x$ if $A[x] == v$ (and -1 otherwise). The the algorithm works correctly for $n=1$.\n",
    "\n",
    "Induction hypothesis ($m$): For inputs with $m=y-x+1$ the algorithm correctly returns an index $i$ with $x \\le i \\le y$ and $A[i] == v$ if such an index exists (Otherwise it returns -1).\n",
    "\n",
    "Induction step ($m < n \\rightarrow n$): Assume the induction hypothesis holds for all $1 \\le m < n$. We need to prove that it then also holds for $n$, that is, the algorithm works correctly if $y-x = n+1$. Suppose we have an input (A, v, x, y) with $y-x + 1 = n > 1$, and as in the algorithm define $h = (x+y)/2$. There are two cases.\n",
    "\n",
    "1. $A[h] < v$. Since the array is sorted, we know that $v$ cannot be in the subarray $A[x..h]$. Thus, if it is in the array $A[x..y]$, it has to be in the array $A[h+1..y]$. This is exactly what the recursive call in this case checks, if it works correctly. Since $h \\ge x$ holds, we have $y-(h+1)+1 < y-x+1 =n$, so by the induction hypothesis, the recursive call is indeed correct.\n",
    "\n",
    "2. $A[h] \\ge v$. The case is analogous to the first case. If $v$ is in $A[x..y]$ it has to be in the array $A[x..h]$. This is checked in the recursive call, which works correctly by induction hypothesis since $h-x+1 < y-x+1 =n$.\n",
    "\n",
    "Thus, in both cases the induction hypothesis again holds (for $n$). We can conclude that the algorithm is correct."
   ]
  },
  {
   "cell_type": "markdown",
   "metadata": {},
   "source": [
    "## 3. Running Time Analysis"
   ]
  },
  {
   "cell_type": "markdown",
   "metadata": {},
   "source": [
    "Analyzing the running time of a recursive algorithm often consists of the following two steps:\n",
    "\n",
    "1.) Finding the *recurrence* for the running time\n",
    "\n",
    "2.) Solving the *recurrence*\n",
    "\n",
    "To find the recurrence, we need to analyze how long the algorithm takes when not accounting for the recursive calls, and then we need to analyze the cost/size of recursive calls. We consider the examples from above.\n",
    "\n",
    "The algorithm *factorial* takes constant time plus the time for the recursive call. In the recursive call we reduce to a problem with $n$ reduced to $n-1$. The running time will be:\n",
    "\n",
    "$$T(n) = \\begin{cases} O(1) &\\mbox{if } n = 1 \\\\\n",
    "                   T(n-1) + O(1) & \\mbox{if } n >1\\end{cases}$$\n",
    "                   \n",
    " This is the *recurrence* for the running time of *factorial*. Now we would need to solve the recurrence. In this case it is not difficult to guess that the recurrence solves to $T(n) = O(n)$, which one could prove formally by induction. Often you will see the base case omitted in recurrences for running times. So the recurrence above would simply be written as \n",
    " \n",
    " $$T(n) = T(n-1) + O(1)$$\n",
    " \n",
    " The reason for this is that as soon as we have a problem of 'constant size', we can assume that the algorithm takes constant time on it. Specifically, in this case, the time to compute 1!, no matter what the algorithm does, will not depend on a general $n$, because there is no $n$ in $1!$.\n",
    " \n",
    " The recurrence for the running time of *sum1* is actually the same as for *factorial*, because we spend constant time, and reduce from $n$ to $n-1$. In *sum1* it is less obvious what '$n$' actually is, but that is something we already resolved when thinking about the correctness proof.\n",
    " \n",
    " Now for binary search, the problem size actually reduces from $n$ to $n/2$. Again we spend constant time, so the recurrence is (we can ignore rounding issues here):\n",
    " \n",
    " $$T(n) = T(n/2) + O(1)$$\n",
    " \n",
    " This solves to $T(n) = O(\\log(n))$: The recursion depth corresponds to how often we can divide $n$ by $2$ until we hit 1, which is $\\log (n)$ (We use $\\log$ to denote the logarithm base 2). We only have 1 recursive call, so we are executing the code $\\log (n)$ times, always doing O(1) elementary operations. Therefore $T(n) = O(\\log (n)$.\n",
    " \n",
    " Finally, *sum2* has as recurrence\n",
    " \n",
    " $$T(n) = 2 T(n/2) + O(1)$$.\n",
    " \n",
    " The recursion depth again is bounded by $\\log (n)$, but we have more subproblems to solve: first 2, then 4, and so on. Overall this results in a linear number of subproblems, and in $T(n) = O(n)$.\n",
    " \n",
    " Since we haven't discussed solving recurrences yet, for now I am expecting you to be able to find recurrences and try to guess the running time based on the recurrence.\n",
    " "
   ]
  },
  {
   "cell_type": "markdown",
   "metadata": {},
   "source": [
    "## Binary search on data"
   ]
  },
  {
   "cell_type": "markdown",
   "metadata": {},
   "source": [
    "Finally lets actually use binary search on some data. We will use the same weather data as we used for linear search. We read the data as we did before."
   ]
  },
  {
   "cell_type": "code",
   "execution_count": 21,
   "metadata": {},
   "outputs": [],
   "source": [
    "import csv\n",
    "\n",
    "with open('./data/weather-eindhoven.csv') as csvfile:\n",
    "    reader = csv.reader(csvfile)\n",
    "    next(reader)  # skip header row\n",
    "    datatype = int\n",
    "    date = []\n",
    "    max_temperature = []\n",
    "    for row in reader:\n",
    "        date.append(datatype(row[1])) #column 1 (that is, the second) contains the date\n",
    "        max_temperature.append(datatype(row[14])/10) # column 14 contains the max temperature times 10"
   ]
  },
  {
   "cell_type": "markdown",
   "metadata": {},
   "source": [
    "Now if we want to search the data based on temperatures. We will need to sort them first. We do this by creating a list of tuples (using zip) and sorting this list (based on the first element of the tuple)."
   ]
  },
  {
   "cell_type": "code",
   "execution_count": 22,
   "metadata": {
    "scrolled": true
   },
   "outputs": [
    {
     "name": "stdout",
     "output_type": "stream",
     "text": [
      "5 coldest daily temperatures (with corresponding date):\n",
      "[(-9.8, 19970101), (-9.4, 19870114), (-9.2, 19970102), (-8.4, 19870112), (-7.6, 19870115)]\n"
     ]
    }
   ],
   "source": [
    "temperature_and_date = zip(max_temperature, date)\n",
    "temp_date_sorted = sorted(temperature_and_date)\n",
    "\n",
    "print(\"5 coldest daily temperatures (with corresponding date):\")\n",
    "print(temp_date_sorted[0:5])"
   ]
  },
  {
   "cell_type": "markdown",
   "metadata": {},
   "source": [
    "Now we will create two lists from this again to allow us to use the simple binary search routine defined above."
   ]
  },
  {
   "cell_type": "code",
   "execution_count": 23,
   "metadata": {
    "scrolled": true
   },
   "outputs": [
    {
     "name": "stdout",
     "output_type": "stream",
     "text": [
      "5 warmest daily temperatures:\n",
      "[35.8, 35.9, 36.1, 36.2, 36.4]\n",
      "The corresponding dates:\n",
      "[20030807, 20100710, 20130802, 20150702, 20060719]\n"
     ]
    }
   ],
   "source": [
    "temp_sorted = [x for x, y in temp_date_sorted]\n",
    "date_sorted_by_temp = [y for x, y in temp_date_sorted]\n",
    "\n",
    "print(\"5 warmest daily temperatures:\")\n",
    "print(temp_sorted[-6:-1])\n",
    "print(\"The corresponding dates:\")\n",
    "print(date_sorted_by_temp[-6:-1])"
   ]
  },
  {
   "cell_type": "markdown",
   "metadata": {},
   "source": [
    "Lets say we want to find a day for which the maximum temperature was exactly 30.0 degrees celsius. We first finding the corresponding index"
   ]
  },
  {
   "cell_type": "code",
   "execution_count": 24,
   "metadata": {},
   "outputs": [
    {
     "name": "stdout",
     "output_type": "stream",
     "text": [
      "11491\n"
     ]
    }
   ],
   "source": [
    "i = binary_search(temp_sorted, 30)\n",
    "print(i)"
   ]
  },
  {
   "cell_type": "code",
   "execution_count": 25,
   "metadata": {},
   "outputs": [
    {
     "name": "stdout",
     "output_type": "stream",
     "text": [
      "On 19950720 the average temperature was 30.0 degrees (Celsius).\n"
     ]
    }
   ],
   "source": [
    "print(\"On %s the average temperature was %s degrees (Celsius).\" % (date_sorted_by_temp[i], temp_sorted[i]))"
   ]
  },
  {
   "cell_type": "markdown",
   "metadata": {},
   "source": [
    "So lets be bold and ask for exactly 40 degrees:"
   ]
  },
  {
   "cell_type": "code",
   "execution_count": 26,
   "metadata": {},
   "outputs": [
    {
     "data": {
      "text/plain": [
       "-1"
      ]
     },
     "execution_count": 26,
     "metadata": {},
     "output_type": "execute_result"
    }
   ],
   "source": [
    "binary_search(temp_sorted, 40)"
   ]
  },
  {
   "cell_type": "markdown",
   "metadata": {},
   "source": [
    "And as we remember from above on the warmest day it was actually 36.4 degrees, so this answer is as expected."
   ]
  },
  {
   "cell_type": "markdown",
   "metadata": {},
   "source": [
    "A few suggested to explore the data and algorithms further: \n",
    "\n",
    "(a) Compare the running time of binary search and linear search on this data. Is it as expected?\n",
    "\n",
    "(b) Only being able to ask for an exact temperature doesn't seem very useful. Adapt the binary search algorithm to answer more interesting questions. For instance: On how many days in the data was the temperature between 25 and 30 degrees? Can you report all of these days? "
   ]
  },
  {
   "cell_type": "markdown",
   "metadata": {},
   "source": [
    "But now what if we want to know whether in 2011 there was a day with at least 25 degrees? Or if we want to know on which days there was a high temperature and heavy rain? \n",
    "\n",
    "These queries are not easily answered using binary search, because we are searching for ranges on several attributes (such queries are called *range queries*). Of course linear search (suitably adapted) can still answer these queries but not very efficiently. Later in the course we will also see a data structure which allows us to handle this type of queries efficiently."
   ]
  }
 ],
 "metadata": {
  "anaconda-cloud": {},
  "kernelspec": {
   "display_name": "Python 3",
   "language": "python",
   "name": "python3"
  },
  "language_info": {
   "codemirror_mode": {
    "name": "ipython",
    "version": 3
   },
   "file_extension": ".py",
   "mimetype": "text/x-python",
   "name": "python",
   "nbconvert_exporter": "python",
   "pygments_lexer": "ipython3",
   "version": "3.7.9"
  }
 },
 "nbformat": 4,
 "nbformat_minor": 1
}
